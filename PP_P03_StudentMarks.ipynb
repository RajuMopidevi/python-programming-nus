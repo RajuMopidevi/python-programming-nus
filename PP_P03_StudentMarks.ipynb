{
  "cells": [
    {
      "cell_type": "markdown",
      "metadata": {
        "id": "view-in-github",
        "colab_type": "text"
      },
      "source": [
        "<a href=\"https://colab.research.google.com/github/RajuMopidevi/python-programming-nus/blob/main/PP_P03_StudentMarks.ipynb\" target=\"_parent\"><img src=\"https://colab.research.google.com/assets/colab-badge.svg\" alt=\"Open In Colab\"/></a>"
      ]
    },
    {
      "cell_type": "markdown",
      "metadata": {
        "id": "b41e87dd"
      },
      "source": [
        "# <center>PROJECT: STUDENT MARKS</center>\n",
        "<center><b>Copyright &copy 2023 by DR DANNY POO</b><br> e:dannypoo@nus.edu.sg<br> w:drdannypoo.com</center><br>"
      ],
      "id": "b41e87dd"
    },
    {
      "cell_type": "raw",
      "metadata": {
        "id": "f2008f48"
      },
      "source": [
        "This is a Student Marks system that keeps records of students in classes and their marks. Each student has marks for Chemistry, Chinese, English, Maths, and Physics.\n",
        "\n",
        "Data on students and their marks are stored in a ``.csv`` consisting of these columns ``STUDENTID``, ``NAME``, ``CHEMISTRY``, ``CHINESE``, ``ENGLISH``, ``MATHS``, ``PHYSICS``,  and ``CLASS``. Currently, there are three classes of students: C1, C2, and C3.\n",
        "\n",
        "Some functions have been completed:\n",
        "1. loadStudentMarks()\n",
        "2. menu()\n",
        "3. decipher()\n",
        "4. main\n",
        "\n",
        "Where you see comment like \"write code here\", you are required to fill in the code.\n",
        "\n",
        "You are required to complete the following functions:\n",
        "1. getNewStudentRecord()\n",
        "2. addStudentAndMarks()\n",
        "3. delStudentAndMarks()\n",
        "4. processMarks()\n",
        "5. updateStudentMarks()\n",
        "6. saveSchoolMarks()\n",
        "7. displayStudentMarks()\n",
        "8. displayClassMarks()\n",
        "9. displaySchoolMarks()\n",
        "\n",
        "What the functions are required to do are detailed at the functions."
      ],
      "id": "f2008f48"
    },
    {
      "cell_type": "code",
      "execution_count": 1,
      "metadata": {
        "id": "2bccc255"
      },
      "outputs": [],
      "source": [
        "# load libraries\n",
        "import pandas as pd\n",
        "from pathlib import Path"
      ],
      "id": "2bccc255"
    },
    {
      "cell_type": "code",
      "execution_count": 2,
      "metadata": {
        "id": "b3d9760f"
      },
      "outputs": [],
      "source": [
        "# load student marks in file into dataframe studentMarksDF\n",
        "def loadStudentMarks():\n",
        "    global studentMarksDF\n",
        "    #studentMarksDF = pd.read_csv(\"./data/schoolMarks.csv\")\n",
        "    studentMarksDF = pd.read_csv(\"https://raw.githubusercontent.com/RajuMopidevi/python-programming-nus/main/data/schoolMarks.csv\")\n"
      ],
      "id": "b3d9760f"
    },
    {
      "cell_type": "code",
      "execution_count": 3,
      "metadata": {
        "id": "95a5b3fc"
      },
      "outputs": [],
      "source": [
        "# given studentId\n",
        "# create a record of student details gathered from user such as classId, name, chemistry mark, chinese mark, english mark,\n",
        "# maths mark, physics mark\n",
        "# return record\n",
        "def getNewStudentRecord(studentId):\n",
        "    # write code here\n",
        "\n",
        "    student_class=input(\"Enter class: \")\n",
        "    student_name=input(\"Enter student name: \")\n",
        "    chemistry=input(\"Enter Chemistry marks: \")\n",
        "    chinese=input(\"Enter Chinese marks: \")\n",
        "    english=input(\"Enter English marks: \")\n",
        "    maths=input(\"Enter Marks marks: \")\n",
        "    physics=input(\"Enter Physics marks: \")\n",
        "    #record = pd.Series({'STUDENTID':student_id, 'NAME': student_name, 'CHEMISTRY': chemistry, 'CHINESE':chinese, 'ENGLISH':english, 'MATHS': maths, 'PHYSICS':physics, 'CLASS':student_class})\n",
        "    dict = {'STUDENTID': studentId,'NAME': student_name, 'CHEMISTRY': chemistry, 'CHINESE':chinese, 'ENGLISH':english, 'MATHS': maths, 'PHYSICS':physics, 'CLASS':student_class}\n",
        "    record = pd.DataFrame(dict, index=[0])\n",
        "    return record"
      ],
      "id": "95a5b3fc"
    },
    {
      "cell_type": "code",
      "execution_count": 15,
      "metadata": {
        "id": "bb00c6bf"
      },
      "outputs": [],
      "source": [
        "# get studentId from user\n",
        "# calls getNewStudentRecord() to get student details from user\n",
        "# add student and marks into dataframe studentMarksDF\n",
        "# return None\n",
        "def addStudentAndMarks():\n",
        "    global studentMarksDF\n",
        "    # write code here\n",
        "    student_id=input(\"Enter Student id: \")\n",
        "    if student_id in studentMarksDF['STUDENTID'].values :\n",
        "      print(\"Student already exists\")\n",
        "    else:\n",
        "      record=getNewStudentRecord(student_id)\n",
        "      #studentMarksDF.loc[len(studentMarksDF.index)] = record\n",
        "      studentMarksDF = pd.concat([studentMarksDF, record])\n",
        "    return"
      ],
      "id": "bb00c6bf"
    },
    {
      "cell_type": "code",
      "execution_count": 5,
      "metadata": {
        "id": "e84a14d9"
      },
      "outputs": [],
      "source": [
        "# get studentId from user\n",
        "# delete student with studentId from dataframe studentMarksDF\n",
        "# return studentMarksDF\n",
        "def delStudentAndMarks():\n",
        "    # write code here\n",
        "    global studentMarksDF\n",
        "    student_id=input(\"Enter Student id: \")\n",
        "    if student_id in studentMarksDF['STUDENTID'].values :\n",
        "      studentMarksDF=studentMarksDF.drop(studentMarksDF[studentMarksDF.STUDENTID == student_id].index, inplace=True)\n",
        "    else:\n",
        "      print(\"Student Does not exists\")\n",
        "\n",
        "    return\n"
      ],
      "id": "e84a14d9"
    },
    {
      "cell_type": "code",
      "execution_count": 6,
      "metadata": {
        "id": "142ff0bb"
      },
      "outputs": [],
      "source": [
        "# decipher the subject code\n",
        "def decipher(code):\n",
        "    if code=='che':\n",
        "        return 'CHEMISTRY'\n",
        "    elif code=='chi':\n",
        "        return 'CHINESE'\n",
        "    elif code=='eng':\n",
        "        return 'ENGLISH'\n",
        "    elif code=='mat':\n",
        "        return 'MATHS'\n",
        "    elif code=='phy':\n",
        "        return 'PHYSICS'\n",
        "    else: return 'NO SUCH SUBJECT'"
      ],
      "id": "142ff0bb"
    },
    {
      "cell_type": "code",
      "execution_count": 7,
      "metadata": {
        "id": "a1be510c"
      },
      "outputs": [],
      "source": [
        "# student marks are entered in this format: che:80,chi:90,eng:100,mat:48,phy:86\n",
        "# extract the subjects and their corresponding marks from the entry\n",
        "# return subjectList and markList\n",
        "def processMarks(subjectMarks):\n",
        "    subjectList = []\n",
        "    markList    = []\n",
        "    # write code here\n",
        "    dictionary = {}\n",
        "    s=subjectMarks.split(\",\")\n",
        "    for i in s:\n",
        "      dictionary[i.split(\":\")[0].strip('\\'').replace(\"\\\"\", \"\")] = i.split(\":\")[1].strip('\"\\'')\n",
        "    subjectList=list(dictionary.keys())\n",
        "    markList=list(dictionary.values() )\n",
        "    return subjectList, markList"
      ],
      "id": "a1be510c"
    },
    {
      "cell_type": "code",
      "execution_count": 8,
      "metadata": {
        "id": "1577bbea"
      },
      "outputs": [],
      "source": [
        "# update student marks in dataframe studentMarksDF\n",
        "# get studentId from user\n",
        "# get subject and marks based on entry format: che:80,chi:90,eng:100,mat:48,phy:86\n",
        "# process subjects and marks entered\n",
        "# return None\n",
        "def updateStudentMarks():\n",
        "    # write code here\n",
        "    global studentMarksDF\n",
        "    student_id=input(\"Enter Student id: \")\n",
        "    if student_id in studentMarksDF['STUDENTID'].values :\n",
        "      record=studentMarksDF[studentMarksDF['STUDENTID']==student_id]\n",
        "      userInput=input(\"Enter student marks in this format \\\"che:80,chi:90,eng:100,mat:48,phy:86\\\" : \")\n",
        "      if ',' not in userInput:\n",
        "        print(\"Invalid format ! Subjects should be separated by comma\")\n",
        "      else:\n",
        "        if ':' not in userInput:\n",
        "          print(\"Invalid format ! Marks should be separated by colon\")\n",
        "        else:\n",
        "          subjectList, markList=processMarks(userInput)\n",
        "          if ( (studentMarksDF.columns.size-3 == len(subjectList) ) and (studentMarksDF.columns.size-3 == len(markList)) ):\n",
        "            for i in range(0,len(subjectList)):\n",
        "              studentMarksDF.loc[studentMarksDF.STUDENTID == student_id, decipher(subjectList[i])] = markList[i]\n",
        "          else:\n",
        "            print(\"All subjects are not covered in the input. You need\",studentMarksDF.columns.size-3, \"combinations in the input\")\n",
        "    else:\n",
        "      print(\"Student Does not exists\")\n"
      ],
      "id": "1577bbea"
    },
    {
      "cell_type": "code",
      "execution_count": 9,
      "metadata": {
        "id": "a3a3d6b0"
      },
      "outputs": [],
      "source": [
        "# save all students and marks to a file \"schoolMarks-out.csv\"\n",
        "def saveSchoolMarks():\n",
        "    # write code here\n",
        "    global studentMarksDF\n",
        "    studentMarksDF.to_csv(\"schoolMarks-out.csv\",sep='\\t', encoding='utf-8')\n",
        "\n"
      ],
      "id": "a3a3d6b0"
    },
    {
      "cell_type": "code",
      "execution_count": 10,
      "metadata": {
        "id": "7d568e37"
      },
      "outputs": [],
      "source": [
        "# get a studentId from user\n",
        "# display the student's marks\n",
        "# return None\n",
        "def displayStudentMarks():\n",
        "    # write code here\n",
        "    global studentMarksDF\n",
        "    student_id=input(\"Enter Student id: \")\n",
        "    if student_id in studentMarksDF['STUDENTID'].values :\n",
        "      record=studentMarksDF[studentMarksDF['STUDENTID']==student_id]\n",
        "\n",
        "      print(record)\n",
        "    else:\n",
        "      print(\"Student Does not exists\")\n",
        "\n"
      ],
      "id": "7d568e37"
    },
    {
      "cell_type": "code",
      "execution_count": 11,
      "metadata": {
        "id": "8b30d245"
      },
      "outputs": [],
      "source": [
        "# get a classId from user\n",
        "# display the class students and their marks\n",
        "# return None\n",
        "def displayClassMarks():\n",
        "    # write code here\n",
        "    global studentMarksDF\n",
        "    student_class=input(\"Enter Class: \")\n",
        "    if student_class in studentMarksDF['CLASS'].values :\n",
        "      record=studentMarksDF[studentMarksDF['CLASS']==student_class]\n",
        "      print(record)\n",
        "    else:\n",
        "      print(\"Class Does not exists\")\n",
        "\n"
      ],
      "id": "8b30d245"
    },
    {
      "cell_type": "code",
      "execution_count": 12,
      "metadata": {
        "id": "380e06a3"
      },
      "outputs": [],
      "source": [
        "# display all studentIds, names, subjects and corresponding marks, and classIds from dataframe studentMarksDF\n",
        "def displaySchoolMarks():\n",
        "    # write code here\n",
        "    global studentMarksDF\n",
        "    print(studentMarksDF)\n",
        "\n"
      ],
      "id": "380e06a3"
    },
    {
      "cell_type": "code",
      "execution_count": 13,
      "metadata": {
        "id": "02747e90"
      },
      "outputs": [],
      "source": [
        "# display menu and get choice\n",
        "def menu():\n",
        "    print(\"\\nMENU\")\n",
        "    print(\"A. Add a student and his marks\")\n",
        "    print(\"B. Delete a student and his marks\")\n",
        "    print(\"C. Update student marks\")\n",
        "    print(\"D. Save school marks\")\n",
        "    print(\"E. Display a student's marks\")\n",
        "    print(\"F. Display class marks\")\n",
        "    print(\"G. Display school marks\")\n",
        "    print(\"Q. Quit application\")\n",
        "    choice = input(\"SELECT CHOICE: \")\n",
        "    print(\"\\n\")\n",
        "    return choice"
      ],
      "id": "02747e90"
    },
    {
      "cell_type": "code",
      "execution_count": 16,
      "metadata": {
        "colab": {
          "base_uri": "https://localhost:8080/"
        },
        "id": "dc654ce5",
        "outputId": "9e303cd2-27fb-466c-ab8c-594d3bd9b946"
      },
      "outputs": [
        {
          "output_type": "stream",
          "name": "stdout",
          "text": [
            "\n",
            "MENU\n",
            "A. Add a student and his marks\n",
            "B. Delete a student and his marks\n",
            "C. Update student marks\n",
            "D. Save school marks\n",
            "E. Display a student's marks\n",
            "F. Display class marks\n",
            "G. Display school marks\n",
            "Q. Quit application\n",
            "SELECT CHOICE: A\n",
            "\n",
            "\n",
            "Enter Student id: S32\n",
            "Enter class: C3\n",
            "Enter student name: Baba\n",
            "Enter Chemistry marks: 55\n",
            "Enter Chinese marks: 5\n",
            "Enter English marks: 55\n",
            "Enter Marks marks: 55\n",
            "Enter Physics marks: 55\n",
            "\n",
            "MENU\n",
            "A. Add a student and his marks\n",
            "B. Delete a student and his marks\n",
            "C. Update student marks\n",
            "D. Save school marks\n",
            "E. Display a student's marks\n",
            "F. Display class marks\n",
            "G. Display school marks\n",
            "Q. Quit application\n",
            "SELECT CHOICE: E\n",
            "\n",
            "\n",
            "Enter Student id: S32\n",
            "  STUDENTID  NAME CHEMISTRY CHINESE ENGLISH MATHS PHYSICS CLASS\n",
            "0       S32  Baba        55       5      55    55      55    C3\n",
            "\n",
            "MENU\n",
            "A. Add a student and his marks\n",
            "B. Delete a student and his marks\n",
            "C. Update student marks\n",
            "D. Save school marks\n",
            "E. Display a student's marks\n",
            "F. Display class marks\n",
            "G. Display school marks\n",
            "Q. Quit application\n",
            "SELECT CHOICE: Q\n",
            "\n",
            "\n"
          ]
        }
      ],
      "source": [
        "# main\n",
        "# load student marks\n",
        "loadStudentMarks()\n",
        "\n",
        "# despatch user's choice\n",
        "selected = \"X\"\n",
        "while selected != 'Q' and selected !='q':\n",
        "    if selected == 'A' or selected =='a':\n",
        "        addStudentAndMarks()\n",
        "    elif selected == 'B' or selected =='b':\n",
        "        delStudentAndMarks()\n",
        "    elif selected == 'C' or selected =='c':\n",
        "        updateStudentMarks()\n",
        "    elif selected == 'D' or selected =='d':\n",
        "        saveSchoolMarks()\n",
        "    elif selected == 'E' or selected =='e':\n",
        "        displayStudentMarks()\n",
        "    elif selected == 'F' or selected =='f':\n",
        "        displayClassMarks()\n",
        "    elif selected == 'G' or selected =='g':\n",
        "        displaySchoolMarks()\n",
        "    else: pass\n",
        "\n",
        "    selected = menu()"
      ],
      "id": "dc654ce5"
    }
  ],
  "metadata": {
    "colab": {
      "provenance": [],
      "include_colab_link": true
    },
    "kernelspec": {
      "display_name": "Python 3 (ipykernel)",
      "language": "python",
      "name": "python3"
    },
    "language_info": {
      "codemirror_mode": {
        "name": "ipython",
        "version": 3
      },
      "file_extension": ".py",
      "mimetype": "text/x-python",
      "name": "python",
      "nbconvert_exporter": "python",
      "pygments_lexer": "ipython3",
      "version": "3.11.5"
    }
  },
  "nbformat": 4,
  "nbformat_minor": 5
}