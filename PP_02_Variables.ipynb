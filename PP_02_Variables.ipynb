{
  "cells": [
    {
      "cell_type": "markdown",
      "metadata": {
        "id": "view-in-github",
        "colab_type": "text"
      },
      "source": [
        "<a href=\"https://colab.research.google.com/github/RajuMopidevi/python-programming-nus/blob/main/PP_02_Variables.ipynb\" target=\"_parent\"><img src=\"https://colab.research.google.com/assets/colab-badge.svg\" alt=\"Open In Colab\"/></a>"
      ]
    },
    {
      "cell_type": "markdown",
      "metadata": {
        "id": "rAvNXwhX2-RC"
      },
      "source": [
        "<center>\n",
        "  <a href=\"PP-01-GettingStarted.ipynb\" target=\"_self\">Getting Started</a> | <a href=\"./\">Content Page</a> | <a href=\"PP-03-WritingPrograms.ipynb\">Writing Programs</a>\n",
        "</center>"
      ]
    },
    {
      "cell_type": "markdown",
      "metadata": {
        "id": "vji5373M2-RD"
      },
      "source": [
        "# <center>VARIABLES, TYPES, COLLECTIONS<br>STRINGS AND COMMENTS</center>\n",
        "<center><b>Copyright &copy 2023 by DR DANNY POO</b><br> e:dannypoo@nus.edu.sg<br> w:drdannypoo.com</center><br>"
      ]
    },
    {
      "cell_type": "markdown",
      "metadata": {
        "collapsed": true,
        "id": "5peqdJ-r2-RD"
      },
      "source": [
        "A data or variable is a container for storing data value. Every variable in Python is also known as an object and it has the following four properties:\n",
        "* Name (or identifier) – defines the variable\n",
        "* Type – describes the form the variable takes\n",
        "* Value – the value that is stored in the variable\n",
        "* ID – a number that uniquely identifies the variable\n",
        "\n",
        "\n",
        "We discuss:\n",
        "* Variables\n",
        "* Types\n",
        "* Collections"
      ]
    },
    {
      "cell_type": "markdown",
      "metadata": {
        "id": "gT39vseU2-RE"
      },
      "source": [
        "# 1. Variables\n",
        "Python does not require variables to be declared before they can be used. A variable (or data) is defined once a value is assigned to it."
      ]
    },
    {
      "cell_type": "code",
      "execution_count": null,
      "metadata": {
        "id": "gGP4SFo32-RE",
        "outputId": "efab9d30-1ed0-4288-8e40-ad2e3d115b50"
      },
      "outputs": [
        {
          "name": "stdout",
          "output_type": "stream",
          "text": [
            "1 20.5 Tom\n"
          ]
        }
      ],
      "source": [
        "# 3 variables: a, b, c\n",
        "a = 1\n",
        "b = 20.5\n",
        "c = \"Tom\"\n",
        "print(a, b, c)"
      ]
    },
    {
      "cell_type": "markdown",
      "metadata": {
        "id": "8_p4DdIW2-RF"
      },
      "source": [
        "## 1.1 Characteristics of Variables\n",
        "\n",
        "A variable can have a short name (such as a, b, c) or a descriptive name (such as numberOfBalls, car, sheep, train, is_Found, total_cost).\n",
        "\n",
        "The naming of variables in Python are governed by the following rules:\n",
        "* A variable name must start with a letter or the underscore character.\n",
        "* A variable name cannot start with a number.\n",
        "* A variable name can only contain alpha-numeric characters and underscores (such as A-z, 0-9, and _).\n",
        "* Variable names are case-sensitive (e.g. sheep, Sheep, ShEEp, SHEEP are different variables).\n",
        "\n",
        "Besides, a variable name cannot take on any of the 35 reserved words in the Python language. These words include:\n",
        "\n",
        "<b> and, as, assert, break, class, continue, def, del, elif, else, except, exec, False, finally, for, from, global, if, import, in, is, lambda, nonlocal, None, not, or, pass, print, raise, return, True, try, while, with, yield</b> <br>\n"
      ]
    },
    {
      "cell_type": "markdown",
      "metadata": {
        "id": "npP_Klo72-RF"
      },
      "source": [
        "**Error:** <br>\n",
        "\"class\" variable will cause a syntax error<br>\n",
        "```python\n",
        "numberOfStudents = 8\n",
        "class = numberOfStudents\n",
        "```\n",
        "The output is:<br>\n",
        "<b>SyntaxError: invalid syntax</b>"
      ]
    },
    {
      "cell_type": "code",
      "execution_count": null,
      "metadata": {
        "id": "1msMaMmk2-RF",
        "outputId": "5d48a963-5f27-4560-eeb0-3f4bb09f5288"
      },
      "outputs": [
        {
          "name": "stdout",
          "output_type": "stream",
          "text": [
            "Class size =  8\n"
          ]
        }
      ],
      "source": [
        "# The following is fine\n",
        "numberOfStudents = 8\n",
        "Class = numberOfStudents\n",
        "print(\"Class size = \", Class)"
      ]
    },
    {
      "cell_type": "markdown",
      "metadata": {
        "id": "66Z1e_cw2-RF"
      },
      "source": [
        "# 2. Types\n",
        "Variables store values and the values can be of different types that can do different things.\n",
        "Python has built-in default data types as summarized in the following table:\n",
        "\n",
        "| Type Category  | Built-in Default Type        |\n",
        "|----------------|------------------------------|\n",
        "| ``Text``       | str                          |\n",
        "| ``Numeric``    | int, float, complex          |\n",
        "| ``Sequence``   | list, tuple, range           |\n",
        "| ``Mapping``    | dict                         |\n",
        "| ``Set``        | set, frozenset               |\n",
        "| ``Boolean``    | bool                         |\n",
        "| ``Binary``     | bytes, bytearray, memoryview |\n"
      ]
    },
    {
      "cell_type": "code",
      "execution_count": null,
      "metadata": {
        "id": "KGbaWDAg2-RF",
        "outputId": "07831dd6-3884-4da2-e1c9-a11c7766f261"
      },
      "outputs": [
        {
          "name": "stdout",
          "output_type": "stream",
          "text": [
            "Python Programming <class 'str'>\n",
            "8 <class 'int'>\n"
          ]
        }
      ],
      "source": [
        "# type(x) function shows the data type of \"x\" variable\n",
        "x = \"Python Programming\"\n",
        "print(x, type(x))\n",
        "x = 8\n",
        "print(x, type(x))"
      ]
    },
    {
      "cell_type": "code",
      "execution_count": null,
      "metadata": {
        "id": "bK3FJGQY2-RG",
        "outputId": "042e9c02-b23c-4f7f-a79c-5f0412ed6e06"
      },
      "outputs": [
        {
          "name": "stdout",
          "output_type": "stream",
          "text": [
            "5.0 <class 'float'>\n",
            "5 <class 'int'>\n",
            "(5+0j) <class 'complex'>\n"
          ]
        }
      ],
      "source": [
        "# Data of one type can be converted to another with the int(), float(), and complex() methods\n",
        "a = 5              # int\n",
        "b = 5.5            # float\n",
        "c = 5j             # complex\n",
        "i = float(a)       # convert from int to float\n",
        "j = int(b)         # convert from float to int\n",
        "k = complex(a)     # convert from int to complex\n",
        "print(i, type(i))\n",
        "print(j, type(j))\n",
        "print(k, type(k))"
      ]
    },
    {
      "cell_type": "markdown",
      "metadata": {
        "id": "y8jHTjoQ2-RG"
      },
      "source": [
        "# 3. Collections\n",
        "Collections are containers for storing collections of data. There are four data collection types:\n",
        "<br>1.\tList – A collection that is ordered and mutable (or changeable). Duplicate members are allowed in the collection.\n",
        "<br>2.\tTuple – A collection that is ordered and immutable (or non-changeable). Duplicate members are allowed in the collection.\n",
        "<br>3.\tSet – A collection that is unordered and unindexed. No duplicate members are allowed in the collection.\n",
        "<br>4.\tDictionary – A collection that is unordered, mutable and indexed. No duplicate members are allowed in the collection.\n",
        "\n",
        " ![image.png](attachment:image.png)"
      ]
    },
    {
      "cell_type": "markdown",
      "metadata": {
        "id": "IjFQoId42-RG"
      },
      "source": [
        "## 3.1 List\n",
        "Lists and tuples are of the sequence category of data types.\n",
        "Sequences are iterative objects in arbitrary length containers.\n",
        "Lists contain heterogeneous and mutable objects, and are defined with square brackets.\n",
        "Objects can therefore be added or deleted from a list."
      ]
    },
    {
      "cell_type": "code",
      "execution_count": null,
      "metadata": {
        "id": "vFx9lOHG2-RG"
      },
      "outputs": [],
      "source": [
        "# To create list, include objects within square brackets, separated by commas\n",
        "x = [\"Ford\", \"Honda\", \"BMW\"]"
      ]
    },
    {
      "cell_type": "code",
      "execution_count": null,
      "metadata": {
        "id": "kqe-FGrx2-RG"
      },
      "outputs": [],
      "source": [
        "# Lists can contain a mix of multiple data types\n",
        "x = [\"Ford\", 50000, True]"
      ]
    },
    {
      "cell_type": "code",
      "execution_count": null,
      "metadata": {
        "id": "eToRkzLm2-RG",
        "outputId": "ff04375f-ad6a-49e7-c69d-0e01d1c0c03c"
      },
      "outputs": [
        {
          "name": "stdout",
          "output_type": "stream",
          "text": [
            "3\n"
          ]
        }
      ],
      "source": [
        "# The len() function produces the length of a list\n",
        "x = [\"Ford\", 50000, True]\n",
        "print(len(x))"
      ]
    },
    {
      "cell_type": "code",
      "execution_count": null,
      "metadata": {
        "id": "p50HzhI62-RH",
        "outputId": "957ee353-d745-41b0-8af6-280016294f00"
      },
      "outputs": [
        {
          "name": "stdout",
          "output_type": "stream",
          "text": [
            "Ford\n",
            "True\n"
          ]
        }
      ],
      "source": [
        "# Python does not have built-in support for Arrays, but Lists can be used instead to behave like arrays.\n",
        "x = [\"Ford\", 50000, True]\n",
        "print(x[0])    # from the start of list\n",
        "print(x[-1])   # from the end of list"
      ]
    },
    {
      "cell_type": "code",
      "execution_count": null,
      "metadata": {
        "id": "BuQExPpn2-RH",
        "outputId": "be531d61-207a-499f-d7eb-78e562e0be72"
      },
      "outputs": [
        {
          "name": "stdout",
          "output_type": "stream",
          "text": [
            "Albert\n",
            "George\n",
            "['Charlie', 'Derek', 'Elvis', 'Fanny', 'George']\n",
            "['Albert', 'Bob']\n",
            "['Derek', 'Elvis']\n",
            "['Charlie', 'Derek']\n"
          ]
        }
      ],
      "source": [
        "# We can select items from this list (Note that a list starts from index 0)\n",
        "nameList = [\"Albert\", \"Bob\", \"Charlie\", \"Derek\", \"Elvis\", \"Fanny\", \"George\"]\n",
        "\n",
        "print(nameList[0])     # first item of the list\n",
        "print(nameList[-1])    # last item of the list\n",
        "print(nameList[2:])    # items from index 2 to end of list\n",
        "print(nameList[:2])    # items from index 0 (included) to index 2 (excluded)\n",
        "print(nameList[3:5])   # items from index 3 (included) to index 5 (excluded)\n",
        "print(nameList[-5:-3]) # items from index -5 (included) to index -3 (excluded)"
      ]
    },
    {
      "cell_type": "code",
      "execution_count": null,
      "metadata": {
        "id": "x2aBiMon2-RH",
        "outputId": "072a7f35-b2fb-49c2-9528-b0358d1f5b2d"
      },
      "outputs": [
        {
          "name": "stdout",
          "output_type": "stream",
          "text": [
            "['Albert', 'Bob', 'Charlie', 'Derek', 'Edmond', 'Fanny', 'George']\n"
          ]
        }
      ],
      "source": [
        "# To change the value of a specific item, refer to the index number:\n",
        "nameList    = [\"Albert\", \"Bob\", \"Charlie\", \"Derek\", \"Elvis\", \"Fanny\", \"George\"]\n",
        "nameList[4] = \"Edmond\"\n",
        "print(nameList)"
      ]
    },
    {
      "cell_type": "markdown",
      "metadata": {
        "id": "6kLq8bAd2-RH"
      },
      "source": [
        "### Concatenating lists"
      ]
    },
    {
      "cell_type": "code",
      "execution_count": null,
      "metadata": {
        "id": "oQGMmoHb2-RH",
        "outputId": "68610aae-2c8c-422f-a287-a5b191b5f58e"
      },
      "outputs": [
        {
          "name": "stdout",
          "output_type": "stream",
          "text": [
            "['Albert', 'Bob', 'Charlie', 'Derek', 'Elvis', 'Fanny', 'George', 30, 20, 45, 12, 56, 29]\n"
          ]
        }
      ],
      "source": [
        "# To concatenate two lists\n",
        "nameList = [\"Albert\", \"Bob\", \"Charlie\", \"Derek\", \"Elvis\", \"Fanny\", \"George\"]\n",
        "age = [30, 20, 45, 12, 56, 29]\n",
        "newList = nameList + age\n",
        "print(newList)"
      ]
    },
    {
      "cell_type": "code",
      "execution_count": null,
      "metadata": {
        "id": "ZxOs0bIU2-RH",
        "outputId": "cc4d47c1-f766-4ae9-b5bc-8cea2eb3e164"
      },
      "outputs": [
        {
          "name": "stdout",
          "output_type": "stream",
          "text": [
            "['Albert', 'Bob', 'Charlie', 'Derek', 'Elvis', 'Fanny', 'George', 'Albert', 'Bob', 'Charlie', 'Derek', 'Elvis', 'Fanny', 'George']\n"
          ]
        }
      ],
      "source": [
        "# To multiply a list\n",
        "print(nameList * 2)"
      ]
    },
    {
      "cell_type": "code",
      "execution_count": null,
      "metadata": {
        "id": "0zCzlZph2-RI",
        "outputId": "239f8f40-89e0-4623-c78c-d89f0024c01a"
      },
      "outputs": [
        {
          "name": "stdout",
          "output_type": "stream",
          "text": [
            "['Elvis', 'Fanny', 'George', 30]\n"
          ]
        }
      ],
      "source": [
        "# To slice a list by extracting some items from a list to another list\n",
        "slice = newList[4:8] # extract from index 4 for 4 items\n",
        "print(slice)"
      ]
    },
    {
      "cell_type": "markdown",
      "metadata": {
        "id": "ApMrC_cT2-RI"
      },
      "source": [
        "### Deleting items from lists"
      ]
    },
    {
      "cell_type": "code",
      "execution_count": null,
      "metadata": {
        "id": "8497hyvG2-RI",
        "outputId": "3128598d-c2bd-4f9c-85b9-41f644ed69ed"
      },
      "outputs": [
        {
          "name": "stdout",
          "output_type": "stream",
          "text": [
            "['Albert', 'Bob', 'Charlie', 'Derek', 'Elvis', 30, 20, 45, 12, 56, 29]\n"
          ]
        }
      ],
      "source": [
        "# Delete items from a list\n",
        "del newList[5:7]   # delete 2 items\n",
        "print(newList)"
      ]
    },
    {
      "cell_type": "markdown",
      "metadata": {
        "id": "zONlP0-92-RI"
      },
      "source": [
        "### Creating range of numbers in lists"
      ]
    },
    {
      "cell_type": "code",
      "execution_count": null,
      "metadata": {
        "id": "9TG7Gbh02-RI",
        "outputId": "477077f9-6743-4737-e02e-add152ace17b"
      },
      "outputs": [
        {
          "name": "stdout",
          "output_type": "stream",
          "text": [
            "[1, 2, 3, 4, 5, 6, 7, 8, 9]\n",
            "[0, 1, 2, 3, 4, 5, 6, 7, 8, 9]\n"
          ]
        }
      ],
      "source": [
        "# Use the range() function to create a list of numbers\n",
        "listOfNumbers = list(range(1, 10)) # range of numbers from 1 to 9\n",
        "print(listOfNumbers)\n",
        "listOfNumbers = list(range(10))    # range of numbers from 0 to 9\n",
        "print(listOfNumbers)"
      ]
    },
    {
      "cell_type": "code",
      "execution_count": null,
      "metadata": {
        "id": "5hAkVzuI2-RI",
        "outputId": "3f7612be-11dd-4063-ed67-8444a94953c3"
      },
      "outputs": [
        {
          "name": "stdout",
          "output_type": "stream",
          "text": [
            "[1, 3, 5, 7, 9]\n"
          ]
        }
      ],
      "source": [
        "# Create a range of numbers with a step value\n",
        "listOfNumbers = list(range(1, 10, 2)) # range of numbers from 1 to 9 with step 2\n",
        "print(listOfNumbers)"
      ]
    },
    {
      "cell_type": "markdown",
      "metadata": {
        "id": "niv_Ek4K2-RI"
      },
      "source": [
        "### Sublists in lists"
      ]
    },
    {
      "cell_type": "code",
      "execution_count": null,
      "metadata": {
        "id": "WbO7cv6C2-RI",
        "outputId": "95d6e7ee-2818-4598-be26-b168b46a1c4e"
      },
      "outputs": [
        {
          "name": "stdout",
          "output_type": "stream",
          "text": [
            "[('Alice', 80), ('Betty', 50), ('Cathy', 76), ('Debbie', 92)]\n",
            "('Debbie', 92)\n",
            "Cathy\n"
          ]
        }
      ],
      "source": [
        "# A list can contain sublists\n",
        "studentsGrades = [(\"Alice\", 80), (\"Betty\", 50), (\"Cathy\", 76), (\"Debbie\", 92)]\n",
        "print(studentsGrades)\n",
        "\n",
        "# Select the fourth element in the studentsGrades list\n",
        "print(studentsGrades[3])\n",
        "\n",
        "# Print the first element of the third element of the studentsGrades list\n",
        "print(studentsGrades[2][0])"
      ]
    },
    {
      "cell_type": "markdown",
      "metadata": {
        "id": "Cq5uWefz2-RI"
      },
      "source": [
        "### Appending string to list"
      ]
    },
    {
      "cell_type": "code",
      "execution_count": null,
      "metadata": {
        "id": "ZV8IbKqI2-RJ",
        "outputId": "edee748b-ba43-46a3-d950-2871fe4d4daf"
      },
      "outputs": [
        {
          "name": "stdout",
          "output_type": "stream",
          "text": [
            "['String 1', 'String 2']\n"
          ]
        }
      ],
      "source": [
        "# Append a string to the end of a list\n",
        "aList = []\n",
        "aList.append('String 1')\n",
        "aList.append('String 2')\n",
        "print(aList)"
      ]
    },
    {
      "cell_type": "markdown",
      "metadata": {
        "id": "8Diym16r2-RJ"
      },
      "source": [
        "## 3.2 Tuple\n",
        "Tuples contain sequences of heterogeneous and immutable objects, and are identified by parenthesis.\n",
        "By “immutable”, it means once a tuple is created, it cannot be altered i.e. an element cannot replace another element in the tuple."
      ]
    },
    {
      "cell_type": "code",
      "execution_count": null,
      "metadata": {
        "id": "a6ZP24692-RJ",
        "outputId": "2c92431b-8f6f-4b2c-db97-83069806cc96"
      },
      "outputs": [
        {
          "name": "stdout",
          "output_type": "stream",
          "text": [
            "('Alice', 'Betty', 'Cathy', 'Debbie')\n"
          ]
        }
      ],
      "source": [
        "# To create a tuple\n",
        "students = (\"Alice\", \"Betty\", \"Cathy\", \"Debbie\")\n",
        "\n",
        "# Can also create a tuple using the tuple() method\n",
        "students = tuple((\"Alice\", \"Betty\", \"Cathy\", \"Debbie\"))\n",
        "print(students)"
      ]
    },
    {
      "cell_type": "code",
      "execution_count": null,
      "metadata": {
        "id": "KLEQ0kKw2-RJ",
        "outputId": "29535dac-2b1f-44ae-e1c8-59dc9841405f"
      },
      "outputs": [
        {
          "name": "stdout",
          "output_type": "stream",
          "text": [
            "('Mazda',) <class 'tuple'> Mazda <class 'str'>\n"
          ]
        }
      ],
      "source": [
        "# To create a tuple with only one item, it is necessary to add a comma after the item\n",
        "carTuple = (\"Mazda\",)\n",
        "carString = (\"Mazda\")\n",
        "print(carTuple, type(carTuple), carString, type(carString))"
      ]
    },
    {
      "cell_type": "code",
      "execution_count": null,
      "metadata": {
        "id": "97S_yGTl2-RJ",
        "outputId": "f03f51ec-6797-45e2-b623-c044677dc59b"
      },
      "outputs": [
        {
          "name": "stdout",
          "output_type": "stream",
          "text": [
            "4\n"
          ]
        }
      ],
      "source": [
        "# The len() function\n",
        "students = (\"Alice\", \"Betty\", \"Cathy\", \"Debbie\")\n",
        "print(len(students))"
      ]
    },
    {
      "cell_type": "markdown",
      "metadata": {
        "id": "Nn9zFb5p2-RJ"
      },
      "source": [
        "### Extracting elements from tuples"
      ]
    },
    {
      "cell_type": "code",
      "execution_count": null,
      "metadata": {
        "id": "JXlB8QEa2-RJ",
        "outputId": "ee7e2697-e658-4537-ce29-035295be350b"
      },
      "outputs": [
        {
          "name": "stdout",
          "output_type": "stream",
          "text": [
            "Betty\n",
            "Debbie\n",
            "('Betty', 'Cathy', 'Debbie')\n",
            "('Alice', 'Betty', 'Cathy')\n"
          ]
        }
      ],
      "source": [
        "# To extract the second element of students tuple\n",
        "print(students[1])\n",
        "\n",
        "# To extract the last element of students tuple\n",
        "print(students[-1])\n",
        "\n",
        "# To extract more than one element of students tuple\n",
        "print(students[1:4])\n",
        "\n",
        "# To extract elements from the end of the tuple\n",
        "students = (\"Alice\", \"Betty\", \"Cathy\", \"Debbie\")\n",
        "print(students[-4:-1]) # starting from end of tuple, returns items from index -4 (included)\n",
        "                       # to index -1 (excluded). Last item has index -1."
      ]
    },
    {
      "cell_type": "markdown",
      "metadata": {
        "id": "0Df5ovdF2-RJ"
      },
      "source": [
        "### The \"in\" operator"
      ]
    },
    {
      "cell_type": "code",
      "execution_count": null,
      "metadata": {
        "id": "HRJxKg842-RR",
        "outputId": "756f9623-8864-40df-f268-e2f1ced79dd6"
      },
      "outputs": [
        {
          "name": "stdout",
          "output_type": "stream",
          "text": [
            "True\n",
            "False\n",
            "False\n"
          ]
        }
      ],
      "source": [
        "# To determine if an item is present in a tuple, use the “in” operator\n",
        "print('Betty' in students)\n",
        "print('betty' in students)   # case sensitive\n",
        "print('Eva' in students)"
      ]
    },
    {
      "cell_type": "markdown",
      "metadata": {
        "id": "u5quMK3Y2-RR"
      },
      "source": [
        "### Immutability in tuple"
      ]
    },
    {
      "cell_type": "markdown",
      "metadata": {
        "id": "VdNMx7FP2-RR"
      },
      "source": [
        "**Error:** <br>\n",
        "```python\n",
        "students = (\"Alice\", \"Betty\", \"Cathy\", \"Debbie\")<br>\n",
        "```\n",
        "Attempt to replace an element in a tuple with another element will generate an error\n",
        "```python\n",
        "students[1] = \"Eva\"\n",
        "```\n",
        "The output is:<br>\n",
        "<b>TypeError: 'tuple' object does not support item assignment</b>"
      ]
    },
    {
      "cell_type": "code",
      "execution_count": null,
      "metadata": {
        "id": "l-cv-rkv2-RR",
        "outputId": "d60fc6c5-87cd-45d9-c81e-dd32a01bf237"
      },
      "outputs": [
        {
          "name": "stdout",
          "output_type": "stream",
          "text": [
            "('Alice', 'Eva', 'Cathy', 'Debbie')\n"
          ]
        }
      ],
      "source": [
        "# To workaround this restriction, convert the tuple into a list, change the list, and convert the list back into a tuple\n",
        "students = (\"Alice\", \"Betty\", \"Cathy\", \"Debbie\")\n",
        "studentList = list(students)\n",
        "studentList[1] = \"Eva\"\n",
        "students = tuple(studentList)\n",
        "print(students)"
      ]
    },
    {
      "cell_type": "markdown",
      "metadata": {
        "id": "d6j1RVcZ2-RR"
      },
      "source": [
        "### Deleting tuples"
      ]
    },
    {
      "cell_type": "markdown",
      "metadata": {
        "id": "DUpzMmb_2-RS"
      },
      "source": [
        "**Error:**\n",
        "\n",
        "To delete a tuple, use the “del” keyword\n",
        "```python\n",
        "del carTuple\n",
        "print(carTuple) # this will cause an error\n",
        "```\n",
        "The output is:<br>\n",
        "<b>NameError: name 'carTuple' is not defined</b>"
      ]
    },
    {
      "cell_type": "markdown",
      "metadata": {
        "id": "lLLsDhkh2-RS"
      },
      "source": [
        "### Concatenating tuples"
      ]
    },
    {
      "cell_type": "code",
      "execution_count": null,
      "metadata": {
        "id": "lPXd5hM72-RS",
        "outputId": "3ed33fa1-86f8-4ff9-bf71-5631ed84350f"
      },
      "outputs": [
        {
          "name": "stdout",
          "output_type": "stream",
          "text": [
            "('Mazda', 'Honda', 'Man', 'Volvo')\n"
          ]
        }
      ],
      "source": [
        "# To join two tuples\n",
        "cars = (\"Mazda\", \"Honda\")\n",
        "buses = (\"Man\", \"Volvo\")\n",
        "automobile = cars + buses\n",
        "print(automobile)"
      ]
    },
    {
      "cell_type": "markdown",
      "metadata": {
        "id": "pWJf2ah92-RS"
      },
      "source": [
        "### Multi-type elements in tuples"
      ]
    },
    {
      "cell_type": "code",
      "execution_count": null,
      "metadata": {
        "id": "qLaHfzz12-RS",
        "outputId": "9d680859-1647-47e0-8af7-380b3acb4f9d"
      },
      "outputs": [
        {
          "name": "stdout",
          "output_type": "stream",
          "text": [
            "('John', 39, 9237890, 23.3, 'Blacky')\n"
          ]
        }
      ],
      "source": [
        "# Tuples can contain more than one type of object\n",
        "customer = (\"John\", 39, 9237890, 23.3, \"Blacky\")\n",
        "print(customer)"
      ]
    },
    {
      "cell_type": "markdown",
      "metadata": {
        "id": "PEqG-3J22-RS"
      },
      "source": [
        "## 3.3 Set\n",
        "Sets are unordered and immutable object containers. They are unindexed and do not contain duplicate items They support typical set operations such as union, intersection and difference. Sets are written with braces."
      ]
    },
    {
      "cell_type": "code",
      "execution_count": null,
      "metadata": {
        "id": "1p_CwiY-2-RS",
        "outputId": "7b42ed1e-3260-4791-a2cd-b02c7b1fa001"
      },
      "outputs": [
        {
          "name": "stdout",
          "output_type": "stream",
          "text": [
            "{'Debbie', 'Alice', 'Cathy', 'Betty'} <class 'set'>\n",
            "{'Alice', 'Betty'}\n"
          ]
        }
      ],
      "source": [
        "# To create a “students” set\n",
        "students = {\"Alice\", \"Betty\", \"Cathy\", \"Debbie\"}\n",
        "\n",
        "# Alternatively, use the set() method to create a set\n",
        "students = set({\"Alice\", \"Betty\", \"Cathy\", \"Debbie\"})\n",
        "print(students, type(students))\n",
        "\n",
        "# Can also create a set by first creating an empty set and then populating it one item at a time using the add() method\n",
        "students = set()\n",
        "students.add(\"Alice\")\n",
        "students.add(\"Betty\")\n",
        "print(students)"
      ]
    },
    {
      "cell_type": "code",
      "execution_count": null,
      "metadata": {
        "id": "gBw49WKG2-RS",
        "outputId": "c990c176-6fa5-43b7-e87d-7a833e0c0ddc"
      },
      "outputs": [
        {
          "name": "stdout",
          "output_type": "stream",
          "text": [
            "4\n"
          ]
        }
      ],
      "source": [
        "# The len() function produces the length of a set\n",
        "students = {\"Alice\", \"Betty\", \"Cathy\", \"Debbie\"}\n",
        "print(len(students))"
      ]
    },
    {
      "cell_type": "markdown",
      "metadata": {
        "id": "PkYcgqlZ2-RT"
      },
      "source": [
        "### Indexing elements in sets"
      ]
    },
    {
      "cell_type": "markdown",
      "metadata": {
        "id": "AqTaDqq12-RT"
      },
      "source": [
        "**Error:**\n",
        "\n",
        "Indexing is not supported in sets\n",
        "\n",
        "```python\n",
        "students[3] # this will raise an error\n",
        "```\n",
        "The output is:<br>\n",
        "<b>TypeError: 'set' object is not subscriptable</b>"
      ]
    },
    {
      "cell_type": "markdown",
      "metadata": {
        "id": "q1H-SpN82-RT"
      },
      "source": [
        "### The \"in\" operator"
      ]
    },
    {
      "cell_type": "code",
      "execution_count": null,
      "metadata": {
        "id": "nNQcIkQ52-RT",
        "outputId": "aaf8698e-df3c-4831-c133-df489a5754f8"
      },
      "outputs": [
        {
          "name": "stdout",
          "output_type": "stream",
          "text": [
            "True\n",
            "False\n",
            "False\n"
          ]
        }
      ],
      "source": [
        "# To determine if an item is in a set\n",
        "print(\"Alice\" in students)\n",
        "print(\"Eva\" in students)\n",
        "print(2 in students)"
      ]
    },
    {
      "cell_type": "markdown",
      "metadata": {
        "id": "ehE1JAJE2-RT"
      },
      "source": [
        "### Adding items into sets"
      ]
    },
    {
      "cell_type": "code",
      "execution_count": null,
      "metadata": {
        "id": "VM0TyfWh2-RT",
        "outputId": "00abce7d-2f89-475b-85c9-4156d5bb6723"
      },
      "outputs": [
        {
          "name": "stdout",
          "output_type": "stream",
          "text": [
            "{'Cathy', 'Betty', 'Debbie', 'Alice', 'Eva'}\n"
          ]
        }
      ],
      "source": [
        "# To add more than one item to a set, use the update() method\n",
        "students = {\"Alice\", \"Betty\"}\n",
        "students.update([\"Cathy\", \"Debbie\", \"Eva\"])\n",
        "print(students)"
      ]
    },
    {
      "cell_type": "markdown",
      "metadata": {
        "id": "YaSjAC182-RT"
      },
      "source": [
        "### Removing items from sets"
      ]
    },
    {
      "cell_type": "code",
      "execution_count": null,
      "metadata": {
        "id": "yh7dE74J2-RT",
        "outputId": "dffd9b34-527a-4582-c1eb-9a9840806e67"
      },
      "outputs": [
        {
          "name": "stdout",
          "output_type": "stream",
          "text": [
            "{'Alice', 'Cathy', 'Betty', 'Eva', 'Debbie'}\n",
            "{'Alice', 'Cathy', 'Betty', 'Debbie'}\n",
            "{'Cathy', 'Betty', 'Debbie'}\n"
          ]
        }
      ],
      "source": [
        "# To remove an item in a set, use the remove() or discard() method\n",
        "students = {\"Alice\", \"Betty\", \"Cathy\", \"Debbie\", \"Eva\"}\n",
        "print(students)\n",
        "\n",
        "# Remove “Eva” from set\n",
        "students.remove(\"Eva\")\n",
        "print(students)\n",
        "\n",
        "# Use discard() method to remove “Alice” from set\n",
        "students.discard(\"Alice\")\n",
        "print(students)"
      ]
    },
    {
      "cell_type": "markdown",
      "metadata": {
        "id": "XvcdN3mL2-RU"
      },
      "source": [
        "**Error:**\n",
        "\n",
        "Use remove() method to remove “Alice” again from set\n",
        "```python\n",
        "students.remove(\"Alice\") # error because “Alice” does not exist anymore\n",
        "```\n",
        "The output is:<br>\n",
        "<b>KeyError: 'Alice'</b>"
      ]
    },
    {
      "cell_type": "code",
      "execution_count": null,
      "metadata": {
        "id": "L85KLMlK2-RU",
        "outputId": "58a32c34-a8ad-4f37-9d6f-3a2e564ee1c5"
      },
      "outputs": [
        {
          "name": "stdout",
          "output_type": "stream",
          "text": [
            "Cathy\n",
            "{'Betty', 'Debbie'}\n"
          ]
        }
      ],
      "source": [
        "# Use discard() method to remove “Alice” again from set\n",
        "students.discard(\"Alice\")   # does not raise an error even though “Alice” does not exist\n",
        "\n",
        "# Another method to remove an item is pop() method.\n",
        "# This method will remove the last item.\n",
        "# Since sets are unordered, you may not know what item gets removed with pop().\n",
        "print(students.pop())\n",
        "\n",
        "# Let us print “students”\n",
        "print(students)"
      ]
    },
    {
      "cell_type": "code",
      "execution_count": null,
      "metadata": {
        "id": "c7jqkKI_2-RU",
        "outputId": "faa272b8-19c0-42e4-b90f-f01810c1252b"
      },
      "outputs": [
        {
          "name": "stdout",
          "output_type": "stream",
          "text": [
            "set()\n"
          ]
        }
      ],
      "source": [
        "# To clear or empty a set, use the clear() method (Note that the set still exists, just that it is empty)\n",
        "cars = {\"Mazda\", \"Honda\", \"Toyota\"}\n",
        "cars.clear()\n",
        "print(cars)"
      ]
    },
    {
      "cell_type": "markdown",
      "metadata": {
        "id": "OrSzF_IK2-RU"
      },
      "source": [
        "**Error:**\n",
        "\n",
        "To delete a set, use the “del” keyword\n",
        "```python\n",
        "cars = {\"Mazda\", \"Honda\", \"Toyota\"}\n",
        "del cars\n",
        "print(cars) # error because the set no longer exists\n",
        "```\n",
        "The output is:<br>\n",
        "<b>NameError: name 'cars' is not defined</b>"
      ]
    },
    {
      "cell_type": "markdown",
      "metadata": {
        "id": "T0BEUfwf2-RU"
      },
      "source": [
        "### No duplicate members in sets"
      ]
    },
    {
      "cell_type": "code",
      "execution_count": null,
      "metadata": {
        "id": "L1bYqLsB2-RU",
        "outputId": "d27ce1a4-dacb-469b-96ca-234aafe87eff"
      },
      "outputs": [
        {
          "name": "stdout",
          "output_type": "stream",
          "text": [
            "{33, 5, 40, 10, 78, 55, 23, 90}\n"
          ]
        }
      ],
      "source": [
        "# One property of set is that no duplicate members exists in a set\n",
        "numbers = {5, 78, 23, 55, 40, 5, 90, 33, 10, 33, 23, 5}\n",
        "print(numbers)"
      ]
    },
    {
      "cell_type": "markdown",
      "metadata": {
        "id": "9AmBCXvQ2-RU"
      },
      "source": [
        "## 3.4 Dictionary\n",
        "Dictionaries are containers that store key-value pairs and are distinguished with braces. Items within dictionaries can change but they cannot be ordered. Neither can we extract items from a dictionary as we did with lists and tuples."
      ]
    },
    {
      "cell_type": "code",
      "execution_count": null,
      "metadata": {
        "id": "Mk_enxfa2-RU",
        "outputId": "1255b2b2-88dc-4638-ee31-bc55e0ed019e"
      },
      "outputs": [
        {
          "name": "stdout",
          "output_type": "stream",
          "text": [
            "{'Alice': 30, 'Betty': 9, 'Cathy': 18, 'Debbie': 56} <class 'dict'>\n"
          ]
        }
      ],
      "source": [
        "# To create a “students” dictionary of names and age\n",
        "students = {\"Alice\":30, \"Betty\":9, \"Cathy\":18, \"Debbie\":56}\n",
        "print(students, type(students))"
      ]
    },
    {
      "cell_type": "code",
      "execution_count": null,
      "metadata": {
        "id": "ENLiNApm2-RV",
        "outputId": "0c091ead-faed-4632-b907-962aa6e962b3"
      },
      "outputs": [
        {
          "name": "stdout",
          "output_type": "stream",
          "text": [
            "4\n"
          ]
        }
      ],
      "source": [
        "# The len() function\n",
        "students = {\"Alice\":30, \"Betty\":9, \"Cathy\":18, \"Debbie\":56}\n",
        "print(len(students))"
      ]
    },
    {
      "cell_type": "markdown",
      "metadata": {
        "id": "Ju1tmKRo2-RV"
      },
      "source": [
        "### Indexing elements in dictionaries"
      ]
    },
    {
      "cell_type": "code",
      "execution_count": null,
      "metadata": {
        "id": "359UiYsm2-RV",
        "outputId": "42c1a76a-45c8-45f2-da84-bba792d42189"
      },
      "outputs": [
        {
          "name": "stdout",
          "output_type": "stream",
          "text": [
            "9\n",
            "9\n"
          ]
        }
      ],
      "source": [
        "# Can query a dictionary for a given student\n",
        "students = {\"Alice\":30, \"Betty\":9, \"Cathy\":18, \"Debbie\":56}\n",
        "print(students['Betty'])\n",
        "\n",
        "# The get() method can also be used to give the same result\n",
        "print(students.get('Betty'))"
      ]
    },
    {
      "cell_type": "markdown",
      "metadata": {
        "id": "i7r7V-H-2-RV"
      },
      "source": [
        "### Adding elements in dictionaries"
      ]
    },
    {
      "cell_type": "code",
      "execution_count": null,
      "metadata": {
        "id": "xle4eJcA2-RV",
        "outputId": "a19f0b8b-6b3d-44ca-9dfc-b130031e1358"
      },
      "outputs": [
        {
          "name": "stdout",
          "output_type": "stream",
          "text": [
            "{'Alice': 30, 'Betty': 9, 'Cathy': 18, 'Debbie': 56, 'Eva': 26}\n"
          ]
        }
      ],
      "source": [
        "# Add a new element to a dictionary\n",
        "students = {\"Alice\":30, \"Betty\":9, \"Cathy\":18, \"Debbie\":56}\n",
        "students['Eva'] = 26\n",
        "print(students)"
      ]
    },
    {
      "cell_type": "markdown",
      "metadata": {
        "id": "1-u3aRxU2-RV"
      },
      "source": [
        "### Keys and Values in dictionaries"
      ]
    },
    {
      "cell_type": "code",
      "execution_count": null,
      "metadata": {
        "id": "QFCxkIIh2-RV",
        "outputId": "792fcd58-aacb-400c-caf9-ced267ce8cf5"
      },
      "outputs": [
        {
          "name": "stdout",
          "output_type": "stream",
          "text": [
            "dict_keys(['Alice', 'Betty', 'Cathy', 'Debbie', 'Eva'])\n",
            "['Alice', 'Betty', 'Cathy', 'Debbie']\n",
            "dict_values([30, 9, 18, 56])\n"
          ]
        }
      ],
      "source": [
        "# To list a dictionary keys, use the keys() method\n",
        "print(students.keys())\n",
        "\n",
        "# Alternatively, we could use the list() method to check on the keys\n",
        "students = {\"Alice\":30, \"Betty\":9, \"Cathy\":18, \"Debbie\":56}\n",
        "print(list(students))\n",
        "\n",
        "# To get the values in a dictionary, use the values() method\n",
        "print(students.values())"
      ]
    },
    {
      "cell_type": "markdown",
      "metadata": {
        "id": "Uc8XnMXq2-RV"
      },
      "source": [
        "### The \"in\" operator"
      ]
    },
    {
      "cell_type": "code",
      "execution_count": null,
      "metadata": {
        "id": "nI9yu8Oa2-RW",
        "outputId": "01c9cbd1-8f2e-4340-97f9-f4158e537408"
      },
      "outputs": [
        {
          "name": "stdout",
          "output_type": "stream",
          "text": [
            "True\n",
            "False\n"
          ]
        }
      ],
      "source": [
        "# To determine if a given key is in the dictionary, use the “in” operator\n",
        "print(\"Cathy\" in students)\n",
        "print(\"Monica\" in students)"
      ]
    },
    {
      "cell_type": "markdown",
      "metadata": {
        "id": "IdRsayjC2-RW"
      },
      "source": [
        "### Removing items from dictionaries"
      ]
    },
    {
      "cell_type": "code",
      "execution_count": null,
      "metadata": {
        "id": "jj9nVX6D2-RW",
        "outputId": "acb7b4b0-a766-4d1a-8664-f20e9a6564f9"
      },
      "outputs": [
        {
          "name": "stdout",
          "output_type": "stream",
          "text": [
            "{'Alice': 30, 'Betty': 9, 'Cathy': 18}\n"
          ]
        }
      ],
      "source": [
        "students = {\"Alice\":30, \"Betty\":9, \"Cathy\":18, \"Debbie\":56}\n",
        "\n",
        "# To delete a dictionary element, use the “del” keyword\n",
        "del students['Debbie']\n",
        "print(students)"
      ]
    },
    {
      "cell_type": "markdown",
      "metadata": {
        "id": "vMptm0Hr2-RW"
      },
      "source": [
        "**Error:**\n",
        "\n",
        "Let us delete “Monica” who does not exist\n",
        "```python\n",
        "del students['Monica'] # error because there is no “Monica” element\n",
        "```\n",
        "The output is:<br>\n",
        "<b>KeyError: 'Monica'</b>"
      ]
    },
    {
      "cell_type": "code",
      "execution_count": null,
      "metadata": {
        "id": "4KHhaMaj2-RW",
        "outputId": "5c03e6e9-ba2c-474c-ed60-26a31c509b8d"
      },
      "outputs": [
        {
          "name": "stdout",
          "output_type": "stream",
          "text": [
            "{}\n"
          ]
        }
      ],
      "source": [
        "students = {\"Alice\":30, \"Betty\":9, \"Cathy\":18, \"Debbie\":56}\n",
        "\n",
        "# To delete all dictionary elements, use the clear() method\n",
        "students.clear()\n",
        "print(students)"
      ]
    },
    {
      "cell_type": "markdown",
      "metadata": {
        "id": "g0kiXPiO2-RW"
      },
      "source": [
        "**Error:**\n",
        "\n",
        "The “students” dictionary becomes empty when clear() method is applied to it but it still exists.\n",
        "To delete the students dictionary completely, use the “del” keyword on the dictionary\n",
        "```python\n",
        "del students\n",
        "print(students) # error because “students” no longer exists\n",
        "```\n",
        "The output is:<br>\n",
        "<b>NameError: name 'students' is not defined</b>"
      ]
    },
    {
      "cell_type": "code",
      "execution_count": null,
      "metadata": {
        "id": "HdrIbNHT2-RW",
        "outputId": "210aa709-354d-493f-b641-f2c2d64901c0"
      },
      "outputs": [
        {
          "name": "stdout",
          "output_type": "stream",
          "text": [
            "{'Maths': 67, 'English': 87, 'Science': 34, 'History': 66}\n",
            "['English', 'History', 'Maths', 'Science']\n"
          ]
        }
      ],
      "source": [
        "# Let us create a new dictionary of “subjects” and “marks”, and list the keys in sorted order\n",
        "subjects = {'Maths':67, 'English':87, 'Science':34, 'History':66}\n",
        "print(subjects)\n",
        "print(sorted(list(subjects)))"
      ]
    },
    {
      "cell_type": "code",
      "execution_count": null,
      "metadata": {
        "id": "yYDj32VB2-RW",
        "outputId": "95905e2f-cc3d-466b-a0ff-2ce1d5f452c9"
      },
      "outputs": [
        {
          "name": "stdout",
          "output_type": "stream",
          "text": [
            "87\n",
            "{'Maths': 67, 'Science': 34, 'History': 66}\n",
            "{'Maths': 67, 'Science': 34, 'History': 66}\n",
            "('History', 66)\n",
            "{'Maths': 67, 'Science': 34}\n"
          ]
        }
      ],
      "source": [
        "# To delete an item, use the pop() method\n",
        "print(subjects.pop('English'))\n",
        "print(subjects)\n",
        "\n",
        "# To delete a random item from the dictionary, use the popitem() method\n",
        "print(subjects)\n",
        "print(subjects.popitem())\n",
        "print(subjects)"
      ]
    },
    {
      "cell_type": "markdown",
      "metadata": {
        "id": "yHZtI4iL2-RX"
      },
      "source": [
        "### Updating values in dictionaries"
      ]
    },
    {
      "cell_type": "code",
      "execution_count": null,
      "metadata": {
        "id": "_5l73L-H2-RX",
        "outputId": "0bf3f3eb-df08-43d0-f22c-67eab26a4156"
      },
      "outputs": [
        {
          "name": "stdout",
          "output_type": "stream",
          "text": [
            "30\n",
            "{'Maths': 67, 'Science': 34}\n",
            "{'Maths': 67, 'Science': 30}\n"
          ]
        }
      ],
      "source": [
        "# To update a value in the dictionary e.g. to subtract the marks of Science by 4 marks\n",
        "print(subjects['Science'] - 4)\n",
        "print(subjects)\n",
        "\n",
        "# Notice the value of Science is still 34, to effect the change, we need to assign the value to Science\n",
        "subjects['Science'] = subjects['Science'] - 4\n",
        "print(subjects)"
      ]
    },
    {
      "cell_type": "markdown",
      "metadata": {
        "id": "ICNYi_jO2-RX"
      },
      "source": [
        "### Copying dictionaries"
      ]
    },
    {
      "cell_type": "code",
      "execution_count": null,
      "metadata": {
        "id": "vOLIOeBF2-RX",
        "outputId": "233c1918-7538-454a-dcd4-d8796a7225ff"
      },
      "outputs": [
        {
          "name": "stdout",
          "output_type": "stream",
          "text": [
            "{'brand': 'Samsung', 'model': 'Galaxy S10', 'price': 900}\n",
            "{'brand': 'Samsung', 'model': 'Galaxy S10', 'price': 900}\n"
          ]
        }
      ],
      "source": [
        "# A dictionary can be copied to make a new dictionary using the copy() method\n",
        "phone = {\"brand\":\"Samsung\", \"model\":\"Galaxy S10\", \"price\":900}\n",
        "newPhone = phone.copy()\n",
        "print(newPhone)\n",
        "\n",
        "# Alternatively, use the built-in function dict() to make a copy of the dictionary\n",
        "anotherPhone = dict(phone)\n",
        "print(anotherPhone)"
      ]
    },
    {
      "cell_type": "markdown",
      "metadata": {
        "id": "4pBU0umO2-RX"
      },
      "source": [
        "### Nesting dictionaries"
      ]
    },
    {
      "cell_type": "code",
      "execution_count": null,
      "metadata": {
        "id": "Zxc1KBTi2-RX",
        "outputId": "66b91394-567f-4087-a96a-d79a00a47307"
      },
      "outputs": [
        {
          "name": "stdout",
          "output_type": "stream",
          "text": [
            "15\n"
          ]
        }
      ],
      "source": [
        "# Dictionaries can be nested. With nesting, we can insert one dictionary into another dictionary\n",
        "subjectMarks = {'Maths': {'Assessment 1': {'Question 1':15}}}\n",
        "\n",
        "# To get the value of ‘Question 1’, we have to subset like this\n",
        "print(subjectMarks['Maths']['Assessment 1']['Question 1'])"
      ]
    },
    {
      "cell_type": "code",
      "execution_count": null,
      "metadata": {
        "id": "l-aNwppO2-RX",
        "outputId": "d8ba3b0a-5a16-4581-8b75-ebbcd2009bd6"
      },
      "outputs": [
        {
          "name": "stdout",
          "output_type": "stream",
          "text": [
            "{'employee1': {'name': 'Simon', 'salary': 5000}, 'employee2': {'name': 'Andy', 'salary': 3500}, 'employee3': {'name': 'Noah', 'salary': 4800}} <class 'dict'>\n"
          ]
        }
      ],
      "source": [
        "# Next, nest three dictionaries into one dictionary\n",
        "employee1 = {\"name\":\"Simon\", \"salary\":5000}\n",
        "employee2 = {\"name\":\"Andy\", \"salary\":3500}\n",
        "employee3 = {\"name\":\"Noah\", \"salary\":4800}\n",
        "company = {\"employee1\":employee1, \"employee2\":employee2, \"employee3\":employee3}\n",
        "print(company, type(company))"
      ]
    },
    {
      "cell_type": "code",
      "execution_count": null,
      "metadata": {
        "id": "YKyWkBlh2-RX",
        "outputId": "64df5c4e-deee-4bfc-cc05-775c83cb026b"
      },
      "outputs": [
        {
          "name": "stdout",
          "output_type": "stream",
          "text": [
            "Andy\n",
            "{'name': 'Andy', 'salary': 3500}\n",
            "Andy\n",
            "3500\n"
          ]
        }
      ],
      "source": [
        "# To get the value of the items in the dictionaries, we can call them in these manners\n",
        "print(employee2[\"name\"])\n",
        "\n",
        "# \"employee2\" in company\n",
        "print(company[\"employee2\"])\n",
        "\n",
        "# Name of “employee2” in company\n",
        "print(company[\"employee2\"][\"name\"])\n",
        "\n",
        "# Salary of “employee2” in company\n",
        "print(company[\"employee2\"][\"salary\"])"
      ]
    },
    {
      "cell_type": "markdown",
      "metadata": {
        "id": "UwMKrOcO2-RY"
      },
      "source": [
        "# 4. Strings\n",
        "A string is a character sequence that is enclosed in single or double quotation marks. “Python Programming”, “Python”, “P”, ‘python’, ‘Programming’ and ‘I’ are all examples of a string. Strings are immutable objects that can be repeated, combined, or parts of them can even be extracted as substrings."
      ]
    },
    {
      "cell_type": "markdown",
      "metadata": {
        "id": "yrP2HzZF2-RY"
      },
      "source": [
        "## 4.1 Displaying string"
      ]
    },
    {
      "cell_type": "code",
      "execution_count": null,
      "metadata": {
        "id": "HVhmEL282-RY",
        "outputId": "13918731-56b6-4c5b-8e08-d5c1a135fd3f"
      },
      "outputs": [
        {
          "name": "stdout",
          "output_type": "stream",
          "text": [
            "Python Programming\n"
          ]
        }
      ],
      "source": [
        "# Can display a string literal with the print() function\n",
        "print(\"Python Programming\")"
      ]
    },
    {
      "cell_type": "code",
      "execution_count": null,
      "metadata": {
        "id": "Xr6AYil22-RY",
        "outputId": "b3eac79a-92fa-4fdc-fecc-7f788804538a"
      },
      "outputs": [
        {
          "name": "stdout",
          "output_type": "stream",
          "text": [
            "Python Programming\n",
            "Python Programming\n"
          ]
        }
      ],
      "source": [
        "# A string can also be assigned to a variable such as “title” as follows\n",
        "title = 'Python Programming' # title is a string in single quotes\n",
        "print(title)\n",
        "title = \"Python Programming\" # title is a string in double quotes\n",
        "print(title)"
      ]
    },
    {
      "cell_type": "markdown",
      "metadata": {
        "id": "Kq6V8mji2-RY"
      },
      "source": [
        "## 4.2 Escape character"
      ]
    },
    {
      "cell_type": "markdown",
      "metadata": {
        "id": "9IcsxWEb2-RY"
      },
      "source": [
        "**Error:**\n",
        "\n",
        "While the use of single and double quotes to represent strings are permissible, the use of single quote may pose some confusions with apostrophes in sentences. For example, the following string has a syntax error:\n",
        "```python\n",
        "tvshow = 'Monty Python's Flying Circus'\n",
        "```\n",
        "The output is:<br>\n",
        "<b>SyntaxError: invalid syntax</b>"
      ]
    },
    {
      "cell_type": "code",
      "execution_count": null,
      "metadata": {
        "id": "YRbuAU0y2-RY",
        "outputId": "0b90400a-32f4-4202-8f9a-702beb1799c7"
      },
      "outputs": [
        {
          "name": "stdout",
          "output_type": "stream",
          "text": [
            "Monty Python's Flying Circus\n"
          ]
        }
      ],
      "source": [
        "# The use of double quotes for strings removes the problem\n",
        "tvshow = \"Monty Python's Flying Circus\"\n",
        "print(tvshow)"
      ]
    },
    {
      "cell_type": "markdown",
      "metadata": {
        "id": "x22ozD4T2-RY"
      },
      "source": [
        "**Error:**\n",
        "\n",
        "Whether it is single quote or double quotes for strings,\n",
        "there will always be situations where the use of single quote or double quotes in sentences are inevitable e.g.\n",
        "```python\n",
        "quote = \"Einstein once said: \"Imagination is more important than knowledge. Knowledge is limited. Imagination encircles the world.\"\"\n",
        "```\n",
        "The output is:<br>\n",
        "<b>SyntaxError: invalid syntax</b>\n"
      ]
    },
    {
      "cell_type": "code",
      "execution_count": null,
      "metadata": {
        "id": "QGPoLJZB2-RZ",
        "outputId": "ff20301b-741e-4d97-bb5d-f7f12bbcc26b"
      },
      "outputs": [
        {
          "name": "stdout",
          "output_type": "stream",
          "text": [
            "Einstein once said: \"Imagination is more important than knowledge. Knowledge is limited. Imagination encircles the world.\"\n"
          ]
        }
      ],
      "source": [
        "# Use single quote to solve problem.\n",
        "# But, a more suitable way is to include quotation marks with a backslash (commonly known as “Escape Character”) as follows\n",
        "quote = \"Einstein once said: \\\"Imagination is more important than knowledge. Knowledge is limited. Imagination encircles the world.\\\"\"\n",
        "print(quote)\n",
        "\n",
        "# An escape character is a backslash “\\” followed by the character you want to insert.\n",
        "# The above example uses the escape character “\\\"”."
      ]
    },
    {
      "cell_type": "markdown",
      "metadata": {
        "id": "5uhGAApc2-RZ"
      },
      "source": [
        "## 4.3 Multi-line strings"
      ]
    },
    {
      "cell_type": "code",
      "execution_count": null,
      "metadata": {
        "id": "oCwNZHoT2-RZ",
        "outputId": "cdaa42b1-8b8a-4202-eb9e-402f9b49cde3"
      },
      "outputs": [
        {
          "name": "stdout",
          "output_type": "stream",
          "text": [
            "Python Programming:\n",
            "A beginner’s guide to\n",
            "Python programming \n"
          ]
        }
      ],
      "source": [
        "# A multi-line string can be assigned to a variable by using three quotes as follows\n",
        "title = '''Python Programming:\n",
        "A beginner’s guide to\n",
        "Python programming '''\n",
        "print(title)"
      ]
    },
    {
      "cell_type": "code",
      "execution_count": null,
      "metadata": {
        "id": "ntk_tiCC2-RZ",
        "outputId": "5cc5d941-d16f-4142-a1eb-10aa7a95b909"
      },
      "outputs": [
        {
          "name": "stdout",
          "output_type": "stream",
          "text": [
            "Python Programming:\n",
            "A beginner’s guide to\n",
            "Python programming \n"
          ]
        }
      ],
      "source": [
        "# Alternatively, you can use three double quotes for multi-line string as follows\n",
        "title = \"\"\"Python Programming:\n",
        "A beginner’s guide to\n",
        "Python programming \"\"\"\n",
        "print(title)"
      ]
    },
    {
      "cell_type": "markdown",
      "metadata": {
        "id": "KhuGBEFx2-RZ"
      },
      "source": [
        "## 4.4 Strings are immutable"
      ]
    },
    {
      "cell_type": "code",
      "execution_count": null,
      "metadata": {
        "id": "jGQUpZ6J2-RZ",
        "outputId": "ca935f78-a0f4-492a-9709-291c94eecf2e"
      },
      "outputs": [
        {
          "name": "stdout",
          "output_type": "stream",
          "text": [
            "This string has no blanks.\n"
          ]
        }
      ],
      "source": [
        "# Strings are immutable i.e. they cannot be changed.\n",
        "# We cannot assign an item to a character of a string\n",
        "line = \"This string has no blanks.\"\n",
        "print(line)"
      ]
    },
    {
      "cell_type": "markdown",
      "metadata": {
        "id": "ktuZjb1i2-RZ"
      },
      "source": [
        "**Error:**\n",
        "\n",
        "Let us assign “S” to index 5 of “line” string\n",
        "```python\n",
        "line[5] = 'S'\n",
        "```\n",
        "The output is:<br>\n",
        "<b>TypeError: 'str' object does not support item assignment'</b>"
      ]
    },
    {
      "cell_type": "markdown",
      "metadata": {
        "id": "8tJnNz8u2-RZ"
      },
      "source": [
        "## 4.5 The \"%\" Modulus operator"
      ]
    },
    {
      "cell_type": "code",
      "execution_count": null,
      "metadata": {
        "id": "ANfpV49n2-Ra",
        "outputId": "1ec8a7d6-7f9e-4d1f-b6c2-9e4b1990ea5b"
      },
      "outputs": [
        {
          "name": "stdout",
          "output_type": "stream",
          "text": [
            "The title of this book is Python Programming. I love it.\n"
          ]
        }
      ],
      "source": [
        "\"\"\"\n",
        "It is used to search in the string for elements preceded by “%” and replaces them with the value or\n",
        "values contained in the list that follows it.\n",
        "The “%” symbol must be followed by a character that indicates the type of data we are entering in the string.\n",
        "For example, to print the contents of two strings, we use “%s” as follows\n",
        "\"\"\"\n",
        "title = \"Python Programming\"\n",
        "print(\"The title of this book is %s.\" %(title), \"I love it.\")"
      ]
    },
    {
      "cell_type": "code",
      "execution_count": null,
      "metadata": {
        "id": "-yPn0-Pj2-Ra",
        "outputId": "91ff114e-5c69-45b7-df98-b28d04ed6a7f"
      },
      "outputs": [
        {
          "name": "stdout",
          "output_type": "stream",
          "text": [
            "There are 50 copies of Python Programming left.\n",
            "Python Programming is priced at S$21.56.\n"
          ]
        }
      ],
      "source": [
        "\"\"\"\n",
        "Some common operators include:\n",
        "%d : for signed decimal integer\n",
        "%u : for unsigned decimal integer\n",
        "%c : for character\n",
        "%s : for string\n",
        "%f : for floating point real number\n",
        "%g : for the shorter of %f\n",
        "\"\"\"\n",
        "title = \"Python Programming\"\n",
        "print(\"There are %d copies of %s left.\" %(50, title))\n",
        "print(\"%s is priced at S$%g.\" %(title, 21.56))"
      ]
    },
    {
      "cell_type": "markdown",
      "metadata": {
        "id": "6-ZskFcJ2-Ra"
      },
      "source": [
        "## 4.6 The len() and id() function"
      ]
    },
    {
      "cell_type": "code",
      "execution_count": null,
      "metadata": {
        "id": "it4LPMnq2-Ra",
        "outputId": "26cb2d1f-0bda-47bc-c73a-a4acfe35aeec"
      },
      "outputs": [
        {
          "name": "stdout",
          "output_type": "stream",
          "text": [
            "18\n",
            "1654485159968\n"
          ]
        }
      ],
      "source": [
        "# The len() function produces the length of a string\n",
        "title = \"Python Programming\"\n",
        "print(len(title))\n",
        "\n",
        "# Every object has an id, use the id() function to verify the id of a string\n",
        "print(id(title))"
      ]
    },
    {
      "cell_type": "markdown",
      "metadata": {
        "id": "ft0iu9o12-Ra"
      },
      "source": [
        "## 4.7 The \"in\" operator"
      ]
    },
    {
      "cell_type": "code",
      "execution_count": null,
      "metadata": {
        "id": "5bVpMnFj2-Ra",
        "outputId": "efef5840-81c2-490e-a32b-ac6e6647123f"
      },
      "outputs": [
        {
          "name": "stdout",
          "output_type": "stream",
          "text": [
            "True\n",
            "False\n"
          ]
        }
      ],
      "source": [
        "# To verify the presence of a substring in a string, use the “in” operator\n",
        "line = \"This string has no blanks.\"\n",
        "print(\"blanks\" in line)\n",
        "print(\"empty\" in line)"
      ]
    },
    {
      "cell_type": "code",
      "execution_count": null,
      "metadata": {
        "id": "EfCprHwh2-Ra",
        "outputId": "e6bc6c10-be6a-4e6c-adda-d6f9499565c4"
      },
      "outputs": [
        {
          "name": "stdout",
          "output_type": "stream",
          "text": [
            "False\n",
            "True\n"
          ]
        }
      ],
      "source": [
        "# To check if a phrase is NOT present in a string, use the “not in” operator\n",
        "line = \"This string has no blanks.\"\n",
        "print(\"blanks\" not in line)\n",
        "print(\"empty\" not in line)"
      ]
    },
    {
      "cell_type": "markdown",
      "metadata": {
        "id": "WH3E3onV2-Ra"
      },
      "source": [
        "## 4.8 String concatenation"
      ]
    },
    {
      "cell_type": "code",
      "execution_count": null,
      "metadata": {
        "id": "fJvFc2uB2-Rb",
        "outputId": "68764249-b1db-4129-c6a9-f7d020160342"
      },
      "outputs": [
        {
          "name": "stdout",
          "output_type": "stream",
          "text": [
            "Python Programming by Dr Danny Poo\n"
          ]
        }
      ],
      "source": [
        "# Strings can be combined using the concatenation operator “+”\n",
        "title = \"Python Programming\"\n",
        "author = \"Dr Danny Poo\"\n",
        "print(title + \" by \" + author)"
      ]
    },
    {
      "cell_type": "code",
      "execution_count": null,
      "metadata": {
        "id": "XJ31CtxR2-Rb",
        "outputId": "e81c5cd6-7243-43df-bb9f-72e32478f5af"
      },
      "outputs": [
        {
          "name": "stdout",
          "output_type": "stream",
          "text": [
            "Python ProgrammingPython Programming\n"
          ]
        }
      ],
      "source": [
        "# To repeat strings, use “*” operator\n",
        "print(title * 2)"
      ]
    },
    {
      "cell_type": "code",
      "execution_count": null,
      "metadata": {
        "id": "YtKhJ81F2-Rb",
        "outputId": "a9c56683-c2f2-49bb-eb05-ffc5e5891006"
      },
      "outputs": [
        {
          "name": "stdout",
          "output_type": "stream",
          "text": [
            "five plus three = eight\n"
          ]
        }
      ],
      "source": [
        "# Strings can be combined with strings\n",
        "sentence = \"five plus three = \" + \"eight\"\n",
        "print(sentence)"
      ]
    },
    {
      "cell_type": "markdown",
      "metadata": {
        "id": "P4rbAHi42-Rb"
      },
      "source": [
        "**Error:**\n",
        "\n",
        "But, strings cannot be combined with numbers\n",
        "```python\n",
        "sentence = \"five plus three = \" + 8\n",
        "```\n",
        "The output is:<br>\n",
        "<b>TypeError: can only concatenate str (not \"int\") to str</b>"
      ]
    },
    {
      "cell_type": "markdown",
      "metadata": {
        "id": "5kAqxiVY2-Rb"
      },
      "source": [
        "## 4.9 The format() method"
      ]
    },
    {
      "cell_type": "code",
      "execution_count": null,
      "metadata": {
        "id": "SVckTu_C2-Rb",
        "outputId": "a7a73ad2-ac9b-4e0a-8b28-28678c6c419d"
      },
      "outputs": [
        {
          "name": "stdout",
          "output_type": "stream",
          "text": [
            "five plus three = 8\n"
          ]
        }
      ],
      "source": [
        "# To combine strings and numbers, use the format() method\n",
        "# which takes the passed arguments, formats them, and places them in the string where the placeholders “{}” are\n",
        "result = 8\n",
        "sentence = \"five plus three = {}\"\n",
        "print(sentence.format(result))"
      ]
    },
    {
      "cell_type": "code",
      "execution_count": null,
      "metadata": {
        "id": "2M_aVvxd2-Rb",
        "outputId": "41c1a875-abc9-48ad-bd58-15c8d604a39a"
      },
      "outputs": [
        {
          "name": "stdout",
          "output_type": "stream",
          "text": [
            "Number of pineapples = 5. Cost of each pineapple is $2.5. Total is $12.5.\n"
          ]
        }
      ],
      "source": [
        "# The format() method takes unlimited number of arguments, the latter are placed into the respective placeholders\n",
        "number = 5\n",
        "cost = 2.50\n",
        "total = number * cost\n",
        "purchase = \"Number of pineapples = {}. Cost of each pineapple is ${}. Total is ${}.\"\n",
        "print(purchase.format(number, cost, total))"
      ]
    },
    {
      "cell_type": "code",
      "execution_count": null,
      "metadata": {
        "id": "8hr51efb2-Rb",
        "outputId": "2c6778b3-c8d9-456d-e37e-befcaebfa354"
      },
      "outputs": [
        {
          "name": "stdout",
          "output_type": "stream",
          "text": [
            "Number of pineapples = 5. Cost of each pineapple is $2.5. Total is $12.5.\n"
          ]
        }
      ],
      "source": [
        "# Index numbers such as {0} can be used in the format() method to ensure the arguments are placed in the correct placeholders\n",
        "number = 5\n",
        "cost = 2.50\n",
        "total = number * cost\n",
        "purchase = \"Number of pineapples = {1}. Cost of each pineapple is ${0}. Total is ${2}.\"\n",
        "print(purchase.format(cost, number, total))"
      ]
    },
    {
      "cell_type": "markdown",
      "metadata": {
        "id": "MtysC80E2-Rc"
      },
      "source": [
        "## 4.10 Some useful built-in methods"
      ]
    },
    {
      "cell_type": "markdown",
      "metadata": {
        "id": "ox-P4qAV2-Rc"
      },
      "source": [
        "### format()"
      ]
    },
    {
      "cell_type": "code",
      "execution_count": null,
      "metadata": {
        "id": "cyaytR2t2-Rc",
        "outputId": "b08fc250-ffe8-4d9b-beaf-5fa1bbd043ec"
      },
      "outputs": [
        {
          "name": "stdout",
          "output_type": "stream",
          "text": [
            "Sale! $33.50 only!\n"
          ]
        }
      ],
      "source": [
        "# Formats specified values in a string\n",
        "text = \"Sale! ${price:.2f} only!\"\n",
        "print(text.format(price=33.50))"
      ]
    },
    {
      "cell_type": "markdown",
      "metadata": {
        "id": "6Xv0XGj_2-Rc"
      },
      "source": [
        "### isdigit()"
      ]
    },
    {
      "cell_type": "code",
      "execution_count": null,
      "metadata": {
        "id": "jqP2fov02-Rc",
        "outputId": "a214a33f-8db6-44c2-910a-5fb3a3cad667"
      },
      "outputs": [
        {
          "name": "stdout",
          "output_type": "stream",
          "text": [
            "10203 True\n"
          ]
        }
      ],
      "source": [
        "# Returns True if all characters in the string are digits\n",
        "text = \"10203\" # text is a string not an integer\n",
        "print(text, text.isdigit())"
      ]
    },
    {
      "cell_type": "markdown",
      "metadata": {
        "id": "exf0agts2-Rc"
      },
      "source": [
        "### isnumeric()"
      ]
    },
    {
      "cell_type": "code",
      "execution_count": null,
      "metadata": {
        "id": "CwIqsDf62-Rc",
        "outputId": "f83dbaad-7fd0-40b3-d6a2-6726baa40655"
      },
      "outputs": [
        {
          "name": "stdout",
          "output_type": "stream",
          "text": [
            "10203 True\n",
            "10203-A False\n"
          ]
        }
      ],
      "source": [
        "# Returns True if all characters in the string are numeric\n",
        "text = \"10203\"\n",
        "print(text, text.isnumeric())\n",
        "text = \"10203-A\"\n",
        "print(text, text.isnumeric())"
      ]
    },
    {
      "cell_type": "markdown",
      "metadata": {
        "id": "X4MLcUDs2-Rc"
      },
      "source": [
        "### lower()"
      ]
    },
    {
      "cell_type": "code",
      "execution_count": null,
      "metadata": {
        "id": "j_yNlNrW2-Rd",
        "outputId": "d805ab99-c3dc-4a18-83c4-da7b1cb40da6"
      },
      "outputs": [
        {
          "name": "stdout",
          "output_type": "stream",
          "text": [
            "i love python\n"
          ]
        }
      ],
      "source": [
        "# Converts a string into lower case\n",
        "lower = \"I LOVE PYTHON\".lower()\n",
        "print(lower)"
      ]
    },
    {
      "cell_type": "markdown",
      "metadata": {
        "id": "X3wMcQBL2-Rd"
      },
      "source": [
        "### upper()"
      ]
    },
    {
      "cell_type": "code",
      "execution_count": null,
      "metadata": {
        "id": "c1oo9M6g2-Rd",
        "outputId": "3d7634b3-8298-4ab4-acd3-a1c61ba6584e"
      },
      "outputs": [
        {
          "name": "stdout",
          "output_type": "stream",
          "text": [
            "GOOD DAY! CHAR\n"
          ]
        }
      ],
      "source": [
        "# Converts a string into upper case\n",
        "text = \"Good day! Char\"\n",
        "upper = text.upper()\n",
        "print(upper)"
      ]
    },
    {
      "cell_type": "markdown",
      "metadata": {
        "id": "aMyAAx2R2-Rd"
      },
      "source": [
        "### replace()"
      ]
    },
    {
      "cell_type": "code",
      "execution_count": null,
      "metadata": {
        "id": "RuZYL6eU2-Rd",
        "outputId": "35737467-680f-40e1-9b99-29607e9f61ce"
      },
      "outputs": [
        {
          "name": "stdout",
          "output_type": "stream",
          "text": [
            "This string has no empty spaces.\n"
          ]
        }
      ],
      "source": [
        "# Returns a string where a specified value is replaced with a specified value\n",
        "line = \"This string has no blanks.\"\n",
        "print(line.replace(\"blanks\", \"empty spaces\"))"
      ]
    },
    {
      "cell_type": "markdown",
      "metadata": {
        "id": "hm-bS97E2-Rd"
      },
      "source": [
        "### strip()"
      ]
    },
    {
      "cell_type": "code",
      "execution_count": null,
      "metadata": {
        "id": "FxthZpTN2-Rd",
        "outputId": "ce229796-abc1-4709-efca-cd1e9557684f"
      },
      "outputs": [
        {
          "name": "stdout",
          "output_type": "stream",
          "text": [
            "This string has blank at start and end\n"
          ]
        }
      ],
      "source": [
        "# Returns a trimmed version of the string\n",
        "stripString = \" This string has blank at start and end   \"\n",
        "print(stripString.strip())"
      ]
    },
    {
      "cell_type": "markdown",
      "metadata": {
        "id": "DZxoa-nO2-Rd"
      },
      "source": [
        "### split()"
      ]
    },
    {
      "cell_type": "code",
      "execution_count": null,
      "metadata": {
        "id": "4m6JrBaD2-Rd",
        "outputId": "f71e4e69-f39f-43d7-c075-07375ddb0b1d"
      },
      "outputs": [
        {
          "name": "stdout",
          "output_type": "stream",
          "text": [
            "['This', 'string', 'has', 'no', 'blanks.']\n",
            "['Singapore:20', ' Thailand:30', ' Vietnam:10']\n",
            "['Thailand', '30']\n"
          ]
        }
      ],
      "source": [
        "# Splits the string at the specified separator, and returns a list\n",
        "line_1 = \"This string has no blanks.\"\n",
        "print(line_1.split())\n",
        "line_2 = \"Singapore:20, Thailand:30, Vietnam:10\"\n",
        "print(line_2.split(\",\"))\n",
        "print(line_2.split(\",\")[1].strip().split(\":\")) # index 1 refers to second item"
      ]
    },
    {
      "cell_type": "markdown",
      "metadata": {
        "id": "TW-0eknC2-Rd"
      },
      "source": [
        "# 5. Comments\n",
        "Comments are necessary in a program.\n",
        "They serve as a reminder of the thought process that went into creating the programs earlier on. <BR>\n",
        "They also help other fellow developers to understand the decisions made when the program was written."
      ]
    },
    {
      "cell_type": "code",
      "execution_count": null,
      "metadata": {
        "id": "5Wi6HULG2-Re",
        "outputId": "1da9424d-b6bb-4e9b-a1cc-0e40ecfa4aa9"
      },
      "outputs": [
        {
          "name": "stdout",
          "output_type": "stream",
          "text": [
            "Python Programming\n"
          ]
        }
      ],
      "source": [
        "# A comment starts with a “#”. Python ignores all comments. For example,\n",
        "\n",
        "# This is a comment which is ignored by Python\n",
        "print(\"Python Programming\")"
      ]
    },
    {
      "cell_type": "code",
      "execution_count": null,
      "metadata": {
        "id": "4WOyWdMB2-Re",
        "outputId": "3ddc7a8e-cc92-47da-f355-479165d112d5"
      },
      "outputs": [
        {
          "name": "stdout",
          "output_type": "stream",
          "text": [
            "Python Programming\n"
          ]
        }
      ],
      "source": [
        "# Comments can be placed at the end of a line, and Python will ignore the rest of the line\n",
        "print(\"Python Programming\") # This is a comment, Python will ignore"
      ]
    },
    {
      "cell_type": "code",
      "execution_count": null,
      "metadata": {
        "id": "EkKB1rI22-Re",
        "outputId": "e3790e31-904e-4f38-d51d-701700a6c686"
      },
      "outputs": [
        {
          "name": "stdout",
          "output_type": "stream",
          "text": [
            "Hello World!\n"
          ]
        }
      ],
      "source": [
        "# Comments do not have to be text to explain the code, it can be used to prevent Python from executing the code\n",
        "\n",
        "# print(\"Python Programming\")\n",
        "print(\"Hello World!\")"
      ]
    },
    {
      "cell_type": "markdown",
      "metadata": {
        "id": "gsnmFsx_2-Re"
      },
      "source": [
        "## 5.1 Multi-line comments"
      ]
    },
    {
      "cell_type": "code",
      "execution_count": null,
      "metadata": {
        "id": "_1h1jhFl2-Re",
        "outputId": "4e33e7fe-afe4-4fe7-8922-06c4bb326707"
      },
      "outputs": [
        {
          "name": "stdout",
          "output_type": "stream",
          "text": [
            "Hello World!\n"
          ]
        }
      ],
      "source": [
        "# Can add multi-line comments by preceding the lines with “#”\n",
        "\n",
        "# This is a multi-line comment\n",
        "# created using “#”.\n",
        "# All these lines will be\n",
        "# ignored by Python.\n",
        "print(\"Hello World!\")"
      ]
    },
    {
      "cell_type": "code",
      "execution_count": null,
      "metadata": {
        "id": "joye20IH2-Re",
        "outputId": "fa9986d6-73fc-4f2f-9f03-49cea9ba41d1"
      },
      "outputs": [
        {
          "name": "stdout",
          "output_type": "stream",
          "text": [
            "Hello World!\n"
          ]
        }
      ],
      "source": [
        "# Alternatively, use a multi-line string since Python ignores all string literals that are not assigned to a variable.\n",
        "# A multi-line string is enclosed within three double quotes (\"\"\")\n",
        "\n",
        "\"\"\"\n",
        "This is a multi-line comment\n",
        "created using multi-line string.\n",
        "All these lines will be\n",
        "ignored by Python.\n",
        "\"\"\"\n",
        "print(\"Hello World!\")"
      ]
    },
    {
      "cell_type": "markdown",
      "metadata": {
        "id": "yUyySKOx2-Re"
      },
      "source": [
        "<center>\n",
        "  <a href=\"PP-01-GettingStarted.ipynb\" target=\"_self\">Getting Started</a> | <a href=\"./\">Content Page</a> | <a href=\"PP-03-WritingPrograms.ipynb\">Writing Programs</a>\n",
        "</center>"
      ]
    }
  ],
  "metadata": {
    "anaconda-cloud": {},
    "kernelspec": {
      "display_name": "Python 3 (ipykernel)",
      "language": "python",
      "name": "python3"
    },
    "language_info": {
      "codemirror_mode": {
        "name": "ipython",
        "version": 3
      },
      "file_extension": ".py",
      "mimetype": "text/x-python",
      "name": "python",
      "nbconvert_exporter": "python",
      "pygments_lexer": "ipython3",
      "version": "3.11.5"
    },
    "colab": {
      "provenance": [],
      "include_colab_link": true
    }
  },
  "nbformat": 4,
  "nbformat_minor": 0
}