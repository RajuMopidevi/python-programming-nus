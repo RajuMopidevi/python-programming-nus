{
 "cells": [
  {
   "cell_type": "markdown",
   "metadata": {},
   "source": [
    "<center>\n",
    "  <a href=\"PP-01-GettingStarted.ipynb\" target=\"_self\">Getting Started</a> | <a href=\"./\">Content Page</a> | <a href=\"PP-03-WritingPrograms.ipynb\">Writing Programs</a>\n",
    "</center>"
   ]
  },
  {
   "cell_type": "markdown",
   "metadata": {},
   "source": [
    "# <center>VARIABLES, TYPES, COLLECTIONS<br>STRINGS AND COMMENTS</center>\n",
    "<center><b>Copyright &copy 2023 by DR DANNY POO</b><br> e:dannypoo@nus.edu.sg<br> w:drdannypoo.com</center><br>"
   ]
  },
  {
   "cell_type": "markdown",
   "metadata": {
    "collapsed": true
   },
   "source": [
    "A data or variable is a container for storing data value. Every variable in Python is also known as an object and it has the following four properties:\n",
    "* Name (or identifier) – defines the variable\n",
    "* Type – describes the form the variable takes\n",
    "* Value – the value that is stored in the variable\n",
    "* ID – a number that uniquely identifies the variable\n",
    "\n",
    "\n",
    "We discuss:\n",
    "* Variables\n",
    "* Types\n",
    "* Collections"
   ]
  },
  {
   "cell_type": "markdown",
   "metadata": {},
   "source": [
    "# 1. Variables\n",
    "Python does not require variables to be declared before they can be used. A variable (or data) is defined once a value is assigned to it. "
   ]
  },
  {
   "cell_type": "code",
   "execution_count": 1,
   "metadata": {},
   "outputs": [
    {
     "name": "stdout",
     "output_type": "stream",
     "text": [
      "1 20.5 Tom\n"
     ]
    }
   ],
   "source": [
    "# 3 variables: a, b, c\n",
    "a = 1\n",
    "b = 20.5\n",
    "c = \"Tom\"\n",
    "print(a, b, c)"
   ]
  },
  {
   "cell_type": "markdown",
   "metadata": {},
   "source": [
    "## 1.1 Characteristics of Variables\n",
    "\n",
    "A variable can have a short name (such as a, b, c) or a descriptive name (such as numberOfBalls, car, sheep, train, is_Found, total_cost). \n",
    "\n",
    "The naming of variables in Python are governed by the following rules:\n",
    "* A variable name must start with a letter or the underscore character.\n",
    "* A variable name cannot start with a number.\n",
    "* A variable name can only contain alpha-numeric characters and underscores (such as A-z, 0-9, and _).\n",
    "* Variable names are case-sensitive (e.g. sheep, Sheep, ShEEp, SHEEP are different variables).\n",
    "\n",
    "Besides, a variable name cannot take on any of the 35 reserved words in the Python language. These words include:\n",
    "\n",
    "<b> and, as, assert, break, class, continue, def, del, elif, else, except, exec, False, finally, for, from, global, if, import, in, is, lambda, nonlocal, None, not, or, pass, print, raise, return, True, try, while, with, yield</b> <br>\n"
   ]
  },
  {
   "cell_type": "markdown",
   "metadata": {},
   "source": [
    "**Error:** <br>\n",
    "\"class\" variable will cause a syntax error<br>\n",
    "```python\n",
    "numberOfStudents = 8\n",
    "class = numberOfStudents\n",
    "```\n",
    "The output is:<br>\n",
    "<b>SyntaxError: invalid syntax</b>"
   ]
  },
  {
   "cell_type": "code",
   "execution_count": 2,
   "metadata": {},
   "outputs": [
    {
     "name": "stdout",
     "output_type": "stream",
     "text": [
      "Class size =  8\n"
     ]
    }
   ],
   "source": [
    "# The following is fine\n",
    "numberOfStudents = 8\n",
    "Class = numberOfStudents\n",
    "print(\"Class size = \", Class)"
   ]
  },
  {
   "cell_type": "markdown",
   "metadata": {},
   "source": [
    "# 2. Types\n",
    "Variables store values and the values can be of different types that can do different things. \n",
    "Python has built-in default data types as summarized in the following table:\n",
    "\n",
    "| Type Category  | Built-in Default Type        |\n",
    "|----------------|------------------------------|\n",
    "| ``Text``       | str                          | \n",
    "| ``Numeric``    | int, float, complex          | \n",
    "| ``Sequence``   | list, tuple, range           | \n",
    "| ``Mapping``    | dict                         | \n",
    "| ``Set``        | set, frozenset               | \n",
    "| ``Boolean``    | bool                         | \n",
    "| ``Binary``     | bytes, bytearray, memoryview | \n"
   ]
  },
  {
   "cell_type": "code",
   "execution_count": 3,
   "metadata": {},
   "outputs": [
    {
     "name": "stdout",
     "output_type": "stream",
     "text": [
      "Python Programming <class 'str'>\n",
      "8 <class 'int'>\n"
     ]
    }
   ],
   "source": [
    "# type(x) function shows the data type of \"x\" variable\n",
    "x = \"Python Programming\"\n",
    "print(x, type(x))\n",
    "x = 8\n",
    "print(x, type(x))"
   ]
  },
  {
   "cell_type": "code",
   "execution_count": 4,
   "metadata": {},
   "outputs": [
    {
     "name": "stdout",
     "output_type": "stream",
     "text": [
      "5.0 <class 'float'>\n",
      "5 <class 'int'>\n",
      "(5+0j) <class 'complex'>\n"
     ]
    }
   ],
   "source": [
    "# Data of one type can be converted to another with the int(), float(), and complex() methods\n",
    "a = 5              # int\n",
    "b = 5.5            # float\n",
    "c = 5j             # complex\n",
    "i = float(a)       # convert from int to float\n",
    "j = int(b)         # convert from float to int\n",
    "k = complex(a)     # convert from int to complex\n",
    "print(i, type(i))\n",
    "print(j, type(j))\n",
    "print(k, type(k))"
   ]
  },
  {
   "attachments": {
    "image.png": {
     "image/png": "[encoded data removed]"
    }
   },
   "cell_type": "markdown",
   "metadata": {},
   "source": [
    "# 3. Collections\n",
    "Collections are containers for storing collections of data. There are four data collection types:\n",
    "<br>1.\tList – A collection that is ordered and mutable (or changeable). Duplicate members are allowed in the collection.\n",
    "<br>2.\tTuple – A collection that is ordered and immutable (or non-changeable). Duplicate members are allowed in the collection.\n",
    "<br>3.\tSet – A collection that is unordered and unindexed. No duplicate members are allowed in the collection.\n",
    "<br>4.\tDictionary – A collection that is unordered, mutable and indexed. No duplicate members are allowed in the collection.\n",
    " \n",
    " ![image.png](attachment:image.png)"
   ]
  },
  {
   "cell_type": "markdown",
   "metadata": {},
   "source": [
    "## 3.1 List\n",
    "Lists and tuples are of the sequence category of data types. \n",
    "Sequences are iterative objects in arbitrary length containers. \n",
    "Lists contain heterogeneous and mutable objects, and are defined with square brackets. \n",
    "Objects can therefore be added or deleted from a list."
   ]
  },
  {
   "cell_type": "code",
   "execution_count": 5,
   "metadata": {},
   "outputs": [],
   "source": [
    "# To create list, include objects within square brackets, separated by commas\n",
    "x = [\"Ford\", \"Honda\", \"BMW\"]"
   ]
  },
  {
   "cell_type": "code",
   "execution_count": 6,
   "metadata": {},
   "outputs": [],
   "source": [
    "# Lists can contain a mix of multiple data types \n",
    "x = [\"Ford\", 50000, True]"
   ]
  },
  {
   "cell_type": "code",
   "execution_count": 7,
   "metadata": {},
   "outputs": [
    {
     "name": "stdout",
     "output_type": "stream",
     "text": [
      "3\n"
     ]
    }
   ],
   "source": [
    "# The len() function produces the length of a list\n",
    "x = [\"Ford\", 50000, True]\n",
    "print(len(x))"
   ]
  },
  {
   "cell_type": "code",
   "execution_count": 8,
   "metadata": {},
   "outputs": [
    {
     "name": "stdout",
     "output_type": "stream",
     "text": [
      "Ford\n",
      "True\n"
     ]
    }
   ],
   "source": [
    "# Python does not have built-in support for Arrays, but Lists can be used instead to behave like arrays.\n",
    "x = [\"Ford\", 50000, True]\n",
    "print(x[0])    # from the start of list\n",
    "print(x[-1])   # from the end of list"
   ]
  },
  {
   "cell_type": "code",
   "execution_count": 9,
   "metadata": {},
   "outputs": [
    {
     "name": "stdout",
     "output_type": "stream",
     "text": [
      "Albert\n",
      "George\n",
      "['Charlie', 'Derek', 'Elvis', 'Fanny', 'George']\n",
      "['Albert', 'Bob']\n",
      "['Derek', 'Elvis']\n",
      "['Charlie', 'Derek']\n"
     ]
    }
   ],
   "source": [
    "# We can select items from this list (Note that a list starts from index 0)\n",
    "nameList = [\"Albert\", \"Bob\", \"Charlie\", \"Derek\", \"Elvis\", \"Fanny\", \"George\"]\n",
    "\n",
    "print(nameList[0])     # first item of the list\n",
    "print(nameList[-1])    # last item of the list\n",
    "print(nameList[2:])    # items from index 2 to end of list\n",
    "print(nameList[:2])    # items from index 0 (included) to index 2 (excluded) \n",
    "print(nameList[3:5])   # items from index 3 (included) to index 5 (excluded)\n",
    "print(nameList[-5:-3]) # items from index -5 (included) to index -3 (excluded)"
   ]
  },
  {
   "cell_type": "code",
   "execution_count": 10,
   "metadata": {},
   "outputs": [
    {
     "name": "stdout",
     "output_type": "stream",
     "text": [
      "['Albert', 'Bob', 'Charlie', 'Derek', 'Edmond', 'Fanny', 'George']\n"
     ]
    }
   ],
   "source": [
    "# To change the value of a specific item, refer to the index number:\n",
    "nameList    = [\"Albert\", \"Bob\", \"Charlie\", \"Derek\", \"Elvis\", \"Fanny\", \"George\"]\n",
    "nameList[4] = \"Edmond\"\n",
    "print(nameList)"
   ]
  },
  {
   "cell_type": "markdown",
   "metadata": {},
   "source": [
    "### Concatenating lists"
   ]
  },
  {
   "cell_type": "code",
   "execution_count": 11,
   "metadata": {},
   "outputs": [
    {
     "name": "stdout",
     "output_type": "stream",
     "text": [
      "['Albert', 'Bob', 'Charlie', 'Derek', 'Elvis', 'Fanny', 'George', 30, 20, 45, 12, 56, 29]\n"
     ]
    }
   ],
   "source": [
    "# To concatenate two lists\n",
    "nameList = [\"Albert\", \"Bob\", \"Charlie\", \"Derek\", \"Elvis\", \"Fanny\", \"George\"]\n",
    "age = [30, 20, 45, 12, 56, 29]\n",
    "newList = nameList + age\n",
    "print(newList)"
   ]
  },
  {
   "cell_type": "code",
   "execution_count": 12,
   "metadata": {},
   "outputs": [
    {
     "name": "stdout",
     "output_type": "stream",
     "text": [
      "['Albert', 'Bob', 'Charlie', 'Derek', 'Elvis', 'Fanny', 'George', 'Albert', 'Bob', 'Charlie', 'Derek', 'Elvis', 'Fanny', 'George']\n"
     ]
    }
   ],
   "source": [
    "# To multiply a list\n",
    "print(nameList * 2)"
   ]
  },
  {
   "cell_type": "code",
   "execution_count": 13,
   "metadata": {},
   "outputs": [
    {
     "name": "stdout",
     "output_type": "stream",
     "text": [
      "['Elvis', 'Fanny', 'George', 30]\n"
     ]
    }
   ],
   "source": [
    "# To slice a list by extracting some items from a list to another list\n",
    "slice = newList[4:8] # extract from index 4 for 4 items\n",
    "print(slice)"
   ]
  },
  {
   "cell_type": "markdown",
   "metadata": {},
   "source": [
    "### Deleting items from lists"
   ]
  },
  {
   "cell_type": "code",
   "execution_count": 14,
   "metadata": {},
   "outputs": [
    {
     "name": "stdout",
     "output_type": "stream",
     "text": [
      "['Albert', 'Bob', 'Charlie', 'Derek', 'Elvis', 30, 20, 45, 12, 56, 29]\n"
     ]
    }
   ],
   "source": [
    "# Delete items from a list\n",
    "del newList[5:7]   # delete 2 items\n",
    "print(newList)"
   ]
  },
  {
   "cell_type": "markdown",
   "metadata": {},
   "source": [
    "### Creating range of numbers in lists"
   ]
  },
  {
   "cell_type": "code",
   "execution_count": 15,
   "metadata": {},
   "outputs": [
    {
     "name": "stdout",
     "output_type": "stream",
     "text": [
      "[1, 2, 3, 4, 5, 6, 7, 8, 9]\n",
      "[0, 1, 2, 3, 4, 5, 6, 7, 8, 9]\n"
     ]
    }
   ],
   "source": [
    "# Use the range() function to create a list of numbers\n",
    "listOfNumbers = list(range(1, 10)) # range of numbers from 1 to 9\n",
    "print(listOfNumbers)\n",
    "listOfNumbers = list(range(10))    # range of numbers from 0 to 9\n",
    "print(listOfNumbers)"
   ]
  },
  {
   "cell_type": "code",
   "execution_count": 16,
   "metadata": {},
   "outputs": [
    {
     "name": "stdout",
     "output_type": "stream",
     "text": [
      "[1, 3, 5, 7, 9]\n"
     ]
    }
   ],
   "source": [
    "# Create a range of numbers with a step value\n",
    "listOfNumbers = list(range(1, 10, 2)) # range of numbers from 1 to 9 with step 2\n",
    "print(listOfNumbers)"
   ]
  },
  {
   "cell_type": "markdown",
   "metadata": {},
   "source": [
    "### Sublists in lists"
   ]
  },
  {
   "cell_type": "code",
   "execution_count": 17,
   "metadata": {},
   "outputs": [
    {
     "name": "stdout",
     "output_type": "stream",
     "text": [
      "[('Alice', 80), ('Betty', 50), ('Cathy', 76), ('Debbie', 92)]\n",
      "('Debbie', 92)\n",
      "Cathy\n"
     ]
    }
   ],
   "source": [
    "# A list can contain sublists\n",
    "studentsGrades = [(\"Alice\", 80), (\"Betty\", 50), (\"Cathy\", 76), (\"Debbie\", 92)]\n",
    "print(studentsGrades)\n",
    "\n",
    "# Select the fourth element in the studentsGrades list\n",
    "print(studentsGrades[3])\n",
    "\n",
    "# Print the first element of the third element of the studentsGrades list\n",
    "print(studentsGrades[2][0])"
   ]
  },
  {
   "cell_type": "markdown",
   "metadata": {},
   "source": [
    "### Appending string to list"
   ]
  },
  {
   "cell_type": "code",
   "execution_count": 18,
   "metadata": {},
   "outputs": [
    {
     "name": "stdout",
     "output_type": "stream",
     "text": [
      "['String 1', 'String 2']\n"
     ]
    }
   ],
   "source": [
    "# Append a string to the end of a list\n",
    "aList = []\n",
    "aList.append('String 1')\n",
    "aList.append('String 2')\n",
    "print(aList)"
   ]
  },
  {
   "cell_type": "markdown",
   "metadata": {},
   "source": [
    "## 3.2 Tuple\n",
    "Tuples contain sequences of heterogeneous and immutable objects, and are identified by parenthesis. \n",
    "By “immutable”, it means once a tuple is created, it cannot be altered i.e. an element cannot replace another element in the tuple."
   ]
  },
  {
   "cell_type": "code",
   "execution_count": 19,
   "metadata": {},
   "outputs": [
    {
     "name": "stdout",
     "output_type": "stream",
     "text": [
      "('Alice', 'Betty', 'Cathy', 'Debbie')\n"
     ]
    }
   ],
   "source": [
    "# To create a tuple\n",
    "students = (\"Alice\", \"Betty\", \"Cathy\", \"Debbie\")\n",
    "\n",
    "# Can also create a tuple using the tuple() method\n",
    "students = tuple((\"Alice\", \"Betty\", \"Cathy\", \"Debbie\"))\n",
    "print(students)"
   ]
  },
  {
   "cell_type": "code",
   "execution_count": 20,
   "metadata": {},
   "outputs": [
    {
     "name": "stdout",
     "output_type": "stream",
     "text": [
      "('Mazda',) <class 'tuple'> Mazda <class 'str'>\n"
     ]
    }
   ],
   "source": [
    "# To create a tuple with only one item, it is necessary to add a comma after the item\n",
    "carTuple = (\"Mazda\",)\n",
    "carString = (\"Mazda\")\n",
    "print(carTuple, type(carTuple), carString, type(carString))"
   ]
  },
  {
   "cell_type": "code",
   "execution_count": 21,
   "metadata": {},
   "outputs": [
    {
     "name": "stdout",
     "output_type": "stream",
     "text": [
      "4\n"
     ]
    }
   ],
   "source": [
    "# The len() function\n",
    "students = (\"Alice\", \"Betty\", \"Cathy\", \"Debbie\")\n",
    "print(len(students))"
   ]
  },
  {
   "cell_type": "markdown",
   "metadata": {},
   "source": [
    "### Extracting elements from tuples"
   ]
  },
  {
   "cell_type": "code",
   "execution_count": 22,
   "metadata": {},
   "outputs": [
    {
     "name": "stdout",
     "output_type": "stream",
     "text": [
      "Betty\n",
      "Debbie\n",
      "('Betty', 'Cathy', 'Debbie')\n",
      "('Alice', 'Betty', 'Cathy')\n"
     ]
    }
   ],
   "source": [
    "# To extract the second element of students tuple\n",
    "print(students[1])\n",
    "\n",
    "# To extract the last element of students tuple\n",
    "print(students[-1])\n",
    "\n",
    "# To extract more than one element of students tuple\n",
    "print(students[1:4])\n",
    "\n",
    "# To extract elements from the end of the tuple\n",
    "students = (\"Alice\", \"Betty\", \"Cathy\", \"Debbie\")\n",
    "print(students[-4:-1]) # starting from end of tuple, returns items from index -4 (included)\n",
    "                       # to index -1 (excluded). Last item has index -1."
   ]
  },
  {
   "cell_type": "markdown",
   "metadata": {},
   "source": [
    "### The \"in\" operator"
   ]
  },
  {
   "cell_type": "code",
   "execution_count": 23,
   "metadata": {},
   "outputs": [
    {
     "name": "stdout",
     "output_type": "stream",
     "text": [
      "True\n",
      "False\n",
      "False\n"
     ]
    }
   ],
   "source": [
    "# To determine if an item is present in a tuple, use the “in” operator\n",
    "print('Betty' in students)\n",
    "print('betty' in students)   # case sensitive\n",
    "print('Eva' in students)"
   ]
  },
  {
   "cell_type": "markdown",
   "metadata": {},
   "source": [
    "### Immutability in tuple"
   ]
  },
  {
   "cell_type": "markdown",
   "metadata": {},
   "source": [
    "**Error:** <br>\n",
    "```python\n",
    "students = (\"Alice\", \"Betty\", \"Cathy\", \"Debbie\")<br>\n",
    "```\n",
    "Attempt to replace an element in a tuple with another element will generate an error\n",
    "```python\n",
    "students[1] = \"Eva\"\n",
    "```\n",
    "The output is:<br>\n",
    "<b>TypeError: 'tuple' object does not support item assignment</b>"
   ]
  },
  {
   "cell_type": "code",
   "execution_count": 24,
   "metadata": {},
   "outputs": [
    {
     "name": "stdout",
     "output_type": "stream",
     "text": [
      "('Alice', 'Eva', 'Cathy', 'Debbie')\n"
     ]
    }
   ],
   "source": [
    "# To workaround this restriction, convert the tuple into a list, change the list, and convert the list back into a tuple\n",
    "students = (\"Alice\", \"Betty\", \"Cathy\", \"Debbie\")\n",
    "studentList = list(students)\n",
    "studentList[1] = \"Eva\"\n",
    "students = tuple(studentList)\n",
    "print(students)"
   ]
  },
  {
   "cell_type": "markdown",
   "metadata": {},
   "source": [
    "### Deleting tuples"
   ]
  },
  {
   "cell_type": "markdown",
   "metadata": {},
   "source": [
    "**Error:**\n",
    "\n",
    "To delete a tuple, use the “del” keyword\n",
    "```python\n",
    "del carTuple\n",
    "print(carTuple) # this will cause an error\n",
    "```\n",
    "The output is:<br>\n",
    "<b>NameError: name 'carTuple' is not defined</b>"
   ]
  },
  {
   "cell_type": "markdown",
   "metadata": {},
   "source": [
    "### Concatenating tuples"
   ]
  },
  {
   "cell_type": "code",
   "execution_count": 25,
   "metadata": {},
   "outputs": [
    {
     "name": "stdout",
     "output_type": "stream",
     "text": [
      "('Mazda', 'Honda', 'Man', 'Volvo')\n"
     ]
    }
   ],
   "source": [
    "# To join two tuples\n",
    "cars = (\"Mazda\", \"Honda\")\n",
    "buses = (\"Man\", \"Volvo\")\n",
    "automobile = cars + buses\n",
    "print(automobile)"
   ]
  },
  {
   "cell_type": "markdown",
   "metadata": {},
   "source": [
    "### Multi-type elements in tuples"
   ]
  },
  {
   "cell_type": "code",
   "execution_count": 26,
   "metadata": {},
   "outputs": [
    {
     "name": "stdout",
     "output_type": "stream",
     "text": [
      "('John', 39, 9237890, 23.3, 'Blacky')\n"
     ]
    }
   ],
   "source": [
    "# Tuples can contain more than one type of object\n",
    "customer = (\"John\", 39, 9237890, 23.3, \"Blacky\")\n",
    "print(customer)"
   ]
  },
  {
   "cell_type": "markdown",
   "metadata": {},
   "source": [
    "## 3.3 Set\n",
    "Sets are unordered and immutable object containers. They are unindexed and do not contain duplicate items They support typical set operations such as union, intersection and difference. Sets are written with braces."
   ]
  },
  {
   "cell_type": "code",
   "execution_count": 27,
   "metadata": {},
   "outputs": [
    {
     "name": "stdout",
     "output_type": "stream",
     "text": [
      "{'Debbie', 'Alice', 'Cathy', 'Betty'} <class 'set'>\n",
      "{'Alice', 'Betty'}\n"
     ]
    }
   ],
   "source": [
    "# To create a “students” set\n",
    "students = {\"Alice\", \"Betty\", \"Cathy\", \"Debbie\"}\n",
    "\n",
    "# Alternatively, use the set() method to create a set\n",
    "students = set({\"Alice\", \"Betty\", \"Cathy\", \"Debbie\"})\n",
    "print(students, type(students))\n",
    "\n",
    "# Can also create a set by first creating an empty set and then populating it one item at a time using the add() method\n",
    "students = set()\n",
    "students.add(\"Alice\")\n",
    "students.add(\"Betty\")\n",
    "print(students)"
   ]
  },
  {
   "cell_type": "code",
   "execution_count": 28,
   "metadata": {},
   "outputs": [
    {
     "name": "stdout",
     "output_type": "stream",
     "text": [
      "4\n"
     ]
    }
   ],
   "source": [
    "# The len() function produces the length of a set\n",
    "students = {\"Alice\", \"Betty\", \"Cathy\", \"Debbie\"}\n",
    "print(len(students))"
   ]
  },
  {
   "cell_type": "markdown",
   "metadata": {},
   "source": [
    "### Indexing elements in sets"
   ]
  },
  {
   "cell_type": "markdown",
   "metadata": {},
   "source": [
    "**Error:**\n",
    "\n",
    "Indexing is not supported in sets\n",
    "\n",
    "```python\n",
    "students[3] # this will raise an error\n",
    "```\n",
    "The output is:<br>\n",
    "<b>TypeError: 'set' object is not subscriptable</b>"
   ]
  },
  {
   "cell_type": "markdown",
   "metadata": {},
   "source": [
    "### The \"in\" operator"
   ]
  },
  {
   "cell_type": "code",
   "execution_count": 29,
   "metadata": {},
   "outputs": [
    {
     "name": "stdout",
     "output_type": "stream",
     "text": [
      "True\n",
      "False\n",
      "False\n"
     ]
    }
   ],
   "source": [
    "# To determine if an item is in a set\n",
    "print(\"Alice\" in students)\n",
    "print(\"Eva\" in students)\n",
    "print(2 in students)"
   ]
  },
  {
   "cell_type": "markdown",
   "metadata": {},
   "source": [
    "### Adding items into sets"
   ]
  },
  {
   "cell_type": "code",
   "execution_count": 30,
   "metadata": {},
   "outputs": [
    {
     "name": "stdout",
     "output_type": "stream",
     "text": [
      "{'Cathy', 'Betty', 'Debbie', 'Alice', 'Eva'}\n"
     ]
    }
   ],
   "source": [
    "# To add more than one item to a set, use the update() method\n",
    "students = {\"Alice\", \"Betty\"}\n",
    "students.update([\"Cathy\", \"Debbie\", \"Eva\"])\n",
    "print(students)"
   ]
  },
  {
   "cell_type": "markdown",
   "metadata": {},
   "source": [
    "### Removing items from sets"
   ]
  },
  {
   "cell_type": "code",
   "execution_count": 31,
   "metadata": {},
   "outputs": [
    {
     "name": "stdout",
     "output_type": "stream",
     "text": [
      "{'Alice', 'Cathy', 'Betty', 'Eva', 'Debbie'}\n",
      "{'Alice', 'Cathy', 'Betty', 'Debbie'}\n",
      "{'Cathy', 'Betty', 'Debbie'}\n"
     ]
    }
   ],
   "source": [
    "# To remove an item in a set, use the remove() or discard() method\n",
    "students = {\"Alice\", \"Betty\", \"Cathy\", \"Debbie\", \"Eva\"}\n",
    "print(students)\n",
    "\n",
    "# Remove “Eva” from set\n",
    "students.remove(\"Eva\")\n",
    "print(students)\n",
    "\n",
    "# Use discard() method to remove “Alice” from set\n",
    "students.discard(\"Alice\")\n",
    "print(students)"
   ]
  },
  {
   "cell_type": "markdown",
   "metadata": {},
   "source": [
    "**Error:**\n",
    "\n",
    "Use remove() method to remove “Alice” again from set\n",
    "```python\n",
    "students.remove(\"Alice\") # error because “Alice” does not exist anymore\n",
    "```\n",
    "The output is:<br>\n",
    "<b>KeyError: 'Alice'</b>"
   ]
  },
  {
   "cell_type": "code",
   "execution_count": 32,
   "metadata": {},
   "outputs": [
    {
     "name": "stdout",
     "output_type": "stream",
     "text": [
      "Cathy\n",
      "{'Betty', 'Debbie'}\n"
     ]
    }
   ],
   "source": [
    "# Use discard() method to remove “Alice” again from set\n",
    "students.discard(\"Alice\")   # does not raise an error even though “Alice” does not exist\n",
    "\n",
    "# Another method to remove an item is pop() method. \n",
    "# This method will remove the last item. \n",
    "# Since sets are unordered, you may not know what item gets removed with pop().\n",
    "print(students.pop())\n",
    "\n",
    "# Let us print “students”\n",
    "print(students)"
   ]
  },
  {
   "cell_type": "code",
   "execution_count": 33,
   "metadata": {},
   "outputs": [
    {
     "name": "stdout",
     "output_type": "stream",
     "text": [
      "set()\n"
     ]
    }
   ],
   "source": [
    "# To clear or empty a set, use the clear() method (Note that the set still exists, just that it is empty)\n",
    "cars = {\"Mazda\", \"Honda\", \"Toyota\"}\n",
    "cars.clear()\n",
    "print(cars)"
   ]
  },
  {
   "cell_type": "markdown",
   "metadata": {},
   "source": [
    "**Error:**\n",
    "\n",
    "To delete a set, use the “del” keyword\n",
    "```python\n",
    "cars = {\"Mazda\", \"Honda\", \"Toyota\"}\n",
    "del cars\n",
    "print(cars) # error because the set no longer exists\n",
    "```\n",
    "The output is:<br>\n",
    "<b>NameError: name 'cars' is not defined</b>"
   ]
  },
  {
   "cell_type": "markdown",
   "metadata": {},
   "source": [
    "### No duplicate members in sets"
   ]
  },
  {
   "cell_type": "code",
   "execution_count": 34,
   "metadata": {},
   "outputs": [
    {
     "name": "stdout",
     "output_type": "stream",
     "text": [
      "{33, 5, 40, 10, 78, 55, 23, 90}\n"
     ]
    }
   ],
   "source": [
    "# One property of set is that no duplicate members exists in a set\n",
    "numbers = {5, 78, 23, 55, 40, 5, 90, 33, 10, 33, 23, 5}\n",
    "print(numbers)"
   ]
  },
  {
   "cell_type": "markdown",
   "metadata": {},
   "source": [
    "## 3.4 Dictionary\n",
    "Dictionaries are containers that store key-value pairs and are distinguished with braces. Items within dictionaries can change but they cannot be ordered. Neither can we extract items from a dictionary as we did with lists and tuples."
   ]
  },
  {
   "cell_type": "code",
   "execution_count": 35,
   "metadata": {},
   "outputs": [
    {
     "name": "stdout",
     "output_type": "stream",
     "text": [
      "{'Alice': 30, 'Betty': 9, 'Cathy': 18, 'Debbie': 56} <class 'dict'>\n"
     ]
    }
   ],
   "source": [
    "# To create a “students” dictionary of names and age\n",
    "students = {\"Alice\":30, \"Betty\":9, \"Cathy\":18, \"Debbie\":56}\n",
    "print(students, type(students))"
   ]
  },
  {
   "cell_type": "code",
   "execution_count": 36,
   "metadata": {},
   "outputs": [
    {
     "name": "stdout",
     "output_type": "stream",
     "text": [
      "4\n"
     ]
    }
   ],
   "source": [
    "# The len() function\n",
    "students = {\"Alice\":30, \"Betty\":9, \"Cathy\":18, \"Debbie\":56}\n",
    "print(len(students))"
   ]
  },
  {
   "cell_type": "markdown",
   "metadata": {},
   "source": [
    "### Indexing elements in dictionaries"
   ]
  },
  {
   "cell_type": "code",
   "execution_count": 37,
   "metadata": {},
   "outputs": [
    {
     "name": "stdout",
     "output_type": "stream",
     "text": [
      "9\n",
      "9\n"
     ]
    }
   ],
   "source": [
    "# Can query a dictionary for a given student\n",
    "students = {\"Alice\":30, \"Betty\":9, \"Cathy\":18, \"Debbie\":56}\n",
    "print(students['Betty'])\n",
    "\n",
    "# The get() method can also be used to give the same result\n",
    "print(students.get('Betty'))"
   ]
  },
  {
   "cell_type": "markdown",
   "metadata": {},
   "source": [
    "### Adding elements in dictionaries"
   ]
  },
  {
   "cell_type": "code",
   "execution_count": 38,
   "metadata": {},
   "outputs": [
    {
     "name": "stdout",
     "output_type": "stream",
     "text": [
      "{'Alice': 30, 'Betty': 9, 'Cathy': 18, 'Debbie': 56, 'Eva': 26}\n"
     ]
    }
   ],
   "source": [
    "# Add a new element to a dictionary\n",
    "students = {\"Alice\":30, \"Betty\":9, \"Cathy\":18, \"Debbie\":56}\n",
    "students['Eva'] = 26\n",
    "print(students)"
   ]
  },
  {
   "cell_type": "markdown",
   "metadata": {},
   "source": [
    "### Keys and Values in dictionaries"
   ]
  },
  {
   "cell_type": "code",
   "execution_count": 39,
   "metadata": {},
   "outputs": [
    {
     "name": "stdout",
     "output_type": "stream",
     "text": [
      "dict_keys(['Alice', 'Betty', 'Cathy', 'Debbie', 'Eva'])\n",
      "['Alice', 'Betty', 'Cathy', 'Debbie']\n",
      "dict_values([30, 9, 18, 56])\n"
     ]
    }
   ],
   "source": [
    "# To list a dictionary keys, use the keys() method\n",
    "print(students.keys())\n",
    "\n",
    "# Alternatively, we could use the list() method to check on the keys\n",
    "students = {\"Alice\":30, \"Betty\":9, \"Cathy\":18, \"Debbie\":56}\n",
    "print(list(students))\n",
    "\n",
    "# To get the values in a dictionary, use the values() method\n",
    "print(students.values())"
   ]
  },
  {
   "cell_type": "markdown",
   "metadata": {},
   "source": [
    "### The \"in\" operator"
   ]
  },
  {
   "cell_type": "code",
   "execution_count": 40,
   "metadata": {},
   "outputs": [
    {
     "name": "stdout",
     "output_type": "stream",
     "text": [
      "True\n",
      "False\n"
     ]
    }
   ],
   "source": [
    "# To determine if a given key is in the dictionary, use the “in” operator\n",
    "print(\"Cathy\" in students)\n",
    "print(\"Monica\" in students)"
   ]
  },
  {
   "cell_type": "markdown",
   "metadata": {},
   "source": [
    "### Removing items from dictionaries"
   ]
  },
  {
   "cell_type": "code",
   "execution_count": 41,
   "metadata": {},
   "outputs": [
    {
     "name": "stdout",
     "output_type": "stream",
     "text": [
      "{'Alice': 30, 'Betty': 9, 'Cathy': 18}\n"
     ]
    }
   ],
   "source": [
    "students = {\"Alice\":30, \"Betty\":9, \"Cathy\":18, \"Debbie\":56}\n",
    "\n",
    "# To delete a dictionary element, use the “del” keyword\n",
    "del students['Debbie']\n",
    "print(students)"
   ]
  },
  {
   "cell_type": "markdown",
   "metadata": {},
   "source": [
    "**Error:**\n",
    "\n",
    "Let us delete “Monica” who does not exist\n",
    "```python\n",
    "del students['Monica'] # error because there is no “Monica” element\n",
    "```\n",
    "The output is:<br>\n",
    "<b>KeyError: 'Monica'</b>"
   ]
  },
  {
   "cell_type": "code",
   "execution_count": 42,
   "metadata": {},
   "outputs": [
    {
     "name": "stdout",
     "output_type": "stream",
     "text": [
      "{}\n"
     ]
    }
   ],
   "source": [
    "students = {\"Alice\":30, \"Betty\":9, \"Cathy\":18, \"Debbie\":56}\n",
    "\n",
    "# To delete all dictionary elements, use the clear() method\n",
    "students.clear()\n",
    "print(students)"
   ]
  },
  {
   "cell_type": "markdown",
   "metadata": {},
   "source": [
    "**Error:**\n",
    "\n",
    "The “students” dictionary becomes empty when clear() method is applied to it but it still exists. \n",
    "To delete the students dictionary completely, use the “del” keyword on the dictionary\n",
    "```python\n",
    "del students\n",
    "print(students) # error because “students” no longer exists\n",
    "```\n",
    "The output is:<br>\n",
    "<b>NameError: name 'students' is not defined</b>"
   ]
  },
  {
   "cell_type": "code",
   "execution_count": 43,
   "metadata": {},
   "outputs": [
    {
     "name": "stdout",
     "output_type": "stream",
     "text": [
      "{'Maths': 67, 'English': 87, 'Science': 34, 'History': 66}\n",
      "['English', 'History', 'Maths', 'Science']\n"
     ]
    }
   ],
   "source": [
    "# Let us create a new dictionary of “subjects” and “marks”, and list the keys in sorted order\n",
    "subjects = {'Maths':67, 'English':87, 'Science':34, 'History':66}\n",
    "print(subjects)\n",
    "print(sorted(list(subjects)))"
   ]
  },
  {
   "cell_type": "code",
   "execution_count": 44,
   "metadata": {},
   "outputs": [
    {
     "name": "stdout",
     "output_type": "stream",
     "text": [
      "87\n",
      "{'Maths': 67, 'Science': 34, 'History': 66}\n",
      "{'Maths': 67, 'Science': 34, 'History': 66}\n",
      "('History', 66)\n",
      "{'Maths': 67, 'Science': 34}\n"
     ]
    }
   ],
   "source": [
    "# To delete an item, use the pop() method\n",
    "print(subjects.pop('English'))\n",
    "print(subjects)\n",
    "\n",
    "# To delete a random item from the dictionary, use the popitem() method\n",
    "print(subjects)\n",
    "print(subjects.popitem())\n",
    "print(subjects)"
   ]
  },
  {
   "cell_type": "markdown",
   "metadata": {},
   "source": [
    "### Updating values in dictionaries"
   ]
  },
  {
   "cell_type": "code",
   "execution_count": 45,
   "metadata": {},
   "outputs": [
    {
     "name": "stdout",
     "output_type": "stream",
     "text": [
      "30\n",
      "{'Maths': 67, 'Science': 34}\n",
      "{'Maths': 67, 'Science': 30}\n"
     ]
    }
   ],
   "source": [
    "# To update a value in the dictionary e.g. to subtract the marks of Science by 4 marks\n",
    "print(subjects['Science'] - 4)\n",
    "print(subjects)\n",
    "\n",
    "# Notice the value of Science is still 34, to effect the change, we need to assign the value to Science\n",
    "subjects['Science'] = subjects['Science'] - 4\n",
    "print(subjects)"
   ]
  },
  {
   "cell_type": "markdown",
   "metadata": {},
   "source": [
    "### Copying dictionaries"
   ]
  },
  {
   "cell_type": "code",
   "execution_count": 46,
   "metadata": {},
   "outputs": [
    {
     "name": "stdout",
     "output_type": "stream",
     "text": [
      "{'brand': 'Samsung', 'model': 'Galaxy S10', 'price': 900}\n",
      "{'brand': 'Samsung', 'model': 'Galaxy S10', 'price': 900}\n"
     ]
    }
   ],
   "source": [
    "# A dictionary can be copied to make a new dictionary using the copy() method\n",
    "phone = {\"brand\":\"Samsung\", \"model\":\"Galaxy S10\", \"price\":900}\n",
    "newPhone = phone.copy()\n",
    "print(newPhone)\n",
    "\n",
    "# Alternatively, use the built-in function dict() to make a copy of the dictionary\n",
    "anotherPhone = dict(phone)\n",
    "print(anotherPhone)"
   ]
  },
  {
   "cell_type": "markdown",
   "metadata": {},
   "source": [
    "### Nesting dictionaries"
   ]
  },
  {
   "cell_type": "code",
   "execution_count": 47,
   "metadata": {},
   "outputs": [
    {
     "name": "stdout",
     "output_type": "stream",
     "text": [
      "15\n"
     ]
    }
   ],
   "source": [
    "# Dictionaries can be nested. With nesting, we can insert one dictionary into another dictionary\n",
    "subjectMarks = {'Maths': {'Assessment 1': {'Question 1':15}}}\n",
    "\n",
    "# To get the value of ‘Question 1’, we have to subset like this\n",
    "print(subjectMarks['Maths']['Assessment 1']['Question 1'])"
   ]
  },
  {
   "cell_type": "code",
   "execution_count": 48,
   "metadata": {},
   "outputs": [
    {
     "name": "stdout",
     "output_type": "stream",
     "text": [
      "{'employee1': {'name': 'Simon', 'salary': 5000}, 'employee2': {'name': 'Andy', 'salary': 3500}, 'employee3': {'name': 'Noah', 'salary': 4800}} <class 'dict'>\n"
     ]
    }
   ],
   "source": [
    "# Next, nest three dictionaries into one dictionary\n",
    "employee1 = {\"name\":\"Simon\", \"salary\":5000}\n",
    "employee2 = {\"name\":\"Andy\", \"salary\":3500}\n",
    "employee3 = {\"name\":\"Noah\", \"salary\":4800}\n",
    "company = {\"employee1\":employee1, \"employee2\":employee2, \"employee3\":employee3}\n",
    "print(company, type(company))"
   ]
  },
  {
   "cell_type": "code",
   "execution_count": 49,
   "metadata": {},
   "outputs": [
    {
     "name": "stdout",
     "output_type": "stream",
     "text": [
      "Andy\n",
      "{'name': 'Andy', 'salary': 3500}\n",
      "Andy\n",
      "3500\n"
     ]
    }
   ],
   "source": [
    "# To get the value of the items in the dictionaries, we can call them in these manners\n",
    "print(employee2[\"name\"])\n",
    "\n",
    "# \"employee2\" in company\n",
    "print(company[\"employee2\"])\n",
    "\n",
    "# Name of “employee2” in company\n",
    "print(company[\"employee2\"][\"name\"])\n",
    "\n",
    "# Salary of “employee2” in company\n",
    "print(company[\"employee2\"][\"salary\"])"
   ]
  },
  {
   "cell_type": "markdown",
   "metadata": {},
   "source": [
    "# 4. Strings\n",
    "A string is a character sequence that is enclosed in single or double quotation marks. “Python Programming”, “Python”, “P”, ‘python’, ‘Programming’ and ‘I’ are all examples of a string. Strings are immutable objects that can be repeated, combined, or parts of them can even be extracted as substrings. "
   ]
  },
  {
   "cell_type": "markdown",
   "metadata": {},
   "source": [
    "## 4.1 Displaying string"
   ]
  },
  {
   "cell_type": "code",
   "execution_count": 50,
   "metadata": {},
   "outputs": [
    {
     "name": "stdout",
     "output_type": "stream",
     "text": [
      "Python Programming\n"
     ]
    }
   ],
   "source": [
    "# Can display a string literal with the print() function\n",
    "print(\"Python Programming\")"
   ]
  },
  {
   "cell_type": "code",
   "execution_count": 51,
   "metadata": {},
   "outputs": [
    {
     "name": "stdout",
     "output_type": "stream",
     "text": [
      "Python Programming\n",
      "Python Programming\n"
     ]
    }
   ],
   "source": [
    "# A string can also be assigned to a variable such as “title” as follows\n",
    "title = 'Python Programming' # title is a string in single quotes\n",
    "print(title)\n",
    "title = \"Python Programming\" # title is a string in double quotes\n",
    "print(title)                 "
   ]
  },
  {
   "cell_type": "markdown",
   "metadata": {},
   "source": [
    "## 4.2 Escape character"
   ]
  },
  {
   "cell_type": "markdown",
   "metadata": {},
   "source": [
    "**Error:**\n",
    "\n",
    "While the use of single and double quotes to represent strings are permissible, the use of single quote may pose some confusions with apostrophes in sentences. For example, the following string has a syntax error:\n",
    "```python\n",
    "tvshow = 'Monty Python's Flying Circus'\n",
    "```\n",
    "The output is:<br>\n",
    "<b>SyntaxError: invalid syntax</b>"
   ]
  },
  {
   "cell_type": "code",
   "execution_count": 52,
   "metadata": {},
   "outputs": [
    {
     "name": "stdout",
     "output_type": "stream",
     "text": [
      "Monty Python's Flying Circus\n"
     ]
    }
   ],
   "source": [
    "# The use of double quotes for strings removes the problem\n",
    "tvshow = \"Monty Python's Flying Circus\"\n",
    "print(tvshow)"
   ]
  },
  {
   "cell_type": "markdown",
   "metadata": {},
   "source": [
    "**Error:**\n",
    "\n",
    "Whether it is single quote or double quotes for strings, \n",
    "there will always be situations where the use of single quote or double quotes in sentences are inevitable e.g.\n",
    "```python\n",
    "quote = \"Einstein once said: \"Imagination is more important than knowledge. Knowledge is limited. Imagination encircles the world.\"\"\n",
    "```\n",
    "The output is:<br>\n",
    "<b>SyntaxError: invalid syntax</b>\n"
   ]
  },
  {
   "cell_type": "code",
   "execution_count": 53,
   "metadata": {},
   "outputs": [
    {
     "name": "stdout",
     "output_type": "stream",
     "text": [
      "Einstein once said: \"Imagination is more important than knowledge. Knowledge is limited. Imagination encircles the world.\"\n"
     ]
    }
   ],
   "source": [
    "# Use single quote to solve problem.\n",
    "# But, a more suitable way is to include quotation marks with a backslash (commonly known as “Escape Character”) as follows\n",
    "quote = \"Einstein once said: \\\"Imagination is more important than knowledge. Knowledge is limited. Imagination encircles the world.\\\"\"\n",
    "print(quote)\n",
    "\n",
    "# An escape character is a backslash “\\” followed by the character you want to insert. \n",
    "# The above example uses the escape character “\\\"”."
   ]
  },
  {
   "cell_type": "markdown",
   "metadata": {},
   "source": [
    "## 4.3 Multi-line strings"
   ]
  },
  {
   "cell_type": "code",
   "execution_count": 54,
   "metadata": {},
   "outputs": [
    {
     "name": "stdout",
     "output_type": "stream",
     "text": [
      "Python Programming:\n",
      "A beginner’s guide to\n",
      "Python programming \n"
     ]
    }
   ],
   "source": [
    "# A multi-line string can be assigned to a variable by using three quotes as follows\n",
    "title = '''Python Programming:\n",
    "A beginner’s guide to\n",
    "Python programming '''\n",
    "print(title) "
   ]
  },
  {
   "cell_type": "code",
   "execution_count": 55,
   "metadata": {},
   "outputs": [
    {
     "name": "stdout",
     "output_type": "stream",
     "text": [
      "Python Programming:\n",
      "A beginner’s guide to\n",
      "Python programming \n"
     ]
    }
   ],
   "source": [
    "# Alternatively, you can use three double quotes for multi-line string as follows\n",
    "title = \"\"\"Python Programming:\n",
    "A beginner’s guide to\n",
    "Python programming \"\"\"\n",
    "print(title)"
   ]
  },
  {
   "cell_type": "markdown",
   "metadata": {},
   "source": [
    "## 4.4 Strings are immutable"
   ]
  },
  {
   "cell_type": "code",
   "execution_count": 56,
   "metadata": {},
   "outputs": [
    {
     "name": "stdout",
     "output_type": "stream",
     "text": [
      "This string has no blanks.\n"
     ]
    }
   ],
   "source": [
    "# Strings are immutable i.e. they cannot be changed. \n",
    "# We cannot assign an item to a character of a string\n",
    "line = \"This string has no blanks.\"\n",
    "print(line)"
   ]
  },
  {
   "cell_type": "markdown",
   "metadata": {},
   "source": [
    "**Error:**\n",
    "\n",
    "Let us assign “S” to index 5 of “line” string\n",
    "```python\n",
    "line[5] = 'S' \n",
    "```\n",
    "The output is:<br>\n",
    "<b>TypeError: 'str' object does not support item assignment'</b>"
   ]
  },
  {
   "cell_type": "markdown",
   "metadata": {},
   "source": [
    "## 4.5 The \"%\" Modulus operator"
   ]
  },
  {
   "cell_type": "code",
   "execution_count": 57,
   "metadata": {},
   "outputs": [
    {
     "name": "stdout",
     "output_type": "stream",
     "text": [
      "The title of this book is Python Programming. I love it.\n"
     ]
    }
   ],
   "source": [
    "\"\"\"\n",
    "It is used to search in the string for elements preceded by “%” and replaces them with the value or \n",
    "values contained in the list that follows it.  \n",
    "The “%” symbol must be followed by a character that indicates the type of data we are entering in the string. \n",
    "For example, to print the contents of two strings, we use “%s” as follows\n",
    "\"\"\"\n",
    "title = \"Python Programming\"\n",
    "print(\"The title of this book is %s.\" %(title), \"I love it.\")"
   ]
  },
  {
   "cell_type": "code",
   "execution_count": 58,
   "metadata": {},
   "outputs": [
    {
     "name": "stdout",
     "output_type": "stream",
     "text": [
      "There are 50 copies of Python Programming left.\n",
      "Python Programming is priced at S$21.56.\n"
     ]
    }
   ],
   "source": [
    "\"\"\"\n",
    "Some common operators include:\n",
    "%d : for signed decimal integer\n",
    "%u : for unsigned decimal integer\n",
    "%c : for character\n",
    "%s : for string\n",
    "%f : for floating point real number\n",
    "%g : for the shorter of %f\n",
    "\"\"\"\n",
    "title = \"Python Programming\"\n",
    "print(\"There are %d copies of %s left.\" %(50, title))\n",
    "print(\"%s is priced at S$%g.\" %(title, 21.56))"
   ]
  },
  {
   "cell_type": "markdown",
   "metadata": {},
   "source": [
    "## 4.6 The len() and id() function"
   ]
  },
  {
   "cell_type": "code",
   "execution_count": 59,
   "metadata": {},
   "outputs": [
    {
     "name": "stdout",
     "output_type": "stream",
     "text": [
      "18\n",
      "1654485159968\n"
     ]
    }
   ],
   "source": [
    "# The len() function produces the length of a string\n",
    "title = \"Python Programming\"\n",
    "print(len(title))\n",
    "\n",
    "# Every object has an id, use the id() function to verify the id of a string\n",
    "print(id(title))"
   ]
  },
  {
   "cell_type": "markdown",
   "metadata": {},
   "source": [
    "## 4.7 The \"in\" operator"
   ]
  },
  {
   "cell_type": "code",
   "execution_count": 60,
   "metadata": {},
   "outputs": [
    {
     "name": "stdout",
     "output_type": "stream",
     "text": [
      "True\n",
      "False\n"
     ]
    }
   ],
   "source": [
    "# To verify the presence of a substring in a string, use the “in” operator\n",
    "line = \"This string has no blanks.\"\n",
    "print(\"blanks\" in line)\n",
    "print(\"empty\" in line)"
   ]
  },
  {
   "cell_type": "code",
   "execution_count": 61,
   "metadata": {},
   "outputs": [
    {
     "name": "stdout",
     "output_type": "stream",
     "text": [
      "False\n",
      "True\n"
     ]
    }
   ],
   "source": [
    "# To check if a phrase is NOT present in a string, use the “not in” operator\n",
    "line = \"This string has no blanks.\"\n",
    "print(\"blanks\" not in line)\n",
    "print(\"empty\" not in line)"
   ]
  },
  {
   "cell_type": "markdown",
   "metadata": {},
   "source": [
    "## 4.8 String concatenation"
   ]
  },
  {
   "cell_type": "code",
   "execution_count": 62,
   "metadata": {},
   "outputs": [
    {
     "name": "stdout",
     "output_type": "stream",
     "text": [
      "Python Programming by Dr Danny Poo\n"
     ]
    }
   ],
   "source": [
    "# Strings can be combined using the concatenation operator “+”\n",
    "title = \"Python Programming\"\n",
    "author = \"Dr Danny Poo\"\n",
    "print(title + \" by \" + author)"
   ]
  },
  {
   "cell_type": "code",
   "execution_count": 63,
   "metadata": {},
   "outputs": [
    {
     "name": "stdout",
     "output_type": "stream",
     "text": [
      "Python ProgrammingPython Programming\n"
     ]
    }
   ],
   "source": [
    "# To repeat strings, use “*” operator\n",
    "print(title * 2)"
   ]
  },
  {
   "cell_type": "code",
   "execution_count": 64,
   "metadata": {},
   "outputs": [
    {
     "name": "stdout",
     "output_type": "stream",
     "text": [
      "five plus three = eight\n"
     ]
    }
   ],
   "source": [
    "# Strings can be combined with strings\n",
    "sentence = \"five plus three = \" + \"eight\"\n",
    "print(sentence)"
   ]
  },
  {
   "cell_type": "markdown",
   "metadata": {},
   "source": [
    "**Error:**\n",
    "\n",
    "But, strings cannot be combined with numbers\n",
    "```python\n",
    "sentence = \"five plus three = \" + 8\n",
    "```\n",
    "The output is:<br>\n",
    "<b>TypeError: can only concatenate str (not \"int\") to str</b>"
   ]
  },
  {
   "cell_type": "markdown",
   "metadata": {},
   "source": [
    "## 4.9 The format() method"
   ]
  },
  {
   "cell_type": "code",
   "execution_count": 65,
   "metadata": {},
   "outputs": [
    {
     "name": "stdout",
     "output_type": "stream",
     "text": [
      "five plus three = 8\n"
     ]
    }
   ],
   "source": [
    "# To combine strings and numbers, use the format() method \n",
    "# which takes the passed arguments, formats them, and places them in the string where the placeholders “{}” are\n",
    "result = 8\n",
    "sentence = \"five plus three = {}\"\n",
    "print(sentence.format(result))"
   ]
  },
  {
   "cell_type": "code",
   "execution_count": 66,
   "metadata": {},
   "outputs": [
    {
     "name": "stdout",
     "output_type": "stream",
     "text": [
      "Number of pineapples = 5. Cost of each pineapple is $2.5. Total is $12.5.\n"
     ]
    }
   ],
   "source": [
    "# The format() method takes unlimited number of arguments, the latter are placed into the respective placeholders\n",
    "number = 5\n",
    "cost = 2.50\n",
    "total = number * cost\n",
    "purchase = \"Number of pineapples = {}. Cost of each pineapple is ${}. Total is ${}.\"\n",
    "print(purchase.format(number, cost, total))"
   ]
  },
  {
   "cell_type": "code",
   "execution_count": 67,
   "metadata": {},
   "outputs": [
    {
     "name": "stdout",
     "output_type": "stream",
     "text": [
      "Number of pineapples = 5. Cost of each pineapple is $2.5. Total is $12.5.\n"
     ]
    }
   ],
   "source": [
    "# Index numbers such as {0} can be used in the format() method to ensure the arguments are placed in the correct placeholders\n",
    "number = 5\n",
    "cost = 2.50\n",
    "total = number * cost\n",
    "purchase = \"Number of pineapples = {1}. Cost of each pineapple is ${0}. Total is ${2}.\"\n",
    "print(purchase.format(cost, number, total))"
   ]
  },
  {
   "cell_type": "markdown",
   "metadata": {},
   "source": [
    "## 4.10 Some useful built-in methods"
   ]
  },
  {
   "cell_type": "markdown",
   "metadata": {},
   "source": [
    "### format()"
   ]
  },
  {
   "cell_type": "code",
   "execution_count": 68,
   "metadata": {},
   "outputs": [
    {
     "name": "stdout",
     "output_type": "stream",
     "text": [
      "Sale! $33.50 only!\n"
     ]
    }
   ],
   "source": [
    "# Formats specified values in a string\n",
    "text = \"Sale! ${price:.2f} only!\"\n",
    "print(text.format(price=33.50))"
   ]
  },
  {
   "cell_type": "markdown",
   "metadata": {},
   "source": [
    "### isdigit()"
   ]
  },
  {
   "cell_type": "code",
   "execution_count": 69,
   "metadata": {},
   "outputs": [
    {
     "name": "stdout",
     "output_type": "stream",
     "text": [
      "10203 True\n"
     ]
    }
   ],
   "source": [
    "# Returns True if all characters in the string are digits\n",
    "text = \"10203\" # text is a string not an integer\n",
    "print(text, text.isdigit())"
   ]
  },
  {
   "cell_type": "markdown",
   "metadata": {},
   "source": [
    "### isnumeric()"
   ]
  },
  {
   "cell_type": "code",
   "execution_count": 70,
   "metadata": {},
   "outputs": [
    {
     "name": "stdout",
     "output_type": "stream",
     "text": [
      "10203 True\n",
      "10203-A False\n"
     ]
    }
   ],
   "source": [
    "# Returns True if all characters in the string are numeric\n",
    "text = \"10203\"\n",
    "print(text, text.isnumeric())\n",
    "text = \"10203-A\"\n",
    "print(text, text.isnumeric())"
   ]
  },
  {
   "cell_type": "markdown",
   "metadata": {},
   "source": [
    "### lower()"
   ]
  },
  {
   "cell_type": "code",
   "execution_count": 71,
   "metadata": {},
   "outputs": [
    {
     "name": "stdout",
     "output_type": "stream",
     "text": [
      "i love python\n"
     ]
    }
   ],
   "source": [
    "# Converts a string into lower case\n",
    "lower = \"I LOVE PYTHON\".lower()\n",
    "print(lower)"
   ]
  },
  {
   "cell_type": "markdown",
   "metadata": {},
   "source": [
    "### upper()"
   ]
  },
  {
   "cell_type": "code",
   "execution_count": 72,
   "metadata": {},
   "outputs": [
    {
     "name": "stdout",
     "output_type": "stream",
     "text": [
      "GOOD DAY! CHAR\n"
     ]
    }
   ],
   "source": [
    "# Converts a string into upper case\n",
    "text = \"Good day! Char\"\n",
    "upper = text.upper()\n",
    "print(upper)"
   ]
  },
  {
   "cell_type": "markdown",
   "metadata": {},
   "source": [
    "### replace()"
   ]
  },
  {
   "cell_type": "code",
   "execution_count": 73,
   "metadata": {},
   "outputs": [
    {
     "name": "stdout",
     "output_type": "stream",
     "text": [
      "This string has no empty spaces.\n"
     ]
    }
   ],
   "source": [
    "# Returns a string where a specified value is replaced with a specified value\n",
    "line = \"This string has no blanks.\"\n",
    "print(line.replace(\"blanks\", \"empty spaces\"))"
   ]
  },
  {
   "cell_type": "markdown",
   "metadata": {},
   "source": [
    "### strip()"
   ]
  },
  {
   "cell_type": "code",
   "execution_count": 74,
   "metadata": {},
   "outputs": [
    {
     "name": "stdout",
     "output_type": "stream",
     "text": [
      "This string has blank at start and end\n"
     ]
    }
   ],
   "source": [
    "# Returns a trimmed version of the string\n",
    "stripString = \" This string has blank at start and end   \"\n",
    "print(stripString.strip())"
   ]
  },
  {
   "cell_type": "markdown",
   "metadata": {},
   "source": [
    "### split()"
   ]
  },
  {
   "cell_type": "code",
   "execution_count": 75,
   "metadata": {},
   "outputs": [
    {
     "name": "stdout",
     "output_type": "stream",
     "text": [
      "['This', 'string', 'has', 'no', 'blanks.']\n",
      "['Singapore:20', ' Thailand:30', ' Vietnam:10']\n",
      "['Thailand', '30']\n"
     ]
    }
   ],
   "source": [
    "# Splits the string at the specified separator, and returns a list\n",
    "line_1 = \"This string has no blanks.\"\n",
    "print(line_1.split())\n",
    "line_2 = \"Singapore:20, Thailand:30, Vietnam:10\"\n",
    "print(line_2.split(\",\"))\n",
    "print(line_2.split(\",\")[1].strip().split(\":\")) # index 1 refers to second item"
   ]
  },
  {
   "cell_type": "markdown",
   "metadata": {},
   "source": [
    "# 5. Comments\n",
    "Comments are necessary in a program. \n",
    "They serve as a reminder of the thought process that went into creating the programs earlier on. <BR>\n",
    "They also help other fellow developers to understand the decisions made when the program was written."
   ]
  },
  {
   "cell_type": "code",
   "execution_count": 76,
   "metadata": {},
   "outputs": [
    {
     "name": "stdout",
     "output_type": "stream",
     "text": [
      "Python Programming\n"
     ]
    }
   ],
   "source": [
    "# A comment starts with a “#”. Python ignores all comments. For example,\n",
    "\n",
    "# This is a comment which is ignored by Python\n",
    "print(\"Python Programming\")"
   ]
  },
  {
   "cell_type": "code",
   "execution_count": 77,
   "metadata": {},
   "outputs": [
    {
     "name": "stdout",
     "output_type": "stream",
     "text": [
      "Python Programming\n"
     ]
    }
   ],
   "source": [
    "# Comments can be placed at the end of a line, and Python will ignore the rest of the line\n",
    "print(\"Python Programming\") # This is a comment, Python will ignore"
   ]
  },
  {
   "cell_type": "code",
   "execution_count": 78,
   "metadata": {},
   "outputs": [
    {
     "name": "stdout",
     "output_type": "stream",
     "text": [
      "Hello World!\n"
     ]
    }
   ],
   "source": [
    "# Comments do not have to be text to explain the code, it can be used to prevent Python from executing the code\n",
    "\n",
    "# print(\"Python Programming\") \n",
    "print(\"Hello World!\")"
   ]
  },
  {
   "cell_type": "markdown",
   "metadata": {},
   "source": [
    "## 5.1 Multi-line comments"
   ]
  },
  {
   "cell_type": "code",
   "execution_count": 79,
   "metadata": {},
   "outputs": [
    {
     "name": "stdout",
     "output_type": "stream",
     "text": [
      "Hello World!\n"
     ]
    }
   ],
   "source": [
    "# Can add multi-line comments by preceding the lines with “#”\n",
    "\n",
    "# This is a multi-line comment\n",
    "# created using “#”.\n",
    "# All these lines will be \n",
    "# ignored by Python.\n",
    "print(\"Hello World!\")"
   ]
  },
  {
   "cell_type": "code",
   "execution_count": 80,
   "metadata": {},
   "outputs": [
    {
     "name": "stdout",
     "output_type": "stream",
     "text": [
      "Hello World!\n"
     ]
    }
   ],
   "source": [
    "# Alternatively, use a multi-line string since Python ignores all string literals that are not assigned to a variable. \n",
    "# A multi-line string is enclosed within three double quotes (\"\"\")\n",
    "\n",
    "\"\"\"\n",
    "This is a multi-line comment\n",
    "created using multi-line string.\n",
    "All these lines will be \n",
    "ignored by Python.\n",
    "\"\"\"\n",
    "print(\"Hello World!\")"
   ]
  },
  {
   "cell_type": "markdown",
   "metadata": {},
   "source": [
    "<center>\n",
    "  <a href=\"PP-01-GettingStarted.ipynb\" target=\"_self\">Getting Started</a> | <a href=\"./\">Content Page</a> | <a href=\"PP-03-WritingPrograms.ipynb\">Writing Programs</a>\n",
    "</center>"
   ]
  }
 ],
 "metadata": {
  "anaconda-cloud": {},
  "kernelspec": {
   "display_name": "Python 3 (ipykernel)",
   "language": "python",
   "name": "python3"
  },
  "language_info": {
   "codemirror_mode": {
    "name": "ipython",
    "version": 3
   },
   "file_extension": ".py",
   "mimetype": "text/x-python",
   "name": "python",
   "nbconvert_exporter": "python",
   "pygments_lexer": "ipython3",
   "version": "3.11.5"
  }
 },
 "nbformat": 4,
 "nbformat_minor": 1
}
