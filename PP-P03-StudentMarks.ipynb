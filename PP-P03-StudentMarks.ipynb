{
 "cells": [
  {
   "cell_type": "markdown",
   "id": "b41e87dd",
   "metadata": {},
   "source": [
    "# <center>PROJECT: STUDENT MARKS</center>\n",
    "<center><b>Copyright &copy 2023 by DR DANNY POO</b><br> e:dannypoo@nus.edu.sg<br> w:drdannypoo.com</center><br>"
   ]
  },
  {
   "cell_type": "raw",
   "id": "f2008f48",
   "metadata": {},
   "source": [
    "This is a Student Marks system that keeps records of students in classes and their marks. Each student has marks for Chemistry, Chinese, English, Maths, and Physics. \n",
    "\n",
    "Data on students and their marks are stored in a ``.csv`` consisting of these columns ``STUDENTID``, ``NAME``, ``CHEMISTRY``, ``CHINESE``, ``ENGLISH``, ``MATHS``, ``PHYSICS``,  and ``CLASS``. Currently, there are three classes of students: C1, C2, and C3. \n",
    "\n",
    "Some functions have been completed:\n",
    "1. loadStudentMarks()\n",
    "2. menu()\n",
    "3. decipher()\n",
    "4. main\n",
    "\n",
    "Where you see comment like \"write code here\", you are required to fill in the code.\n",
    "\n",
    "You are required to complete the following functions:\n",
    "1. getNewStudentRecord()\n",
    "2. addStudentAndMarks()\n",
    "3. delStudentAndMarks()\n",
    "4. processMarks()\n",
    "5. updateStudentMarks()\n",
    "6. saveSchoolMarks()\n",
    "7. displayStudentMarks()\n",
    "8. displayClassMarks()\n",
    "9. displaySchoolMarks()\n",
    "\n",
    "What the functions are required to do are detailed at the functions."
   ]
  },
  {
   "cell_type": "code",
   "execution_count": null,
   "id": "2bccc255",
   "metadata": {},
   "outputs": [],
   "source": [
    "# load libraries\n",
    "import pandas as pd\n",
    "from pathlib import Path  "
   ]
  },
  {
   "cell_type": "code",
   "execution_count": null,
   "id": "b3d9760f",
   "metadata": {},
   "outputs": [],
   "source": [
    "# load student marks in file into dataframe studentMarksDF\n",
    "def loadStudentMarks():\n",
    "    global studentMarksDF\n",
    "    studentMarksDF = pd.read_csv(\"./data/schoolMarks.csv\")"
   ]
  },
  {
   "cell_type": "code",
   "execution_count": null,
   "id": "95a5b3fc",
   "metadata": {},
   "outputs": [],
   "source": [
    "# given studentId\n",
    "# create a record of student details gathered from user such as classId, name, chemistry mark, chinese mark, english mark, \n",
    "# maths mark, physics mark\n",
    "# return record\n",
    "def getNewStudentRecord(studentId):\n",
    "    # write code here\n",
    "\n",
    "    \n",
    "    \n",
    "    return record"
   ]
  },
  {
   "cell_type": "code",
   "execution_count": null,
   "id": "bb00c6bf",
   "metadata": {},
   "outputs": [],
   "source": [
    "# get studentId from user\n",
    "# calls getNewStudentRecord() to get student details from user\n",
    "# add student and marks into dataframe studentMarksDF\n",
    "# return None\n",
    "def addStudentAndMarks():\n",
    "    global studentMarksDF\n",
    "    # write code here\n",
    "\n",
    "    \n",
    "    \n",
    "    return"
   ]
  },
  {
   "cell_type": "code",
   "execution_count": null,
   "id": "e84a14d9",
   "metadata": {},
   "outputs": [],
   "source": [
    "# get studentId from user\n",
    "# delete student with studentId from dataframe studentMarksDF\n",
    "# return studentMarksDF\n",
    "def delStudentAndMarks():\n",
    "    # write code here\n",
    "\n",
    "    "
   ]
  },
  {
   "cell_type": "code",
   "execution_count": null,
   "id": "142ff0bb",
   "metadata": {},
   "outputs": [],
   "source": [
    "# decipher the subject code\n",
    "def decipher(code):\n",
    "    if code=='che':\n",
    "        return 'CHEMISTRY'\n",
    "    elif code=='chi':\n",
    "        return 'CHINESE'\n",
    "    elif code=='eng':\n",
    "        return 'ENGLISH'\n",
    "    elif code=='mat':\n",
    "        return 'MATHS'\n",
    "    elif code=='phy':\n",
    "        return 'PHYSICS'\n",
    "    else: return 'NO SUCH SUBJECT'"
   ]
  },
  {
   "cell_type": "code",
   "execution_count": null,
   "id": "a1be510c",
   "metadata": {},
   "outputs": [],
   "source": [
    "# student marks are entered in this format: che:80,chi:90,eng:100,mat:48,phy:86\n",
    "# extract the subjects and their corresponding marks from the entry\n",
    "# return subjectList and markList\n",
    "def processMarks(subjectMarks):\n",
    "    subjectList = []\n",
    "    markList    = []\n",
    "    # write code here\n",
    "\n",
    "    \n",
    "            \n",
    "    return subjectList, markList"
   ]
  },
  {
   "cell_type": "code",
   "execution_count": null,
   "id": "1577bbea",
   "metadata": {},
   "outputs": [],
   "source": [
    "# update student marks in dataframe studentMarksDF\n",
    "# get studentId from user\n",
    "# get subject and marks based on entry format: che:80,chi:90,eng:100,mat:48,phy:86\n",
    "# process subjects and marks entered\n",
    "# return None\n",
    "def updateStudentMarks():\n",
    "    # write code here\n",
    "\n",
    "    "
   ]
  },
  {
   "cell_type": "code",
   "execution_count": null,
   "id": "a3a3d6b0",
   "metadata": {},
   "outputs": [],
   "source": [
    "# save all students and marks to a file \"schoolMarks-out.csv\"\n",
    "def saveSchoolMarks():\n",
    "    # write code here\n",
    "\n",
    "    "
   ]
  },
  {
   "cell_type": "code",
   "execution_count": null,
   "id": "7d568e37",
   "metadata": {},
   "outputs": [],
   "source": [
    "# get a studentId from user\n",
    "# display the student's marks\n",
    "# return None\n",
    "def displayStudentMarks():\n",
    "    # write code here\n",
    "\n",
    "    "
   ]
  },
  {
   "cell_type": "code",
   "execution_count": null,
   "id": "8b30d245",
   "metadata": {},
   "outputs": [],
   "source": [
    "# get a classId from user\n",
    "# display the class students and their marks\n",
    "# return None\n",
    "def displayClassMarks():\n",
    "    # write code here\n",
    "\n",
    "    "
   ]
  },
  {
   "cell_type": "code",
   "execution_count": null,
   "id": "380e06a3",
   "metadata": {},
   "outputs": [],
   "source": [
    "# display all studentIds, names, subjects and corresponding marks, and classIds from dataframe studentMarksDF\n",
    "def displaySchoolMarks():\n",
    "    # write code here\n",
    "\n",
    "    "
   ]
  },
  {
   "cell_type": "code",
   "execution_count": null,
   "id": "02747e90",
   "metadata": {},
   "outputs": [],
   "source": [
    "# display menu and get choice\n",
    "def menu():\n",
    "    print(\"\\nMENU\")\n",
    "    print(\"A. Add a student and his marks\")\n",
    "    print(\"B. Delete a student and his marks\")\n",
    "    print(\"C. Update student marks\")\n",
    "    print(\"D. Save school marks\")\n",
    "    print(\"E. Display a student's marks\")\n",
    "    print(\"F. Display class marks\")\n",
    "    print(\"G. Display school marks\")\n",
    "    print(\"Q. Quit application\")\n",
    "    choice = input(\"SELECT CHOICE: \")\n",
    "    print(\"\\n\")\n",
    "    return choice"
   ]
  },
  {
   "cell_type": "code",
   "execution_count": null,
   "id": "dc654ce5",
   "metadata": {},
   "outputs": [],
   "source": [
    "# main\n",
    "# load student marks\n",
    "loadStudentMarks()\n",
    "\n",
    "# despatch user's choice\n",
    "selected = \"X\"\n",
    "while selected != 'Q' and selected !='q':\n",
    "    if selected == 'A' or selected =='a':\n",
    "        addStudentAndMarks()\n",
    "    elif selected == 'B' or selected =='b':\n",
    "        delStudentAndMarks()\n",
    "    elif selected == 'C' or selected =='c':\n",
    "        updateStudentMarks()\n",
    "    elif selected == 'D' or selected =='d':\n",
    "        saveSchoolMarks()\n",
    "    elif selected == 'E' or selected =='e':\n",
    "        displayStudentMarks()\n",
    "    elif selected == 'F' or selected =='f':\n",
    "        displayClassMarks()\n",
    "    elif selected == 'G' or selected =='g':\n",
    "        displaySchoolMarks()\n",
    "    else: pass\n",
    "\n",
    "    selected = menu()"
   ]
  }
 ],
 "metadata": {
  "kernelspec": {
   "display_name": "Python 3 (ipykernel)",
   "language": "python",
   "name": "python3"
  },
  "language_info": {
   "codemirror_mode": {
    "name": "ipython",
    "version": 3
   },
   "file_extension": ".py",
   "mimetype": "text/x-python",
   "name": "python",
   "nbconvert_exporter": "python",
   "pygments_lexer": "ipython3",
   "version": "3.11.5"
  }
 },
 "nbformat": 4,
 "nbformat_minor": 5
}
