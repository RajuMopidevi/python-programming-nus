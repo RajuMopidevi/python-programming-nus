{
  "cells": [
    {
      "cell_type": "markdown",
      "metadata": {
        "id": "view-in-github",
        "colab_type": "text"
      },
      "source": [
        "<a href=\"https://colab.research.google.com/github/RajuMopidevi/python-programming-nus/blob/main/PP_05_ProgramFlowControls_Exercises.ipynb\" target=\"_parent\"><img src=\"https://colab.research.google.com/assets/colab-badge.svg\" alt=\"Open In Colab\"/></a>"
      ]
    },
    {
      "cell_type": "markdown",
      "metadata": {
        "id": "PARwQ7NHAQ1Z"
      },
      "source": [
        "<center>\n",
        "  <a href=\"PP-04-Operators.ipynb\" target=\"_self\">Operators</a> | <a href=\"./\">Content Page</a> | <a href=\"PP-06-Functions.ipynb\">Functions</a>\n",
        "</center>"
      ]
    },
    {
      "cell_type": "markdown",
      "metadata": {
        "id": "X5pa6QUGAQ1a"
      },
      "source": [
        "# <center>PROGRAM FLOW CONTROLS EXERCISES</center>\n",
        "<center><b>Copyright &copy 2023 by DR DANNY POO</b><br> e:dannypoo@nus.edu.sg<br> w:drdannypoo.com</center><br>"
      ]
    },
    {
      "cell_type": "markdown",
      "metadata": {
        "id": "zRARFIzOAQ1a"
      },
      "source": [
        "## Question 1\n",
        "Write a Python program to construct the following pattern, using a nested for loop.<br>\n",
        "![image.png](attachment:image.png)\n",
        "Expected Output : <br><b>as shown</b>"
      ]
    },
    {
      "cell_type": "code",
      "execution_count": 2,
      "metadata": {
        "colab": {
          "base_uri": "https://localhost:8080/"
        },
        "id": "cbM_-aPHAQ1b",
        "outputId": "6c71a9a2-8280-4cbb-93b3-bf7a2e6617a0"
      },
      "outputs": [
        {
          "output_type": "stream",
          "name": "stdout",
          "text": [
            "*\n",
            "**\n",
            "***\n",
            "****\n",
            "*****\n",
            "****\n",
            "***\n",
            "**\n",
            "*\n"
          ]
        }
      ],
      "source": [
        "# write code here\n",
        "for i in range(1, 5):\n",
        "    print(i * \"*\")\n",
        "for i in range(5,0,-1) :\n",
        "    print(i * \"*\")\n"
      ]
    },
    {
      "cell_type": "markdown",
      "metadata": {
        "id": "TGQMVOY5AQ1c"
      },
      "source": [
        "## Question 2\n",
        "Write a Python program to create a dictionary of family members and their age:<br>\n",
        "<b>\"Father\":66, \"Mother\":64, \"Tom\":30, \"Anne\":26, \"Jim\":21, \"Ray\":18, \"Me\":15</b><br>\n",
        "Print Mother's, Ray's and my age.<br>\n",
        "Print the total age value of the family.<br>\n",
        "Hint: Use a 'for' loop and dictionary values() function.\n",
        "\n",
        "Expected Output :<br>\n",
        "<b>Mother's age is 64<br>\n",
        "Ray's age is 18<br>\n",
        "I am 15<br>\n",
        "Total age value is 240 years</b>"
      ]
    },
    {
      "cell_type": "code",
      "execution_count": 1,
      "metadata": {
        "colab": {
          "base_uri": "https://localhost:8080/"
        },
        "id": "5ipGvtpSAQ1c",
        "outputId": "572101ff-ac56-41a1-96e0-2e633a9d96ad"
      },
      "outputs": [
        {
          "output_type": "stream",
          "name": "stdout",
          "text": [
            "Mother's age is  64\n",
            "Ray's age is  18\n",
            "I am  15\n",
            "Total age value is  240  years\n"
          ]
        }
      ],
      "source": [
        "# write code here\n",
        "\n",
        "familyMembers={\"Father\":66, \"Mother\":64, \"Tom\":30, \"Anne\":26, \"Jim\":21, \"Ray\":18, \"Me\":15}\n",
        "\n",
        "print(\"Mother's age is \", familyMembers[\"Mother\"])\n",
        "\n",
        "print(\"Ray's age is \", familyMembers[\"Ray\"])\n",
        "\n",
        "print(\"I am \", familyMembers[\"Me\"])\n",
        "\n",
        "print(\"Total age value is \", sum(familyMembers.values()) ,\" years\")\n",
        "\n"
      ]
    },
    {
      "cell_type": "markdown",
      "metadata": {
        "id": "HyWdTzgZAQ1c"
      },
      "source": [
        "## Question 3\n",
        "Write a Python program to print alphabet pattern 'E' using nested 'for' loops.<br>\n",
        "![image-2.png](attachment:image-2.png)\n",
        "\n",
        "Expected Output : <br><b>as shown</b>"
      ]
    },
    {
      "cell_type": "code",
      "execution_count": 29,
      "metadata": {
        "colab": {
          "base_uri": "https://localhost:8080/"
        },
        "id": "atCbQg04AQ1c",
        "outputId": "1c4fa5dd-67c0-4cb0-8ff9-fe7d61ec179b"
      },
      "outputs": [
        {
          "output_type": "stream",
          "name": "stdout",
          "text": [
            "******\n",
            "*\n",
            "*\n",
            "****\n",
            "*\n",
            "*\n",
            "******\n"
          ]
        }
      ],
      "source": [
        "# write code here\n",
        "for i in range(0, 7):\n",
        "    if(i == 0 or i==6):\n",
        "      print(\"******\")\n",
        "    elif(i==3):\n",
        "      print(\"****\")\n",
        "    else:\n",
        "      print(\"*\")\n",
        "\n",
        "\n"
      ]
    },
    {
      "cell_type": "markdown",
      "metadata": {
        "id": "lgyYM-xYAQ1c"
      },
      "source": [
        "## Question 4\n",
        "\n",
        "Write a Python program to construct the following pattern, using a nested loop number.<br>\n",
        "\n",
        "Expected Output : <br>\n",
        "![image-3.png](attachment:image-3.png)"
      ]
    },
    {
      "cell_type": "code",
      "execution_count": 11,
      "metadata": {
        "colab": {
          "base_uri": "https://localhost:8080/"
        },
        "id": "6pKkRXZFAQ1c",
        "outputId": "1a7801d9-6dd9-44f9-f91b-b6e4314fee67"
      },
      "outputs": [
        {
          "output_type": "stream",
          "name": "stdout",
          "text": [
            "1\n",
            "\n",
            "22\n",
            "\n",
            "333\n",
            "\n",
            "4444\n",
            "\n",
            "55555\n",
            "\n",
            "666666\n",
            "\n",
            "7777777\n",
            "\n",
            "88888888\n",
            "\n",
            "999999999\n",
            "\n"
          ]
        }
      ],
      "source": [
        "# write code here\n",
        "for i in range(1,10) :\n",
        "    for j in range(i,0,-1) :\n",
        "      print(i,end=\"\")\n",
        "    print(\"\\n\")\n",
        "\n",
        "\n"
      ]
    },
    {
      "cell_type": "markdown",
      "metadata": {
        "id": "xe-T0Hx7AQ1d"
      },
      "source": [
        "## Question 5\n",
        "Write a Python program to find those numbers which are divisible by 7 and multiple of 5, between 1500 and 2700 (both included).<br>\n",
        "![image-3.png](attachment:image-3.png)\n",
        "<br>\n",
        "Expected Output : <br><b>1505,1540,1575,1610,1645,1680,1715,1750,1785,1820,1855,1890,1925,1960,1995,2030,2065,2100,2135,2170,2205,2240,2275,2310,2345,2380,2415,2450,<br>2485,2520,2555,2590,2625,2660,2695</b>"
      ]
    },
    {
      "cell_type": "code",
      "execution_count": 32,
      "metadata": {
        "colab": {
          "base_uri": "https://localhost:8080/"
        },
        "id": "LSGXKjpEAQ1d",
        "outputId": "aab107d6-a632-4067-b06a-d42012b0d9e6"
      },
      "outputs": [
        {
          "output_type": "stream",
          "name": "stdout",
          "text": [
            "1505,1540,1575,1610,1645,1680,1715,1750,1785,1820,1855,1890,1925,1960,1995,2030,2065,2100,2135,2170,2205,2240,2275,2310,2345,2380,2415,2450,2485,2520,2555,2590,2625,2660,2695,"
          ]
        }
      ],
      "source": [
        "# write code here\n",
        "for i in range(1500, 2700, 1):\n",
        "   if(i%7 == 0 and i%5==0):\n",
        "      print(i , end=\",\")\n",
        "\n",
        "\n",
        "\n"
      ]
    },
    {
      "cell_type": "markdown",
      "metadata": {
        "id": "uazVMC41AQ1d"
      },
      "source": [
        "## Question 6\n",
        "Write a Python program to count the number of even and odd numbers from a series of numbers.<br>\n",
        "Sample numbers : numbers = (1, 2, 3, 4, 5, 6, 7, 8, 9)\n",
        "\n",
        "Expected Output :<br><b>\n",
        "Number of even numbers : 4<br>\n",
        "Number of odd numbers : 5<br></b>\n",
        "Hint: When remainder in division is 0, the number is even, else odd."
      ]
    },
    {
      "cell_type": "code",
      "execution_count": 28,
      "metadata": {
        "colab": {
          "base_uri": "https://localhost:8080/"
        },
        "id": "j4FADWETAQ1d",
        "outputId": "936c6139-ceac-4226-9fd8-7b87cbfeb970"
      },
      "outputs": [
        {
          "output_type": "stream",
          "name": "stdout",
          "text": [
            "Number of even numbers : 4\n",
            "Number of odd Numbers : 5\n"
          ]
        }
      ],
      "source": [
        "# write code here\n",
        "sampleNumbers=(1,2,3,4,5,6,7,8,9)\n",
        "evenNumbers=0\n",
        "oddNumbers=0\n",
        "for i in sampleNumbers:\n",
        "   if(i%2 == 0 ):\n",
        "      evenNumbers =evenNumbers+1\n",
        "   else:\n",
        "      oddNumbers=oddNumbers+1\n",
        "print(\"Number of even numbers :\",evenNumbers)\n",
        "print(\"Number of odd Numbers :\",oddNumbers)\n",
        "\n",
        "\n",
        "\n"
      ]
    },
    {
      "cell_type": "markdown",
      "metadata": {
        "id": "UC4SESdiAQ1d"
      },
      "source": [
        "## Question 7\n",
        "Write a Python program that prints all the numbers from 0 to 6 except 3 and 6.<br>\n",
        "![image.png](attachment:image.png)\n",
        "Note : Use 'continue' statement.<br>\n",
        "\n",
        "Expected Output : <b>0 1 2 4 5</b><br>"
      ]
    },
    {
      "cell_type": "code",
      "execution_count": 33,
      "metadata": {
        "colab": {
          "base_uri": "https://localhost:8080/"
        },
        "id": "qjXx6kNkAQ1d",
        "outputId": "0033e5ee-f063-41b4-ff03-69e004983e35"
      },
      "outputs": [
        {
          "output_type": "stream",
          "name": "stdout",
          "text": [
            "0 1 2 4 5 "
          ]
        }
      ],
      "source": [
        "# write code here\n",
        "for i in range(0, 7):\n",
        "    if(i == 3 or i==6):\n",
        "      continue\n",
        "    else:\n",
        "      print(i, end=\" \")\n",
        "\n",
        "\n",
        "\n"
      ]
    },
    {
      "cell_type": "markdown",
      "metadata": {
        "id": "BE9mtStbAQ1e"
      },
      "source": [
        "## Question 8\n",
        "Write a Python program to get the Fibonacci series between 0 to 50.<br>\n",
        "Note : The Fibonacci Sequence is the series of numbers :<br>\n",
        "0, 1, 1, 2, 3, 5, 8, 13, 21, ....<br>\n",
        "Every next number is found by adding up the two numbers before it.<br>\n",
        "\n",
        "Expected Output : <br>\n",
        "<b>1 1 2 3 5 8 13 21 34</b><br>\n",
        "![image-2.png](attachment:image-2.png)"
      ]
    },
    {
      "cell_type": "code",
      "execution_count": 34,
      "metadata": {
        "colab": {
          "base_uri": "https://localhost:8080/"
        },
        "id": "Z4RNbfQEAQ1e",
        "outputId": "98214b5d-992e-4783-94e6-57cf6391742d"
      },
      "outputs": [
        {
          "output_type": "stream",
          "name": "stdout",
          "text": [
            "1 1 2 3 5 8 13 21 34 "
          ]
        }
      ],
      "source": [
        "# write code here\n",
        "fibonacci_old=0\n",
        "fibonacci_new=1\n",
        "for i in range(0, 50):\n",
        "    if(fibonacci_new >=50):\n",
        "      break;\n",
        "    else:\n",
        "      print(fibonacci_new,end=\" \")\n",
        "      temp=fibonacci_new\n",
        "      fibonacci_new=fibonacci_new+fibonacci_old\n",
        "      fibonacci_old=temp\n",
        "\n",
        "\n",
        "\n"
      ]
    },
    {
      "cell_type": "markdown",
      "metadata": {
        "id": "htQoUGEiAQ1e"
      },
      "source": [
        "## Question 9\n",
        "Write a Python program to check whether the letter \"L\" is a vowel or consonant. <br>\n",
        "![image.png](attachment:image.png)\n",
        "\n",
        "Expected Result :<br>\n",
        "<b> L is a consonant.</b>"
      ]
    },
    {
      "cell_type": "code",
      "execution_count": 44,
      "metadata": {
        "colab": {
          "base_uri": "https://localhost:8080/"
        },
        "id": "J-PyTF8kAQ1e",
        "outputId": "3caadbed-b668-44e3-9790-adf891188360"
      },
      "outputs": [
        {
          "output_type": "stream",
          "name": "stdout",
          "text": [
            "L is a consonant\n"
          ]
        }
      ],
      "source": [
        "# write code here\n",
        "vowels=('a','e','i','o','u')\n",
        "\n",
        "givenLetter='L'\n",
        "\n",
        "if(givenLetter.lower() in vowels):\n",
        "  print(givenLetter,\"is a vowel\")\n",
        "else:\n",
        "  print(givenLetter,\"is a consonant\")\n",
        "\n",
        "\n",
        "\n"
      ]
    },
    {
      "cell_type": "markdown",
      "metadata": {
        "id": "JrsrzA6bAQ1e"
      },
      "source": [
        "## Question 10\n",
        "Write a Python program to list all the months in a year and then convert month \"February\" to a number of days.<br>\n",
        "\n",
        "Expected Output :<br>\n",
        "<b>List of months: January, February, March, April, May, June, July, August, September, October, November, December<br>\n",
        "Number of days: 28/29 days</b>"
      ]
    },
    {
      "cell_type": "code",
      "execution_count": 77,
      "metadata": {
        "colab": {
          "base_uri": "https://localhost:8080/"
        },
        "id": "C0tV4WAbAQ1e",
        "outputId": "caa15927-36c6-4f7f-c6c5-f7a12fa5340a"
      },
      "outputs": [
        {
          "output_type": "stream",
          "name": "stdout",
          "text": [
            "January,February,March,April,May,June,July,August,September,October,November,December,\n",
            "Number of days: 28\n"
          ]
        }
      ],
      "source": [
        "# write code here\n",
        "import calendar\n",
        "for i in range(1,13):\n",
        "  print(calendar.month_name[i], end=\",\")\n",
        "\n",
        "print(\"\\nNumber of days:\",calendar._monthlen(2023,2))\n",
        "\n"
      ]
    },
    {
      "cell_type": "markdown",
      "metadata": {
        "id": "0QVNc0fiAQ1e"
      },
      "source": [
        "## Question 11\n",
        "Write a Python program to check string \"Python\" represents an integer or not.<br>\n",
        "![image-2.png](attachment:image-2.png)\n",
        "\n",
        "Expected Output :<br>\n",
        "<b>String is \"Python\".<br>\n",
        "The string is not an integer.</b>"
      ]
    },
    {
      "cell_type": "code",
      "execution_count": 88,
      "metadata": {
        "colab": {
          "base_uri": "https://localhost:8080/"
        },
        "id": "DV7qiEx5AQ1f",
        "outputId": "685b7723-e57c-44cd-a631-aef637f01a78"
      },
      "outputs": [
        {
          "output_type": "stream",
          "name": "stdout",
          "text": [
            "String is \" Python \"\n",
            "The string is not integer\n"
          ]
        }
      ],
      "source": [
        "# write code here\n",
        "str=\"Python\"\n",
        "#str=\"11123\"\n",
        "print('String is \"',str,'\"')\n",
        "flag=True\n",
        "for i in str:\n",
        "  if(not i.isnumeric()):\n",
        "    flag=False\n",
        "    break\n",
        "if(flag == False):\n",
        "  print(\"The string is not integer\")\n",
        "\n",
        "\n"
      ]
    },
    {
      "cell_type": "markdown",
      "metadata": {
        "id": "bAV6RAdjAQ1f"
      },
      "source": [
        "<center>\n",
        "  <a href=\"PP-04-Operators.ipynb\" target=\"_self\">Operators</a> | <a href=\"./\">Content Page</a> | <a href=\"PP-06-Functions.ipynb\">Functions</a>\n",
        "</center>"
      ]
    }
  ],
  "metadata": {
    "anaconda-cloud": {},
    "kernelspec": {
      "display_name": "Python 3 (ipykernel)",
      "language": "python",
      "name": "python3"
    },
    "language_info": {
      "codemirror_mode": {
        "name": "ipython",
        "version": 3
      },
      "file_extension": ".py",
      "mimetype": "text/x-python",
      "name": "python",
      "nbconvert_exporter": "python",
      "pygments_lexer": "ipython3",
      "version": "3.11.5"
    },
    "colab": {
      "provenance": [],
      "include_colab_link": true
    }
  },
  "nbformat": 4,
  "nbformat_minor": 0
}