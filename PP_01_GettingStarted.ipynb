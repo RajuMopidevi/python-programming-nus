{
  "cells": [
    {
      "cell_type": "markdown",
      "metadata": {
        "id": "view-in-github",
        "colab_type": "text"
      },
      "source": [
        "<a href=\"https://colab.research.google.com/github/RajuMopidevi/python-programming-nus/blob/main/PP_01_GettingStarted.ipynb\" target=\"_parent\"><img src=\"https://colab.research.google.com/assets/colab-badge.svg\" alt=\"Open In Colab\"/></a>"
      ]
    },
    {
      "cell_type": "markdown",
      "metadata": {
        "id": "LztLFfRJ2YBX"
      },
      "source": [
        "<center>\n",
        "  <a href=\"./\">Content Page</a> | <a href=\"PP-02-Variables.ipynb\">Variables, Types, Collections, Strings and Comments</a>\n",
        "</center>"
      ]
    },
    {
      "cell_type": "markdown",
      "metadata": {
        "id": "JZaPcg2t2YBa"
      },
      "source": [
        "# <center>PYTHON PROGRAMMING<BR><BR>GETTING STARTED</center>\n",
        "<center><b>Copyright &copy 2023 by DR DANNY POO</b><br> e:dannypoo@nus.edu.sg<br> w:drdannypoo.com</center><br>"
      ]
    },
    {
      "cell_type": "markdown",
      "metadata": {
        "id": "mr25tLvw2YBa"
      },
      "source": [
        "# 1. Getting Started with Python"
      ]
    },
    {
      "cell_type": "markdown",
      "metadata": {
        "id": "tytZXmt92YBb"
      },
      "source": [
        "Python is one of the world’s fastest growing and most popular programming languages. <br>\n",
        "Python is a very beginner friendly programming language. <br>\n",
        "It can be used for variety of tasks such as data analysis, data visualization, artificial intelligence, machine learning, automation, etc."
      ]
    },
    {
      "cell_type": "markdown",
      "metadata": {
        "id": "3hh19R8g2YBb"
      },
      "source": [
        "## 1.1 Program"
      ]
    },
    {
      "cell_type": "markdown",
      "metadata": {
        "id": "s4c1w0-w2YBb"
      },
      "source": [
        "Programs are instructions to computers, much like recipes are instructions to a budding cook on how to prepare a meal.<br>\n",
        "First, logical sequence of steps are written in the form of an algorithm or flowchart to achieve a certain output.<br>\n",
        "To execute the program in computer it is then written using a programming language.<br>\n",
        "Execution of programs is carried out one statement at a time and one after another."
      ]
    },
    {
      "cell_type": "markdown",
      "metadata": {
        "id": "28VMdP8A2YBc"
      },
      "source": [
        "## 1.2 Algorithm"
      ]
    },
    {
      "cell_type": "markdown",
      "metadata": {
        "id": "b6FZ82zV2YBc"
      },
      "source": [
        "An algorithm can be defined as a set of stepwise logical instructions written in simple English.\n",
        "\n",
        "This is an example of a simple program in algorithm form.\n",
        "```\n",
        "Step 1 : Start\n",
        "Step 2 : Take input e.g., name = 'John'\n",
        "Step 3 : Print name (output)\n",
        "Step 4 : Stop\n",
        "```\n",
        "In this example, we print the name. <br>\n",
        "To do this we will first take the name as an input. <br>\n",
        "“John” is stored in a variable “name”, and then the name is printed which is the expected output.\n"
      ]
    },
    {
      "cell_type": "markdown",
      "metadata": {
        "id": "VPFfeAHZ2YBc"
      },
      "source": [
        "## 1.3 Flowchart"
      ]
    },
    {
      "cell_type": "markdown",
      "metadata": {
        "id": "N_pq3n9g2YBd"
      },
      "source": [
        "A flowchart can be defined as a diagrammatic representation of a sequence of steps.\n",
        "In other words, a flowchart is a diagrammatic representation of an algorithm.\n",
        "\n",
        "Let’s consider an example. In this figure we can see a flow chart of a program using a conditional operation (“If” condition).\n",
        "![image-2.png](attachment:image-2.png) <br>\n",
        "In this example, we check if a given integer is even or odd and then print the result accordingly. <br>\n",
        "The integer is taken as input and stored in “x”.<br>\n",
        "“x%2” (x mod 2) calculates the remainder of x/2 (x divided by 2). <br>\n",
        "If the remainder is 0 then the program prints ‘x is even’ else prints ‘x is odd’."
      ]
    },
    {
      "cell_type": "markdown",
      "metadata": {
        "id": "_6zgN9SY2YBd"
      },
      "source": [
        "## 1.4 Programming Languages"
      ]
    },
    {
      "cell_type": "markdown",
      "metadata": {
        "id": "FgPWzQt_2YBd"
      },
      "source": [
        "This figure displays a broad classification of Programming Languages.\n",
        "![image-4.png](attachment:image-4.png)\n",
        "\n",
        "Algorithms and flowcharts are used to create a logical flow of steps to achieve a particular output. <br>\n",
        "However, programming languages are used to code and execute the program in a computer. <br>\n",
        "It is broadly classified as Machine language (Binary coding), Assembly language (Coding using mnemonics symbols) and High-level coding languages (Human like language). <br>\n",
        "Python falls under the high-level coding languages."
      ]
    },
    {
      "cell_type": "markdown",
      "metadata": {
        "id": "87Abj3tz2YBd"
      },
      "source": [
        "## 1.5 Language Translators"
      ]
    },
    {
      "cell_type": "markdown",
      "metadata": {
        "id": "txap84Ug2YBd"
      },
      "source": [
        "How can a computer understand high-level coding languages that are human-like?\n",
        "\n",
        "This is where <b>compilers</b> and <b>interpreters</b> come in. <br>\n",
        "Compilers and Interpreters are language processors or translators used to convert high level coding languages. <br>\n",
        "They are also used to find errors in the source program.\n",
        "\n",
        "First, let’s look at Compilers.\n",
        "![image-2.png](attachment:image-2.png)\n",
        "\n",
        "Compilers first translate the source code into machine code or object code that a computer understands, and then executes the entire program in one go.<br>\n",
        "Compilers are used in programming languages like C, C++, C#, Java, etc.\n",
        "\n",
        "Now let’s look at Interpreters.\n",
        "![image-4.png](attachment:image-4.png)\n",
        "\n",
        "Interpreters don’t translate programs into object code before execution.<br>\n",
        "An Interpreter executes a program line by line.<br>\n",
        "Interpreters are used by programming languages such as PHP, Perl, Python, etc.\n",
        "\n",
        "**Compiled vs Interpreted**<br>\n",
        "A compiled program will only work on the platform it was designed for. <br>\n",
        "For example, a C program written for the Windows operating system normally will not work on a Mac OS computer. <br>\n",
        "But, compiled programs execute much faster than those programs that run through an interpreter. <br>\n",
        "Also, it is often possible to recompile the program so that it will run on different operating system platforms.\n",
        "\n",
        "The advantage of an interpreted program is that it is very portable. <br>\n",
        "Any computer that has the appropriate interpreter installed may run the program more or less unchanged. <br>\n",
        "But, the program will not run at all if the interpreter is not available. <br>\n",
        "Also, interpreted programs are slower than compiled programs.\n"
      ]
    },
    {
      "cell_type": "markdown",
      "metadata": {
        "id": "539VNlPd2YBe"
      },
      "source": [
        "## 1.6 What is Python?"
      ]
    },
    {
      "cell_type": "markdown",
      "metadata": {
        "id": "eQTvV7Dp2YBe"
      },
      "source": [
        "Python is a programming language developed by <b>Guido van Rossum</b> in <b>February 1991</b>.<br>\n",
        "Python has grown in programming features and popularity as a result of the contribution from thousands of programmers, testers, and users from the Python community.<br>\n",
        "Python is designed as an object-oriented, high-level programming language with dynamic semantics that makes it highly versatile for general-purpose programming.<br>\n",
        "The current version of Python is Python 3.\n",
        "\n",
        "**Goals of Python**<br>\n",
        "Python was developed with the following goals in mind:\n",
        "1. To be an easy and intuitive programming language that is just as powerful as the other available programming languages.\n",
        "2. To be an open-source programming language that can be freely developed by anyone.\n",
        "3. To use plain English to code, so that it is easily understood.\n",
        "4. To be suitable for everyday tasks."
      ]
    },
    {
      "cell_type": "markdown",
      "metadata": {
        "id": "b6gMw84m2YBe"
      },
      "source": [
        "## 1.7 Compiling and Executing a Python Program"
      ]
    },
    {
      "cell_type": "markdown",
      "metadata": {
        "id": "_hE9RZ1X2YBe"
      },
      "source": [
        "A user can write Python program in a text editor and save the file with an extension “.py”. This forms the source code. <br>\n",
        "The program can then be executed.<br>\n",
        "![image.png](attachment:image.png)<br>\n",
        "If the interpreter finds an error the execution is interrupted, and error message is displayed.<br>\n",
        "If there are no errors the expected output of the program appears on the console and the execution ends. <br>\n",
        "In this case the expected output is Python Programming."
      ]
    },
    {
      "cell_type": "markdown",
      "metadata": {
        "id": "Gj1RhJAO2YBe"
      },
      "source": [
        "# 2. Python Environment\n"
      ]
    },
    {
      "cell_type": "markdown",
      "metadata": {
        "id": "dKlnskuo2YBe"
      },
      "source": [
        "## 2.1 Four ways to run Python Code"
      ]
    },
    {
      "cell_type": "markdown",
      "metadata": {
        "id": "dz9AN3CW2YBe"
      },
      "source": [
        "Python is a flexible language, and there are several ways to use it depending on your particular task.\n",
        "One thing that distinguishes Python from other programming languages is that it is *interpreted* rather than *compiled*.\n",
        "This means that it is executed line by line, which allows programming to be interactive in a way that is not directly possible with compiled languages like Fortran, C, or Java.\n",
        "\n",
        "Four primary ways you can run Python code:\n",
        "\n",
        "1. The *Python interpreter*\n",
        "2. The *IPython interpreter*\n",
        "3. Via *Self-contained Scripts*\n",
        "4. The *Jupyter notebook*.\n"
      ]
    },
    {
      "cell_type": "markdown",
      "metadata": {
        "id": "U4mOrRNY2YBe"
      },
      "source": [
        "### The Python Interpreter\n",
        "\n",
        "The most basic way to execute Python code is line by line within the *Python interpreter*.\n",
        "The Python interpreter can be started by installing the Python language (see the previous section) and typing ``python`` at the command prompt (look for the Terminal on Mac OS X and Unix/Linux systems, or the Anaconda Prompt application in Windows):\n",
        "```\n",
        "(base) C:\\Users\\danny\\examples>python\n",
        "Python 3.11.5 | packaged by Anaconda, Inc. | (main, Sep 11 2023, 13:26:23) [MSC v.1916 64 bit (AMD64)] on win32\n",
        "Type \"help\", \"copyright\", \"credits\" or \"license\" for more information.\n",
        ">>>\n",
        "```\n",
        "\n",
        "Windows:\n",
        "```\n",
        "C:\\Users\\danny\\anaconda3\\python.exe\n",
        "\n",
        "```\n",
        "With the interpreter running, you can begin to type and execute code snippets.\n",
        "Here we'll use the interpreter as a simple calculator, performing calculations and assigning values to variables:\n",
        "``` python\n",
        "\n",
        "(base) C:\\Users\\danny\\examples>python\n",
        "Python 3.11.5 | packaged by Anaconda, Inc. | (main, Sep 11 2023, 13:26:23) [MSC v.1916 64 bit (AMD64)] on win32\n",
        "Type \"help\", \"copyright\", \"credits\" or \"license\" for more information.\n",
        ">>> 1+1\n",
        "2\n",
        ">>> x=5\n",
        ">>> x*3\n",
        "15\n",
        ">>>\n",
        "```\n",
        "\n",
        "The interpreter makes it very convenient to try out small snippets of Python code and to experiment with short sequences of operations.\n",
        "\n",
        "To exit the Python interpreter, type the following:\n",
        "``` python\n",
        ">>> exit()\n",
        "```"
      ]
    },
    {
      "cell_type": "markdown",
      "metadata": {
        "id": "Q7PnOYaf2YBe"
      },
      "source": [
        "### The IPython interpreter\n",
        "\n",
        "If you spend much time with the basic Python interpreter, you'll find that it lacks many of the features of a full-fledged interactive development environment.\n",
        "An alternative interpreter called *IPython* (for Interactive Python) is bundled with the Anaconda distribution, and includes a host of convenient enhancements including code completion to the basic Python interpreter.\n",
        "It can be started by typing ``ipython`` at the command prompt:\n",
        "```\n",
        "(base) C:\\Users\\danny\\examples>ipython\n",
        "Python 3.11.5 | packaged by Anaconda, Inc. | (main, Sep 11 2023, 13:26:23) [MSC v.1916 64 bit (AMD64)]\n",
        "Type 'copyright', 'credits' or 'license' for more information\n",
        "IPython 8.15.0 -- An enhanced Interactive Python. Type '?' for help.\n",
        "\n",
        "In [1]:\n",
        "```\n",
        "\n",
        "Windows:\n",
        "\n",
        "``` windows\n",
        "(base) C:\\Users\\danny\\examples>ipython3.exe\n",
        "Python 3.11.5 | packaged by Anaconda, Inc. | (main, Sep 11 2023, 13:26:23) [MSC v.1916 64 bit (AMD64)]\n",
        "Type 'copyright', 'credits' or 'license' for more information\n",
        "IPython 8.15.0 -- An enhanced Interactive Python. Type '?' for help.\n",
        "\n",
        "In [1]: 1+1\n",
        "Out[1]: 2\n",
        "\n",
        "In [2]:\n",
        "\n",
        "```\n",
        "The main aesthetic difference between the Python interpreter and the enhanced IPython interpreter lies in the command prompt: Python uses ``>>>`` by default, while IPython uses numbered commands (e.g. ``In [1]:``).\n",
        "Regardless, we can execute code line by line just as we did before:\n",
        "``` ipython\n",
        "In [1]: 1 + 1\n",
        "Out[1]: 2\n",
        "\n",
        "In [2]: x = 5\n",
        "\n",
        "In [3]: x * 3\n",
        "Out[3]: 15\n",
        "```\n",
        "Note that just as the input is numbered, the output of each command is numbered as well.\n",
        "\n",
        "Similarly to the Python interpreter, type the following to exit from the IPython interpreter:\n",
        "``` python\n",
        ">>> exit()\n",
        "```"
      ]
    },
    {
      "cell_type": "markdown",
      "metadata": {
        "id": "N8arRZES2YBf"
      },
      "source": [
        "###  Self-contained Python scripts\n",
        "\n",
        "Running Python snippets line by line is useful in some cases, but for more complicated programs it is more convenient to save code to file, and execute it all at once.\n",
        "By convention, Python scripts are saved in files with a *.py* extension.\n",
        "\n",
        "Let's start an editor (Spyder (Python 3.9) is installed under the Anaconda distribution) and create a script called *test.py* which contains the following:\n",
        "``` python\n",
        "# file: test.py\n",
        "print(\"Running test.py\")\n",
        "x = 5\n",
        "print(\"Result is\", 3 * x)\n",
        "```\n",
        "To run this file, we make sure it is in the current directory and type ``python`` *``filename``* at the command prompt:\n",
        "```\n",
        "(base) C:\\Users\\danny\\examples>python test.py\n",
        "Running test.py\n",
        "Result is 15\n",
        "```\n",
        "For more complicated programs, creating self-contained scripts like this one is a must."
      ]
    },
    {
      "cell_type": "markdown",
      "metadata": {
        "id": "klmypJim2YBf"
      },
      "source": [
        "### The Jupyter notebook\n",
        "\n",
        "A useful hybrid of the interactive terminal and the self-contained script is the *Jupyter Notebook*, a document format that allows executable code, formatted text, graphics, and even interactive features to be combined into a single document.\n",
        "Though the notebook began as a Python-only format, it has since been made compatible with a large number of programming languages, and is now an essential part of the [*Jupyter Project*](https://jupyter.org/).\n",
        "The notebook is useful both as a development environment, and as a means of sharing work via rich computational and data-driven narratives that mix together code, figures, data, and text.\n",
        "\n",
        "We will use the Jupyter notebook as our primary interface to running Python code in this course."
      ]
    },
    {
      "cell_type": "markdown",
      "metadata": {
        "id": "h3nVVxi02YBf"
      },
      "source": [
        "# 3. Updating and Installing Packages"
      ]
    },
    {
      "cell_type": "markdown",
      "metadata": {
        "id": "WdTtzx7W2YBf"
      },
      "source": [
        "## 3.1 Updating Packages\n",
        "\n",
        "The Anaconda Command Prompt runs a Command terminal with your current base (root) environment.\n",
        "It is needed to update or import packages into Anaconda. Need to run as administrator in Windows environment.\n",
        "```\n",
        "C:\\Users\\danny>conda update numpy\n",
        "```\n",
        "\n",
        "## 3.2 Installing Packages\n",
        "Install any required packages via the Anaconda Command Prompt with your current base (root) environment.\n",
        "May need to run as administrator in Windows environment.\n",
        "```\n",
        "C:\\Users\\danny>conda install <package-name>\n",
        "\n",
        "or\n",
        "   \n",
        "C:\\Users\\danny>pip install <package-name>\n",
        "```"
      ]
    },
    {
      "cell_type": "markdown",
      "metadata": {
        "collapsed": true,
        "id": "Iea6AHB72YBf"
      },
      "source": [
        "<center>\n",
        "  <a href=\"./\">Content Page</a> | <a href=\"PP-02-Variables.ipynb\">Variables, Types, Collections, Strings and Comments</a>\n",
        "</center>"
      ]
    }
  ],
  "metadata": {
    "kernelspec": {
      "display_name": "Python 3 (ipykernel)",
      "language": "python",
      "name": "python3"
    },
    "language_info": {
      "codemirror_mode": {
        "name": "ipython",
        "version": 3
      },
      "file_extension": ".py",
      "mimetype": "text/x-python",
      "name": "python",
      "nbconvert_exporter": "python",
      "pygments_lexer": "ipython3",
      "version": "3.11.5"
    },
    "colab": {
      "provenance": [],
      "include_colab_link": true
    }
  },
  "nbformat": 4,
  "nbformat_minor": 0
}