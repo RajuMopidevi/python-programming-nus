{
 "cells": [
  {
   "cell_type": "markdown",
   "metadata": {},
   "source": [
    "<center>\n",
    "  <a href=\"PP-05-ProgramFlowControls.ipynb\" target=\"_self\">Program Flow Controls</a> | <a href=\"./\">Content Page</a> | <a href=\"PP-07-InputsAndOutputs.ipynb\">Inputs and Outputs</a> | <a href=\"PP-06-Functions-Exercises.ipynb\">Functions Exercises</a>\n",
    "</center>"
   ]
  },
  {
   "cell_type": "markdown",
   "metadata": {},
   "source": [
    "# <center>FUNCTIONS</center>\n",
    "<center><b>Copyright &copy 2023 by DR DANNY POO</b><br> e:dannypoo@nus.edu.sg<br> w:drdannypoo.com</center><br>"
   ]
  },
  {
   "cell_type": "markdown",
   "metadata": {
    "collapsed": true
   },
   "source": [
    "Consider a variable “number” which is defined as an integer. Depending on the value, this variable could be a positive number (that is greater than 0), negative number (that is less than 0) or merely 0 itself. To test this code, we have to assign varying values to it and display the outcome:\n",
    "```python\n",
    "number = 70\n",
    "if number > 0:\n",
    "    print(\"number is positive\")\n",
    "elif number == 0:\n",
    "    print(\"number is 0\")\n",
    "else:\n",
    "    print(\"number is negative\")\n",
    "number = 0\n",
    "if number > 0:\n",
    "    print(\"number is positive\")\n",
    "elif number == 0:\n",
    "    print(\"number is 0\")\n",
    "else:\n",
    "    print(\"number is negative\")\n",
    "number = -43\n",
    "if number > 0:\n",
    "    print(\"number is positive\")\n",
    "elif number == 0:\n",
    "    print(\"number is 0\")\n",
    "else:\n",
    "    print(\"number is negative\")\n",
    "```\n",
    "The output is:\n",
    "```python\n",
    "number is positive\n",
    "number is 0\n",
    "number is negative\n",
    "```\n",
    "The ``if`` statement is repeatedly used to print the result of the variable ``number`` value depending on its value then (positive number, 0, negative number). \n",
    "\n",
    "One better approach available in Python (and other programming languages) is the use of a <b>function</b>. <br>\n",
    "A function is an independent and reusable block of code that can be called any number of times from any place in a program.\n",
    "\n",
    "Here, we will discuss the concept of user-defined function in Python, the different types of <b>function</b> and how to create and use functions. Besides, the concept of method which is closely related to function will be introduced and distinguished from function. Finally, we will cover the ``import`` statement for ensuring all definition of attributes and functions in a module are available for use in the current Python program.\n"
   ]
  },
  {
   "cell_type": "markdown",
   "metadata": {},
   "source": [
    "# 1. What is a Function?\n",
    "A function is a logical unit of code that contains a sequence of indented statements under a given name using the ``def`` keyword. <br>\n",
    "A function defined in this manner is known as a user-defined function."
   ]
  },
  {
   "cell_type": "code",
   "execution_count": 1,
   "metadata": {},
   "outputs": [
    {
     "name": "stdout",
     "output_type": "stream",
     "text": [
      "number is positive\n",
      "number is 0\n",
      "number is negative\n"
     ]
    }
   ],
   "source": [
    "# The following defines a function containing the “if” statement above\n",
    "# Notice we do not have to repeat the “if” statement; instead, \n",
    "# we have reused the code each time the function check() is called.\n",
    "def check(number):\n",
    "    if number > 0:\n",
    "        print(\"number is positive\")\n",
    "    elif number == 0:\n",
    "        print(\"number is 0\")\n",
    "    else:\n",
    "        print(\"number is negative\")\n",
    "check(70)\n",
    "check(0)\n",
    "check(-43)"
   ]
  },
  {
   "cell_type": "markdown",
   "metadata": {},
   "source": [
    "## 1.1 Constructing a Function\n",
    "A Python function is defined by a “def” keyword. \n",
    "\n",
    "<b>Steps to Constructing a Function</b>\n",
    "\n",
    "<b>Step 1: Define the function header</b><br>\n",
    "Define the “def” keyword. Specify a name for the function. Information can be passed into functions as arguments which are specified after the function name, inside the parentheses. You can add as many arguments as you want, just separate them with a comma. Complete the definition of a function header with a colon “:” e.g.\n",
    "```python\n",
    "def check(number): # Function header\n",
    "```\n",
    "“check” is the function name while “number” is the argument required for calling “check” function. The function name is an identifier of the function so this name must follow the rules for naming identifiers.<br><br>\n",
    "<b>Step 2: Add docstring (optional)</b><br>\n",
    "Add a meaningful docstring enclosed within triple double quotes to explain what the function does. However, this is optional.\n",
    "\n",
    "<b>Step 3: Include the function body</b><br>\n",
    "Include valid Python statements indented with four spaces. Proper indentation is critical as a slight mismatch in indentation of statements within a function renders error.\n",
    " \n",
    "<b>Step 4: Include a “return” statement</b><br>\n",
    "Include a “return” statement to end the function. If the function does not return a value, the “return” statement returns a “None” value. The “return” statement is optional if there is no return value. \n",
    "\n",
    "If the function does return a value, the “return” statement returns the value to the invoking function call. \n"
   ]
  },
  {
   "cell_type": "code",
   "execution_count": 2,
   "metadata": {},
   "outputs": [],
   "source": [
    "# The following is the definition of a function named “check”\n",
    "def check(number): # Function header\n",
    "    # docstring\n",
    "    \"\"\"check function prints the nature of a number: \n",
    "       positive, 0, or negative\n",
    "    \"\"\"\n",
    "    # Function body\n",
    "    if number > 0:\n",
    "        print(\"number is positive\")\n",
    "    elif number == 0:\n",
    "        print(\"number is 0\")\n",
    "    else:\n",
    "        print(\"number is negative\")\n",
    "    return # no return value. Return statement is optional\n",
    "# End of function"
   ]
  },
  {
   "cell_type": "markdown",
   "metadata": {},
   "source": [
    "## 1.2 The \"return\" Statement\n",
    "A ``return`` statement terminates the execution of a function and returns flow control to the invoking function call. <br>\n",
    "A simple ``return`` statement such as ``return`` returns no value (i.e. None). <br>\n",
    "This form of return is commonly used to exit a function. <br>\n",
    "Optionally, the ``return`` statement can be omitted and the function will still exit to return to the invoking function call."
   ]
  },
  {
   "cell_type": "code",
   "execution_count": 3,
   "metadata": {},
   "outputs": [
    {
     "name": "stdout",
     "output_type": "stream",
     "text": [
      "30\n",
      "40\n"
     ]
    }
   ],
   "source": [
    "# If a function has a return type, the “return” statement will return the value to the invoking function call\n",
    "def func(a, b):\n",
    "    return a * b\n",
    "\n",
    "print(func(5, 6))\n",
    "print(func(10, 4))"
   ]
  },
  {
   "cell_type": "markdown",
   "metadata": {},
   "source": [
    "## 1.3 The \"pass\" Statement\n",
    "A function cannot be empty but if for some reasons, you need to have a function with no content, put in the ``pass`` statement to avoid getting an error.<br>"
   ]
  },
  {
   "cell_type": "code",
   "execution_count": 4,
   "metadata": {},
   "outputs": [],
   "source": [
    "# pass\n",
    "def func():\n",
    "    pass # add this statement to avoid error"
   ]
  },
  {
   "cell_type": "markdown",
   "metadata": {},
   "source": [
    "## 1.4 Calling a Function\n",
    "``def`` statement being a statement can be defined anywhere a statement can appear, such as nested in an ``if`` statement or within another function.<br>\n",
    "To use a function, we make a function call in any part of a Python program like:\n",
    "```python\n",
    "function_name(arguments)  # call the function with appropriate arguments\n",
    "```"
   ]
  },
  {
   "cell_type": "code",
   "execution_count": 5,
   "metadata": {},
   "outputs": [],
   "source": [
    "# Refresh check() function here\n",
    "def check(number): # Function header\n",
    "    # docstring\n",
    "    \"\"\"check function prints the nature of a number: \n",
    "       positive, 0, or negative\n",
    "    \"\"\"\n",
    "    # Function body\n",
    "    if number > 0:\n",
    "        print(\"number is positive\")\n",
    "    elif number == 0:\n",
    "        print(\"number is 0\")\n",
    "    else:\n",
    "        print(\"number is negative\")\n",
    "    return # no return value. Return statement is optional\n",
    "# End of function"
   ]
  },
  {
   "cell_type": "code",
   "execution_count": 6,
   "metadata": {},
   "outputs": [
    {
     "name": "stdout",
     "output_type": "stream",
     "text": [
      "number is positive\n",
      "number is negative\n"
     ]
    }
   ],
   "source": [
    "# Call check() function\n",
    "check(20)  # call the check() function with number 20\n",
    "check(-20) # call the check() function with number -20"
   ]
  },
  {
   "cell_type": "code",
   "execution_count": 7,
   "metadata": {},
   "outputs": [
    {
     "name": "stdout",
     "output_type": "stream",
     "text": [
      "number is positive\n",
      "None\n"
     ]
    }
   ],
   "source": [
    "# Print return value\n",
    "print(check(20))  # “None” is printed as there is no return value"
   ]
  },
  {
   "cell_type": "code",
   "execution_count": 8,
   "metadata": {},
   "outputs": [],
   "source": [
    "# Suppose we have a return value from the check() function\n",
    "def check(number): # Function header\n",
    "    # docstring\n",
    "    \"\"\"check function prints the nature of a number: \n",
    "       positive, 0, or negative\n",
    "    \"\"\"\n",
    "    # Function body\n",
    "    if number > 0:\n",
    "        print(\"number is positive\")\n",
    "    elif number == 0:\n",
    "        print(\"number is 0\")\n",
    "    else:\n",
    "        print(\"number is negative\")\n",
    "    return (\"End of check()\")"
   ]
  },
  {
   "cell_type": "code",
   "execution_count": 9,
   "metadata": {},
   "outputs": [
    {
     "name": "stdout",
     "output_type": "stream",
     "text": [
      "number is positive\n",
      "End of check()\n"
     ]
    }
   ],
   "source": [
    "# Call new check() function\n",
    "print(check(20))  "
   ]
  },
  {
   "cell_type": "markdown",
   "metadata": {},
   "source": [
    "## 1.5 Variables in Functions\n",
    "A function is a block. Any variables defined in a function can be considered as <b>local</b> or <b>global</b> depending on its visibility within and without the function."
   ]
  },
  {
   "cell_type": "markdown",
   "metadata": {},
   "source": [
    "### Local Variables\n",
    "Any variables defined within a function are said to be local to the function. They have visibility only inside the function code block and are not recognized beyond the block. The area in which an identifier of a variable may be referenced is known as the <b>scope</b> of the identifier. <br><br>\n",
    "A local variable does not retain value between calls to the same function. The identifier used for a local variable in a function does not conflict with variables of the same identifier outside of the definition of the function.<br>\n",
    "\n",
    "Local variable assignments can occur:\n",
    "1.\tInside a def – within the function\n",
    "2.\tIn an enclosing def – it is non-local to the nested functions"
   ]
  },
  {
   "cell_type": "code",
   "execution_count": 10,
   "metadata": {},
   "outputs": [
    {
     "name": "stdout",
     "output_type": "stream",
     "text": [
      "15\n"
     ]
    }
   ],
   "source": [
    "# Local variables are only available while the function is executing\n",
    "def add(a, b):\n",
    "    result = a\n",
    "    result += b\n",
    "    return result\n",
    "\n",
    "print(add(5, 10))"
   ]
  },
  {
   "cell_type": "markdown",
   "metadata": {},
   "source": [
    "**Example:**\n",
    "\n",
    "Calling:\n",
    "```python\n",
    "print(result)\n",
    "```\n",
    "will result in a NameError because \"result\" is a local variable.<br>\n",
    "<b>NameError: name 'result' is not defined</b>"
   ]
  },
  {
   "cell_type": "markdown",
   "metadata": {},
   "source": [
    "### Global Variables\n",
    "Variables in a function defined with the ``global`` keyword makes the variables global variables which retain changes that live outside a function. You can specify one or more identifiers separated by commas in a single global statement. The global variables defined attach to the enclosing module’s scope when assigned or referenced within the function. "
   ]
  },
  {
   "cell_type": "code",
   "execution_count": 11,
   "metadata": {},
   "outputs": [
    {
     "name": "stdout",
     "output_type": "stream",
     "text": [
      "[1, 2, 3] 20\n"
     ]
    }
   ],
   "source": [
    "# Defining global variables\n",
    "a = 10\n",
    "b = 20\n",
    "def func():\n",
    "    global a      # variable a is global\n",
    "    a = [1, 2, 3]\n",
    "    b = (4, 5, 6) # variable b is local\n",
    "\n",
    "func()\n",
    "print(a, b)"
   ]
  },
  {
   "cell_type": "code",
   "execution_count": 12,
   "metadata": {},
   "outputs": [
    {
     "name": "stdout",
     "output_type": "stream",
     "text": [
      "(4, 5, 6)\n"
     ]
    }
   ],
   "source": [
    "# Local and Global variables\n",
    "a = 10\n",
    "def func1():\n",
    "    a = [1, 2, 3] # local variable\n",
    "def func2():\n",
    "    global a\n",
    "    a = (4, 5, 6) # global variable\n",
    "\n",
    "func1()\n",
    "func2()\n",
    "print(a) # \"a\" is the global variable in func2(). It overwrites the first \"a\""
   ]
  },
  {
   "cell_type": "markdown",
   "metadata": {},
   "source": [
    "**UnboundLocalError in Variable Definitions**\n",
    "\n",
    "Variable \"a\" is defined as a global variable first and a local variable within function greeting().\n",
    "\n",
    "```python\n",
    "a = \"Morning\"\n",
    "\n",
    "def greeting():\n",
    "  a = a + \"Afternoon\" \n",
    "  print(\"Good \" + a)\n",
    "\n",
    "greeting()\n",
    "print(\"Good \" + a)\n",
    "```\n",
    "\n",
    "Above results in<br>\n",
    "<b>UnboundLocalError: local variable 'a' referenced before assignment</b>"
   ]
  },
  {
   "cell_type": "code",
   "execution_count": 13,
   "metadata": {},
   "outputs": [
    {
     "name": "stdout",
     "output_type": "stream",
     "text": [
      "Good MorningAfternoon\n",
      "Good Morning\n"
     ]
    }
   ],
   "source": [
    "# This is fine bec \"A\" is not the same as \"a\"\n",
    "# also, \"a\" in greeting() is a global variable\n",
    "a = \"Morning\"\n",
    "\n",
    "def greeting():\n",
    "  A = a + \"Afternoon\" # global \"a\"\n",
    "  print(\"Good \" + A)\n",
    "\n",
    "greeting()\n",
    "print(\"Good \" + a)"
   ]
  },
  {
   "cell_type": "code",
   "execution_count": 14,
   "metadata": {},
   "outputs": [
    {
     "name": "stdout",
     "output_type": "stream",
     "text": [
      "Good MorningAfternoon\n",
      "Good MorningAfternoon\n"
     ]
    }
   ],
   "source": [
    "# To use the same \"a\" variable, define \"a\" as global in greeting()\n",
    "a = \"Morning\"\n",
    "\n",
    "def greeting():\n",
    "    global a\n",
    "    a = a + \"Afternoon\"\n",
    "    print(\"Good \" + a)\n",
    "\n",
    "greeting()\n",
    "print(\"Good \" + a) # \"a\" is changed in greeting() function"
   ]
  },
  {
   "cell_type": "code",
   "execution_count": 15,
   "metadata": {},
   "outputs": [
    {
     "name": "stdout",
     "output_type": "stream",
     "text": [
      "Good Afternoon\n",
      "Good Morning\n"
     ]
    }
   ],
   "source": [
    "# This is clear and no issue\n",
    "a = \"Morning\"          # global \"a\"\n",
    "\n",
    "def greeting():\n",
    "    a = \"Afternoon\"  \n",
    "    print(\"Good \" + a) # local \"a\"\n",
    "\n",
    "greeting()\n",
    "print(\"Good \" + a)     # global \"a\""
   ]
  },
  {
   "cell_type": "markdown",
   "metadata": {},
   "source": [
    "## 1.6 Function Parameters\n",
    "A parameter is a variable that allows values external to a function to be passed into the function. The term ``parameter`` is often used interchangeably with ``argument`` but  there is a difference in their use. Parameters are variables used in the function definition whereas arguments are the values passed into the function as function parameters. <b>Parameters</b> are also known as <b>formal parameter</b>s and <b>arguments</b> as <b>actual parameters</b>.\n",
    "\n",
    "A function must be called with the correct number of parameters i.e. if a function is defined with 2 formal parameters, a call to the function must have 2 arguments, not more, and not less.<br><br>\n",
    "Python allows for five ways of passing arguments to functions:\n",
    "1.\tStandard arguments\n",
    "2.\tKeyword-based arguments\n",
    "3.\tArbitrary keyword-based arguments\n",
    "4.\tArguments with default values\n",
    "5.\tVariable arguments"
   ]
  },
  {
   "cell_type": "markdown",
   "metadata": {},
   "source": [
    "### Standard Arguments\n",
    "The standard arguments are those that are passed in as actual arguments as specified in a Python function definition i.e. pass in the required number of arguments and in the order they are defined as formal parameters."
   ]
  },
  {
   "cell_type": "code",
   "execution_count": 16,
   "metadata": {},
   "outputs": [
    {
     "name": "stdout",
     "output_type": "stream",
     "text": [
      "6 8\n"
     ]
    }
   ],
   "source": [
    "# Function order() takes in two parameters “a” and “b”\n",
    "def order(a, b): # formal parameters a and b\n",
    "    if (a > b):\n",
    "        x = a\n",
    "        a = b\n",
    "        b = x\n",
    "        print(a, b)\n",
    "\n",
    "x = 0\n",
    "order(8,6) # actual parameters 8 and 6"
   ]
  },
  {
   "cell_type": "code",
   "execution_count": 17,
   "metadata": {},
   "outputs": [
    {
     "name": "stdout",
     "output_type": "stream",
     "text": [
      "[1, 2] [3, 4]\n"
     ]
    }
   ],
   "source": [
    "# Can also pass in two lists to order() function\n",
    "order([3,4], [1,2])"
   ]
  },
  {
   "cell_type": "markdown",
   "metadata": {},
   "source": [
    "**Example:**\n",
    "\n",
    "Cannot pass in a list and a tuple\n",
    "```python\n",
    "order([3,4], (1,2))\n",
    "```\n",
    "The output is:<br>\n",
    "<b>TypeError: '>' not supported between instances of 'list' and 'tuple'</b>"
   ]
  },
  {
   "cell_type": "markdown",
   "metadata": {},
   "source": [
    "**Example:**\n",
    "\n",
    "If no argument is passed into order() function, a TypeError of missing arguments is reported\n",
    "```python\n",
    "order()\n",
    "```\n",
    "The output is:<br>\n",
    "<b>TypeError: order() missing 2 required positional arguments: 'a' and 'b'</b>"
   ]
  },
  {
   "cell_type": "markdown",
   "metadata": {},
   "source": [
    "### Keyword-based Arguments "
   ]
  },
  {
   "cell_type": "code",
   "execution_count": 18,
   "metadata": {},
   "outputs": [
    {
     "name": "stdout",
     "output_type": "stream",
     "text": [
      "[1, 2] [3, 4]\n"
     ]
    }
   ],
   "source": [
    "# Can include the identifier of the formal parameter in the function call\n",
    "order(a = [3,4], b = [1,2])"
   ]
  },
  {
   "cell_type": "code",
   "execution_count": 19,
   "metadata": {},
   "outputs": [
    {
     "name": "stdout",
     "output_type": "stream",
     "text": [
      "[3, 4] [8, 9]\n"
     ]
    }
   ],
   "source": [
    "# Can also call order() function in this manner\n",
    "# Notice the order of the arguments does not matter anymore\n",
    "order(b = [3,4], a = [8,9])"
   ]
  },
  {
   "cell_type": "markdown",
   "metadata": {},
   "source": [
    "**Example:**\n",
    "\n",
    "However, all parameter identifiers must be included in the actual parameters for the function to work\n",
    "```python\n",
    "order(a = [3,4], [1,2])\n",
    "```\n",
    "The output is:<br>\n",
    "<b>SyntaxError: positional argument follows keyword argument</b>"
   ]
  },
  {
   "cell_type": "markdown",
   "metadata": {},
   "source": [
    "**Example:**\n",
    "\n",
    "Formal and actual parameters must also match with one another \n",
    "```python\n",
    "order(b = [5,6], c = [9,10])\n",
    "```\n",
    "The output is:<br>\n",
    "<b>TypeError: order() got an unexpected keyword argument 'c'</b>"
   ]
  },
  {
   "cell_type": "markdown",
   "metadata": {},
   "source": [
    "### Arbitrary Keyword-based Arguments\n",
    "Keyword-based arguments require us to know the names of the formal parameters and how many arguments are required for the function. What if we do not know how many keyword arguments and the names of the parameters? Python provides <b>arbitrary keyword-based arguments</b> as an answer to this question."
   ]
  },
  {
   "cell_type": "code",
   "execution_count": 20,
   "metadata": {},
   "outputs": [
    {
     "name": "stdout",
     "output_type": "stream",
     "text": [
      "Author is John Lewis\n",
      "Age is 35\n"
     ]
    }
   ],
   "source": [
    "# Add two asterisks (**) before the name of the formal parameter\n",
    "def author(**args):\n",
    "    print(\"Author is\", args[\"name\"])\n",
    "    print(\"Age is\", args[\"age\"])\n",
    "\n",
    "# Call author() function\n",
    "author(age = 35, name = \"John Lewis\", phone = \"12345678\") # Note that “phone = “12345678”” is not used within \n",
    "                                                          # the function and it does not cause any error."
   ]
  },
  {
   "cell_type": "markdown",
   "metadata": {},
   "source": [
    "### Arguments with Default Values\n",
    "Python allows formal parameters to be set with default values in the function definition. This form of argument definition is known as “arguments with default values”. If the caller of the function does not provide the argument for the formal parameter, the default value will be used in the function."
   ]
  },
  {
   "cell_type": "code",
   "execution_count": 21,
   "metadata": {},
   "outputs": [
    {
     "name": "stdout",
     "output_type": "stream",
     "text": [
      "price is $10\n",
      "price is $20\n"
     ]
    }
   ],
   "source": [
    "# Default value \"on\" is True\n",
    "def sales(on = True):\n",
    "    if on:\n",
    "        print(\"price is $10\")\n",
    "    else: # sales is off\n",
    "        print(\"price is $20\")\n",
    "        \n",
    "# Call sales() function\n",
    "sales()      # use default value True\n",
    "sales(False)"
   ]
  },
  {
   "cell_type": "markdown",
   "metadata": {},
   "source": [
    "### Variable Arguments\n",
    "There may be times when it is not clear how many arguments need to be passed into a Python function e.g. when using the print() function, any variable number of arguments can be provided to it.<br>\n",
    "\n",
    "To define a variable argument, include an asterisk (*) before the parameter identifier\n",
    "```python\n",
    "def func([standard_arguments,] *variable_args_tuple):\n",
    "    \"\"\" docstring \"\"\"\n",
    "    function_body\n",
    "        ...\n",
    "    return_statement\n",
    "```"
   ]
  },
  {
   "cell_type": "code",
   "execution_count": 22,
   "metadata": {},
   "outputs": [
    {
     "name": "stdout",
     "output_type": "stream",
     "text": [
      "Vegetable [buys=3]: ('celery', 'carrot', 'onion')\n",
      "- celery\n",
      "- carrot\n",
      "- onion\n"
     ]
    }
   ],
   "source": [
    "# Variable argument \"buys\"\n",
    "def grocery(department, *buys): # buys is a variable argument\n",
    "    print(\"%s [buys=%d]:\" %(department, len(buys)), buys)\n",
    "    for i in buys:\n",
    "        print(\"-\", i)\n",
    "    return\n",
    "\n",
    "# Call grocery() function\n",
    "grocery(\"Vegetable\", \"celery\", \"carrot\", \"onion\") # 4 arguments"
   ]
  },
  {
   "cell_type": "code",
   "execution_count": 23,
   "metadata": {},
   "outputs": [
    {
     "name": "stdout",
     "output_type": "stream",
     "text": [
      "Frozen [buys=2]: ('pork', 'chicken wings')\n",
      "- pork\n",
      "- chicken wings\n"
     ]
    }
   ],
   "source": [
    "# Calling with 3 arguments \n",
    "grocery(\"Frozen\", \"pork\", \"chicken wings\") # 3 arguments"
   ]
  },
  {
   "cell_type": "markdown",
   "metadata": {},
   "source": [
    "## 1.7 Function Calls\n",
    "The examples that have been shown requires the caller of a function to be external of the function. "
   ]
  },
  {
   "cell_type": "markdown",
   "metadata": {},
   "source": [
    "### General function call"
   ]
  },
  {
   "cell_type": "code",
   "execution_count": 24,
   "metadata": {},
   "outputs": [
    {
     "name": "stdout",
     "output_type": "stream",
     "text": [
      "Vegetable [buys=3]: ('celery', 'carrot', 'onion')\n",
      "- celery\n",
      "- carrot\n",
      "- onion\n"
     ]
    }
   ],
   "source": [
    "# Refresh grocery() function\n",
    "def grocery(department, *buys): # buy is a variable argument\n",
    "    print(\"%s [buys=%d]:\" %(department, len(buys)), buys)\n",
    "    for i in buys:\n",
    "        print(\"-\", i)\n",
    "    return\n",
    "\n",
    "# Call grocery() function - external of grocery() function\n",
    "grocery(\"Vegetable\", \"celery\", \"carrot\", \"onion\")"
   ]
  },
  {
   "cell_type": "markdown",
   "metadata": {},
   "source": [
    "### Recursive function call"
   ]
  },
  {
   "cell_type": "code",
   "execution_count": 25,
   "metadata": {},
   "outputs": [
    {
     "name": "stdout",
     "output_type": "stream",
     "text": [
      "3628800\n"
     ]
    }
   ],
   "source": [
    "# A factorial is a positive number n, denoted by n!, is the product of all the positive integers less than or equal to n\n",
    "# n! = n * (n-1) * (n-2) * (n-3) * … * 3 * 2 * 1\n",
    "# 10! = 10 * (10-1) * (10-2) * (10-3) * (10-4) * (10-5) * (10-6) * (10-7) * (10-8) * (10-9)\n",
    "def factorial(number):\n",
    "    if (number != 1):\n",
    "        return number * factorial(number - 1)\n",
    "    else:\n",
    "        return 1\n",
    "\n",
    "print(factorial(10))"
   ]
  },
  {
   "attachments": {
    "image-2.png": {
     "image/png": "[encoded data removed]"
    },
    "image-3.png": {
     "image/png": "[encoded data removed]"
    }
   },
   "cell_type": "markdown",
   "metadata": {},
   "source": [
    "## 1.8 Built-in Functions\n",
    "There is a list of functions that have already been defined and built-in Python.  \n",
    "![image-2.png](attachment:image-2.png)\n",
    "![image-3.png](attachment:image-3.png)"
   ]
  },
  {
   "cell_type": "markdown",
   "metadata": {},
   "source": [
    "# 2. Methods\n",
    "A function as we have explained earlier is a logical unit of code containing a sequence of statements to carry out some operations. Likewise, <b>methods</b> are functions but the use of the word “method” are closely connected with classes. "
   ]
  },
  {
   "cell_type": "code",
   "execution_count": 26,
   "metadata": {},
   "outputs": [
    {
     "data": {
      "text/plain": [
       "str"
      ]
     },
     "execution_count": 26,
     "metadata": {},
     "output_type": "execute_result"
    }
   ],
   "source": [
    "# “title” in the following code is an instance of a string class (“str”)\n",
    "title = \"Python Programming\"\n",
    "type(title)"
   ]
  },
  {
   "cell_type": "code",
   "execution_count": 27,
   "metadata": {},
   "outputs": [
    {
     "name": "stdout",
     "output_type": "stream",
     "text": [
      "PYTHON PROGRAMMING\n"
     ]
    }
   ],
   "source": [
    "# Methods associated with the “str” class are applicable to the instance object “title”. \n",
    "# Therefore, we could apply method such as “upper” to “title” as follows\n",
    "print(title.upper())"
   ]
  },
  {
   "cell_type": "markdown",
   "metadata": {},
   "source": [
    "# 3. The import Statement\n",
    "Definitions and statements can be gathered together into a file called module. Python modules have a filename that ends with the extension ``.py``. Definitions inside a module can be imported into another module or Python interactive interpreter using the ``import`` keyword. For instance, to import the ``math``module:"
   ]
  },
  {
   "cell_type": "code",
   "execution_count": 28,
   "metadata": {},
   "outputs": [],
   "source": [
    "# To import the math module\n",
    "import math"
   ]
  },
  {
   "cell_type": "code",
   "execution_count": 29,
   "metadata": {},
   "outputs": [
    {
     "name": "stdout",
     "output_type": "stream",
     "text": [
      "3.141592653589793\n"
     ]
    }
   ],
   "source": [
    "# Once the “math” module is imported, all definition of attributes and functions in the module \n",
    "# are available for use in the current Python program. \n",
    "print(math.pi)"
   ]
  },
  {
   "cell_type": "code",
   "execution_count": 30,
   "metadata": {},
   "outputs": [
    {
     "name": "stdout",
     "output_type": "stream",
     "text": [
      "3.141592653589793\n"
     ]
    }
   ],
   "source": [
    "# Alternatively, we could import specific attributes and functions using the “from” keyword \n",
    "# jointly with the “import” keyword\n",
    "from math import pi\n",
    "print(pi)"
   ]
  },
  {
   "cell_type": "markdown",
   "metadata": {},
   "source": [
    "<center>\n",
    "  <a href=\"PP-05-ProgramFlowControls.ipynb\" target=\"_self\">Program Flow Controls</a> | <a href=\"./\">Content Page</a> | <a href=\"PP-07-InputsAndOutputs.ipynb\">Inputs and Outputs</a> | <a href=\"PP-06-Functions-Exercises.ipynb\">Functions Exercises</a>\n",
    "</center>"
   ]
  }
 ],
 "metadata": {
  "anaconda-cloud": {},
  "kernelspec": {
   "display_name": "Python 3 (ipykernel)",
   "language": "python",
   "name": "python3"
  },
  "language_info": {
   "codemirror_mode": {
    "name": "ipython",
    "version": 3
   },
   "file_extension": ".py",
   "mimetype": "text/x-python",
   "name": "python",
   "nbconvert_exporter": "python",
   "pygments_lexer": "ipython3",
   "version": "3.11.5"
  }
 },
 "nbformat": 4,
 "nbformat_minor": 1
}
