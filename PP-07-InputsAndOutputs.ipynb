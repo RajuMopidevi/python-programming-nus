{
 "cells": [
  {
   "cell_type": "markdown",
   "metadata": {},
   "source": [
    "<center>\n",
    "  <a href=\"PP-06-Functions.ipynb\" target=\"_self\">Functions</a> | <a href=\"./\">Content Page</a> | <a href=\"PP-08-FileHandling.ipynb\">File Handling</a>\n",
    "</center>"
   ]
  },
  {
   "cell_type": "markdown",
   "metadata": {},
   "source": [
    "# <center>INPUTS AND OUTPUTS</center>\n",
    "<center><b>Copyright &copy 2023 by DR DANNY POO</b><br> e:dannypoo@nus.edu.sg<br> w:drdannypoo.com</center><br>"
   ]
  },
  {
   "cell_type": "markdown",
   "metadata": {
    "collapsed": true
   },
   "source": [
    "Interaction with a computer system is by an input from a user and output from the system to a console or screen. <br>\n",
    "In Python, these are achieved with two built-in functions:\n",
    "1.\t`input()` – to accept input from a user\n",
    "2.\t`print()` – to display output on the console\n",
    "\n",
    "Screen output and keyboard input are usually done together to provide users with a user-friendly interface. <br>\n",
    "Here, we will discuss keyboard inputs and screen outputs. <br>\n",
    "We will also discuss how to handle exceptions when they occur during the input and output process. \n"
   ]
  },
  {
   "cell_type": "markdown",
   "metadata": {},
   "source": [
    "# 1. Inputs\n",
    "Input from a user to the computer system is done via the `input()` function in Python. This function reads a line entered on a console by a user using an input device – commonly the keyboard. The input is converted to a string which is returned as output. <br>\n",
    "\n",
    "Inputs from a user can come in two forms:\n",
    "1.\tFrom the keyboard – a user enters some value using a keyboard.\n",
    "2.\tFrom mouse click or movement – a click on the radio button or some drop-down list and an option is chosen. \n",
    "\n",
    "We will discuss user input via the keyboard. "
   ]
  },
  {
   "cell_type": "markdown",
   "metadata": {},
   "source": [
    "## 1.1 The input() Function\n",
    "Keyboard input is via the input() function and it has the following syntax:\n",
    "```python\n",
    "input([prompt])\n",
    "```\n",
    "The parameter “prompt” is a string representing a default message before the input. It is used to display a text to the user and it is optional. <br>\n",
    "If it is left out, then no message is displayed."
   ]
  },
  {
   "cell_type": "markdown",
   "metadata": {},
   "source": [
    "### Using the input() Function"
   ]
  },
  {
   "cell_type": "code",
   "execution_count": 1,
   "metadata": {},
   "outputs": [
    {
     "name": "stdout",
     "output_type": "stream",
     "text": [
      "Enter your name: Danny\n",
      "How do you do, Danny ?\n"
     ]
    }
   ],
   "source": [
    "# Prompt for input\n",
    "name = input(\"Enter your name: \")\n",
    "print(\"How do you do,\", name, \"?\")"
   ]
  },
  {
   "cell_type": "markdown",
   "metadata": {},
   "source": [
    "### Accepting an Integer Input using int() Function\n",
    "Whatever that is entered as input will be converted into a string by the `input()` function. Even if the input entered is an integer value, the function will convert it into a string. If an integer value is required for the input, then a type conversion on the input value is necessary. Type conversion from string to integer can be done via the `int()` function. "
   ]
  },
  {
   "cell_type": "code",
   "execution_count": 2,
   "metadata": {},
   "outputs": [
    {
     "name": "stdout",
     "output_type": "stream",
     "text": [
      "Enter number 1: 3\n",
      "Enter number 2: 4\n",
      "Total of number 1 and number 2 is:  7\n"
     ]
    }
   ],
   "source": [
    "# Ask for 2 numbers, total them and print result\n",
    "number1 = int(input(\"Enter number 1: \"))\n",
    "number2 = int(input(\"Enter number 2: \"))\n",
    "total = number1 + number2\n",
    "print(\"Total of number 1 and number 2 is: \", total)"
   ]
  },
  {
   "cell_type": "markdown",
   "metadata": {},
   "source": [
    "### Accepting a Float Input using float() Function\n",
    "To accept a float value from a user in Python, we make use of the `float()` function to do the type conversion. "
   ]
  },
  {
   "cell_type": "code",
   "execution_count": 3,
   "metadata": {},
   "outputs": [
    {
     "name": "stdout",
     "output_type": "stream",
     "text": [
      "Enter a float number: 3.5\n",
      "Number entered is: 3.5 <class 'float'>\n"
     ]
    }
   ],
   "source": [
    "# Ask for a decimal number, convert it and print result\n",
    "f = float(input(\"Enter a float number: \"))\n",
    "print(\"Number entered is:\", f, type(f))"
   ]
  },
  {
   "cell_type": "markdown",
   "metadata": {},
   "source": [
    "### Accepting a List Input in a Single Line\n",
    "What if we want the user to enter more than one item as inputs? In Python, it is possible to do so with multiple values entered by user in one line. "
   ]
  },
  {
   "cell_type": "code",
   "execution_count": 4,
   "metadata": {},
   "outputs": [
    {
     "name": "stdout",
     "output_type": "stream",
     "text": [
      "Enter name, identification, age separated by space: Danny, Dan01, 40\n",
      "Name, Identification, Age: Danny, Dan01, 40\n"
     ]
    }
   ],
   "source": [
    "# Prompt user to input multiple items and print result\n",
    "name, identification, age = input(\"Enter name, identification, age separated by space: \").split()\n",
    "print(\"Name, Identification, Age:\", name, identification, age)"
   ]
  },
  {
   "cell_type": "markdown",
   "metadata": {},
   "source": [
    "### Accepting a Multiline Input\n",
    "What if we want user to enter more than one line of item as inputs? <br>\n",
    "While the `input()` function allows the user to enter multiple items in a single line, it does not allow the user to enter more than one lines separated by a newline. <br>\n",
    "To input more than one line i.e. multiline inputs, we can use a “while” loop and two List functions “join” and “append”."
   ]
  },
  {
   "cell_type": "code",
   "execution_count": 5,
   "metadata": {},
   "outputs": [
    {
     "name": "stdout",
     "output_type": "stream",
     "text": [
      "Can you describe this book?\n",
      "It is a great book.\n",
      "I love it.\n",
      "\n",
      "\n",
      "\n",
      "Your description of this book is:\n",
      "\n",
      "It is a great book..\n",
      "I love it.\n"
     ]
    }
   ],
   "source": [
    "# Request user to type in a series of texts as inputs using a “while” loop\n",
    "# Terminate with an empty line\n",
    "textlines = []\n",
    "print(\"Can you describe this book?\")\n",
    "while True:\n",
    "    line = input()\n",
    "    if line:\n",
    "        textlines.append(line)\n",
    "    else:\n",
    "        break\n",
    "description = \".\\n\".join(textlines)\n",
    "print(\"\\n\")\n",
    "print(\"Your description of this book is:\\n\")\n",
    "print(description)"
   ]
  },
  {
   "cell_type": "markdown",
   "metadata": {},
   "source": [
    "# 2. Exception Handling\n",
    "So far, all the examples on inputs do not throw any errors. When an integer is expected for input, an integer was entered. But, as we know it, life is not as simple as it seems. Errors will happen. Indeed, they do. Users do not enter the integers as expected. They enter a string or any value that is not an integer. There also could be times when a technical problem occurs at the input device, and errors happen. \n",
    "\n",
    "Errors are known as <b>exceptions</b> and they have to be dealt with.<br>\n",
    "There are two ways of handling them:\n",
    "1.\tProgrammer provides code to deal with the errors explicitly.\n",
    "2.\tLet Python handles the errors automatically.\n",
    "\n",
    "We will discuss the second approach here."
   ]
  },
  {
   "cell_type": "markdown",
   "metadata": {},
   "source": [
    "## 2.1 What is an Exception?\n",
    "An exception is an event that occurs during the execution of a program and disrupts the normal flow of the program’s instructions. When an error occurs, Python raises an exception i.e. it creates an exception object. If the exception is handled in the code, the program will terminate and a traceback to the error along with its whereabouts is printed.\n",
    "\n",
    "Exception handling is managed in Python by the `try-except` statement.\n"
   ]
  },
  {
   "cell_type": "markdown",
   "metadata": {},
   "source": [
    "## 2.2 “Try-Except” Statement\n",
    "The syntax for `try-except` statement is as follows:\n",
    "```python\n",
    "try:\n",
    "  Operation 1\n",
    "  Operation 2\n",
    "  …\n",
    "  Operation n\n",
    "except exception-1:\n",
    "    Execute this block if there is exception-1\n",
    "except exception-2:\n",
    "  Execute this block if there is exception-2\n",
    "…\n",
    "except exception-n:\n",
    "  Execute this block if there is exception-n\n",
    "[else:\n",
    "  Execute this block if there is no exception]\n",
    "[finally:\n",
    "  Execute this block regardless of whether there is any exception. Always execute this block.]\n",
    "```\n",
    "\n",
    "The `try` block contains the code that is to be tested for errors. Code for catching the exception is placed in the `except`  clause. A `try-except` statement can have multiple `except`  clauses as it is possible for the `try` block to throw different types of exceptions. Besides the specific exception, a generic `except` clause can be added to handle all possible types of exception. \n",
    "\n",
    "Optionally, an `else`  clause can be included. This block will execute if there is no exception thrown in the `try`  block. \n",
    "\n",
    "A `finally`  clause can optionally be added; it allows the defining statements to execute regardless of whether the `try` block has raised an exception or not."
   ]
  },
  {
   "attachments": {
    "image.png": {
     "image/png": "[encoded data removed]"
    }
   },
   "cell_type": "markdown",
   "metadata": {},
   "source": [
    "## 2.3 Built-in Exceptions\n",
    "There is a list of exceptions built in Python.\n",
    "![image.png](attachment:image.png)\n"
   ]
  },
  {
   "cell_type": "markdown",
   "metadata": {
    "collapsed": true
   },
   "source": [
    "### ValueError Exception\n",
    "There is a list of exceptions built in Python."
   ]
  },
  {
   "cell_type": "code",
   "execution_count": 6,
   "metadata": {},
   "outputs": [
    {
     "name": "stdout",
     "output_type": "stream",
     "text": [
      "Enter number 1: 6\n",
      "Enter number 2: 7\n",
      "Total of number 1 and number 2 is:  13\n"
     ]
    }
   ],
   "source": [
    "# What happens when non-integer value is entered?\n",
    "number1 = int(input(\"Enter number 1: \"))\n",
    "number2 = int(input(\"Enter number 2: \"))\n",
    "total = number1 + number2\n",
    "print(\"Total of number 1 and number 2 is: \", total)"
   ]
  },
  {
   "cell_type": "code",
   "execution_count": 7,
   "metadata": {},
   "outputs": [
    {
     "name": "stdout",
     "output_type": "stream",
     "text": [
      "Enter number 1: one\n",
      "ValueError: Enter a number\n",
      "Enter number 1: 1\n",
      "Enter number 2: two\n",
      "ValueError: Enter a number\n",
      "Enter number 1: 2\n",
      "Enter number 2: 3\n",
      "Total of number 1 and number 2 is:  5\n"
     ]
    }
   ],
   "source": [
    "# To improve code by capturing the exception, reporting it and recovering to allow the user to enter the correct value\n",
    "# There is no abrupt end to the program and the program recovers gracefully.\n",
    "done = False\n",
    "while not done:\n",
    "    try:\n",
    "        number1 = int(input(\"Enter number 1: \"))\n",
    "        number2 = int(input(\"Enter number 2: \"))\n",
    "        total = number1 + number2\n",
    "        print(\"Total of number 1 and number 2 is: \", total)\n",
    "        done = True\n",
    "    except (ValueError):\n",
    "        print(\"ValueError: Enter a number\")"
   ]
  },
  {
   "cell_type": "markdown",
   "metadata": {},
   "source": [
    "### KeyboardInterrupt Exception\n",
    "The pressing of a ``Control-C`` is a keyboard interrupt and this may abruptly ends the program. To prevent the user from terminating the program with a ``Control-C``, we handle this ``KeyboardInterrupt`` exception."
   ]
  },
  {
   "cell_type": "code",
   "execution_count": 8,
   "metadata": {},
   "outputs": [
    {
     "name": "stdout",
     "output_type": "stream",
     "text": [
      "Enter number 1: 1\n",
      "Enter number 2: 4\n",
      "Total of number 1 and number 2 is:  5\n"
     ]
    }
   ],
   "source": [
    "# Handling abrupt control-C to end program\n",
    "# This code does not show in Jupyter Notebook, try Spyder IDE\n",
    "done = False\n",
    "while not done:\n",
    "    try:\n",
    "        number1 = int(input(\"Enter number 1: \"))\n",
    "        number2 = int(input(\"Enter number 2: \"))\n",
    "        total = number1 + number2\n",
    "        print(\"Total of number 1 and number 2 is: \", total)\n",
    "        done = True\n",
    "    except (ValueError):\n",
    "        print(\"ValueError: Enter a number\")\n",
    "    except (KeyboardInterrupt):\n",
    "        print(\"KeyboardInterrupt: Keyboard Interrupt\")   "
   ]
  },
  {
   "cell_type": "markdown",
   "metadata": {},
   "source": [
    "### The generic Exception\n",
    "If we are not certain of the type of error, use a generic exception ``Exception`` which captures all types of exception."
   ]
  },
  {
   "cell_type": "code",
   "execution_count": 9,
   "metadata": {},
   "outputs": [
    {
     "name": "stdout",
     "output_type": "stream",
     "text": [
      "Enter number 1: 5\n",
      "Enter number 2: y\n",
      "Error: Enter a number again\n",
      "Enter number 1: 5\n",
      "Enter number 2: 6\n",
      "Total of number 1 and number 2 is:  11\n"
     ]
    }
   ],
   "source": [
    "# Exception\n",
    "done = False\n",
    "while not done:\n",
    "    try:\n",
    "        number1 = int(input(\"Enter number 1: \"))\n",
    "        number2 = int(input(\"Enter number 2: \"))\n",
    "        total = number1 + number2\n",
    "        print(\"Total of number 1 and number 2 is: \", total)\n",
    "        done = True\n",
    "    except (Exception): # or simply a bare except: \n",
    "        print(\"Error: Enter a number again\")"
   ]
  },
  {
   "cell_type": "markdown",
   "metadata": {},
   "source": [
    "## 2.4 \"try-except-else\" Statement\n",
    "Besides the ``try-except`` statement, Python allows the use of an optional ``else`` clause whose block is executed when there is no error."
   ]
  },
  {
   "cell_type": "code",
   "execution_count": 10,
   "metadata": {},
   "outputs": [
    {
     "name": "stdout",
     "output_type": "stream",
     "text": [
      "Enter number 1: r\n",
      "Enter a number\n",
      "Enter number 1: 6\n",
      "Enter number 2: 7\n",
      "Total of number 1 and number 2 is:  13\n",
      "done = True \n",
      "In the ELSE block\n"
     ]
    }
   ],
   "source": [
    "# try-except-else\n",
    "done = False\n",
    "while not done:\n",
    "    try:\n",
    "        number1 = int(input(\"Enter number 1: \"))\n",
    "        number2 = int(input(\"Enter number 2: \"))\n",
    "        total = number1 + number2\n",
    "        print(\"Total of number 1 and number 2 is: \", total)\n",
    "    except (ValueError):\n",
    "        print(\"Enter a number\")\n",
    "    else:\n",
    "        done = True\n",
    "        print(\"done =\", done, \"\\nIn the ELSE block\")"
   ]
  },
  {
   "cell_type": "markdown",
   "metadata": {},
   "source": [
    "## 2.5 \"try-except-else-finally\" Statement\n",
    "We can add an optional ``finally`` clause which will be executed regardless of whether the ``try`` block raises an exception or not."
   ]
  },
  {
   "cell_type": "code",
   "execution_count": 11,
   "metadata": {},
   "outputs": [
    {
     "name": "stdout",
     "output_type": "stream",
     "text": [
      "Enter number 1: 5\n",
      "Enter number 2: 6\n",
      "Total of number 1 and number 2 is:  11\n",
      "done = True \n",
      "In the ELSE block\n",
      "done = True \n",
      "In the FINALLY block\n"
     ]
    }
   ],
   "source": [
    "# try-except-else-finally\n",
    "done = False\n",
    "while not done:\n",
    "    try:\n",
    "        number1 = int(input(\"Enter number 1: \"))\n",
    "        number2 = int(input(\"Enter number 2: \"))\n",
    "        total = number1 + number2\n",
    "        print(\"Total of number 1 and number 2 is: \", total)\n",
    "    except (ValueError):\n",
    "        print(\"Enter a number\")\n",
    "    else:\n",
    "        done = True\n",
    "        print(\"done =\", done, \"\\nIn the ELSE block\")\n",
    "    finally:\n",
    "        print(\"done =\", done, \"\\nIn the FINALLY block\")"
   ]
  },
  {
   "cell_type": "markdown",
   "metadata": {},
   "source": [
    "## 2.6 Forcefully Raise an Exception\n",
    "An exception can be forcefully raised using the ``raise`` keyword. <br>\n",
    "The syntax for calling the ``raise`` exception\n",
    "```python\n",
    "raise [Exception [, args [, traceback]]]\n",
    "```\n",
    "where ``Exception`` is the name of the exception to raise, ``args`` is optional and represents the value of the exception argument and ``traceback``, which is also optional, is the traceback object used for the exception."
   ]
  },
  {
   "cell_type": "code",
   "execution_count": 12,
   "metadata": {},
   "outputs": [
    {
     "name": "stdout",
     "output_type": "stream",
     "text": [
      "Enter number 1: 7\n",
      "Enter number 2: 8\n",
      "Total of number 1 and number 2 is:  15\n",
      "done = True \n",
      "In the ELSE block\n",
      "done = True \n",
      "In the FINALLY block\n"
     ]
    }
   ],
   "source": [
    "# User to enter two positive numbers; any negative numbers would be considered as errors\n",
    "# But, this code does not capture the negative number error\n",
    "done = False\n",
    "while not done:\n",
    "    try:\n",
    "        number1 = int(input(\"Enter number 1: \"))\n",
    "        number2 = int(input(\"Enter number 2: \"))\n",
    "        total = number1 + number2\n",
    "        print(\"Total of number 1 and number 2 is: \", total)\n",
    "    except (ValueError):\n",
    "        print(\"Enter a number\")\n",
    "    else:\n",
    "        done = True\n",
    "        print(\"done =\", done, \"\\nIn the ELSE block\")\n",
    "    finally:\n",
    "        print(\"done =\", done, \"\\nIn the FINALLY block\")"
   ]
  },
  {
   "cell_type": "code",
   "execution_count": 13,
   "metadata": {},
   "outputs": [
    {
     "name": "stdout",
     "output_type": "stream",
     "text": [
      "Enter number 1: 4\n",
      "Enter number 2: 5\n",
      "Total of number 1 and number 2 is:  9\n",
      "done = True \n",
      "In the ELSE block\n",
      "done = True \n",
      "In the FINALLY block\n"
     ]
    }
   ],
   "source": [
    "# Use raise exception\n",
    "done = False\n",
    "while not done:\n",
    "    try:\n",
    "        number1 = int(input(\"Enter number 1: \"))\n",
    "        if number1 < 0:\n",
    "            raise ValueError(\"ValueError: Negative number entered\")\n",
    "        number2 = int(input(\"Enter number 2: \"))\n",
    "        if number2 < 0:\n",
    "            raise ValueError(\"ValueError: Negative number entered\")\n",
    "        total = number1 + number2\n",
    "        print(\"Total of number 1 and number 2 is: \", total)\n",
    "    except ValueError as ve:\n",
    "        print(ve)\n",
    "    else:\n",
    "        done = True\n",
    "        print(\"done =\", done, \"\\nIn the ELSE block\")\n",
    "    finally:\n",
    "        print(\"done =\", done, \"\\nIn the FINALLY block\")"
   ]
  },
  {
   "cell_type": "markdown",
   "metadata": {},
   "source": [
    "# 3. Outputs\n",
    "Outputs to the standard output device (such as the screen or console) are handled by the ``print()`` function. Outputs can also be directed to a file which will be the topic of discussion in the next section.\n",
    "\n",
    "The ``print()`` function has been used extensively throughout this book. We will now formally introduce what ``print()`` can do to produce outputs."
   ]
  },
  {
   "attachments": {
    "image.png": {
     "image/png": "[encoded data removed]"
    }
   },
   "cell_type": "markdown",
   "metadata": {
    "collapsed": true
   },
   "source": [
    "## 3.1 The print() Function\n",
    "The Python ``print()`` function is a very versatile function. It prints the specified text to the screen. The text can be a string, or any other object. \n",
    "\n",
    "Prior to sending the text to the screen, Python converts the text into a string. It can be used in the following ways:\n",
    "1.\tprint(“Python Programming”)\n",
    "2.\tprint(“Python”, <a variable containing a string such as “Programming”>)\n",
    "3.\tprint(“Python” + <a variable containing a string such as “Programming”>)\n",
    "4.\tprint(“Python %s” %<a variable containing a string such as “Programming”>)\n",
    "\n",
    "Single, double and triple quotes can be used to declare a string in Python. <br>\n",
    "Typically, single quote is used for declaring a single character, double quotes for declaring a line of text and triple quotes for declaring a paragraph or multiple lines. \n",
    "![image.png](attachment:image.png)"
   ]
  },
  {
   "cell_type": "markdown",
   "metadata": {},
   "source": [
    "### The print() Function Syntax\n",
    "The Python ``print()`` function has the following syntax:\n",
    "```python\n",
    "print(object(s), sep=separator, end=end, file=file, flush=flush)\n",
    "```\n",
    "where:<br>\n",
    "<b>object(s)</b>: Any object, and as many as you like. These will be converted to string before printed.<br>\n",
    "<b>sep=separator</b>:Optional. Specify how to separate the objects, if there is more than one. Default is “ ” (i.e. a space).<br>\n",
    "<b>end=end</b>: Optional. Specify what to print at the end. Default is “\\n” i.e. line feed.<br>\n",
    "<b>file</b>: Optional. An object with a write method. Default is sys.stdout.<br>\n",
    "<b>flush</b>: Optional. A Boolean, specifying if the output is flushed (True) or buffered (False). Default is False.<br>"
   ]
  },
  {
   "cell_type": "code",
   "execution_count": 14,
   "metadata": {},
   "outputs": [
    {
     "name": "stdout",
     "output_type": "stream",
     "text": [
      "Python Programming\n"
     ]
    }
   ],
   "source": [
    "# Print more than one object\n",
    "print(\"Python\", \"Programming\")"
   ]
  },
  {
   "cell_type": "code",
   "execution_count": 15,
   "metadata": {},
   "outputs": [
    {
     "name": "stdout",
     "output_type": "stream",
     "text": [
      "('Python', 'Programming', 'book')\n"
     ]
    }
   ],
   "source": [
    "# Print a Tuple\n",
    "tuple = (\"Python\", \"Programming\", \"book\")\n",
    "print(tuple)"
   ]
  },
  {
   "cell_type": "code",
   "execution_count": 16,
   "metadata": {},
   "outputs": [
    {
     "name": "stdout",
     "output_type": "stream",
     "text": [
      "Python::Programming\n"
     ]
    }
   ],
   "source": [
    "# Print two messsages, and specify the separator\n",
    "print(\"Python\", \"Programming\", sep=\"::\")"
   ]
  },
  {
   "cell_type": "code",
   "execution_count": 17,
   "metadata": {},
   "outputs": [
    {
     "name": "stdout",
     "output_type": "stream",
     "text": [
      "Python::Programming&by Dr Danny Poo\n"
     ]
    }
   ],
   "source": [
    "# Print two messsages, specify the separator, and the ending character\n",
    "print(\"Python\", \"Programming\", sep=\"::\", end='&')\n",
    "print(\"by Dr Danny Poo\")"
   ]
  },
  {
   "cell_type": "code",
   "execution_count": 18,
   "metadata": {},
   "outputs": [
    {
     "name": "stdout",
     "output_type": "stream",
     "text": [
      "Python::Programming\n",
      "by Dr Danny Poo\n"
     ]
    }
   ],
   "source": [
    "# Print two messsages, specify the separator, and using default ending character\n",
    "print(\"Python\", \"Programming\", sep=\"::\")\n",
    "print(\"by Dr Danny Poo\")"
   ]
  },
  {
   "cell_type": "markdown",
   "metadata": {},
   "source": [
    "## 3.2 Output Formatting\n",
    "There are three ways print() statement can be used to beautify outputs:\n",
    "1.\tUse the ``str.format()`` method \n",
    "2.\tUse the ``%`` operator\n",
    "3.\tUse the ``\\`` or Escape character"
   ]
  },
  {
   "cell_type": "markdown",
   "metadata": {},
   "source": [
    "### Use the “str.format()” Method\n",
    "Arguments in a ``print()`` function are strings; therefore, the ``format()`` method of the ``str`` class can be used within a ``print()`` function to add value to the output."
   ]
  },
  {
   "cell_type": "code",
   "execution_count": 19,
   "metadata": {},
   "outputs": [
    {
     "name": "stdout",
     "output_type": "stream",
     "text": [
      "Python Programming is written by Dr Danny Poo in 2021\n"
     ]
    }
   ],
   "source": [
    "# Braces “{}” can be used as placeholders for the variables in the function arguments\n",
    "title = \"Python Programming\"\n",
    "author = \"Dr Danny Poo\"\n",
    "year = 2021\n",
    "print(\"{} is written by {} in {}\".format(title, author, year))"
   ]
  },
  {
   "cell_type": "code",
   "execution_count": 20,
   "metadata": {},
   "outputs": [
    {
     "name": "stdout",
     "output_type": "stream",
     "text": [
      "Python Programming is written by Dr Danny Poo in 2021\n"
     ]
    }
   ],
   "source": [
    "# Can specify the order by using numbers as the index\n",
    "title = \"Python Programming\"\n",
    "author = \"Dr Danny Poo\"\n",
    "year = 2021\n",
    "print(\"{1} is written by {2} in {0}\".format(year, title, author))"
   ]
  },
  {
   "cell_type": "code",
   "execution_count": 21,
   "metadata": {},
   "outputs": [
    {
     "name": "stdout",
     "output_type": "stream",
     "text": [
      "Python Programming is written by Dr Danny Poo in 2021\n"
     ]
    }
   ],
   "source": [
    "# Can use keyword arguments to format the string\n",
    "print(\"{title} is written by {author} in {year}\".format(author=\"Dr Danny Poo\", year=2021, title=\"Python Programming\"))"
   ]
  },
  {
   "cell_type": "markdown",
   "metadata": {},
   "source": [
    "### Use the “%” Operator"
   ]
  },
  {
   "cell_type": "code",
   "execution_count": 22,
   "metadata": {},
   "outputs": [
    {
     "name": "stdout",
     "output_type": "stream",
     "text": [
      "Hello World\n"
     ]
    }
   ],
   "source": [
    "# Using %s as string\n",
    "var = \"World\"\n",
    "print(\"Hello %s\" %var)"
   ]
  },
  {
   "cell_type": "code",
   "execution_count": 23,
   "metadata": {},
   "outputs": [
    {
     "name": "stdout",
     "output_type": "stream",
     "text": [
      "Hello All, read Python Programming\n"
     ]
    }
   ],
   "source": [
    "# To refer to multiple variables (use parenthesis)\n",
    "var1 = \"All\"\n",
    "var2 = \"Python Programming\"\n",
    "print(\"Hello %s, read %s\" %(var1, var2))"
   ]
  },
  {
   "cell_type": "code",
   "execution_count": 24,
   "metadata": {},
   "outputs": [
    {
     "name": "stdout",
     "output_type": "stream",
     "text": [
      "A decimal number 20\n"
     ]
    }
   ],
   "source": [
    "# Using %d as integer\n",
    "print(\"A decimal number %d\" %20)"
   ]
  },
  {
   "cell_type": "code",
   "execution_count": 25,
   "metadata": {},
   "outputs": [
    {
     "name": "stdout",
     "output_type": "stream",
     "text": [
      "The exponential is 2.000000e+01\n"
     ]
    }
   ],
   "source": [
    "# Using %e as exponential\n",
    "print(\"The exponential is %e\" %20)"
   ]
  },
  {
   "cell_type": "code",
   "execution_count": 26,
   "metadata": {},
   "outputs": [
    {
     "name": "stdout",
     "output_type": "stream",
     "text": [
      "The float is 20.123457\n"
     ]
    }
   ],
   "source": [
    "# Using %f as float (default precision width is set to 6)\n",
    "print(\"The float is %f\" %20.12345678)"
   ]
  },
  {
   "cell_type": "code",
   "execution_count": 27,
   "metadata": {},
   "outputs": [
    {
     "name": "stdout",
     "output_type": "stream",
     "text": [
      "The float is    20.1235\n"
     ]
    }
   ],
   "source": [
    "# Use %(fieldwidth).(precisionwidth)f to specify precisionwidth. \n",
    "# The data aligns itself to the right to adjust to the specified fieldwidth.\n",
    "print(\"The float is %10.4f\" %20.12345678) # up to 4 dec pts"
   ]
  },
  {
   "cell_type": "code",
   "execution_count": 28,
   "metadata": {},
   "outputs": [
    {
     "name": "stdout",
     "output_type": "stream",
     "text": [
      "The float is 20.1235   \n"
     ]
    }
   ],
   "source": [
    "# Use %(fieldwidth).(precisionwidth)f to specify precisionwidth. \n",
    "# The data aligns itself to the left to adjust to the specified fieldwidth.\n",
    "print(\"The float is %-10.4f\" %20.12345678) # up to 4 dec pts"
   ]
  },
  {
   "cell_type": "code",
   "execution_count": 29,
   "metadata": {},
   "outputs": [
    {
     "name": "stdout",
     "output_type": "stream",
     "text": [
      "The float is 00020.1235\n"
     ]
    }
   ],
   "source": [
    "# Use zero padding in float\n",
    "print(\"The float is %010.4f\" %20.12345678) # up to 4 dec pts"
   ]
  },
  {
   "cell_type": "code",
   "execution_count": 30,
   "metadata": {},
   "outputs": [
    {
     "name": "stdout",
     "output_type": "stream",
     "text": [
      "   20.1235\n",
      "  -20.1235\n"
     ]
    }
   ],
   "source": [
    "# Use space for negative number and proper alignment\n",
    "print(\"% 10.4f\" %20.12345678)\n",
    "print(\"% 10.4f\" %-20.12345678)"
   ]
  },
  {
   "cell_type": "code",
   "execution_count": 31,
   "metadata": {},
   "outputs": [
    {
     "name": "stdout",
     "output_type": "stream",
     "text": [
      "  +20.1235\n",
      "  -20.1235\n"
     ]
    }
   ],
   "source": [
    "# “+” can be returned at beginning of a positive number\n",
    "print(\"%+10.4f\" %20.12345678)\n",
    "print(\"% 10.4f\" %-20.12345678)"
   ]
  },
  {
   "cell_type": "code",
   "execution_count": 32,
   "metadata": {},
   "outputs": [
    {
     "name": "stdout",
     "output_type": "stream",
     "text": [
      "The octal of this number is 24\n"
     ]
    }
   ],
   "source": [
    "# Using %o as octal\n",
    "print(\"The octal of this number is %o\" %20)"
   ]
  },
  {
   "cell_type": "code",
   "execution_count": 33,
   "metadata": {},
   "outputs": [
    {
     "name": "stdout",
     "output_type": "stream",
     "text": [
      "The hexadecimal of this number is 1b\n"
     ]
    }
   ],
   "source": [
    "# Using %x as hexadecimal\n",
    "print(\"The hexadecimal of this number is %x\" %27)"
   ]
  },
  {
   "cell_type": "markdown",
   "metadata": {},
   "source": [
    "### Use the “\\” Escape Character"
   ]
  },
  {
   "cell_type": "code",
   "execution_count": 34,
   "metadata": {},
   "outputs": [
    {
     "name": "stdout",
     "output_type": "stream",
     "text": [
      "I'm fine.\n"
     ]
    }
   ],
   "source": [
    "# Single quote\n",
    "print('I\\'m fine.')"
   ]
  },
  {
   "cell_type": "code",
   "execution_count": 35,
   "metadata": {},
   "outputs": [
    {
     "name": "stdout",
     "output_type": "stream",
     "text": [
      "This is a backslash '\\'.\n"
     ]
    }
   ],
   "source": [
    "# Backslash\n",
    "print('This is a backslash \\'\\\\\\'.')"
   ]
  },
  {
   "cell_type": "code",
   "execution_count": 36,
   "metadata": {},
   "outputs": [
    {
     "name": "stdout",
     "output_type": "stream",
     "text": [
      "Python\n",
      "Programming\n"
     ]
    }
   ],
   "source": [
    "# New line\n",
    "print(\"Python\\nProgramming\")"
   ]
  },
  {
   "cell_type": "code",
   "execution_count": 37,
   "metadata": {},
   "outputs": [
    {
     "name": "stdout",
     "output_type": "stream",
     "text": [
      "Python\r",
      "Programming\n"
     ]
    }
   ],
   "source": [
    "# Carriage return\n",
    "print(\"Python\\rProgramming\")"
   ]
  },
  {
   "cell_type": "code",
   "execution_count": 38,
   "metadata": {},
   "outputs": [
    {
     "name": "stdout",
     "output_type": "stream",
     "text": [
      "Python\t\tProgramming\n"
     ]
    }
   ],
   "source": [
    "# Tab\n",
    "print(\"Python\\t\\tProgramming\")"
   ]
  },
  {
   "cell_type": "code",
   "execution_count": 39,
   "metadata": {},
   "outputs": [
    {
     "name": "stdout",
     "output_type": "stream",
     "text": [
      "Python    \bProgramming\n"
     ]
    }
   ],
   "source": [
    "# Backspace\n",
    "print(\"Python    \\bProgramming\") \n",
    "# one space has been erased"
   ]
  },
  {
   "cell_type": "code",
   "execution_count": 40,
   "metadata": {},
   "outputs": [
    {
     "name": "stdout",
     "output_type": "stream",
     "text": [
      "Python\n"
     ]
    }
   ],
   "source": [
    "# Octal value\n",
    "# a backslash followed by 3 \n",
    "# integers result in an octal value \n",
    "print(\"\\120\\171\\164\\150\\157\\156\")"
   ]
  },
  {
   "cell_type": "code",
   "execution_count": 41,
   "metadata": {},
   "outputs": [
    {
     "name": "stdout",
     "output_type": "stream",
     "text": [
      "Python\n"
     ]
    }
   ],
   "source": [
    "# Hexadecimal value\n",
    "# a backslash followed by an ‘x’\n",
    "# and a hex number\n",
    "print(\"\\x50\\x79\\x74\\x68\\x6f\\x6e\")"
   ]
  },
  {
   "cell_type": "markdown",
   "metadata": {},
   "source": [
    "<center>\n",
    "  <a href=\"PP-06-Functions.ipynb\" target=\"_self\">Functions</a> | <a href=\"./\">Content Page</a> | <a href=\"PP-08-FileHandling.ipynb\">File Handling</a>\n",
    "</center>"
   ]
  }
 ],
 "metadata": {
  "anaconda-cloud": {},
  "kernelspec": {
   "display_name": "Python 3 (ipykernel)",
   "language": "python",
   "name": "python3"
  },
  "language_info": {
   "codemirror_mode": {
    "name": "ipython",
    "version": 3
   },
   "file_extension": ".py",
   "mimetype": "text/x-python",
   "name": "python",
   "nbconvert_exporter": "python",
   "pygments_lexer": "ipython3",
   "version": "3.11.5"
  }
 },
 "nbformat": 4,
 "nbformat_minor": 1
}
