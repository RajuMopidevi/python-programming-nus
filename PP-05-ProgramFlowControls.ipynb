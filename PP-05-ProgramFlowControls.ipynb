{
 "cells": [
  {
   "cell_type": "markdown",
   "metadata": {},
   "source": [
    "<center>\n",
    "  <a href=\"PP-04-Operators.ipynb\" target=\"_self\">Operators</a> | <a href=\"./\">Content Page</a> | <a href=\"PP-06-Functions.ipynb\">Functions</a> | <a href=\"PP-05-ProgramFlowControls-Exercises.ipynb\">Program Flow Controls Exercises</a>\n",
    "</center>"
   ]
  },
  {
   "cell_type": "markdown",
   "metadata": {},
   "source": [
    "# <center>PROGRAM FLOW CONTROLS</center>\n",
    "<center><b>Copyright &copy 2023 by DR DANNY POO</b><br> e:dannypoo@nus.edu.sg<br> w:drdannypoo.com</center><br>"
   ]
  },
  {
   "cell_type": "markdown",
   "metadata": {
    "collapsed": true
   },
   "source": [
    "Must statements be executed one after another in a sequential manner in Python?<br>\n",
    "Well, that seems to be the case in the examples so far. <br>\n",
    "You do not always have to code your statements such that they run sequentially. \n",
    "\n",
    "Python allows you to control how the program is run. <br>\n",
    "There are three types of program flow control mechanisms available in Python: <b>Sequence, Selection, and Iteration</b>.\n"
   ]
  },
  {
   "cell_type": "markdown",
   "metadata": {},
   "source": [
    "# 1. Sequence\n",
    "Statements in a program are executed sequentially in Python.<br>\n",
    "This form of program flow control is known as <b>Sequence</b>."
   ]
  },
  {
   "cell_type": "code",
   "execution_count": 1,
   "metadata": {},
   "outputs": [
    {
     "name": "stdout",
     "output_type": "stream",
     "text": [
      "Value of c is 11\n"
     ]
    }
   ],
   "source": [
    "# One statement after another sequentially\n",
    "a = 5\n",
    "b = 6\n",
    "c = a + b\n",
    "print(\"Value of c is\", c)"
   ]
  },
  {
   "cell_type": "markdown",
   "metadata": {},
   "source": [
    "# 2. Selection\n",
    "The execution of a statement is based on the selection from two or more parts depending on the evaluated value of some conditions.<br>\n",
    "This form of program flow control is known as <b>Selection</b>."
   ]
  },
  {
   "cell_type": "code",
   "execution_count": 2,
   "metadata": {},
   "outputs": [
    {
     "name": "stdout",
     "output_type": "stream",
     "text": [
      "c is greater than 10\n"
     ]
    }
   ],
   "source": [
    "# Selection based on the 'if' or 'else' part\n",
    "a = 5\n",
    "b = 6\n",
    "c = a + b\n",
    "if c > 10:\n",
    "    print(\"c is greater than 10\")\n",
    "else:\n",
    "    print(\"c is less than or equal to 10\")"
   ]
  },
  {
   "cell_type": "markdown",
   "metadata": {},
   "source": [
    "## 2.1 Block of code using indentation\n",
    "Python uses indentation (whitespace at the beginning of a line) to limit blocks of statements which makes the code more readable. <br>\n",
    "Code blocks are defined by indentation. Typically, an indentation corresponds to four spaces, although it works with even one space too. <br>\n",
    "Blocks enable statements to be nested within bigger constructs. <br>\n",
    "Through the use of blocks, more complex nested groups of statements are possible.  "
   ]
  },
  {
   "cell_type": "markdown",
   "metadata": {},
   "source": [
    "**Error:**\n",
    "\n",
    "Indentation error because unident does not match any other indentation level\n",
    "```python\n",
    "a = 5\n",
    "b = 6\n",
    "c = a + b\n",
    "if c > 10:\n",
    "    print(\"c is greater than 10\")\n",
    " c = 0       # cause of indentation error\n",
    " print(\"c is now\", c)\n",
    "else:\n",
    "    print(\"c is less than or equal to 10\")\n",
    "```\n",
    "The output is:<br>\n",
    "<b>IndentationError: unindent does not match any outer indentation level</b>"
   ]
  },
  {
   "cell_type": "code",
   "execution_count": 3,
   "metadata": {},
   "outputs": [
    {
     "name": "stdout",
     "output_type": "stream",
     "text": [
      "c is greater than 10\n",
      "c is now 0\n"
     ]
    }
   ],
   "source": [
    "# To resolve this, we have to follow the indentation rule to create a block \n",
    "# that binds the indented statements as one block of code\n",
    "a = 5\n",
    "b = 6\n",
    "c = a + b\n",
    "if c > 10:\n",
    "    print(\"c is greater than 10\")\n",
    "    c = 0\n",
    "    print(\"c is now\", c)\n",
    "else:\n",
    "    print(\"c is less than or equal to 10\")"
   ]
  },
  {
   "cell_type": "markdown",
   "metadata": {},
   "source": [
    "## 2.2 Types of Selection Statement\n",
    "There are three forms of Selection statement:\n",
    "1.\tThe “if” statement\n",
    "2.\tThe “if…else” statement\n",
    "3.\tThe “if…elif…else” statement"
   ]
  },
  {
   "attachments": {
    "image.png": {
     "image/png": "[encoded data removed]"
    }
   },
   "cell_type": "markdown",
   "metadata": {},
   "source": [
    "### The ``if`` Statement\n",
    "The syntax of the ``if`` statement is:\n",
    "\n",
    "```python \n",
    "if Boolean-expression:\n",
    "    Body of “if”\n",
    "```\t\n",
    "\n",
    "![image.png](attachment:image.png)"
   ]
  },
  {
   "cell_type": "code",
   "execution_count": 4,
   "metadata": {},
   "outputs": [
    {
     "name": "stdout",
     "output_type": "stream",
     "text": [
      "b is greater than a\n"
     ]
    }
   ],
   "source": [
    "# The “if” statement is executed if the Boolean expression evaluates to True\n",
    "a = 20\n",
    "b = 400\n",
    "if b > a :\n",
    "       print(\"b is greater than a\")"
   ]
  },
  {
   "cell_type": "code",
   "execution_count": 5,
   "metadata": {},
   "outputs": [
    {
     "name": "stdout",
     "output_type": "stream",
     "text": [
      "Value of b is 30\n"
     ]
    }
   ],
   "source": [
    "# Python also interprets non-zero values as True. \n",
    "# “None” and zero are interpreted as False. \n",
    "a = 0\n",
    "b = 30\n",
    "if a: # zero is False\n",
    "   print(\"Value of a is\", a)\n",
    "print(\"Value of b is\", b)"
   ]
  },
  {
   "cell_type": "markdown",
   "metadata": {},
   "source": [
    "### The ``if`` with ``pass`` Statement\n",
    "An ``if``statement cannot be empty i.e. there must be a statement for execution in the body of ``if``. <br>\n",
    "If for some reasons, there is no content for execution in the ``if`` body, you could place a ``pass`` statement to avoid getting an error."
   ]
  },
  {
   "cell_type": "code",
   "execution_count": 6,
   "metadata": {},
   "outputs": [],
   "source": [
    "# if with pass\n",
    "a = 0\n",
    "b = 30\n",
    "if b > a: \n",
    "    pass # include pass statement to avoid error"
   ]
  },
  {
   "attachments": {
    "image.png": {
     "image/png": "[encoded data removed]"
    }
   },
   "cell_type": "markdown",
   "metadata": {},
   "source": [
    "### The ``if ... else`` Statement\n",
    "An ``if``statement cannot be empty i.e. there must be a statement for execution in the body of ``if``. <br>\n",
    "The ``if ... else`` statement evaluates the Boolean expression and will execute the body of the ``if`` only when the the evaluation is True. <br>\n",
    "If the condition is False, the body of the ``else`` is executed instead. <br>\n",
    "Indentation is used to separate the blocks.\n",
    "The syntax of the ‘if…else’ statement is:\n",
    "```python \n",
    "if Boolean-expression:\n",
    "    Body of “if”\n",
    "else:\n",
    "    Body of “else”\n",
    "```\n",
    "![image.png](attachment:image.png)"
   ]
  },
  {
   "cell_type": "code",
   "execution_count": 7,
   "metadata": {},
   "outputs": [
    {
     "name": "stdout",
     "output_type": "stream",
     "text": [
      "a is greater than 0\n"
     ]
    }
   ],
   "source": [
    "# if ... else statement\n",
    "a = 78\n",
    "if a > 0:\n",
    "    print(\"a is greater than 0\")\n",
    "else:\n",
    "    print(\"a is less than or equal to 0\")\n"
   ]
  },
  {
   "attachments": {
    "image.png": {
     "image/png": "[encoded data removed]"
    }
   },
   "cell_type": "markdown",
   "metadata": {},
   "source": [
    "### The ``if ... elif ... else`` Statement\n",
    "The ``if…elif…else``statement allows for testing of multiple Boolean expressions. <br>\n",
    "If the condition for ``if`` is False, the next ``elif`` Boolean expression is evaluated and so on. <br>\n",
    "If all the conditions are False, the body of ``else`` is executed. \n",
    "\n",
    "Only one block among the several ``if…elif…else`` blocks is executed. <br>\n",
    "While there can be many ``elif`` blocks, only one ``else`` block is allowed.\n",
    "\n",
    "The syntax of the ‘if…else’ statement is:\n",
    "```python \n",
    "if Boolean-expression:\n",
    "Body of “if”\n",
    "elif Boolean-expression:\n",
    "Body of “elif”\n",
    "elif Boolean-expression:\n",
    "    Body of “elif”\n",
    "...\n",
    "else:\n",
    "    Body of “else”\n",
    "```\n",
    "![image.png](attachment:image.png)"
   ]
  },
  {
   "cell_type": "code",
   "execution_count": 8,
   "metadata": {},
   "outputs": [
    {
     "name": "stdout",
     "output_type": "stream",
     "text": [
      "a is greater than 0\n"
     ]
    }
   ],
   "source": [
    "# When a > 0,\n",
    "a = 78\n",
    "if a > 0:\n",
    "    print(\"a is greater than 0\")\n",
    "elif a == 0:\n",
    "    print(\"a is equal to 0\")\n",
    "else:\n",
    "    print(\"a is less than 0\")"
   ]
  },
  {
   "cell_type": "code",
   "execution_count": 9,
   "metadata": {},
   "outputs": [
    {
     "name": "stdout",
     "output_type": "stream",
     "text": [
      "a is equal to 0\n"
     ]
    }
   ],
   "source": [
    "# When a = 0,\n",
    "a = 0\n",
    "if a > 0:\n",
    "    print(\"a is greater than 0\")\n",
    "elif a == 0:\n",
    "    print(\"a is equal to 0\")\n",
    "else:\n",
    "    print(\"a is less than 0\")"
   ]
  },
  {
   "cell_type": "code",
   "execution_count": 10,
   "metadata": {},
   "outputs": [
    {
     "name": "stdout",
     "output_type": "stream",
     "text": [
      "a is less than 0\n"
     ]
    }
   ],
   "source": [
    "# When a < 0,\n",
    "a = -2\n",
    "if a > 0:\n",
    "    print(\"a is greater than 0\")\n",
    "elif a == 0:\n",
    "    print(\"a is equal to 0\")\n",
    "else:\n",
    "    print(\"a is less than 0\")"
   ]
  },
  {
   "cell_type": "code",
   "execution_count": 11,
   "metadata": {},
   "outputs": [
    {
     "name": "stdout",
     "output_type": "stream",
     "text": [
      "Grade is C\n"
     ]
    }
   ],
   "source": [
    "# There can be multiple “elif” blocks in the “if…elif…else” statement\n",
    "mark = 67\n",
    "if 85 <= mark <= 100:\n",
    "    print(\"Grade is A\")\n",
    "elif 75 <= mark <= 84:\n",
    "    print(\"Grade is B\")\n",
    "elif 65 <= mark <= 74:\n",
    "    print(\"Grade is C\")\n",
    "elif 55 <= mark <= 64:\n",
    "    print(\"Grade is D\")\n",
    "else:\n",
    "    print(\"Grade is F\")"
   ]
  },
  {
   "cell_type": "markdown",
   "metadata": {},
   "source": [
    "### Nested  ``if`` Statement\n",
    "The ``if…elif…else``statement allows for testing of multiple Boolean expressions. <br>\n",
    "If the condition for ``if`` is False, the next ``elif`` Boolean expression is evaluated and so on. <br>\n",
    "If all the conditions are False, the body of ``else`` is executed. <br>\n",
    "``if`` statements can be nested within other ``if`` statements. <br>\n",
    "Any number of ``if``, ``if...else`` or ``if…elif…else`` statements can be nested inside one another. <br>\n",
    "Indentation is the only way to figure out the level of nesting. Improper indentation will lead to errors. "
   ]
  },
  {
   "cell_type": "code",
   "execution_count": 12,
   "metadata": {},
   "outputs": [
    {
     "name": "stdout",
     "output_type": "stream",
     "text": [
      "A positive number\n"
     ]
    }
   ],
   "source": [
    "# Nested “if” statement \n",
    "number = 50\n",
    "if number >= 0:\n",
    "    if number == 0:\n",
    "        print(\"number is 0\")\n",
    "    else:\n",
    "        print(\"A positive number\")\n",
    "else:\n",
    "    print(\"A negative number\")"
   ]
  },
  {
   "cell_type": "code",
   "execution_count": 13,
   "metadata": {},
   "outputs": [
    {
     "name": "stdout",
     "output_type": "stream",
     "text": [
      "Light changing from amber to red\n"
     ]
    }
   ],
   "source": [
    "# The nesting of the “if” statement could also be in the “else” block\n",
    "colour = \"amber\"\n",
    "change = True\n",
    "if colour == \"red\" and change: \n",
    "    print(\"Light changing from red to green\")\n",
    "else: \n",
    "    if colour == \"amber\" and change: \n",
    "        print(\"Light changing from amber to red\")\n",
    "    else:\n",
    "        if change: # must be green\n",
    "            print(\"Light changing from green to amber\")"
   ]
  },
  {
   "cell_type": "markdown",
   "metadata": {},
   "source": [
    "Even when the indentations are done right, multiple layers of “if” statement nesting can be confusing and should be avoided unless absolutely necessary. <br>\n",
    "Developers are therefore advised to put in more effort (such as using comments) to make ``if`` statements as simple and clear as possible. "
   ]
  },
  {
   "attachments": {
    "image.png": {
     "image/png": "[encoded data removed]"
    }
   },
   "cell_type": "markdown",
   "metadata": {
    "scrolled": true
   },
   "source": [
    "# 3. Iteration\n",
    "The <b>Sequence</b> construct allows for statements to be executed as a group and one at a time sequentially.<br>\n",
    "Adding test conditions to select a group of statements to execute is what the <b>Selection</b> construct allows for. <br>\n",
    "In both cases, the group of statements is executed at most once. <br>\n",
    "The <b>Iteration</b> construct differs from these two constructs. <br>\n",
    "It allows for statements to be executed repeatedly. \n",
    "![image.png](attachment:image.png)\n",
    "\n",
    "There are two types of Iteration statement in Python:\n",
    "1.\tThe “while” statement\n",
    "2.\tThe “for” statement"
   ]
  },
  {
   "attachments": {
    "image.png": {
     "image/png": "[encoded data removed]"
    }
   },
   "cell_type": "markdown",
   "metadata": {},
   "source": [
    "## 3.1 The  ``while`` Statement\n",
    "The most basic Iteration statement is the “while” statement (also known as the “while” loop). <br>\n",
    "It has the following syntax:\n",
    "```python \n",
    "while Boolean expression:\n",
    "    constituent statements\n",
    "```\n",
    "![image.png](attachment:image.png)"
   ]
  },
  {
   "cell_type": "code",
   "execution_count": 14,
   "metadata": {},
   "outputs": [
    {
     "name": "stdout",
     "output_type": "stream",
     "text": [
      "0\n",
      "1\n",
      "2\n",
      "3\n",
      "4\n",
      "5\n",
      "6\n",
      "7\n",
      "8\n",
      "9\n",
      "Out of while statement\n"
     ]
    }
   ],
   "source": [
    "# prints a series of numbers from 0 to 9 while the “while” statement is True \n",
    "number = 0\n",
    "while number < 10:\n",
    "    print(number)\n",
    "    number = number + 1\n",
    "print(\"Out of while statement\")    "
   ]
  },
  {
   "cell_type": "markdown",
   "metadata": {},
   "source": [
    "### The  ``while`` with  ``else`` Statement\n",
    "Besides the simple ``while``statement, Python has ``while`` statement with an optional ``else`` block. <br>\n",
    "The ``else`` block is executed if the condition in the Boolean expression evaluates to False."
   ]
  },
  {
   "cell_type": "code",
   "execution_count": 15,
   "metadata": {},
   "outputs": [
    {
     "name": "stdout",
     "output_type": "stream",
     "text": [
      "0 Inside while loop\n",
      "1 Inside while loop\n",
      "Inside else\n"
     ]
    }
   ],
   "source": [
    "# \"while\" with \"else\" statement\n",
    "number = 0\n",
    "while number < 2:\n",
    "    print(number, \"Inside while loop\")\n",
    "    number = number + 1\n",
    "else:\n",
    "    print(\"Inside else\")"
   ]
  },
  {
   "cell_type": "markdown",
   "metadata": {},
   "source": [
    "### The  ``while`` with  ``break`` Statement\n",
    "The ``break`` statement can be used within a loop to stop the loop even when the ``while`` condition is True. "
   ]
  },
  {
   "cell_type": "code",
   "execution_count": 16,
   "metadata": {},
   "outputs": [
    {
     "name": "stdout",
     "output_type": "stream",
     "text": [
      "0 Inside while loop\n",
      "1 Inside while loop\n",
      "2 Inside while loop\n",
      "3 Inside while loop\n",
      "4 Inside while loop\n"
     ]
    }
   ],
   "source": [
    "# \"while\" with \"break\" statement\n",
    "number = 0\n",
    "while number < 8:\n",
    "    print(number, \"Inside while loop\")\n",
    "    if number == 4:\n",
    "        break\n",
    "    number += 1 # same as number = number + 1"
   ]
  },
  {
   "cell_type": "code",
   "execution_count": 17,
   "metadata": {},
   "outputs": [
    {
     "name": "stdout",
     "output_type": "stream",
     "text": [
      "[1, 1, 2, 3, 5, 8, 13, 21, 34, 55, 89, 144, 233, 377]\n"
     ]
    }
   ],
   "source": [
    "# The \"while\" with \"break\" statement\n",
    "# This loop will fill a list with all Fibonacci numbers up to a certain value\n",
    "x, y = 0, 1\n",
    "amax = 500\n",
    "l = []\n",
    "\n",
    "while True:\n",
    "    (x, y) = (y, x + y) # equivalent to x=y followed by y=x+y\n",
    "    if x > amax:\n",
    "        break\n",
    "    l.append(x)\n",
    "print(l)"
   ]
  },
  {
   "cell_type": "markdown",
   "metadata": {},
   "source": [
    "### The  ``while`` with  ``continue`` Statement\n",
    "The ``continue`` statement can be used within a loop to stop the current iteration, and continue with the next. "
   ]
  },
  {
   "cell_type": "code",
   "execution_count": 18,
   "metadata": {},
   "outputs": [
    {
     "name": "stdout",
     "output_type": "stream",
     "text": [
      "1 Inside while loop\n",
      "2 Inside while loop\n",
      "3 Inside while loop\n",
      "5 Inside while loop\n",
      "6 Inside while loop\n",
      "7 Inside while loop\n",
      "8 Inside while loop\n"
     ]
    }
   ],
   "source": [
    "# \"while\" with \"continue\" statement\n",
    "number = 0\n",
    "while number < 8:\n",
    "    number += 1\n",
    "    if number == 4:\n",
    "        continue\n",
    "    print(number, \"Inside while loop\")"
   ]
  },
  {
   "attachments": {
    "image.png": {
     "image/png": "[encoded data removed]"
    }
   },
   "cell_type": "markdown",
   "metadata": {},
   "source": [
    "## 3.2 The  ``for`` Statement\n",
    "The functionality of the ``while`` statement can also be achieved using the ``for`` statement (also known as the ``for`` loop). \n",
    "It has the following syntax:\n",
    "```python \n",
    "for val in sequence:\n",
    "    constituent statements\n",
    "```\n",
    "\n",
    "“val” is the variable that takes the value of the item inside the sequence (i.e. a sequence is either a list, a tuple, a dictionary, a set, or a string) on each iteration. <br>\n",
    "The iteration continues until the last item in the sequence is reached.<br> \n",
    "The body of the ``for`` loop is separated from the rest of the code using indentation.\n",
    "![image.png](attachment:image.png)"
   ]
  },
  {
   "cell_type": "code",
   "execution_count": 19,
   "metadata": {},
   "outputs": [
    {
     "name": "stdout",
     "output_type": "stream",
     "text": [
      "Result is 1976\n"
     ]
    }
   ],
   "source": [
    "# The \"for\" statement\n",
    "numbers = [10, 5, 711, 3, 67, 950, 230]\n",
    "result = 0\n",
    "for number in numbers:\n",
    "    result += number\n",
    "print(\"Result is\", result)"
   ]
  },
  {
   "cell_type": "code",
   "execution_count": 20,
   "metadata": {},
   "outputs": [
    {
     "name": "stdout",
     "output_type": "stream",
     "text": [
      "1 2 3 4 "
     ]
    }
   ],
   "source": [
    "# The \"for\" statement\n",
    "for number in [1, 2, 3, 4]:\n",
    "    print(number, end=' ') # print all on same line"
   ]
  },
  {
   "cell_type": "code",
   "execution_count": 21,
   "metadata": {},
   "outputs": [
    {
     "name": "stdout",
     "output_type": "stream",
     "text": [
      "2,3,4,5,6,7,8,9,10,11,12,13,14,15,16,17,18,19,"
     ]
    }
   ],
   "source": [
    "# The \"for\" statement\n",
    "for i in range(2, 20):\n",
    "    print (i, end=',') # print all on same line separated by \",\""
   ]
  },
  {
   "cell_type": "code",
   "execution_count": 22,
   "metadata": {},
   "outputs": [
    {
     "name": "stdout",
     "output_type": "stream",
     "text": [
      "0 2 4 6 8 "
     ]
    }
   ],
   "source": [
    "# Range from 0 to 10 by 2\n",
    "for number in list(range(0, 10, 2)):\n",
    "    print(number, end=\" \")"
   ]
  },
  {
   "cell_type": "code",
   "execution_count": 23,
   "metadata": {},
   "outputs": [
    {
     "name": "stdout",
     "output_type": "stream",
     "text": [
      "The followings are expensive cars:\n",
      "Ferrari\n",
      "Bentley\n",
      "Rolls-Royce\n"
     ]
    }
   ],
   "source": [
    "# The “for” loop can be used in conjunction with range() and len() function to iterate through a sequence using indexing. \n",
    "cars = [\"Ferrari\", \"Bentley\", \"Rolls-Royce\"]\n",
    "print(\"The followings are expensive cars:\")\n",
    "for i in range(len(cars)):\n",
    "    print(cars[i])"
   ]
  },
  {
   "cell_type": "code",
   "execution_count": 24,
   "metadata": {},
   "outputs": [
    {
     "name": "stdout",
     "output_type": "stream",
     "text": [
      "['Ferrari', 'Bentley', 'Rolls-Royce'] <class 'list'>\n"
     ]
    }
   ],
   "source": [
    "# Using for statement within list\n",
    "j = [i for i in [\"Ferrari\", \"Bentley\", \"Rolls-Royce\"]]\n",
    "print(j, type(j))"
   ]
  },
  {
   "cell_type": "code",
   "execution_count": 25,
   "metadata": {},
   "outputs": [
    {
     "name": "stdout",
     "output_type": "stream",
     "text": [
      "('Ferrari', 'Bentley', 'Rolls-Royce') <class 'generator'> <class 'tuple'>\n"
     ]
    }
   ],
   "source": [
    "# Using for statement within tuple\n",
    "j = (i for i in (\"Ferrari\", \"Bentley\", \"Rolls-Royce\"))\n",
    "k = tuple(j)\n",
    "print(k, type(j), type(k))"
   ]
  },
  {
   "cell_type": "code",
   "execution_count": 26,
   "metadata": {},
   "outputs": [
    {
     "name": "stdout",
     "output_type": "stream",
     "text": [
      "['Ferrari', 'Bentley', 'Rolls-Royce']\n"
     ]
    }
   ],
   "source": [
    "# Using for statement within a mix of list and tuple\n",
    "j = [i for i in (\"Ferrari\", \"Bentley\", \"Rolls-Royce\")]\n",
    "print(j)"
   ]
  },
  {
   "cell_type": "markdown",
   "metadata": {},
   "source": [
    "### The  ``for`` with ``else`` Statement\n",
    "An ``else`` part can also be included in a ``for`` statement. <br>\n",
    "The ``else`` part is executed when all the items in the sequence have been used. "
   ]
  },
  {
   "cell_type": "code",
   "execution_count": 27,
   "metadata": {},
   "outputs": [
    {
     "name": "stdout",
     "output_type": "stream",
     "text": [
      "10\n",
      "5\n",
      "711\n",
      "3\n",
      "67\n",
      "950\n",
      "230\n",
      "Result is 1976\n"
     ]
    }
   ],
   "source": [
    "# The \"for\" with \"else\" statement\n",
    "numbers = [10, 5, 711, 3, 67, 950, 230]\n",
    "result = 0\n",
    "for number in numbers:\n",
    "    result += number\n",
    "    print(number)\n",
    "else:\n",
    "    print(\"Result is\", result)"
   ]
  },
  {
   "cell_type": "markdown",
   "metadata": {},
   "source": [
    "### The  ``for`` with ``break`` Statement\n",
    "A ``break`` keyword can be used to stop a ``for`` loop. In this case, the ``else`` part is ignored.<br>\n",
    "The ``else``part in a ``for`` loop, therefore, runs if break does not occur. "
   ]
  },
  {
   "cell_type": "code",
   "execution_count": 28,
   "metadata": {},
   "outputs": [
    {
     "name": "stdout",
     "output_type": "stream",
     "text": [
      "10\n",
      "5\n",
      "711\n",
      "Out of for loop\n"
     ]
    }
   ],
   "source": [
    "# The \"for\" with \"break\" statement\n",
    "numbers = [10, 5, 711, 3, 67, 950, 230]\n",
    "result = 0\n",
    "for number in numbers:\n",
    "    result += number\n",
    "    print(number)\n",
    "    if result > 500:\n",
    "        break\n",
    "else:\n",
    "    print(\"Result is\", result)\n",
    "print(\"Out of for loop\")"
   ]
  },
  {
   "cell_type": "markdown",
   "metadata": {},
   "source": [
    "### The  ``for`` with ``continue`` Statement\n",
    "A ``continue`` keyword can be used to stop the current iteration of a ``for`` loop, and continue with the next iteration."
   ]
  },
  {
   "cell_type": "code",
   "execution_count": 29,
   "metadata": {},
   "outputs": [
    {
     "name": "stdout",
     "output_type": "stream",
     "text": [
      "1 Inside for loop\n",
      "2 Inside for loop\n",
      "3 Inside for loop\n",
      "5 Inside for loop\n",
      "6 Inside for loop\n",
      "7 Inside for loop\n",
      "8 Inside for loop\n"
     ]
    }
   ],
   "source": [
    "# The \"for\" with \"continue\" statement\n",
    "number = 0\n",
    "for number in [1, 2, 3, 4, 5, 6, 7, 8]:\n",
    "    if number == 4:\n",
    "        continue\n",
    "    print(number, \"Inside for loop\")"
   ]
  },
  {
   "cell_type": "markdown",
   "metadata": {},
   "source": [
    "### Nested  ``for`` Loop\n",
    "A ``continue`` keyword can be used to stop the current iteration of a ``for`` loop, and continue with the next iteration.\n",
    "A ``for`` loop can be nested within another ``for`` loop. The ``inner loop`` will be executed once for each iteration of the ``outer`` loop. "
   ]
  },
  {
   "cell_type": "code",
   "execution_count": 30,
   "metadata": {},
   "outputs": [
    {
     "name": "stdout",
     "output_type": "stream",
     "text": [
      "red Mazda\n",
      "red Honda\n",
      "red Toyota\n",
      "green Mazda\n",
      "green Honda\n",
      "green Toyota\n",
      "blue Mazda\n",
      "blue Honda\n",
      "blue Toyota\n"
     ]
    }
   ],
   "source": [
    "# Nested \"for\" loop\n",
    "colours = [\"red\", \"green\", \"blue\"]\n",
    "cars    = [\"Mazda\", \"Honda\", \"Toyota\"]\n",
    "for i in colours:\n",
    "    for j in cars:\n",
    "        print(i, j)"
   ]
  },
  {
   "cell_type": "markdown",
   "metadata": {},
   "source": [
    "### The  ``for`` with  ``pass`` Statement\n",
    "``for`` loops cannot be empty i.e. there must be a statement for execution in the body of ``for``. <br>\n",
    "If for some reasons, there is no content for execution in the ``for`` body, you could place a ``pass`` statement to avoid getting an error."
   ]
  },
  {
   "cell_type": "code",
   "execution_count": 31,
   "metadata": {},
   "outputs": [],
   "source": [
    "# The \"for\" with \"pass\" statement\n",
    "for i in [1, 3, 5]:\n",
    "    pass # include pass statement to avoid error"
   ]
  },
  {
   "cell_type": "markdown",
   "metadata": {},
   "source": [
    "<center>\n",
    "  <a href=\"PP-04-Operators.ipynb\" target=\"_self\">Operators</a> | <a href=\"./\">Content Page</a> | <a href=\"PP-06-Functions.ipynb\">Functions</a> | <a href=\"PP-05-ProgramFlowControls-Exercises.ipynb\">Program Flow Controls Exercises</a>\n",
    "</center>"
   ]
  }
 ],
 "metadata": {
  "anaconda-cloud": {},
  "kernelspec": {
   "display_name": "Python 3 (ipykernel)",
   "language": "python",
   "name": "python3"
  },
  "language_info": {
   "codemirror_mode": {
    "name": "ipython",
    "version": 3
   },
   "file_extension": ".py",
   "mimetype": "text/x-python",
   "name": "python",
   "nbconvert_exporter": "python",
   "pygments_lexer": "ipython3",
   "version": "3.11.5"
  }
 },
 "nbformat": 4,
 "nbformat_minor": 1
}
