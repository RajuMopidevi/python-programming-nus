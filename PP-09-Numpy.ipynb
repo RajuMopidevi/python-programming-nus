{
 "cells": [
  {
   "cell_type": "markdown",
   "metadata": {},
   "source": [
    "<center>\n",
    "  <a href=\"PP-08-FileHandling.ipynb\" target=\"_self\">File Handling</a> | <a href=\"./\">Content Page</a> | <a href=\"PP-10-pandas.ipynb\">The pandas Library</a>\n",
    "</center>"
   ]
  },
  {
   "cell_type": "markdown",
   "metadata": {},
   "source": [
    "# <center>THE NUMPY LIBRARY</center>\n",
    "<center><b>Copyright &copy 2023 by DR DANNY POO</b><br> e:dannypoo@nus.edu.sg<br> w:drdannypoo.com</center><br>"
   ]
  },
  {
   "cell_type": "markdown",
   "metadata": {
    "collapsed": true
   },
   "source": [
    "Array is a data structure commonly used in Data Science. It is also essential for scientific computing but Python does not have an explicit implementation of array. For most Python programmers who need to use an array, they would have to implement it using a list structure which is clearly not an ideal solution.\n",
    "\n",
    "In an attempt to provide for arrays, the standard Python library has a class for arrays – the “array.array” class in the “array” module. This class creates a 1-dimensional array object with limited functionalities for managing arrays. \n",
    "\n",
    "As Python gained popularity among developers, it became clear that more must be done to enhance the Python library to support scientific computing to include numerical calculations and arrays. This resulted in the birth of the Numpy library."
   ]
  },
  {
   "cell_type": "markdown",
   "metadata": {},
   "source": [
    "# 1. Getting the Numpy Library\n",
    "To begin, Numpy library must be installed. If you have Python already installed, you can get Numpy by entering\n",
    "```python\n",
    "conda install numpy\n",
    "```\n",
    "or\n",
    "```python\n",
    "pip install numpy\n",
    "```\n",
    "in the Command Prompt.\n",
    "\n",
    "To use Numpy and all its functionalities in it, you need to import the package. The Numpy package is usually imported as ``np``:\n",
    "\n",
    "```python\n",
    "import numpy as np\n",
    "```"
   ]
  },
  {
   "cell_type": "code",
   "execution_count": 1,
   "metadata": {},
   "outputs": [
    {
     "data": {
      "text/plain": [
       "'1.24.3'"
      ]
     },
     "execution_count": 1,
     "metadata": {},
     "output_type": "execute_result"
    }
   ],
   "source": [
    "# To check the version of Numpy\n",
    "import numpy as np\n",
    "np.__version__ # double underscore “version” double underscore"
   ]
  },
  {
   "cell_type": "markdown",
   "metadata": {},
   "source": [
    "# 2. ndarray\n",
    "The central data structure of Numpy is the ndarray (i.e. N-dimensional array where N can be 0). An ``ndarray`` is a contiguous storage of multi-dimensional, homogeneous data elements of the same size. It can be indexed by a tuple of non-negative integers, by booleans, by another array, or by integers. Each element is referenced via the index. "
   ]
  },
  {
   "attachments": {
    "image-2.png": {
     "image/png": "[encoded data removed]"
    }
   },
   "cell_type": "markdown",
   "metadata": {},
   "source": [
    "## 2.1 ndarray Attributes\n",
    "Attributes reflect information or properties about a data structure. The ndarray has a number of attributes that describe the array. Any reference to the use of the word “array” will refer to the Numpy ``ndarray``. \n",
    "\n",
    "The Numpy ndarray has the following attributes:\n",
    "![image-2.png](attachment:image-2.png)"
   ]
  },
  {
   "cell_type": "code",
   "execution_count": 2,
   "metadata": {},
   "outputs": [
    {
     "data": {
      "text/plain": [
       "numpy.ndarray"
      ]
     },
     "execution_count": 2,
     "metadata": {},
     "output_type": "execute_result"
    }
   ],
   "source": [
    "# Create an ndarray\n",
    "a = np.array([2, 4, 6, 8, 10])\n",
    "type(a)"
   ]
  },
  {
   "cell_type": "markdown",
   "metadata": {},
   "source": [
    "### ndim\n",
    "The attribute ``ndim`` shows the rank or number of dimensions of an ndarray.\n",
    "\n",
    "In Numpy, dimensions are known as axes. Therefore, ndim shows the number of axes (or dimensions) of the array. The array “a” has one axis and the axis has 3 elements in it."
   ]
  },
  {
   "cell_type": "code",
   "execution_count": 3,
   "metadata": {
    "scrolled": true
   },
   "outputs": [
    {
     "data": {
      "text/plain": [
       "1"
      ]
     },
     "execution_count": 3,
     "metadata": {},
     "output_type": "execute_result"
    }
   ],
   "source": [
    "# Number of dimensions of an ndarray\n",
    "a.ndim"
   ]
  },
  {
   "cell_type": "code",
   "execution_count": 4,
   "metadata": {},
   "outputs": [
    {
     "data": {
      "text/plain": [
       "2"
      ]
     },
     "execution_count": 4,
     "metadata": {},
     "output_type": "execute_result"
    }
   ],
   "source": [
    "# Array “b” is 2-dimensional and it has two axes. \n",
    "# The first axis has a length of 2, the second axis has a length of 3. \n",
    "b = np.array([[2, 4, 6],\n",
    "              [8, 10, 12]])\n",
    "b.ndim"
   ]
  },
  {
   "cell_type": "markdown",
   "metadata": {},
   "source": [
    "### shape\n",
    "The attribute ``shape`` shows the dimensions of the array. It is a tuple of integers indicating the size of the array in each dimension. \n",
    "\n",
    "For a 2-dimensional array (also known as a matrix) with “n” rows and “m” columns, shape will be (n, m). For array “b”, there are 2 rows and 3 columns.\n",
    "\n",
    "For array “a” which is 1-dimensional, there is only one axis of length 5 (you may think of it as having a row and no column) as shown by the shape attribute."
   ]
  },
  {
   "cell_type": "code",
   "execution_count": 5,
   "metadata": {},
   "outputs": [
    {
     "data": {
      "text/plain": [
       "(5,)"
      ]
     },
     "execution_count": 5,
     "metadata": {},
     "output_type": "execute_result"
    }
   ],
   "source": [
    "# Shows dimensions of the array\n",
    "a.shape"
   ]
  },
  {
   "cell_type": "code",
   "execution_count": 6,
   "metadata": {},
   "outputs": [
    {
     "name": "stdout",
     "output_type": "stream",
     "text": [
      "3\n",
      "(2, 4, 3)\n"
     ]
    }
   ],
   "source": [
    "# Array “c” is 3-dimensional and it has three axes. \n",
    "# The first axis has a length of 2, the second axis has a length of 4, and the third axis has a length of 3.\n",
    "c = np.array([[[2, 4, 6],\n",
    "               [8, 10, 12],\n",
    "               [14, 16, 18],\n",
    "               [20, 22, 24]],\n",
    "              [[26, 28, 30],\n",
    "               [32, 34, 36],\n",
    "               [38, 40, 42],\n",
    "               [44, 46, 48]]])\n",
    "print(c.ndim)\n",
    "print(c.shape)"
   ]
  },
  {
   "cell_type": "code",
   "execution_count": 7,
   "metadata": {},
   "outputs": [
    {
     "name": "stdout",
     "output_type": "stream",
     "text": [
      "d has 0 dimension\n",
      "2\n",
      "0\n",
      "()\n",
      "d has 1 dimension\n",
      "[2]\n",
      "1\n",
      "(1,)\n",
      "d has 2 dimensions\n",
      "[[ 2  4  6]\n",
      " [ 8 10 12]]\n",
      "2\n",
      "(2, 3)\n",
      "d has 3 dimensions\n",
      "[[[ 2  4  6]\n",
      "  [ 8 10 12]\n",
      "  [14 16 18]\n",
      "  [20 22 24]]\n",
      "\n",
      " [[26 28 30]\n",
      "  [32 34 36]\n",
      "  [38 40 42]\n",
      "  [44 46 48]]]\n",
      "3\n",
      "(2, 4, 3)\n"
     ]
    }
   ],
   "source": [
    "# Array \"d\" has 0, 1, 2, 3 dimension\n",
    "d = np.array(2)\n",
    "print(\"d has 0 dimension\")\n",
    "print(d)\n",
    "print(d.ndim)\n",
    "print(d.shape)\n",
    "\n",
    "d = np.array([2])\n",
    "print(\"d has 1 dimension\")\n",
    "print(d)\n",
    "print(d.ndim)\n",
    "print(d.shape)\n",
    "\n",
    "d = np.array([[2, 4, 6],\n",
    "              [8, 10, 12]])\n",
    "print(\"d has 2 dimensions\")\n",
    "print(d)\n",
    "print(d.ndim)\n",
    "print(d.shape)\n",
    "\n",
    "d = np.array([[[2, 4, 6],\n",
    "               [8, 10, 12],\n",
    "               [14, 16, 18],\n",
    "               [20, 22, 24]],\n",
    "              [[26, 28, 30],\n",
    "               [32, 34, 36],\n",
    "               [38, 40, 42],\n",
    "               [44, 46, 48]]])\n",
    "print(\"d has 3 dimensions\")\n",
    "print(d)\n",
    "print(d.ndim)\n",
    "print(d.shape)"
   ]
  },
  {
   "cell_type": "markdown",
   "metadata": {},
   "source": [
    "### size\n",
    "The attribute ``size`` returns the total number of elements of the array. This is equivalent to the product of the elements of shape attribute. "
   ]
  },
  {
   "cell_type": "code",
   "execution_count": 8,
   "metadata": {},
   "outputs": [
    {
     "data": {
      "text/plain": [
       "24"
      ]
     },
     "execution_count": 8,
     "metadata": {},
     "output_type": "execute_result"
    }
   ],
   "source": [
    "# What is the size of array \"d\"?\n",
    "d.size"
   ]
  },
  {
   "cell_type": "markdown",
   "metadata": {},
   "source": [
    "### dtype\n",
    "The elements of an ndarray can take on any standard Python types as well as Numpy self-defined types such as numpy.int32, numpy.int16, numpy.float64. <br>\n",
    "The element type can be specified via the ``dtype``attribute."
   ]
  },
  {
   "cell_type": "code",
   "execution_count": 9,
   "metadata": {},
   "outputs": [
    {
     "data": {
      "text/plain": [
       "dtype('int32')"
      ]
     },
     "execution_count": 9,
     "metadata": {},
     "output_type": "execute_result"
    }
   ],
   "source": [
    "# What is the element type of array \"d\"?\n",
    "d = np.array([[[2, 4, 6],\n",
    "               [8, 10, 12],\n",
    "               [14, 16, 18],\n",
    "               [20, 22, 24]],\n",
    "              [[26, 28, 30],\n",
    "               [32, 34, 36],\n",
    "               [38, 40, 42],\n",
    "               [44, 46, 48]]])\n",
    "d.dtype"
   ]
  },
  {
   "cell_type": "code",
   "execution_count": 10,
   "metadata": {},
   "outputs": [
    {
     "data": {
      "text/plain": [
       "dtype('float64')"
      ]
     },
     "execution_count": 10,
     "metadata": {},
     "output_type": "execute_result"
    }
   ],
   "source": [
    "# What is the element type of array \"e\"?\n",
    "e = np.array([1.5, 3.8, 5.9])\n",
    "e.dtype"
   ]
  },
  {
   "cell_type": "code",
   "execution_count": 11,
   "metadata": {},
   "outputs": [
    {
     "data": {
      "text/plain": [
       "dtype('<U3')"
      ]
     },
     "execution_count": 11,
     "metadata": {},
     "output_type": "execute_result"
    }
   ],
   "source": [
    "# What is the element type of array \"f\"?\n",
    "f = np.array(['tom', 'eve', 'jim']) # Unicode, 3 characters\n",
    "f.dtype"
   ]
  },
  {
   "cell_type": "code",
   "execution_count": 12,
   "metadata": {},
   "outputs": [
    {
     "data": {
      "text/plain": [
       "dtype('<U5')"
      ]
     },
     "execution_count": 12,
     "metadata": {},
     "output_type": "execute_result"
    }
   ],
   "source": [
    "# What is the element type of array \"f\"?\n",
    "f = np.array(['tom', 'eve', 'jimmy']) # Unicode, 5 characters\n",
    "f.dtype"
   ]
  },
  {
   "cell_type": "markdown",
   "metadata": {},
   "source": [
    "# 3. ndarray Creation\n",
    "Arrays are created from a regular Python list or tuple using the ``array()`` function. <br>\n",
    "The type of the resulting array takes on the type of the elements in the sequences."
   ]
  },
  {
   "cell_type": "code",
   "execution_count": 13,
   "metadata": {},
   "outputs": [
    {
     "name": "stdout",
     "output_type": "stream",
     "text": [
      "[10 15 20] int32\n"
     ]
    }
   ],
   "source": [
    "# Creates array from a list\n",
    "g = np.array([10, 15, 20]) \n",
    "print(g, g.dtype)"
   ]
  },
  {
   "cell_type": "code",
   "execution_count": 14,
   "metadata": {},
   "outputs": [
    {
     "name": "stdout",
     "output_type": "stream",
     "text": [
      "[10 15 20] int32\n"
     ]
    }
   ],
   "source": [
    "# Creates array from a tuple\n",
    "h = np.array((10, 15, 20)) \n",
    "print(h, h.dtype)"
   ]
  },
  {
   "cell_type": "code",
   "execution_count": 15,
   "metadata": {},
   "outputs": [
    {
     "name": "stdout",
     "output_type": "stream",
     "text": [
      "[10.4 15.  20.1] float64\n"
     ]
    }
   ],
   "source": [
    "# Creates array of floating point numbers from a tuple\n",
    "i = np.array((10.4, 15.0, 20.1)) \n",
    "print(i, i.dtype)"
   ]
  },
  {
   "cell_type": "markdown",
   "metadata": {},
   "source": [
    "<b>A common error in array creation is the omission of the round (for tuple) or square (for list) brackets, leading to multiple arguments being passed to the ``array()`` function. For example,\n",
    "```python\n",
    "d = np.array(10, 15, 20)      # incorrect\n",
    "Out:\n",
    "TypeError: array() takes from 1 to 2 positional arguments but 3 were given  \n",
    "```\n",
    "</b>"
   ]
  },
  {
   "cell_type": "code",
   "execution_count": 16,
   "metadata": {},
   "outputs": [
    {
     "name": "stdout",
     "output_type": "stream",
     "text": [
      "[[10.4 15.  20. ]\n",
      " [ 2.   4.   6. ]] float64 <class 'numpy.ndarray'>\n",
      "2 (2, 3)\n"
     ]
    }
   ],
   "source": [
    "# The array() function transforms sequences of sequences into 2-dimensional arrays.\n",
    "j = np.array([(10.4, 15, 20), (2, 4, 6)]) # 2 rows and 3 columns\n",
    "print(j, j.dtype, type(j))\n",
    "print(j.ndim, j.shape)"
   ]
  },
  {
   "cell_type": "code",
   "execution_count": 17,
   "metadata": {},
   "outputs": [
    {
     "name": "stdout",
     "output_type": "stream",
     "text": [
      "[[[10 15 18]\n",
      "  [20 25 30]]\n",
      "\n",
      " [[ 2  4  5]\n",
      "  [ 6  7  8]]] int32 <class 'numpy.ndarray'>\n",
      "3 (2, 2, 3)\n"
     ]
    }
   ],
   "source": [
    "# array() function can transform sequences of sequences of sequences into 3-dimensional arrays, and so on.\n",
    "k = np.array([([10, 15, 18], [20, 25, 30]), ([2, 4, 5], [6, 7, 8])])\n",
    "print(k, k.dtype, type(k))\n",
    "print(k.ndim, k.shape)"
   ]
  },
  {
   "cell_type": "markdown",
   "metadata": {},
   "source": [
    "## 3.1 Functions for Array Creation with Default Values\n",
    "<b>Numpy has several functions that enable the creation of arrays with default values. The function \n",
    "* ``zeros()`` creates an array full of zeros, \n",
    "* ``ones()`` create an array full of ones, and \n",
    "* ``empty()``creates an array whose initial content is random and depends on the state of the memory. \n",
    "</b>"
   ]
  },
  {
   "cell_type": "markdown",
   "metadata": {},
   "source": [
    "### zeros() Function"
   ]
  },
  {
   "cell_type": "code",
   "execution_count": 18,
   "metadata": {},
   "outputs": [
    {
     "name": "stdout",
     "output_type": "stream",
     "text": [
      "[[0. 0. 0. 0. 0. 0. 0.]\n",
      " [0. 0. 0. 0. 0. 0. 0.]\n",
      " [0. 0. 0. 0. 0. 0. 0.]\n",
      " [0. 0. 0. 0. 0. 0. 0.]\n",
      " [0. 0. 0. 0. 0. 0. 0.]] float64 <class 'numpy.ndarray'>\n",
      "2 (5, 7)\n"
     ]
    }
   ],
   "source": [
    "# zeros(): default float64 elements\n",
    "l = np.zeros([5, 7]) \n",
    "print(l, l.dtype, type(l))\n",
    "print(l.ndim, l.shape)"
   ]
  },
  {
   "cell_type": "markdown",
   "metadata": {},
   "source": [
    "### ones() Function"
   ]
  },
  {
   "cell_type": "code",
   "execution_count": 19,
   "metadata": {},
   "outputs": [
    {
     "name": "stdout",
     "output_type": "stream",
     "text": [
      "[[1 1 1 1]\n",
      " [1 1 1 1]\n",
      " [1 1 1 1]] int64 <class 'numpy.ndarray'>\n",
      "2 (3, 4)\n"
     ]
    }
   ],
   "source": [
    "# ones(): dtype specified\n",
    "m = np.ones([3, 4], dtype=\"int64\") \n",
    "print(m, m.dtype, type(m))\n",
    "print(m.ndim, m.shape)"
   ]
  },
  {
   "cell_type": "markdown",
   "metadata": {},
   "source": [
    "### empty() Function"
   ]
  },
  {
   "cell_type": "code",
   "execution_count": 20,
   "metadata": {},
   "outputs": [
    {
     "name": "stdout",
     "output_type": "stream",
     "text": [
      "[[0. 0. 0.]\n",
      " [0. 0. 0.]\n",
      " [0. 0. 0.]] float64 <class 'numpy.ndarray'>\n",
      "2 (3, 3)\n"
     ]
    }
   ],
   "source": [
    "# empty(): uninitialized\n",
    "n = np.empty((3, 3))  \n",
    "print(n, n.dtype, type(n))\n",
    "print(n.ndim, n.shape)"
   ]
  },
  {
   "cell_type": "markdown",
   "metadata": {},
   "source": [
    "## 3.2 arange() Function\n",
    "Numpy provides `arange()` function similar to the Python built-in `range()` function. This function creates a sequence of numbers in the resulting array."
   ]
  },
  {
   "cell_type": "code",
   "execution_count": 21,
   "metadata": {},
   "outputs": [
    {
     "name": "stdout",
     "output_type": "stream",
     "text": [
      "[ 5 12 19 26 33 40 47] int32 <class 'numpy.ndarray'>\n",
      "1 (7,)\n"
     ]
    }
   ],
   "source": [
    "# arange(start, stop, step, dtype=None)\n",
    "o = np.arange(5, 50, 7) \n",
    "print(o, o.dtype, type(o))\n",
    "print(o.ndim, o.shape)"
   ]
  },
  {
   "cell_type": "code",
   "execution_count": 22,
   "metadata": {},
   "outputs": [
    {
     "name": "stdout",
     "output_type": "stream",
     "text": [
      "[5.  5.7 6.4 7.1 7.8 8.5 9.2 9.9] float64 <class 'numpy.ndarray'>\n",
      "1 (8,)\n"
     ]
    }
   ],
   "source": [
    "# Can also include float argument\n",
    "p = np.arange(5, 10, 0.7)  # arange(start, stop, step)\n",
    "print(p, p.dtype, type(p))\n",
    "print(p.ndim, p.shape)"
   ]
  },
  {
   "cell_type": "markdown",
   "metadata": {},
   "source": [
    "The use of floating point argument as step could be problematic as we are not able to determine how many elements \n",
    "would be produced, due to the finite floating point precision. \n",
    "To address this issue, Numpy provides a ``linspace()`` function that allows for a fixed number of elements instead of the step."
   ]
  },
  {
   "cell_type": "markdown",
   "metadata": {},
   "source": [
    "### Using the arange() Function with reshape() Function\n",
    "The `arange()` function can be combined with the `reshape()` function to transform a 1-dimensional array into a 2-dimensional array. The `reshape()` function divides a linear array into different parts in the manner specified by the shape argument."
   ]
  },
  {
   "cell_type": "code",
   "execution_count": 23,
   "metadata": {},
   "outputs": [
    {
     "name": "stdout",
     "output_type": "stream",
     "text": [
      "[[1 2 3]\n",
      " [4 5 6]] int32 <class 'numpy.ndarray'>\n",
      "2 (2, 3)\n"
     ]
    }
   ],
   "source": [
    "# Using reshape() function\n",
    "q = np.arange(1, 7).reshape(2,3) # the size of the resulting array is 6 elements\n",
    "print(q, q.dtype, type(q))\n",
    "print(q.ndim, q.shape)"
   ]
  },
  {
   "cell_type": "markdown",
   "metadata": {},
   "source": [
    "## 3.3 random() Function\n",
    "To create a multi-dimensional array of random values, use the `random()` function of the numpy.random class"
   ]
  },
  {
   "cell_type": "code",
   "execution_count": 24,
   "metadata": {},
   "outputs": [
    {
     "name": "stdout",
     "output_type": "stream",
     "text": [
      "[[0.34337415 0.58976537 0.82404677 0.67339857]\n",
      " [0.72275153 0.44780963 0.86959103 0.5626754 ]\n",
      " [0.19194153 0.39908725 0.28109    0.61887257]] float64 <class 'numpy.ndarray'>\n",
      "2 (3, 4)\n"
     ]
    }
   ],
   "source": [
    "# Using random() function to create array of random values\n",
    "r = np.random.random((3,4)) # pass in the size of the multi-dimensional array as an argument\n",
    "print(r, r.dtype, type(r))\n",
    "print(r.ndim, r.shape)"
   ]
  },
  {
   "cell_type": "markdown",
   "metadata": {},
   "source": [
    "# 4. Basic Operations on ndarray\n",
    "Basic operations on arrays can be performed using:\n",
    "<ol>\n",
    "<li>Arithmetic operators</li>\n",
    "<li>Matrix product</li>\n",
    "<li>+=, -=, *=, //=, %= operators</li>\n",
    "<li>Universal functions (ufunc)</li>\n",
    "<li>Aggregate functions</li>\n",
    "</ol>"
   ]
  },
  {
   "cell_type": "markdown",
   "metadata": {},
   "source": [
    "## 4.1 Arithmetic Operators\n",
    "An arithmetic operator can be applied directly onto an array. "
   ]
  },
  {
   "cell_type": "code",
   "execution_count": 25,
   "metadata": {},
   "outputs": [
    {
     "name": "stdout",
     "output_type": "stream",
     "text": [
      "[ 2  4  6  8 10] int32 <class 'numpy.ndarray'>\n",
      "1 (5,)\n"
     ]
    }
   ],
   "source": [
    "# Creates a 1-dimensional array\n",
    "s = np.array([2, 4, 6, 8, 10]) \n",
    "print(s, s.dtype, type(s))\n",
    "print(s.ndim, s.shape)"
   ]
  },
  {
   "cell_type": "code",
   "execution_count": 26,
   "metadata": {},
   "outputs": [
    {
     "name": "stdout",
     "output_type": "stream",
     "text": [
      "[12 14 16 18 20] int32 <class 'numpy.ndarray'>\n",
      "1 (5,)\n"
     ]
    }
   ],
   "source": [
    "# Adds 10 (a scalar value) to the elements in the array\n",
    "s = s + 10\n",
    "print(s, s.dtype, type(s))\n",
    "print(s.ndim, s.shape)"
   ]
  },
  {
   "cell_type": "markdown",
   "metadata": {},
   "source": [
    "Other arithmetic operators such as subtraction, multiplication and division can likewise be performed on array elements."
   ]
  },
  {
   "cell_type": "code",
   "execution_count": 27,
   "metadata": {},
   "outputs": [
    {
     "name": "stdout",
     "output_type": "stream",
     "text": [
      "[13 17 21 25 29] int32 <class 'numpy.ndarray'>\n",
      "1 (5,)\n"
     ]
    }
   ],
   "source": [
    "# These arithmetic operators can also be applied between two arrays. \n",
    "# The operations are carried out element-wise \n",
    "# i.e. the operators are applied to the corresponding elements in the two arrays.\n",
    "# It is imperative that the size of the arrays are the same. \n",
    "t = np.array([1, 3, 5, 7, 9])\n",
    "s = s + t\n",
    "print(s, s.dtype, type(s))\n",
    "print(s.ndim, s.shape)"
   ]
  },
  {
   "cell_type": "code",
   "execution_count": 28,
   "metadata": {},
   "outputs": [
    {
     "name": "stdout",
     "output_type": "stream",
     "text": [
      "[[  2.           7.27272727  15.81818182]\n",
      " [ 27.63636364  42.72727273  61.09090909]\n",
      " [ 82.72727273 107.63636364 135.81818182]\n",
      " [167.27272727 202.         240.        ]] float64 <class 'numpy.ndarray'>\n",
      "2 (4, 3)\n"
     ]
    }
   ],
   "source": [
    "# These arithmetic operators can also be applied to multi-dimensional arrays. \n",
    "# As before, the arithmetic operators operate element-wise.\n",
    "u = np.array([[2, 4, 6],                 # create a 2-dimensional array of 4 rows and 3 columns\n",
    "              [8, 10, 12],\n",
    "              [14, 16, 18],\n",
    "              [20, 22, 24]])\n",
    "v = np.linspace(1, 10, 12).reshape(4,3)  # create a 2-dimensional array of 4 rows and 3 columns\n",
    "u = u * v\n",
    "print(u, u.dtype, type(u))\n",
    "print(u.ndim, u.shape)"
   ]
  },
  {
   "cell_type": "code",
   "execution_count": 29,
   "metadata": {},
   "outputs": [
    {
     "name": "stdout",
     "output_type": "stream",
     "text": [
      "[[  1.68294197   3.8782238    2.90404715]\n",
      " [ -2.46295483  -9.04895704 -11.15055048]\n",
      " [ -5.11601593   6.87414395  17.1500735 ]\n",
      " [ 17.45826017   5.29268359 -13.05650666]] float64 <class 'numpy.ndarray'>\n",
      "2 (4, 3)\n"
     ]
    }
   ],
   "source": [
    "# Can also multiply the array “u” by the sine of array “v”.\n",
    "u = np.array([[2, 4, 6],                 # create a 2-dimensional array of 4 rows and 3 columns\n",
    "              [8, 10, 12],\n",
    "              [14, 16, 18],\n",
    "              [20, 22, 24]])\n",
    "v = np.linspace(1, 10, 12).reshape(4,3)  # create a 2-dimensional array of 4 rows and 3 columns\n",
    "u = u * np.sin(v)                        # multiply by the sine of elements of array “v”\n",
    "print(u, u.dtype, type(u))\n",
    "print(u.ndim, u.shape)"
   ]
  },
  {
   "cell_type": "code",
   "execution_count": 30,
   "metadata": {},
   "outputs": [
    {
     "name": "stdout",
     "output_type": "stream",
     "text": [
      "[[ 2.          5.3935989   9.74212969]\n",
      " [14.86912604 20.67057637 27.07565159]\n",
      " [34.03207044 41.49917852 49.44418341]\n",
      " [57.83990444 66.66333325 75.89466384]] float64 <class 'numpy.ndarray'>\n",
      "2 (4, 3)\n"
     ]
    }
   ],
   "source": [
    "# Can also multiply the array “u” by square root of the elements of array “v”.\n",
    "u = np.array([[2, 4, 6],                 # create a 2-dimensional array of 4 rows and 3 columns\n",
    "              [8, 10, 12],\n",
    "              [14, 16, 18],\n",
    "              [20, 22, 24]])\n",
    "v = np.linspace(1, 10, 12).reshape(4,3)  # create a 2-dimensional array of 4 rows and 3 columns\n",
    "u = u * np.sqrt(v)                       # multiply by the square root of elements of array “d”\n",
    "print(u, u.dtype, type(u))\n",
    "print(u.ndim, u.shape)"
   ]
  },
  {
   "attachments": {
    "image.png": {
     "image/png": "[encoded data removed]"
    }
   },
   "cell_type": "markdown",
   "metadata": {},
   "source": [
    "## 4.2 Matrix Product\n",
    "Take two matrices and produce a third matrix such that each position in the third matrix is the sum of the products of each element of the corresponding row of the first matrix with the corresponding element of corresponding column of the second matrix. The resulting third matrix is the matrix product of the first and second matrices. Let us consider an example with two 3 by 3 elements matrices, A and B. \n",
    "\n",
    "There are a few points about matrix product worth mentioning here:\n",
    "\n",
    "* Conventionally,  ``*`` is understood to be the symbol for matrix product when it is applied to two matrices. Numpy uses ``*`` for array multiplication and the ``dot()``function for matrix product.\n",
    "* The number of elements in the corresponding row of the first matrix and the corresponding column of the second matrix must be the same. See the example that follows below.\n",
    "* ``A.dot(B)`` and ``A@B``are alternative ways of writing ``np.dot(A, B)``.\n",
    "* Since matrix product is not a commutative operation, the order of the operands is important. Thus, ``A.dot(B)`` is not equal to ``B.dot(A)``.\n",
    "\n",
    "    \n",
    "![image.png](attachment:image.png)"
   ]
  },
  {
   "cell_type": "code",
   "execution_count": 31,
   "metadata": {},
   "outputs": [
    {
     "name": "stdout",
     "output_type": "stream",
     "text": [
      "[[108 132 156]\n",
      " [234 294 354]\n",
      " [360 456 552]] int32 <class 'numpy.ndarray'>\n",
      "2 (3, 3)\n"
     ]
    }
   ],
   "source": [
    "# Matrix product of A and B arrays\n",
    "A = np.array([[2, 4, 6],\n",
    "              [8, 10, 12],\n",
    "              [14, 16, 18]])\n",
    "B = np.array([[1, 3, 5],\n",
    "              [7, 9, 11],\n",
    "              [13, 15, 17]])\n",
    "A = np.dot(A, B)  # alternatively, A.dot(B)\n",
    "print(A, A.dtype, type(A))\n",
    "print(A.ndim, A.shape)"
   ]
  },
  {
   "cell_type": "markdown",
   "metadata": {},
   "source": [
    "**Size of row of matrix C must be same as size of column of matrix D**<br>\n",
    "Consider two matrixes, C and D as follows: C and D have 2 rows and 3 columns. <br>\n",
    "When we apply matrix product on C and D, a ValueError is reported. <br>\n",
    "This is because the size of the row of C (has three elements) is not the same as the size of the column of D (which has two elements).\n",
    "```python\n",
    "C = np.array([[2, 4, 6],\n",
    "              [8, 10, 12]])\n",
    "D = np.array([[1, 3, 5],\n",
    "              [7, 9, 11]])\n",
    "C.dot(D)\n",
    "Out:\n",
    "ValueError: shapes (2,3) and (2,3) not aligned: 3 (dim 1) != 2 (dim 0)\n",
    "```"
   ]
  },
  {
   "cell_type": "code",
   "execution_count": 32,
   "metadata": {},
   "outputs": [
    {
     "name": "stdout",
     "output_type": "stream",
     "text": [
      "[[ 76 100]\n",
      " [166 226]]\n"
     ]
    }
   ],
   "source": [
    "# Redefine matrix D to be 3 rows and 2 columns, matrix product on C and D takes place.\n",
    "C = np.array([[2, 4, 6],\n",
    "              [8, 10, 12]])\n",
    "D = np.array([[1, 3],\n",
    "              [5, 7],\n",
    "              [9, 11]])\n",
    "print(C@D)             # same as C.dot(D)"
   ]
  },
  {
   "cell_type": "markdown",
   "metadata": {},
   "source": [
    "## 4.3 +=, -=, *=, //=, %= Operators\n",
    "These operators (“+=”, “-=”, “*=”, “//=”, and “%=”) acts on the operand on the right side of the “=” assignment to the operand on the left side and assign the resulting value to the operand on the left side. \n",
    "All the above operations act in place to modify an existing array rather than create a new one."
   ]
  },
  {
   "cell_type": "code",
   "execution_count": 33,
   "metadata": {},
   "outputs": [
    {
     "name": "stdout",
     "output_type": "stream",
     "text": [
      "[ 5  7  9 11]\n",
      "[2 4 6 8]\n",
      "[ 6 12 18 24]\n",
      "[2 4 6 8]\n",
      "[2 1 0 2]\n"
     ]
    }
   ],
   "source": [
    "E = np.array([2, 4, 6, 8])\n",
    "\n",
    "E += 3                        # adds 3 to the array\n",
    "print(E)\n",
    "\n",
    "E -= 3                        # minus 3 from the array\n",
    "print(E)\n",
    "\n",
    "E *= 3                       # multiplies 3 to the array\n",
    "print(E)\n",
    "\n",
    "E //= 3                       # floor divides array by 3, returns the quotient values\n",
    "print(E)\n",
    "\n",
    "E %= 3                       # returns the modulus (or remainder) of the division by 3\n",
    "print(E)"
   ]
  },
  {
   "cell_type": "markdown",
   "metadata": {},
   "source": [
    "## 4.4\tUniversal Functions (ufunc)\n",
    "A universal function acts on the elements of an input array to produce a corresponding result in a new output array. The size of the output array is the same as the input array. \n",
    "\n",
    "Commonly known as ufunc, some mathematical and trigonometric operations are implemented in Numpy as universal functions e.g. sqrt(), log(), sin(), cos(), exp(), add(), etc. These operations act on the input array element-wise."
   ]
  },
  {
   "cell_type": "code",
   "execution_count": 34,
   "metadata": {},
   "outputs": [
    {
     "name": "stdout",
     "output_type": "stream",
     "text": [
      "[1.         1.73205081 2.23606798 2.64575131]\n",
      "[0.         1.09861229 1.60943791 1.94591015]\n",
      "[ 0.84147098  0.14112001 -0.95892427  0.6569866 ]\n",
      "[   2.71828183   20.08553692  148.4131591  1096.63315843]\n",
      "[ 3.   7.4 11.2 15.8]\n",
      "[ 0.54030231 -0.9899925   0.28366219  0.75390225]\n"
     ]
    }
   ],
   "source": [
    "F = np.array([1, 3, 5, 7])\n",
    "\n",
    "print(np.sqrt(F))   # square root of array F e.g. √(3) = 1.73205081\n",
    "print(np.log(F))    # logarithm (base e) of array F e.g.loge(3) = 1.09861229\n",
    "print(np.sin(F))    # sine of array F e.g. sin(3) = 0.14112001\n",
    "print(np.exp(F))    # exponential of array F e.g. e3 = 20.08553692\n",
    "\n",
    "G = np.array([2.0, 4.4, 6.2, 8.8])\n",
    "\n",
    "print(np.add(F, G)) # addition of array F and G e.g. 3 adds 4.4 = 7.4\n",
    "print(np.cos(F))    # cosine of array F e.g. cos(3) = -0.9899925\n"
   ]
  },
  {
   "cell_type": "markdown",
   "metadata": {},
   "source": [
    "## 4.5\tAggregate Functions\n",
    "An aggregate function performs an operations on all the elements in an array and produce a single result. A number of such functions are implemented in Numpy as methods of the ``ndarray`` class. They include: sum(), min(), max(), mean(), std(), cumsum(), etc."
   ]
  },
  {
   "cell_type": "code",
   "execution_count": 35,
   "metadata": {},
   "outputs": [
    {
     "name": "stdout",
     "output_type": "stream",
     "text": [
      "182.3\n",
      "1.5\n",
      "68.9\n",
      "30.383333333333336\n",
      "23.780343189748592\n"
     ]
    }
   ],
   "source": [
    "H = np.array([34.0, 6.6, 68.9, 20.8, 50.5, 1.5])\n",
    "\n",
    "print(H.sum())     # sum of the values\n",
    "print(H.min())     # the minimum value in the array\n",
    "print(H.max())     # the maximum value in the array\n",
    "print(H.mean())    # the mean of all values in the array\n",
    "print(H.std())     # the standard deviation of all values in the array"
   ]
  },
  {
   "cell_type": "code",
   "execution_count": 36,
   "metadata": {},
   "outputs": [
    {
     "name": "stdout",
     "output_type": "stream",
     "text": [
      "338.7\n",
      "1.45\n",
      "90.2\n",
      "37.63333333333333\n",
      "25.681846160707025\n"
     ]
    }
   ],
   "source": [
    "# The operations apply to the array as though it were a list of numbers, regardless of its shape.\n",
    "I = np.array([[30.0, 20.5, 48.2], \n",
    "              [1.45, 90.2, 45.5],\n",
    "              [9.25, 60.3, 33.3]])\n",
    "\n",
    "print(I.sum())\n",
    "print(I.min())\n",
    "print(I.max())\n",
    "print(I.mean())\n",
    "print(I.std())"
   ]
  },
  {
   "attachments": {
    "image.png": {
     "image/png": "[encoded data removed]"
    }
   },
   "cell_type": "markdown",
   "metadata": {},
   "source": [
    "### Axis Parameter\n",
    "When the axis parameter is specified, the operation is performed on the specified axis (i.e. row or column) of the array. \n",
    "\n",
    "In a 2-dimensional Numpy array, the axes are the directions along the rows (axis 0) and columns (axis 1) as shown.\n",
    "![image.png](attachment:image.png)\n",
    "\n",
    "Axis 0 is the axis that runs downward down the rows while axis 1 is the axis that runs horizontally across the columns.\n"
   ]
  },
  {
   "cell_type": "code",
   "execution_count": 37,
   "metadata": {},
   "outputs": [
    {
     "name": "stdout",
     "output_type": "stream",
     "text": [
      "[[ 0  1  2]\n",
      " [ 3  4  5]\n",
      " [ 6  7  8]\n",
      " [ 9 10 11]\n",
      " [12 13 14]\n",
      " [15 16 17]]\n",
      "[45 51 57]\n",
      "[ 3 12 21 30 39 48]\n",
      "[0 1 2]\n",
      "[ 0  3  6  9 12 15]\n",
      "[[ 0  1  2]\n",
      " [ 3  5  7]\n",
      " [ 9 12 15]\n",
      " [18 22 26]\n",
      " [30 35 40]\n",
      " [45 51 57]]\n"
     ]
    }
   ],
   "source": [
    "# Using axis 0 and 1\n",
    "J = np.arange(18).reshape(6,3)\n",
    "\n",
    "print(J)\n",
    "print(J.sum(axis=0))    # summing down the columns i.e. sums of each column\n",
    "print(J.sum(axis=1))    # summing across the columns i.e. sums of each row\n",
    "print(J.min(axis=0))    # minimum value of each column\n",
    "print(J.min(axis=1))    # minimum value of each row\n",
    "print(J.cumsum(axis=0)) # cumulative sum along each column"
   ]
  },
  {
   "cell_type": "markdown",
   "metadata": {},
   "source": [
    "# 5. Indexing, Slicing and Iterating\n",
    "Elements in an array are indexed. We can therefore select them, manipulate them, change their values or slice them via the index. We can also perform iterations within them."
   ]
  },
  {
   "cell_type": "markdown",
   "metadata": {},
   "source": [
    "## 5.1\tIndexing an Array\n",
    "Elements in an array are indexed using square brackets. They can then be referred to individually. An integer index scale is automatically assigned when an array is created. Indexing begins with the first value at position zero ending with n-1 where n is the number of elements in the array."
   ]
  },
  {
   "cell_type": "code",
   "execution_count": 38,
   "metadata": {},
   "outputs": [
    {
     "name": "stdout",
     "output_type": "stream",
     "text": [
      "2\n",
      "12\n"
     ]
    }
   ],
   "source": [
    "K = np.array([2, 4, 6, 8, 10, 12])\n",
    "\n",
    "print(K[0])\n",
    "print(K[5])"
   ]
  },
  {
   "cell_type": "code",
   "execution_count": 39,
   "metadata": {},
   "outputs": [
    {
     "name": "stdout",
     "output_type": "stream",
     "text": [
      "12\n",
      "10\n",
      "2\n"
     ]
    }
   ],
   "source": [
    "# Negative indexes are used to point to the element from the reverse direction, starting from -1\n",
    "print(K[-1])\n",
    "print(K[-2])\n",
    "print(K[-6])"
   ]
  },
  {
   "cell_type": "code",
   "execution_count": 40,
   "metadata": {},
   "outputs": [
    {
     "name": "stdout",
     "output_type": "stream",
     "text": [
      "[ 4  6 12]\n"
     ]
    }
   ],
   "source": [
    "# Array of indexes can be used to select multiple elements all at once\n",
    "print(K[[1, 2, 5]])"
   ]
  },
  {
   "cell_type": "markdown",
   "metadata": {},
   "source": [
    "2-dimensional arrays are made up of rows and columns of elements. These rows and columns are defined by axes, where axis 0 represents the rows and axis 1 represents the columns. The index of each element is a pair of values (i.e. [r, c]) where “r” is the index for row and “c” is the index for column."
   ]
  },
  {
   "cell_type": "code",
   "execution_count": 41,
   "metadata": {},
   "outputs": [
    {
     "name": "stdout",
     "output_type": "stream",
     "text": [
      "[[ 1  2  3  4]\n",
      " [ 5  6  7  8]\n",
      " [ 9 10 11 12]]\n",
      "1\n",
      "7\n",
      "12\n"
     ]
    }
   ],
   "source": [
    "# 2-dimensional arrays are made up of rows and columns of elements. \n",
    "# These rows and columns are defined by axes, where axis 0 represents the rows and axis 1 represents the columns. \n",
    "# The index of each element is a pair of values (i.e. [r, c]) where “r” is the index for row and “c” is the index for column.\n",
    "L = np.arange(1, 13).reshape(3, 4)\n",
    "\n",
    "print(L)\n",
    "print(L[0, 0])\n",
    "print(L[1, 2])\n",
    "print(L[2, 3])"
   ]
  },
  {
   "cell_type": "markdown",
   "metadata": {},
   "source": [
    "## 5.2\tSlicing an Array\n",
    "You can extract a portion of a array to form new sub-arrays through slicing. Just as you are able to slice a Python list into arrays, Numpy allows you to do the same with ndarrays. However, there is a subtle difference between these two approaches. Slicing Python lists generate copies of arrays while in Numpy, the arrays are views of the same undelying array that was sliced."
   ]
  },
  {
   "cell_type": "markdown",
   "metadata": {},
   "source": [
    "### 1-Dimensional Arrays\n",
    "You can slice an ndarray by using a sequence of numbers separated by colons “:” within square brackets."
   ]
  },
  {
   "cell_type": "code",
   "execution_count": 42,
   "metadata": {},
   "outputs": [
    {
     "name": "stdout",
     "output_type": "stream",
     "text": [
      "[ 1  2  3  4  5  6  7  8  9 10]\n",
      "[3 4 5 6 7 8]\n",
      "[ 1  2  3  4  5  6  7  8  9 10]\n"
     ]
    }
   ],
   "source": [
    "M = np.array([1, 2, 3, 4, 5, 6, 7, 8, 9, 10])   # create a 1-dimensional array\n",
    "\n",
    "print(M)\n",
    "print(M[2:8])  # take a slice of the array M\n",
    "print(M)       # array M remains the same even after a slice has been performed"
   ]
  },
  {
   "cell_type": "code",
   "execution_count": 43,
   "metadata": {},
   "outputs": [
    {
     "name": "stdout",
     "output_type": "stream",
     "text": [
      "[3 5 7]\n",
      "[ 1  2  3  4  5  6  7  8  9 10]\n"
     ]
    }
   ],
   "source": [
    "# The slice extracted from an array needs not have elements in a consecutive order. \n",
    "# You may skip elements by specifying a third value indicating the interval in the sequence of the elements. \n",
    "print(M[2:8:2]) # extract from 3rd to 8th element with an interval of 2 elements in the sequence\n",
    "print(M)"
   ]
  },
  {
   "cell_type": "code",
   "execution_count": 44,
   "metadata": {},
   "outputs": [
    {
     "name": "stdout",
     "output_type": "stream",
     "text": [
      "[ 1  2  3  4  5  6  7  8  9 10]\n"
     ]
    }
   ],
   "source": [
    "# Numpy allows you to omit the numbers in the index\n",
    "print(M[::])"
   ]
  },
  {
   "cell_type": "code",
   "execution_count": 45,
   "metadata": {},
   "outputs": [
    {
     "name": "stdout",
     "output_type": "stream",
     "text": [
      "[ 1  4  7 10]\n",
      "[1 2 3]\n",
      "[ 4  5  6  7  8  9 10]\n"
     ]
    }
   ],
   "source": [
    "# Omitting the first number, Numpy interprets it as 0 (i.e. the first element of the array). \n",
    "# Omitting the second number, Numpy interprets it as the maximum index of the array (i.e. the last element of the array). \n",
    "# Finally, omitting the last number, Numpy assumes it as 1 (i.e. all the elements are considered without any interval).\n",
    "print(M[::3]) # slice from the beginning to the end of array with an interval of 3 elements\n",
    "print(M[:3:]) # slice from the beginning to the third element with an interval of 1 element\n",
    "print(M[3::]) # slice from the fourth element to the last element with an interval of 1 element"
   ]
  },
  {
   "cell_type": "markdown",
   "metadata": {},
   "source": [
    "### 2-Dimensional Arrays\n",
    "For 2-dimensional arrays, slicing still applies but you need to define the rows and columns."
   ]
  },
  {
   "cell_type": "code",
   "execution_count": 46,
   "metadata": {},
   "outputs": [
    {
     "name": "stdout",
     "output_type": "stream",
     "text": [
      "[[ 1  2  3  4  5  6  7]\n",
      " [ 8  9 10 11 12 13 14]\n",
      " [15 16 17 18 19 20 21]\n",
      " [22 23 24 25 26 27 28]]\n",
      "10\n",
      "[1 2 3 4 5 6 7]\n",
      "[ 1  8 15 22]\n",
      "[[ 1  2  3  4  5  6  7]\n",
      " [ 8  9 10 11 12 13 14]\n",
      " [15 16 17 18 19 20 21]\n",
      " [22 23 24 25 26 27 28]]\n",
      "[[10 11 12 13]\n",
      " [17 18 19 20]]\n",
      "[[ 2  3  4  5]\n",
      " [ 9 10 11 12]\n",
      " [23 24 25 26]]\n",
      "[[ 2  4]\n",
      " [ 9 11]\n",
      " [23 25]]\n",
      "[ 2 11 27]\n"
     ]
    }
   ],
   "source": [
    "N = np.arange(1, 29).reshape(4, 7)\n",
    "\n",
    "print(N)\n",
    "print(N[1, 2])       # indexing a specific element in the 2-dimensional array\n",
    "print(N[0, :])       # extract first row with all columns\n",
    "\n",
    "print(N[:, 0])       # extract all rows with first column\n",
    "print(N[0:4, 0:7])   # extract the entire array\n",
    "print(N[1:3, 2:6])   # slicing a portion of the array\n",
    "\n",
    "print(N[[0,1,3], 1:5]) # slicing indexes of rows not contiguous, specify array of indexes for row\n",
    "print(N[[0, 1, 3], 1:5:2]) # array of indexes for row with interval 2\n",
    "print(N[[0, 1, 3], [1, 3, 5]]) # row 1 column 2 element, row 2 col 4 element and row 4 col 6 element"
   ]
  },
  {
   "cell_type": "markdown",
   "metadata": {},
   "source": [
    "### Using Conditions and Boolean Operators\n",
    "Besides using numerical values for indexing and slicing arrays, we could use conditions and boolean operators to extract a portion of the array."
   ]
  },
  {
   "cell_type": "code",
   "execution_count": 47,
   "metadata": {},
   "outputs": [
    {
     "name": "stdout",
     "output_type": "stream",
     "text": [
      "[[ 1  2  3  4  5  6  7]\n",
      " [ 8  9 10 11 12 13 14]\n",
      " [15 16 17 18 19 20 21]\n",
      " [22 23 24 25 26 27 28]]\n",
      "[[ True  True  True  True  True  True  True]\n",
      " [ True  True  True  True  True  True  True]\n",
      " [ True  True  True False False False False]\n",
      " [False False False False False False False]]\n",
      "[ 1  2  3  4  5  6  7  8  9 10 11 12 13 14 15 16 17]\n",
      "[18 19 20 21 22 23 24 25 26 27 28]\n"
     ]
    }
   ],
   "source": [
    "N = np.arange(1, 29).reshape(4, 7)\n",
    "\n",
    "print(N)\n",
    "print(N < 18)     # which are the elements that have values less than 18?\n",
    "\n",
    "print(N[N < 18])  # list the elements that are less than 18\n",
    "print(N[N >= 18]) # list the elements that are greater than or equal to 18"
   ]
  },
  {
   "cell_type": "markdown",
   "metadata": {},
   "source": [
    "## 5.3\tIterating an Array\n",
    "The iteration of the elements in an ndarray is achieved by the ``for`` loop."
   ]
  },
  {
   "cell_type": "markdown",
   "metadata": {},
   "source": [
    "### 1-Dimensional Arrays"
   ]
  },
  {
   "cell_type": "code",
   "execution_count": 48,
   "metadata": {},
   "outputs": [
    {
     "name": "stdout",
     "output_type": "stream",
     "text": [
      "[1.  3.  5.  7.5 9.3]\n",
      "1.0\n",
      "3.0\n",
      "5.0\n",
      "7.5\n",
      "9.3\n"
     ]
    }
   ],
   "source": [
    "O = np.array([1, 3, 5, 7.5, 9.3])\n",
    "\n",
    "print(O)\n",
    "for i in O: print(i)"
   ]
  },
  {
   "cell_type": "markdown",
   "metadata": {},
   "source": [
    "### 2-Dimensional Arrays\n",
    "For 2-dimensional arrays, we could use one ``for`` loop to print each row in the matrix. Let us consider the following example of a matrix of strings."
   ]
  },
  {
   "cell_type": "code",
   "execution_count": 49,
   "metadata": {},
   "outputs": [
    {
     "name": "stdout",
     "output_type": "stream",
     "text": [
      "[['tom' '1234567' 'engineer']\n",
      " ['eve' '3012876' 'lawyer']\n",
      " ['jim' '8325709' 'doctor']]\n"
     ]
    }
   ],
   "source": [
    "P = np.array([['tom', '1234567', 'engineer'],\n",
    "              ['eve', '3012876', 'lawyer'],\n",
    "              ['jim', '8325709', 'doctor']])\n",
    "\n",
    "print(P)"
   ]
  },
  {
   "cell_type": "code",
   "execution_count": 50,
   "metadata": {},
   "outputs": [
    {
     "name": "stdout",
     "output_type": "stream",
     "text": [
      "['tom' '1234567' 'engineer']\n",
      "['eve' '3012876' 'lawyer']\n",
      "['jim' '8325709' 'doctor']\n"
     ]
    }
   ],
   "source": [
    "# We have here a matrix F of three rows of data.\n",
    "# We will use a “for” loop to print each row in the matrix. \n",
    "for i in P: print(i)"
   ]
  },
  {
   "cell_type": "code",
   "execution_count": 51,
   "metadata": {},
   "outputs": [
    {
     "name": "stdout",
     "output_type": "stream",
     "text": [
      "tom\n",
      "1234567\n",
      "engineer\n",
      "eve\n",
      "3012876\n",
      "lawyer\n",
      "jim\n",
      "8325709\n",
      "doctor\n"
     ]
    }
   ],
   "source": [
    "# To print the individual elements in the array, we could use two “for” loops to print each element in the matrix. \n",
    "for i in P:\n",
    "    for j in i: print(j)"
   ]
  },
  {
   "cell_type": "code",
   "execution_count": 52,
   "metadata": {},
   "outputs": [
    {
     "name": "stdout",
     "output_type": "stream",
     "text": [
      "tom\n",
      "1234567\n",
      "engineer\n",
      "eve\n",
      "3012876\n",
      "lawyer\n",
      "jim\n",
      "8325709\n",
      "doctor\n"
     ]
    }
   ],
   "source": [
    "# Alternatively, we could use the “flat” attribute of the array to do the printing.  \n",
    "for i in P.flat: print(i)"
   ]
  },
  {
   "cell_type": "markdown",
   "metadata": {},
   "source": [
    "Numpy has a function that allows the application of an aggregate function to iterate through the elements of an array by rows or columns. This function, ``apply_along_axis()``, takes three arguments: the aggregate function, the axis on which to apply the function, and the array. If the axis equals to 0; the iteration evaluates the elements column by column. If the axis equals to 1, the the evaluation proceeds row by row. One example of an aggregate function is the Numpy ``sum()`` function."
   ]
  },
  {
   "cell_type": "code",
   "execution_count": 53,
   "metadata": {},
   "outputs": [
    {
     "name": "stdout",
     "output_type": "stream",
     "text": [
      "[[ 1  2  3  4]\n",
      " [ 5  6  7  8]\n",
      " [ 9 10 11 12]\n",
      " [13 14 15 16]\n",
      " [17 18 19 20]\n",
      " [21 22 23 24]\n",
      " [25 26 27 28]]\n",
      "[ 91  98 105 112]\n",
      "[ 10  26  42  58  74  90 106]\n"
     ]
    }
   ],
   "source": [
    "Q = np.arange(1, 29).reshape(7, 4)\n",
    "\n",
    "print(Q)\n",
    "print(np.apply_along_axis(np.sum, axis=0, arr=Q))  # summation of elements in columns\n",
    "print(np.apply_along_axis(np.sum, axis=1, arr=Q))  # summation of elements in rows"
   ]
  },
  {
   "cell_type": "code",
   "execution_count": 54,
   "metadata": {},
   "outputs": [
    {
     "name": "stdout",
     "output_type": "stream",
     "text": [
      "[13. 14. 15. 16.]\n",
      "[ 2.5  6.5 10.5 14.5 18.5 22.5 26.5]\n"
     ]
    }
   ],
   "source": [
    "# Likewise, we can apply the mean() function on the elements of the axis as follows\n",
    "print(np.apply_along_axis(np.mean, axis=0, arr=Q)) # the mean of elements column by column\n",
    "print(np.apply_along_axis(np.mean, axis=1, arr=Q)) # the mean of elements row by row"
   ]
  },
  {
   "cell_type": "code",
   "execution_count": 55,
   "metadata": {},
   "outputs": [
    {
     "name": "stdout",
     "output_type": "stream",
     "text": [
      "[[ 1  2  3  4]\n",
      " [ 5  6  7  8]\n",
      " [ 9 10 11 12]\n",
      " [13 14 15 16]\n",
      " [17 18 19 20]\n",
      " [21 22 23 24]\n",
      " [25 26 27 28]]\n",
      "[[ 2  4  6  8]\n",
      " [10 12 14 16]\n",
      " [18 20 22 24]\n",
      " [26 28 30 32]\n",
      " [34 36 38 40]\n",
      " [42 44 46 48]\n",
      " [50 52 54 56]]\n",
      "[[ 2  4  6  8]\n",
      " [10 12 14 16]\n",
      " [18 20 22 24]\n",
      " [26 28 30 32]\n",
      " [34 36 38 40]\n",
      " [42 44 46 48]\n",
      " [50 52 54 56]]\n"
     ]
    }
   ],
   "source": [
    "# You can create your own universal function (ufunc) and apply it iteratively on the elements of the array element-wise. \n",
    "# Thus, the result will be the same whether the iteration is done by column or by row. \n",
    "# We define a ufunc, double(), which returns twice the value passed in as argument.\n",
    "def double (element):\n",
    "    return element * 2\n",
    "\n",
    "print(Q)\n",
    "print(np.apply_along_axis(double, axis=0, arr=Q)) # double performed on elements in rows\n",
    "print(np.apply_along_axis(double, axis=1, arr=Q)) # double performed on elements in columns"
   ]
  },
  {
   "cell_type": "markdown",
   "metadata": {},
   "source": [
    "# 6. Array Shape Manipulation\n",
    "We could reshape a 1-dimensional array into a 2-dimensional array using the``reshape()`` function."
   ]
  },
  {
   "cell_type": "markdown",
   "metadata": {},
   "source": [
    "## 6.1 reshape() Function\n",
    "We could reshape a 1-dimensional array into a 2-dimensional array using the reshape() function."
   ]
  },
  {
   "cell_type": "code",
   "execution_count": 56,
   "metadata": {},
   "outputs": [
    {
     "name": "stdout",
     "output_type": "stream",
     "text": [
      "[ 1  2  3  4  5  6  7  8  9 10 11 12 13 14 15]\n",
      "[[ 1  2  3  4  5]\n",
      " [ 6  7  8  9 10]\n",
      " [11 12 13 14 15]]\n",
      "[ 1  2  3  4  5  6  7  8  9 10 11 12 13 14 15]\n"
     ]
    }
   ],
   "source": [
    "R = np.arange(1, 16)\n",
    "print(R)\n",
    "\n",
    "# Applying reshape on this array, we get a 2-dimensional array of shape (3, 5):\n",
    "R1 = R.reshape(3, 5)\n",
    "print(R1)\n",
    "\n",
    "# The reshape() functions produces a new array. The original array “R” is still the same as before. \n",
    "# If you want to modify the shape of the original array (i.e. array “R”), \n",
    "# you have to assign a tuple containing the new dimensions to the array’s shape attribute.\n",
    "print(R)"
   ]
  },
  {
   "cell_type": "markdown",
   "metadata": {},
   "source": [
    "## 6.2 ravel() Function\n",
    "What if you want to convert a 2-dimensional array into a 1-dimensional array? You can use the ravel() function."
   ]
  },
  {
   "cell_type": "code",
   "execution_count": 57,
   "metadata": {},
   "outputs": [
    {
     "name": "stdout",
     "output_type": "stream",
     "text": [
      "[ 1  2  3  4  5  6  7  8  9 10 11 12 13 14 15]\n",
      "[[ 1  2  3  4  5]\n",
      " [ 6  7  8  9 10]\n",
      " [11 12 13 14 15]]\n",
      "[ 1  2  3  4  5  6  7  8  9 10 11 12 13 14 15]\n",
      "[[ 1  2  3]\n",
      " [ 4  5  6]\n",
      " [ 7  8  9]\n",
      " [10 11 12]\n",
      " [13 14 15]]\n",
      "[ 1  2  3  4  5  6  7  8  9 10 11 12 13 14 15]\n"
     ]
    }
   ],
   "source": [
    "S = np.arange(1, 16) # create a 1-dimensional array\n",
    "print(S)\n",
    "\n",
    "# Applying reshape on this array, we get a 2-dimensional array of shape (3, 5)\n",
    "S1 = S.reshape(3, 5)\n",
    "print(S1)\n",
    "\n",
    "S2 = S1.ravel() # back to 1-dimensional\n",
    "print(S2)\n",
    "\n",
    "# Alternatively, you could simply change the shape attribute of the array.\n",
    "S1.shape = (5, 3)\n",
    "print(S1)\n",
    "\n",
    "S1.shape = (15)\n",
    "print(S1)"
   ]
  },
  {
   "cell_type": "markdown",
   "metadata": {},
   "source": [
    "## 6.3 transpose() Function\n",
    "You can transpose a 2-dimensional array (or a matrix). <br>\n",
    "That is, invert the columns with rows. Numpy provides the transpose() function to do just that."
   ]
  },
  {
   "cell_type": "code",
   "execution_count": 58,
   "metadata": {},
   "outputs": [
    {
     "name": "stdout",
     "output_type": "stream",
     "text": [
      "[[ 1  2  3  4  5]\n",
      " [ 6  7  8  9 10]\n",
      " [11 12 13 14 15]]\n",
      "[[ 1  6 11]\n",
      " [ 2  7 12]\n",
      " [ 3  8 13]\n",
      " [ 4  9 14]\n",
      " [ 5 10 15]]\n",
      "(3, 5)\n",
      "(5, 3)\n"
     ]
    }
   ],
   "source": [
    "T = np.arange(1, 16) # create a 1-dimensional array\n",
    "T1 = T.reshape(3, 5) # reshape on this array, we get a 2-dimensional array of shape (3, 5)\n",
    "print(T1)\n",
    "\n",
    "T2 = T1.transpose()  # transpose T1 to get T2\n",
    "\n",
    "print(T2)\n",
    "print(T1.shape)\n",
    "print(T2.shape)"
   ]
  },
  {
   "cell_type": "markdown",
   "metadata": {},
   "source": [
    "## 6.4 flip() Function\n",
    "You can reverse, or flip, the contents of an array along an axis. <br>\n",
    "The Numpy ``flip()`` function takes two arguments: the array to reverse and the axis."
   ]
  },
  {
   "cell_type": "code",
   "execution_count": 59,
   "metadata": {},
   "outputs": [
    {
     "name": "stdout",
     "output_type": "stream",
     "text": [
      "[ 1  2  3  4  5  6  7  8  9 10 11 12 13 14 15]\n",
      "[15 14 13 12 11 10  9  8  7  6  5  4  3  2  1]\n"
     ]
    }
   ],
   "source": [
    "numbers = np.arange(1, 16) # create a 1-dimensional array\n",
    "flipped_numbers = np.flip(numbers)\n",
    "print(numbers)\n",
    "print(flipped_numbers)"
   ]
  },
  {
   "cell_type": "code",
   "execution_count": 60,
   "metadata": {},
   "outputs": [
    {
     "name": "stdout",
     "output_type": "stream",
     "text": [
      "[ 2  4  6  8 10 12]\n",
      "[12 10  8  6  4  2]\n"
     ]
    }
   ],
   "source": [
    "numbers = np.array([2, 4, 6, 8, 10, 12]) # create a 1-dimensional array\n",
    "flipped_numbers = np.flip(numbers)\n",
    "print(numbers)\n",
    "print(flipped_numbers)"
   ]
  },
  {
   "cell_type": "code",
   "execution_count": 61,
   "metadata": {},
   "outputs": [
    {
     "name": "stdout",
     "output_type": "stream",
     "text": [
      "[[ 1  2  3  4]\n",
      " [ 5  6  7  8]\n",
      " [ 9 10 11 12]\n",
      " [13 14 15 16]\n",
      " [17 18 19 20]\n",
      " [21 22 23 24]\n",
      " [25 26 27 28]]\n",
      "[[28 27 26 25]\n",
      " [24 23 22 21]\n",
      " [20 19 18 17]\n",
      " [16 15 14 13]\n",
      " [12 11 10  9]\n",
      " [ 8  7  6  5]\n",
      " [ 4  3  2  1]]\n"
     ]
    }
   ],
   "source": [
    "# You can also flip a 2-dimensional array in all of the rows and all of the columns.\n",
    "U = np.arange(1, 29).reshape(7, 4)\n",
    "print(U)\n",
    "\n",
    "flipped_U = np.flip(U)\n",
    "print(flipped_U)"
   ]
  },
  {
   "cell_type": "code",
   "execution_count": 62,
   "metadata": {},
   "outputs": [
    {
     "name": "stdout",
     "output_type": "stream",
     "text": [
      "[[ 1  2  3  4]\n",
      " [ 5  6  7  8]\n",
      " [ 9 10 11 12]\n",
      " [13 14 15 16]\n",
      " [17 18 19 20]\n",
      " [21 22 23 24]\n",
      " [25 26 27 28]]\n",
      "[[25 26 27 28]\n",
      " [21 22 23 24]\n",
      " [17 18 19 20]\n",
      " [13 14 15 16]\n",
      " [ 9 10 11 12]\n",
      " [ 5  6  7  8]\n",
      " [ 1  2  3  4]]\n"
     ]
    }
   ],
   "source": [
    "# By specifying axis = 0 as the second argument, only the rows are reversed.\n",
    "U = np.arange(1, 29).reshape(7, 4)\n",
    "print(U)\n",
    "\n",
    "flipped_rows = np.flip(U, axis=0)\n",
    "print(flipped_rows)"
   ]
  },
  {
   "cell_type": "code",
   "execution_count": 63,
   "metadata": {},
   "outputs": [
    {
     "name": "stdout",
     "output_type": "stream",
     "text": [
      "[[ 1  2  3  4]\n",
      " [ 5  6  7  8]\n",
      " [ 9 10 11 12]\n",
      " [13 14 15 16]\n",
      " [17 18 19 20]\n",
      " [21 22 23 24]\n",
      " [25 26 27 28]]\n",
      "[[ 4  3  2  1]\n",
      " [ 8  7  6  5]\n",
      " [12 11 10  9]\n",
      " [16 15 14 13]\n",
      " [20 19 18 17]\n",
      " [24 23 22 21]\n",
      " [28 27 26 25]]\n"
     ]
    }
   ],
   "source": [
    "# To reverse only the columns, specify axis = 1. \n",
    "U = np.arange(1, 29).reshape(7, 4)\n",
    "print(U)\n",
    "\n",
    "flipped_columns = np.flip(U, axis=1)\n",
    "print(flipped_columns)"
   ]
  },
  {
   "cell_type": "markdown",
   "metadata": {},
   "source": [
    "# 7. Manipulating Arrays\n",
    "Arrays can be joined with one another to make an enlarged array, or an array can be split into multiple smaller arrays. Functions for joining or splitting arrays are provided in Numpy. "
   ]
  },
  {
   "cell_type": "markdown",
   "metadata": {},
   "source": [
    "## 7.1 Joining Arrays\n",
    "Arrays can be joined or, in Numpy terminology, stacked together along the axes. <br>\n",
    "You can vertical stack (using the ``vstack()``  function) two arrays – this joins the rows of the second array as new rows to the first array; or you can horizontal stack (using the ``hstack()`` function) to join the columns of the second array as new columns of the first array."
   ]
  },
  {
   "cell_type": "code",
   "execution_count": 64,
   "metadata": {},
   "outputs": [
    {
     "name": "stdout",
     "output_type": "stream",
     "text": [
      "[[ 1  3  5]\n",
      " [ 7  9 11]]\n",
      "[[ 2  4  6]\n",
      " [ 8 10 12]]\n"
     ]
    }
   ],
   "source": [
    "# Given two arrays V1 and V2\n",
    "V1 = np.array([[1, 3, 5],\n",
    "              [7, 9, 11]])\n",
    "V2 = np.array([[2, 4, 6],\n",
    "              [8, 10, 12]])\n",
    "print(V1)\n",
    "print(V2)"
   ]
  },
  {
   "cell_type": "markdown",
   "metadata": {},
   "source": [
    "### vstack() Function"
   ]
  },
  {
   "cell_type": "code",
   "execution_count": 65,
   "metadata": {},
   "outputs": [
    {
     "name": "stdout",
     "output_type": "stream",
     "text": [
      "[[ 1  3  5]\n",
      " [ 7  9 11]\n",
      " [ 2  4  6]\n",
      " [ 8 10 12]]\n"
     ]
    }
   ],
   "source": [
    "# When the two matrixes are vertically stacked with one another, \n",
    "# the resulting array grows in a vertical direction.\n",
    "\n",
    "V3 = np.vstack((V1, V2))\n",
    "print(V3)"
   ]
  },
  {
   "cell_type": "markdown",
   "metadata": {},
   "source": [
    "### hstack() Function"
   ]
  },
  {
   "cell_type": "code",
   "execution_count": 66,
   "metadata": {},
   "outputs": [
    {
     "name": "stdout",
     "output_type": "stream",
     "text": [
      "[[ 1  3  5  2  4  6]\n",
      " [ 7  9 11  8 10 12]]\n"
     ]
    }
   ],
   "source": [
    "V4 = np.hstack((V1, V2))\n",
    "print(V4)"
   ]
  },
  {
   "cell_type": "markdown",
   "metadata": {},
   "source": [
    "### column_stack() Function\n",
    "Besides these functions, there are ``column_stack()`` and ``row_stack()`` functions. <br>\n",
    "These functions are used with 1-dimensional arrays to form 2-dimensional arrays. <br>\n",
    "We define three 1-dimensional arrays “W1”, “W2”, and “W3”. <br>"
   ]
  },
  {
   "cell_type": "code",
   "execution_count": 67,
   "metadata": {},
   "outputs": [
    {
     "name": "stdout",
     "output_type": "stream",
     "text": [
      "[[ 1.   2.  10.5]\n",
      " [ 3.   4.  13.8]\n",
      " [ 5.   6.  17.9]]\n"
     ]
    }
   ],
   "source": [
    "# Using the ``column_stack()`` function, the resulting array is a stack of the three \n",
    "# 1-dimensional arrays as columns of a 2-dimensional array. \n",
    "# Note the dtype of the resulting array has changed to “float64” \n",
    "# even when two of the arrays’ dtypes are “int32”.\n",
    "W1 = np.array([1, 3, 5])\n",
    "W2 = np.array([2, 4, 6])\n",
    "W3 = np.array([10.5, 13.8, 17.9])\n",
    "\n",
    "W4 = np.column_stack((W1, W2, W3))\n",
    "print(W4)"
   ]
  },
  {
   "cell_type": "markdown",
   "metadata": {},
   "source": [
    "### row_stack() Function\n",
    "We could use the ``row_stack()`` function to stack the three arrays row-wise to form the 2-dimensional array."
   ]
  },
  {
   "cell_type": "code",
   "execution_count": 68,
   "metadata": {},
   "outputs": [
    {
     "name": "stdout",
     "output_type": "stream",
     "text": [
      "[[ 1.   3.   5. ]\n",
      " [ 2.   4.   6. ]\n",
      " [10.5 13.8 17.9]]\n",
      "[[ 1.   3.   5. ]\n",
      " [ 2.   4.   6. ]\n",
      " [10.5 13.8 17.9]]\n"
     ]
    }
   ],
   "source": [
    "# use row_stack() to row stack W1, W2, W3\n",
    "W1 = np.array([1, 3, 5])\n",
    "W2 = np.array([2, 4, 6])\n",
    "W3 = np.array([10.5, 13.8, 17.9])\n",
    "\n",
    "W4 = np.row_stack((W1, W2, W3))\n",
    "print(W4)\n",
    "\n",
    "# use vstack() to row stack W1, W2, W3\n",
    "W4 = np.vstack((W1, W2, W3))\n",
    "print(W4)"
   ]
  },
  {
   "cell_type": "markdown",
   "metadata": {},
   "source": [
    "## 7.2 Splitting Arrays\n",
    "Arrays can be split into multiple smaller arrays. <br>\n",
    "To split the original array horizontally, use  ``hsplit()`` function whereas to split it vertically, use ``vsplit()`` function.<br>\n",
    "<b>Note that hsplit() and vsplit() functions do not change the original array that they operate on.</b>   "
   ]
  },
  {
   "cell_type": "markdown",
   "metadata": {},
   "source": [
    "### hsplit() Function"
   ]
  },
  {
   "cell_type": "code",
   "execution_count": 69,
   "metadata": {},
   "outputs": [
    {
     "name": "stdout",
     "output_type": "stream",
     "text": [
      "[[ 1  3  5]\n",
      " [ 7  9 11]\n",
      " [ 2  4  6]\n",
      " [ 8 10 12]]\n",
      "[[1]\n",
      " [7]\n",
      " [2]\n",
      " [8]]\n",
      "[[ 3]\n",
      " [ 9]\n",
      " [ 4]\n",
      " [10]]\n",
      "[[ 5]\n",
      " [11]\n",
      " [ 6]\n",
      " [12]]\n",
      "\n",
      "[[ 1  3  5]\n",
      " [ 7  9 11]\n",
      " [ 2  4  6]\n",
      " [ 8 10 12]]\n"
     ]
    }
   ],
   "source": [
    "X = np.array([[1, 3, 5], [7, 9, 11], [2, 4, 6], [8, 10, 12]])\n",
    "print(X)\n",
    "\n",
    "# Split this matrix into three 1-dimensional arrays horizontally using the hsplit() function\n",
    "(X1, X2, X3) = np.hsplit(X, 3)\n",
    "\n",
    "print(X1)\n",
    "print(X2)\n",
    "print(X3)\n",
    "print()\n",
    "print(X)    # X is not changed"
   ]
  },
  {
   "cell_type": "markdown",
   "metadata": {},
   "source": [
    "### vsplit() Function"
   ]
  },
  {
   "cell_type": "code",
   "execution_count": 70,
   "metadata": {},
   "outputs": [
    {
     "name": "stdout",
     "output_type": "stream",
     "text": [
      "[[ 1  3  5]\n",
      " [ 7  9 11]\n",
      " [ 2  4  6]\n",
      " [ 8 10 12]]\n",
      "\n",
      "[[1 3 5]]\n",
      "[[ 7  9 11]]\n",
      "[[2 4 6]]\n",
      "[[ 8 10 12]]\n",
      "\n",
      "[[ 1  3  5]\n",
      " [ 7  9 11]]\n",
      "[[ 2  4  6]\n",
      " [ 8 10 12]]\n"
     ]
    }
   ],
   "source": [
    "X = np.array([[1, 3, 5], [7, 9, 11], [2, 4, 6], [8, 10, 12]])\n",
    "print(X)\n",
    "print()\n",
    "\n",
    "# Split this matrix into four 1-dimensional arrays vertically using the vsplit() function\n",
    "(X1, X2, X3, X4) = np.vsplit(X, 4) # got to have equal split\n",
    "print(X1)\n",
    "print(X2)\n",
    "print(X3)\n",
    "print(X4)\n",
    "print()\n",
    "\n",
    "# Split this matrix into two 2-dimensional arrays vertically using the vsplit() function\n",
    "(X1, X2) = np.vsplit(X, 2) # got to have equal split\n",
    "print(X1)\n",
    "print(X2)"
   ]
  },
  {
   "cell_type": "markdown",
   "metadata": {},
   "source": [
    "### split() Function\n",
    "There is another more complicated function for splitting arrays. This function, ``split()``, allows the splitting of an array into non-symmetrical sub-arrays.<br>\n",
    "The ``split()`` function takes in three arguments: the array to be split, the indexes of the parts to be divided into, and the axis along which the split takes place. If the axis equals 0, the indexes will be rows whereas if it is 1, the indexes will be columns."
   ]
  },
  {
   "cell_type": "code",
   "execution_count": 71,
   "metadata": {},
   "outputs": [
    {
     "name": "stdout",
     "output_type": "stream",
     "text": [
      "[[ 1  3  5]\n",
      " [ 7  9 11]\n",
      " [ 2  4  6]\n",
      " [ 8 10 12]]\n",
      "\n",
      "[[1 3 5]]\n",
      "[[ 7  9 11]\n",
      " [ 2  4  6]]\n",
      "[[ 8 10 12]]\n"
     ]
    }
   ],
   "source": [
    "# We apply the split() function on matrix Y, indexes [1, 3] on the rows (axis=0). \n",
    "Y = np.array([[1, 3, 5], [7, 9, 11], [2, 4, 6], [8, 10, 12]])\n",
    "print(Y)\n",
    "print()\n",
    "\n",
    "[Y1, Y2, Y3] = np.split(Y,[1, 3],axis=0)\n",
    "\n",
    "# The split will result in three sub-arrays “Y1”, “Y2”, and “Y3” and they are formed based on the indexes [1, 3]. \n",
    "# The latter will result in three arrays apportioned in this manner: Y[:1], Y[1:3], and Y[3:].\n",
    "print(Y1) # first array\n",
    "print(Y2) # second and third array\n",
    "print(Y3) # fourth array"
   ]
  },
  {
   "cell_type": "code",
   "execution_count": 72,
   "metadata": {},
   "outputs": [
    {
     "name": "stdout",
     "output_type": "stream",
     "text": [
      "[[ 1  3  5]\n",
      " [ 7  9 11]\n",
      " [ 2  4  6]\n",
      " [ 8 10 12]]\n",
      "\n",
      "[[1 3 5]]\n",
      "[[ 7  9 11]]\n",
      "[[2 4 6]]\n",
      "[[ 8 10 12]]\n"
     ]
    }
   ],
   "source": [
    "# If we want to have four sub-arrays, then we need to have three indexes as argument. \n",
    "# The sub-arrays are thenapportioned into: C[:1], C[1:2], C[2:3] and C[3:].\n",
    "Y = np.array([[1, 3, 5], [7, 9, 11], [2, 4, 6], [8, 10, 12]])\n",
    "print(Y)\n",
    "print()\n",
    "\n",
    "[Y1, Y2, Y3, Y4] = np.split(Y,[1, 2, 3],axis=0)\n",
    "\n",
    "# The split will result in three sub-arrays “Y1”, “Y2”, and “Y3” and they are formed based on the indexes [1, 3]. \n",
    "# The latter will result in three arrays apportioned in this manner: Y[:1], Y[1:2], Y[2:3] and Y[3:].\n",
    "print(Y1) # first array\n",
    "print(Y2) # second array\n",
    "print(Y3) # third array\n",
    "print(Y4) # fourth array"
   ]
  },
  {
   "cell_type": "markdown",
   "metadata": {},
   "source": [
    "## 7.3 Copying Arrays\n",
    "Array assignment in Numpy merely creates a reference to the original array. Even when there are two references, there is only one array with elements. "
   ]
  },
  {
   "cell_type": "code",
   "execution_count": 73,
   "metadata": {},
   "outputs": [
    {
     "name": "stdout",
     "output_type": "stream",
     "text": [
      "[ 2  4  6  8 10]\n",
      "[ 2  4  6 77 10]\n",
      "[ 2  4  6 77 10]\n"
     ]
    }
   ],
   "source": [
    "Z = np.array([2, 4, 6, 8, 10]) # creates an array\n",
    "Z1 = Z                         # assign array a to b\n",
    "print(Z1)                      # array b references a\n",
    "\n",
    "# Make a change in the fourth element of array “Z”.\n",
    "Z[3] = 77\n",
    "\n",
    "print(Z)\n",
    "print(Z1) # array “Z1” has changed even when there is no explicit operation on array “Z1”. "
   ]
  },
  {
   "cell_type": "code",
   "execution_count": 74,
   "metadata": {},
   "outputs": [
    {
     "name": "stdout",
     "output_type": "stream",
     "text": [
      "[ 2  4  6 77 10]\n",
      "[ 4  6 77]\n",
      "[ 4 11 77]\n",
      "[ 2  4 11 77 10]\n"
     ]
    }
   ],
   "source": [
    "# Take a slice of array “Z”, the object returned is a reference to the original array.\n",
    "Z2 = Z[1:4]\n",
    "print(Z)\n",
    "print(Z2)\n",
    "\n",
    "Z[2] = 11\n",
    "print(Z2)\n",
    "print(Z)"
   ]
  },
  {
   "cell_type": "markdown",
   "metadata": {},
   "source": [
    "### copy() Function\n",
    "If you want an array distinct from the original array, use the ``copy()`` function."
   ]
  },
  {
   "cell_type": "code",
   "execution_count": 75,
   "metadata": {},
   "outputs": [
    {
     "name": "stdout",
     "output_type": "stream",
     "text": [
      "[ 1  3  5  7  9 11 13 15 17 19]\n",
      "\n",
      "[ 1  3  5  7  9 11 13 15 17 19]\n",
      "[   1    3    5    7    9 2233   13   15   17   19]\n"
     ]
    }
   ],
   "source": [
    "Z = np.arange(1, 20, 2)\n",
    "print(Z)\n",
    "print()\n",
    "\n",
    "Z3 = Z.copy() # make a copy of array “Z”\n",
    "Z3[5] = 2233  # change 6th element to value 2233\n",
    "\n",
    "print(Z)\n",
    "print(Z3)"
   ]
  },
  {
   "cell_type": "markdown",
   "metadata": {},
   "source": [
    "<center>\n",
    "  <a href=\"PP-08-FileHandling.ipynb\" target=\"_self\">File Handling</a> | <a href=\"./\">Content Page</a> | <a href=\"PP-10-pandas.ipynb\">The pandas Library</a>\n",
    "</center>"
   ]
  }
 ],
 "metadata": {
  "anaconda-cloud": {},
  "kernelspec": {
   "display_name": "Python 3 (ipykernel)",
   "language": "python",
   "name": "python3"
  },
  "language_info": {
   "codemirror_mode": {
    "name": "ipython",
    "version": 3
   },
   "file_extension": ".py",
   "mimetype": "text/x-python",
   "name": "python",
   "nbconvert_exporter": "python",
   "pygments_lexer": "ipython3",
   "version": "3.11.5"
  }
 },
 "nbformat": 4,
 "nbformat_minor": 1
}
