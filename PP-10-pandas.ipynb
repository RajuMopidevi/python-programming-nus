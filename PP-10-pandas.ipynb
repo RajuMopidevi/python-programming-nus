{
 "cells": [
  {
   "cell_type": "markdown",
   "metadata": {},
   "source": [
    "<center>\n",
    "  <a href=\"PP-09-Numpy.ipynb\" target=\"_self\">The Numpy Library</a> | <a href=\"./\">Content Page</a>\n",
    "</center>"
   ]
  },
  {
   "cell_type": "markdown",
   "metadata": {},
   "source": [
    "# <center>THE PANDAS LIBRARY</center>\n",
    "<center><b>Copyright &copy 2023 by DR DANNY POO</b><br> e:dannypoo@nus.edu.sg<br> w:drdannypoo.com</center><br>"
   ]
  },
  {
   "cell_type": "markdown",
   "metadata": {
    "collapsed": true
   },
   "source": [
    "Wes McKinney was attributed to have built the pandas library, and the effort went all the way back to 2008 when he was with AQR Capital as a researcher. Chang She, another AQR employee, contributed much to the development effort in 2012. \n",
    "\n",
    "The name “pandas” was derived from “panel data”, an econometric term used to describe data in observations over multiple time periods for the same individual. “pandas” also came about from a play in words from Python data analysis. \n",
    "\n",
    "Central to the pandas library are two data strucures built on top of the Numpy library: ``series`` and ``dataframe``. <br>\n",
    "A series is a one-dimensional data structure while a dataframe is a multi-dimensional data structure.\n",
    "\n",
    "Here, we discuss series and dataframes and their respective operations. "
   ]
  },
  {
   "cell_type": "markdown",
   "metadata": {},
   "source": [
    "# 1. Getting the pandas Library\n",
    "To begin, pandas library must be installed. If you have Python already installed, you can get pandas by entering\n",
    "```python\n",
    "conda install pandas\n",
    "```\n",
    "or\n",
    "```python\n",
    "pip install pandas\n",
    "```\n",
    "in the Command Prompt.\n",
    "\n",
    "To use pandas and all its functionalities in it, you need to import the package. The pandas package is usually imported as ``pd``:\n",
    "\n",
    "```python\n",
    "import pandas as pd\n",
    "```"
   ]
  },
  {
   "cell_type": "code",
   "execution_count": 1,
   "metadata": {},
   "outputs": [],
   "source": [
    "# When pandas is used, Numpy will be used too; therefore, it is common to see these two packages being imported together\n",
    "import pandas as pd\n",
    "import numpy as np"
   ]
  },
  {
   "cell_type": "code",
   "execution_count": 2,
   "metadata": {},
   "outputs": [
    {
     "data": {
      "text/plain": [
       "'2.1.1'"
      ]
     },
     "execution_count": 2,
     "metadata": {},
     "output_type": "execute_result"
    }
   ],
   "source": [
    "# To check the version of pandas\n",
    "pd.__version__ # double underscore “version” double underscore"
   ]
  },
  {
   "attachments": {
    "image.png": {
     "image/png": "[encoded data removed]"
    }
   },
   "cell_type": "markdown",
   "metadata": {},
   "source": [
    "# 2. Series\n",
    "A series is an object representing one-dimensional data structures. To a great extent, a series is like an array  but with some additional features.\n",
    "\n",
    "A series is made up of two arrays – an <b>index array</b> and a <b>value array</b>. The latter holds the data (which can be any of Numpy data type) that is referenced by elements in the index array. \n",
    "![image.png](attachment:image.png)\n",
    "\n",
    "In this series, the index array contains the labels “0”, “1”, “2”, “3”, and “4”. Each of these labels reference an element in the value array. “0” references “rice”, “1” references “milk”, “2” references “pork”, “3” references “coke”, and “4” references “fish”."
   ]
  },
  {
   "cell_type": "markdown",
   "metadata": {},
   "source": [
    "## 2.1 Creating a Series"
   ]
  },
  {
   "cell_type": "markdown",
   "metadata": {},
   "source": [
    "### Creating a series using the Series class constructor\n",
    "A series object is created from a Series class in the pandas module. <br>\n",
    "To do that, simply call the ``Series()`` constructor with an argument containing an array of values."
   ]
  },
  {
   "cell_type": "code",
   "execution_count": 3,
   "metadata": {},
   "outputs": [
    {
     "name": "stdout",
     "output_type": "stream",
     "text": [
      "0     2\n",
      "1     4\n",
      "2     6\n",
      "3     8\n",
      "4    10\n",
      "dtype: int64\n"
     ]
    }
   ],
   "source": [
    "# Creating a series\n",
    "a = pd.Series([2, 4, 6, 8, 10])\n",
    "print(a)"
   ]
  },
  {
   "cell_type": "code",
   "execution_count": 4,
   "metadata": {},
   "outputs": [
    {
     "name": "stdout",
     "output_type": "stream",
     "text": [
      "[1 3 5 7 9]\n"
     ]
    }
   ],
   "source": [
    "# Can also create a series (i.e. 1-dimensional array) from Numpy arrays\n",
    "b = np.array([1, 3, 5, 7, 9]) # create a Numpy array\n",
    "print(b)"
   ]
  },
  {
   "cell_type": "code",
   "execution_count": 5,
   "metadata": {},
   "outputs": [
    {
     "name": "stdout",
     "output_type": "stream",
     "text": [
      "0    1\n",
      "1    3\n",
      "2    5\n",
      "3    7\n",
      "4    9\n",
      "dtype: int32\n"
     ]
    }
   ],
   "source": [
    "# Create a pandas series from a Numpy array\n",
    "c = pd.Series(b)            \n",
    "print(c)"
   ]
  },
  {
   "cell_type": "code",
   "execution_count": 6,
   "metadata": {},
   "outputs": [
    {
     "name": "stdout",
     "output_type": "stream",
     "text": [
      "0     2\n",
      "1     4\n",
      "2     6\n",
      "3     8\n",
      "4    10\n",
      "dtype: int64\n"
     ]
    }
   ],
   "source": [
    "# Create a pandas series from an existing series\n",
    "d = pd.Series(a)              \n",
    "print(d)"
   ]
  },
  {
   "cell_type": "markdown",
   "metadata": {},
   "source": [
    "## 2.2 Add Meaning to Labels"
   ]
  },
  {
   "cell_type": "code",
   "execution_count": 7,
   "metadata": {},
   "outputs": [
    {
     "name": "stdout",
     "output_type": "stream",
     "text": [
      "first      2\n",
      "second     4\n",
      "third      6\n",
      "fourth     8\n",
      "fifth     10\n",
      "dtype: int64\n"
     ]
    }
   ],
   "source": [
    "# Can specify meaningful labels to the index\n",
    "e = pd.Series([2, 4, 6, 8, 10], index=['first', 'second', 'third', 'fourth', 'fifth'])\n",
    "print(e)"
   ]
  },
  {
   "cell_type": "markdown",
   "metadata": {},
   "source": [
    "## 2.3 Index and Values Attribute"
   ]
  },
  {
   "cell_type": "code",
   "execution_count": 8,
   "metadata": {},
   "outputs": [
    {
     "name": "stdout",
     "output_type": "stream",
     "text": [
      "Index(['first', 'second', 'third', 'fourth', 'fifth'], dtype='object')\n",
      "[ 2  4  6  8 10]\n"
     ]
    }
   ],
   "source": [
    "print(e.index)\n",
    "print(e.values)"
   ]
  },
  {
   "cell_type": "markdown",
   "metadata": {},
   "source": [
    "## 2.4 Selecting Elements"
   ]
  },
  {
   "cell_type": "code",
   "execution_count": 9,
   "metadata": {},
   "outputs": [
    {
     "name": "stdout",
     "output_type": "stream",
     "text": [
      "8\n",
      "8\n",
      "\n",
      "first     2\n",
      "second    4\n",
      "third     6\n",
      "dtype: int64\n"
     ]
    },
    {
     "name": "stderr",
     "output_type": "stream",
     "text": [
      "C:\\Users\\danny\\AppData\\Local\\Temp\\ipykernel_14524\\1612241305.py:2: FutureWarning: Series.__getitem__ treating keys as positions is deprecated. In a future version, integer keys will always be treated as labels (consistent with DataFrame behavior). To access a value by position, use `ser.iloc[pos]`\n",
      "  print(e[3])\n"
     ]
    }
   ],
   "source": [
    "# Individual elements can be selected as numpy arrays by specifying the key\n",
    "print(e[3])\n",
    "print(e['fourth'])\n",
    "print()\n",
    "print(e[0:3])"
   ]
  },
  {
   "cell_type": "code",
   "execution_count": 10,
   "metadata": {},
   "outputs": [
    {
     "name": "stdout",
     "output_type": "stream",
     "text": [
      "first     2\n",
      "second    4\n",
      "third     6\n",
      "fourth    8\n",
      "dtype: int64\n",
      "\n",
      "first     2\n",
      "second    4\n",
      "third     6\n",
      "fourth    8\n",
      "dtype: int64\n"
     ]
    }
   ],
   "source": [
    "# Can specify them using the labels\n",
    "print(e[['first', 'second', 'third', 'fourth']])\n",
    "print()\n",
    "print(e['first':'fourth'])       # alternatively"
   ]
  },
  {
   "cell_type": "markdown",
   "metadata": {},
   "source": [
    "## 2.5 Assigning Values to Elements"
   ]
  },
  {
   "cell_type": "code",
   "execution_count": 11,
   "metadata": {},
   "outputs": [
    {
     "name": "stdout",
     "output_type": "stream",
     "text": [
      "first      2\n",
      "second     4\n",
      "third      6\n",
      "fourth     8\n",
      "fifth     10\n",
      "dtype: int64\n",
      "\n",
      "3\n",
      "3\n"
     ]
    },
    {
     "name": "stderr",
     "output_type": "stream",
     "text": [
      "C:\\Users\\danny\\AppData\\Local\\Temp\\ipykernel_14524\\1523236041.py:6: FutureWarning: Series.__setitem__ treating keys as positions is deprecated. In a future version, integer keys will always be treated as labels (consistent with DataFrame behavior). To set a value by position, use `ser.iloc[pos] = value`\n",
      "  e[3] = 3\n",
      "C:\\Users\\danny\\AppData\\Local\\Temp\\ipykernel_14524\\1523236041.py:7: FutureWarning: Series.__getitem__ treating keys as positions is deprecated. In a future version, integer keys will always be treated as labels (consistent with DataFrame behavior). To access a value by position, use `ser.iloc[pos]`\n",
      "  print(e[3])\n"
     ]
    }
   ],
   "source": [
    "# Individual elements can be assigned values \n",
    "e = pd.Series([2, 4, 6, 8, 10], index=['first', 'second', 'third', 'fourth', 'fifth'])\n",
    "print(e)\n",
    "print()\n",
    "\n",
    "e[3] = 3\n",
    "print(e[3])\n",
    "\n",
    "e['fourth'] = 3    # alternatively\n",
    "print(e['fourth'])"
   ]
  },
  {
   "cell_type": "markdown",
   "metadata": {},
   "source": [
    "## 2.6 Filtering Values\n",
    "Since pandas is based on Numpy, many of the operations applicable to Numpy arrays are also available in pandas Series. One of these operations is filtering. "
   ]
  },
  {
   "cell_type": "code",
   "execution_count": 12,
   "metadata": {},
   "outputs": [
    {
     "name": "stdout",
     "output_type": "stream",
     "text": [
      "0    1.5\n",
      "1    2.0\n",
      "2    3.9\n",
      "3    4.8\n",
      "4    5.5\n",
      "dtype: float64\n",
      "\n",
      "0    1.5\n",
      "1    2.0\n",
      "2    3.9\n",
      "dtype: float64\n"
     ]
    }
   ],
   "source": [
    "# Filter all elements that satisfy the condition within the index\n",
    "e = pd.Series([1.5, 2.0, 3.9, 4.8, 5.5])\n",
    "print(e)\n",
    "print()\n",
    "\n",
    "print(e[e < 4]) # value is less than 4"
   ]
  },
  {
   "attachments": {
    "image.png": {
     "image/png": "[encoded data removed]"
    }
   },
   "cell_type": "markdown",
   "metadata": {},
   "source": [
    "## 2.7 Mathematical Operations\n",
    "Mathematical operations such as “+”, “-“, “*”, and “/” and functions applicable to Numpy array are also applicable to pandas Series.\n",
    "![image.png](attachment:image.png)"
   ]
  },
  {
   "cell_type": "markdown",
   "metadata": {},
   "source": [
    "## 2.8 Mathematical Functions\n",
    "To use the Numpy functions on pandas series, you need to specify the function as a Numpy function with the series as the argument for the function."
   ]
  },
  {
   "cell_type": "code",
   "execution_count": 13,
   "metadata": {},
   "outputs": [
    {
     "name": "stdout",
     "output_type": "stream",
     "text": [
      "17.7\n",
      "\n",
      "3.54\n",
      "\n",
      "0    0.405465\n",
      "1    0.693147\n",
      "2    1.360977\n",
      "3    1.568616\n",
      "4    1.704748\n",
      "dtype: float64\n"
     ]
    }
   ],
   "source": [
    "# Using Numpy functions on a series\n",
    "print(np.sum(e))\n",
    "print()\n",
    "print(np.mean(e))\n",
    "print()\n",
    "print(np.log(e))"
   ]
  },
  {
   "cell_type": "markdown",
   "metadata": {},
   "source": [
    "## 2.9 Removing Duplicates: unique() Function\n",
    "A series may contain duplicates either in the indexes or values.  To remove duplicates or repeating values, pandas provide a ``unique()`` function for this purpose."
   ]
  },
  {
   "cell_type": "code",
   "execution_count": 14,
   "metadata": {},
   "outputs": [
    {
     "name": "stdout",
     "output_type": "stream",
     "text": [
      "gold      1.5\n",
      "silver    5.5\n",
      "gold      2.0\n",
      "bronze    1.5\n",
      "silver    3.9\n",
      "gold      4.8\n",
      "gold      4.8\n",
      "silver    5.5\n",
      "dtype: float64\n",
      "\n",
      "[1.5 5.5 2.  3.9 4.8]\n"
     ]
    }
   ],
   "source": [
    "# Series “f” has repeating indexes and values.\n",
    "f = pd.Series([1.5, 5.5, 2.0, 1.5, 3.9, 4.8, 4.8, 5.5], \n",
    "              index=['gold', 'silver', 'gold', 'bronze', 'silver', 'gold', 'gold', 'silver'])\n",
    "print(f)\n",
    "print()\n",
    "\n",
    "# When unique() function is applied on “f”, the result is a Numpy ndarray with unique values.\n",
    "f_unique = f.unique() # unique values\n",
    "print(f_unique)       # there are now 5 numberic index "
   ]
  },
  {
   "cell_type": "markdown",
   "metadata": {},
   "source": [
    "## 2.10 Membership: isin() Function\n",
    "To determine if a given value is in a series, use the isin() membership function. This function returns ``True``if a value is present and ``False`` if it is not. Knowing them is useful for filtering data in a series or in a column of a dataframe."
   ]
  },
  {
   "cell_type": "code",
   "execution_count": 15,
   "metadata": {},
   "outputs": [
    {
     "name": "stdout",
     "output_type": "stream",
     "text": [
      "0     True\n",
      "1    False\n",
      "2     True\n",
      "3     True\n",
      "4     True\n",
      "5    False\n",
      "6    False\n",
      "7    False\n",
      "dtype: bool\n"
     ]
    }
   ],
   "source": [
    "g = pd.Series([1.5, 5.5, 2.0, 1.5, 3.9, 4.8, 4.8, 5.5])\n",
    "print(g.isin([1.5, 3.9, 4.1, 2]))"
   ]
  },
  {
   "cell_type": "markdown",
   "metadata": {},
   "source": [
    "## 2.11 NaN (Not a Number) Values\n",
    "“NaN” values appear in pandas data structures to indicate empty field or non-numerically-definable values. Such values can be problematic in data analysis and should be removed. They often occur due to poor data sources or the sources are missing data.<br>\n",
    "Note that <b>pandas is case sensitive</b>; “np.Nan” is not the same as “np.NaN”.<br>\n",
    "<b>Permissible values are \"np.NaN\" or \"np.nan\".</b>"
   ]
  },
  {
   "cell_type": "code",
   "execution_count": 16,
   "metadata": {},
   "outputs": [
    {
     "name": "stdout",
     "output_type": "stream",
     "text": [
      "0         NaN\n",
      "1    0.693147\n",
      "2    2.995732\n",
      "3         NaN\n",
      "4    3.988984\n",
      "5    2.708050\n",
      "dtype: float64\n"
     ]
    },
    {
     "name": "stderr",
     "output_type": "stream",
     "text": [
      "C:\\Users\\danny\\anaconda3\\Lib\\site-packages\\pandas\\core\\arraylike.py:396: RuntimeWarning: invalid value encountered in log\n",
      "  result = getattr(ufunc, method)(*inputs, **kwargs)\n"
     ]
    }
   ],
   "source": [
    "# When we apply the log() function to this series, all negative values result in “NaN” values\n",
    "h = pd.Series([-4, 2, 20, -3, 54, 15])\n",
    "print(np.log(h))"
   ]
  },
  {
   "cell_type": "code",
   "execution_count": 17,
   "metadata": {},
   "outputs": [
    {
     "name": "stdout",
     "output_type": "stream",
     "text": [
      "0    2.0\n",
      "1    4.0\n",
      "2    NaN\n",
      "3    6.0\n",
      "4    8.0\n",
      "dtype: float64\n"
     ]
    }
   ],
   "source": [
    "# Can explicitly define “NaN” values in pandas data structures such as series and dataframes\n",
    "i = pd.Series([2, 4, np.NaN, 6, 8])\n",
    "print(i)"
   ]
  },
  {
   "cell_type": "markdown",
   "metadata": {},
   "source": [
    "### isnull() Function\n",
    "To identify which of the indexes point to an empty field (i.e. has “NaN” value), use the isnull() function. <br>\n",
    "A “True” indicates the presence of an empty field."
   ]
  },
  {
   "cell_type": "code",
   "execution_count": 18,
   "metadata": {},
   "outputs": [
    {
     "name": "stdout",
     "output_type": "stream",
     "text": [
      "0    False\n",
      "1    False\n",
      "2     True\n",
      "3    False\n",
      "4    False\n",
      "dtype: bool\n"
     ]
    }
   ],
   "source": [
    "print(i.isnull())"
   ]
  },
  {
   "cell_type": "markdown",
   "metadata": {},
   "source": [
    "### notnull() Function"
   ]
  },
  {
   "cell_type": "code",
   "execution_count": 19,
   "metadata": {},
   "outputs": [
    {
     "name": "stdout",
     "output_type": "stream",
     "text": [
      "0     True\n",
      "1     True\n",
      "2    False\n",
      "3     True\n",
      "4     True\n",
      "dtype: bool\n"
     ]
    }
   ],
   "source": [
    "# notnull() function does the reverse, the presence of “False” value indicates an empty field\n",
    "print(i.notnull())"
   ]
  },
  {
   "cell_type": "markdown",
   "metadata": {},
   "source": [
    "## 2.12 Series from Dictionaries\n",
    "You may have realised that a series looks a lot like a Python defined dictionary (or dict) with indexes and values. "
   ]
  },
  {
   "cell_type": "code",
   "execution_count": 20,
   "metadata": {},
   "outputs": [
    {
     "name": "stdout",
     "output_type": "stream",
     "text": [
      "<class 'dict'>\n"
     ]
    }
   ],
   "source": [
    "j = {'gold':50, 'silver':10, 'bronze':20}\n",
    "print(type(j))"
   ]
  },
  {
   "cell_type": "code",
   "execution_count": 21,
   "metadata": {},
   "outputs": [
    {
     "name": "stdout",
     "output_type": "stream",
     "text": [
      "gold      50\n",
      "silver    10\n",
      "bronze    20\n",
      "dtype: int64\n"
     ]
    }
   ],
   "source": [
    "# Can create a series out of a dictionary\n",
    "# The index array of the series “k” is filled with the keys \n",
    "# while the data array is filled with the corresponding values of the dictionary. \n",
    "k = pd.Series(j)\n",
    "print(k)"
   ]
  },
  {
   "cell_type": "code",
   "execution_count": 22,
   "metadata": {},
   "outputs": [
    {
     "name": "stdout",
     "output_type": "stream",
     "text": [
      "diamond      NaN\n",
      "platinum     NaN\n",
      "gold        50.0\n",
      "silver      10.0\n",
      "bronze      20.0\n",
      "copper       NaN\n",
      "dtype: float64\n"
     ]
    }
   ],
   "source": [
    "# An index array for a series can be defined separately\n",
    "metals = ['diamond', 'platinum', 'gold', 'silver', 'bronze', 'copper']\n",
    "k = pd.Series(j, index=metals)\n",
    "print(k) # The keys of the dictionary will match with the corresponding labels in the index array of the series. \n",
    "         # If there is a mismatch, an “NaN” value will be added. "
   ]
  },
  {
   "cell_type": "markdown",
   "metadata": {},
   "source": [
    "## 2.13 Operations on Two Series\n",
    "Series can inter-operate with one another via the labels in the index arrays."
   ]
  },
  {
   "cell_type": "code",
   "execution_count": 23,
   "metadata": {},
   "outputs": [
    {
     "name": "stdout",
     "output_type": "stream",
     "text": [
      "{'gold': 50, 'silver': 10, 'bronze': 20}\n",
      "{'diamond': 80, 'platinum': 100, 'gold': 40, 'copper': 30, 'bronze': 80}\n",
      "\n",
      "bronze      100.0\n",
      "copper        NaN\n",
      "diamond       NaN\n",
      "gold         90.0\n",
      "platinum      NaN\n",
      "silver        NaN\n",
      "dtype: float64\n"
     ]
    }
   ],
   "source": [
    "# Create two series from the two dictionaries “l” and “m”.\n",
    "l = {'gold':50, 'silver':10, 'bronze':20}\n",
    "m = {'diamond':80, 'platinum':100, 'gold':40, 'copper':30, 'bronze':80}\n",
    "series_l = pd.Series(l)\n",
    "series_m = pd.Series(m)\n",
    "print(l)\n",
    "print(m)\n",
    "print()\n",
    "\n",
    "# Apply the mathematical function “+” on the two series\n",
    "print(series_l + series_m)"
   ]
  },
  {
   "cell_type": "markdown",
   "metadata": {},
   "source": [
    "## 2.14 The Index Object in Series\n",
    "The ``index`` option defines the labels for the index array and is managed by an Index object in pandas."
   ]
  },
  {
   "cell_type": "code",
   "execution_count": 24,
   "metadata": {},
   "outputs": [
    {
     "name": "stdout",
     "output_type": "stream",
     "text": [
      "diamond      NaN\n",
      "platinum     NaN\n",
      "gold        50.0\n",
      "silver      10.0\n",
      "bronze      20.0\n",
      "copper       NaN\n",
      "dtype: float64 <class 'pandas.core.series.Series'>\n",
      "Index(['diamond', 'platinum', 'gold', 'silver', 'bronze', 'copper'], dtype='object')\n"
     ]
    }
   ],
   "source": [
    "n = {'gold':50, 'silver':10, 'bronze':20}\n",
    "metals = ['diamond', 'platinum', 'gold', 'silver', 'bronze', 'copper']\n",
    "\n",
    "o = pd.Series(n, index=metals)\n",
    "print(o, type(o))\n",
    "print(o.index)"
   ]
  },
  {
   "cell_type": "markdown",
   "metadata": {},
   "source": [
    "### idxmin() Method\n",
    "pandas has some methods in the ``Series`` class that act on the ``Index`` object."
   ]
  },
  {
   "cell_type": "code",
   "execution_count": 25,
   "metadata": {},
   "outputs": [
    {
     "name": "stdout",
     "output_type": "stream",
     "text": [
      "diamond      NaN\n",
      "platinum     NaN\n",
      "gold        50.0\n",
      "silver      10.0\n",
      "bronze      20.0\n",
      "copper       NaN\n",
      "dtype: float64\n",
      "\n",
      "silver\n"
     ]
    }
   ],
   "source": [
    "# idxmin() method returns the index with the lowest value.\n",
    "print(o)\n",
    "print()\n",
    "print(o.idxmin())"
   ]
  },
  {
   "cell_type": "markdown",
   "metadata": {},
   "source": [
    "### idxmax() Method"
   ]
  },
  {
   "cell_type": "code",
   "execution_count": 26,
   "metadata": {},
   "outputs": [
    {
     "name": "stdout",
     "output_type": "stream",
     "text": [
      "diamond      NaN\n",
      "platinum     NaN\n",
      "gold        50.0\n",
      "silver      10.0\n",
      "bronze      20.0\n",
      "copper       NaN\n",
      "dtype: float64\n",
      "\n",
      "gold\n"
     ]
    }
   ],
   "source": [
    "# idxmax() method returns the index with the highest value.\n",
    "print(o)\n",
    "print()\n",
    "print(o.idxmax())"
   ]
  },
  {
   "cell_type": "markdown",
   "metadata": {},
   "source": [
    "### is_unique Attribute\n",
    "The ``Index`` object has an attribute ``is_unique`` that returns a Boolean value indicating if all the indexes in the series are unique. "
   ]
  },
  {
   "cell_type": "code",
   "execution_count": 27,
   "metadata": {},
   "outputs": [
    {
     "name": "stdout",
     "output_type": "stream",
     "text": [
      "True\n"
     ]
    }
   ],
   "source": [
    "print(o.index.is_unique)"
   ]
  },
  {
   "cell_type": "markdown",
   "metadata": {},
   "source": [
    "### drop() Function\n",
    "The Series class has a ``drop()`` function that returns a new object without the items to be deleted.\n",
    "Attempts to drop indexes that are not found in the axis will produce errors."
   ]
  },
  {
   "cell_type": "code",
   "execution_count": 28,
   "metadata": {},
   "outputs": [
    {
     "name": "stdout",
     "output_type": "stream",
     "text": [
      "gold      50.0\n",
      "silver    10.0\n",
      "bronze    20.0\n",
      "dtype: float64\n"
     ]
    }
   ],
   "source": [
    "p = o.drop(['diamond', 'platinum', 'copper'])\n",
    "print(p)"
   ]
  },
  {
   "cell_type": "markdown",
   "metadata": {},
   "source": [
    "### reindex() Function\n",
    "The ``Index`` object is immutable i.e. once created, it cannot be changed. However, should you want to reorder the sequence of index labels, add new indexes or even remove indexes, then reindex the indexes with the ``reindex()``function. A new series object is created as a result of calling this function."
   ]
  },
  {
   "cell_type": "code",
   "execution_count": 29,
   "metadata": {},
   "outputs": [
    {
     "name": "stdout",
     "output_type": "stream",
     "text": [
      "gold      50.0\n",
      "silver    10.0\n",
      "bronze    20.0\n",
      "dtype: float64 Index(['gold', 'silver', 'bronze'], dtype='object')\n",
      "\n",
      "diamond      NaN\n",
      "bronze      20.0\n",
      "platinum     NaN\n",
      "gold        50.0\n",
      "dtype: float64\n"
     ]
    }
   ],
   "source": [
    "print(p, p.index)\n",
    "print()\n",
    "q = p.reindex(['diamond', 'bronze', 'platinum', 'gold'])\n",
    "print(q) # silver is deleted, diamond and platinum added, bronze and gold position changed"
   ]
  },
  {
   "attachments": {
    "image.png": {
     "image/png": "[encoded data removed]"
    }
   },
   "cell_type": "markdown",
   "metadata": {},
   "source": [
    "# 3. Dataframes\n",
    "A dataframe is basically a tabular data structure consisting of rows and columns. Unlike series which has one index array, a dataframe has two index arrays. The first index array of a dataframe contains labels that reference elements in the rows while the other index array contains a series of labels, each associated with a column.\n",
    "![image.png](attachment:image.png)\n",
    "The index array in the series has labels “0”, “1”, “2”, “3”, and “4”. Label “0” references value “rice”, “1” references “milk”, “2” references “pork”, “3” references “coke”, and “4” references “fish”. \n",
    "\n",
    "For the dataframe, the first index array contains labels “0”, “1”, “2”, “3”, and “4” that references the rows i.e. label “0” references “rice, 5, 5.20”, “1” references “milk, 2, 5.65”, “2” references “pork, 3, 10.80”, “3” references “coke, 30, 0.90”, and “4” references “fish, 2.50, 2.50”. The second index array contains labels “item”, “quantity”, and “price” that references the columns i.e. “item” references “rice, milk, pork, coke, fish”, “quantity” references “5, 2, 3, 30, 2.50” and “price” references “5.20, 5.65, 10.80, 0.90, 2.50”.\n",
    "\n",
    "Each column in a dataframe can contain a value of different type (such as numeric, string, Boolean, etc.). "
   ]
  },
  {
   "cell_type": "markdown",
   "metadata": {},
   "source": [
    "## 3.1 Creating a Dataframe\n",
    "A dataframe object is created from a DataFrame class in the pandas module via the ``DataFrame()`` function."
   ]
  },
  {
   "cell_type": "markdown",
   "metadata": {},
   "source": [
    "### Creating Dataframe from a Numpy array\n",
    "A dataframe can be created from a Numpy ndarray. To do that, simply call the ``DataFrame()`` constructor with three arguments: a Numpy ndarray of values, an array of index labels, an array of column labels. "
   ]
  },
  {
   "cell_type": "code",
   "execution_count": 30,
   "metadata": {},
   "outputs": [
    {
     "name": "stdout",
     "output_type": "stream",
     "text": [
      "   item quantity price\n",
      "R  rice      5.0   5.2\n",
      "M  milk      2.0  5.65\n",
      "P  pork      3.0  10.8\n",
      "C  coke     30.0   0.9\n",
      "F  fish      2.5   2.5 <class 'pandas.core.frame.DataFrame'>\n"
     ]
    }
   ],
   "source": [
    "A = pd.DataFrame(np.array([['rice', 5.0, 5.20], ['milk', 2.0, 5.65], ['pork', 3.0, 10.80], \n",
    "                           ['coke', 30.0, 0.90], ['fish', 2.50, 2.50]]), \n",
    "                 index=['R', 'M', 'P', 'C', 'F'], \n",
    "                 columns=['item', 'quantity', 'price'])\n",
    "print(A, type(A))"
   ]
  },
  {
   "cell_type": "markdown",
   "metadata": {},
   "source": [
    "### Creating Dataframe from a Dictionary\n",
    "Another approach is to use the ``DataFrame()`` constructor with an argument containing a dictionary (i.e. dict) object. This is perhaps the most common way to create a new dataframe."
   ]
  },
  {
   "cell_type": "code",
   "execution_count": 31,
   "metadata": {},
   "outputs": [
    {
     "name": "stdout",
     "output_type": "stream",
     "text": [
      "{'item': ['rice', 'milk', 'pork', 'coke', 'fish'], 'quantity': [5, 2, 3, 30, 2.5], 'price': [5.2, 5.65, 10.8, 0.9, 2.5]} <class 'dict'>\n",
      "\n",
      "   item  quantity  price\n",
      "0  rice       5.0   5.20\n",
      "1  milk       2.0   5.65\n",
      "2  pork       3.0  10.80\n",
      "3  coke      30.0   0.90\n",
      "4  fish       2.5   2.50 <class 'pandas.core.frame.DataFrame'>\n"
     ]
    }
   ],
   "source": [
    "B = {'item':['rice', 'milk', 'pork', 'coke', 'fish'],\n",
    "     'quantity':[5, 2, 3, 30, 2.50],\n",
    "     'price':[5.20, 5.65, 10.80, 0.90, 2.50]}\n",
    "print(B, type(B))\n",
    "print()\n",
    "\n",
    "C = pd.DataFrame(B)\n",
    "print(C, type(C))"
   ]
  },
  {
   "cell_type": "code",
   "execution_count": 32,
   "metadata": {},
   "outputs": [
    {
     "name": "stdout",
     "output_type": "stream",
     "text": [
      "   item  price\n",
      "0  rice   5.20\n",
      "1  milk   5.65\n",
      "2  pork  10.80\n",
      "3  coke   0.90\n",
      "4  fish   2.50 <class 'pandas.core.frame.DataFrame'>\n"
     ]
    }
   ],
   "source": [
    "# By specifying the “columns” option, we can select the columns to be included in the dataframe. \n",
    "# The columns will appear in the sequence listed in the “columns” option.\n",
    "D = pd.DataFrame(B, columns=['item', 'price'])\n",
    "\n",
    "print(D, type(D))"
   ]
  },
  {
   "cell_type": "code",
   "execution_count": 33,
   "metadata": {},
   "outputs": [
    {
     "name": "stdout",
     "output_type": "stream",
     "text": [
      "   item  price\n",
      "R  rice   5.20\n",
      "M  milk   5.65\n",
      "P  pork  10.80\n",
      "C  coke   0.90\n",
      "F  fish   2.50 <class 'pandas.core.frame.DataFrame'>\n"
     ]
    }
   ],
   "source": [
    "# The index array for the rows is automatically assigned numeric sequence starting from 0. \n",
    "# If you want to assign labels to the row indexes, you may use the “index” option.\n",
    "E = pd.DataFrame(B, index=['R', 'M', 'P', 'C', 'F'], columns=['item', 'price'])\n",
    "\n",
    "print(E, type(E))"
   ]
  },
  {
   "cell_type": "markdown",
   "metadata": {},
   "source": [
    "### Creating Dataframe from a Nested Dictionary"
   ]
  },
  {
   "cell_type": "code",
   "execution_count": 34,
   "metadata": {},
   "outputs": [
    {
     "name": "stdout",
     "output_type": "stream",
     "text": [
      "{'gold': {2017: 10, 2018: 28, 2019: 40, 2020: 50}, 'silver': {2018: 19, 2019: 45, 2020: 65}, 'bronze': {2017: 39, 2018: 23, 2020: 59}}\n",
      "\n",
      "      gold  silver  bronze\n",
      "2017    10     NaN    39.0\n",
      "2018    28    19.0    23.0\n",
      "2019    40    45.0     NaN\n",
      "2020    50    65.0    59.0\n"
     ]
    }
   ],
   "source": [
    "# Can also create a dataframe from a nested dictionary.\n",
    "# What pandas does is to treat the external keys (i.e. “gold”, “silver”, “bronze”) \n",
    "# as column names and the internal keys (i.e. “2017”, “2018”, “2019”, “2020”) as labels for the row indexes. \n",
    "# Where fields do not have a successful match, pandas adds the “NaN” value to them.\n",
    "nested_dict = { 'gold': {2017: 10, 2018: 28, 2019: 40, 2020: 50},\n",
    "               'silver': {2018: 19, 2019: 45, 2020: 65},\n",
    "               'bronze': {2017: 39, 2018: 23, 2020: 59}}\n",
    "\n",
    "print(nested_dict)\n",
    "print()\n",
    "print(pd.DataFrame(nested_dict))"
   ]
  },
  {
   "cell_type": "markdown",
   "metadata": {},
   "source": [
    "## 3.2 Columns, Index and Values Attribute"
   ]
  },
  {
   "cell_type": "code",
   "execution_count": 35,
   "metadata": {},
   "outputs": [
    {
     "name": "stdout",
     "output_type": "stream",
     "text": [
      "   item quantity price\n",
      "R  rice      5.0   5.2\n",
      "M  milk      2.0  5.65\n",
      "P  pork      3.0  10.8\n",
      "C  coke     30.0   0.9\n",
      "F  fish      2.5   2.5\n",
      "\n",
      "Index(['item', 'quantity', 'price'], dtype='object')\n"
     ]
    }
   ],
   "source": [
    "# To examine the name of all columns of a dataframe, use the “columns” \"attribute.\n",
    "F = pd.DataFrame(np.array([['rice', 5.0, 5.20], ['milk', 2.0, 5.65], ['pork', 3.0, 10.80], \n",
    "                           ['coke', 30.0, 0.90], ['fish', 2.50, 2.50]]), \n",
    "                 index=['R', 'M', 'P', 'C', 'F'], \n",
    "                 columns=['item', 'quantity', 'price'])\n",
    "\n",
    "print(F)\n",
    "print()\n",
    "print(F.columns)"
   ]
  },
  {
   "cell_type": "code",
   "execution_count": 36,
   "metadata": {},
   "outputs": [
    {
     "name": "stdout",
     "output_type": "stream",
     "text": [
      "Index(['R', 'M', 'P', 'C', 'F'], dtype='object')\n"
     ]
    }
   ],
   "source": [
    "# To get the list of the row indexes, use the “index” attribute\n",
    "print(F.index)"
   ]
  },
  {
   "cell_type": "code",
   "execution_count": 37,
   "metadata": {},
   "outputs": [
    {
     "name": "stdout",
     "output_type": "stream",
     "text": [
      "[['rice' '5.0' '5.2']\n",
      " ['milk' '2.0' '5.65']\n",
      " ['pork' '3.0' '10.8']\n",
      " ['coke' '30.0' '0.9']\n",
      " ['fish' '2.5' '2.5']]\n"
     ]
    }
   ],
   "source": [
    "# To get the entire set of data values in the dataframe, use the “values” attribute:\n",
    "print(F.values)"
   ]
  },
  {
   "cell_type": "markdown",
   "metadata": {},
   "source": [
    "## 3.3 Selecting Elements"
   ]
  },
  {
   "cell_type": "markdown",
   "metadata": {},
   "source": [
    "### Selecting Contents of Columns"
   ]
  },
  {
   "cell_type": "code",
   "execution_count": 38,
   "metadata": {},
   "outputs": [
    {
     "name": "stdout",
     "output_type": "stream",
     "text": [
      "   item quantity price\n",
      "0  rice      5.0   5.2\n",
      "1  milk      2.0  5.65\n",
      "2  pork      3.0  10.8\n",
      "3  coke     30.0   0.9\n",
      "4  fish      2.5   2.5\n",
      "\n",
      "0    rice\n",
      "1    milk\n",
      "2    pork\n",
      "3    coke\n",
      "4    fish\n",
      "Name: item, dtype: object <class 'pandas.core.series.Series'>\n",
      "\n",
      "0    rice\n",
      "1    milk\n",
      "2    pork\n",
      "3    coke\n",
      "4    fish\n",
      "Name: item, dtype: object\n"
     ]
    }
   ],
   "source": [
    "# To select only the contents of a column, specify the name of the column \n",
    "G = pd.DataFrame(np.array([['rice', 5.0, 5.20], ['milk', 2.0, 5.65], ['pork', 3.0, 10.80], \n",
    "                           ['coke', 30.0, 0.90], ['fish', 2.50, 2.50]]), \n",
    "                 columns=['item', 'quantity', 'price'])\n",
    "\n",
    "print(G)\n",
    "print()\n",
    "print(G['item'], type(G['item'])) # The return value is a series object.\n",
    "print()\n",
    "print(G.item) # Alternatively, you can use the column name as an attribute of the instance of dataframe"
   ]
  },
  {
   "cell_type": "markdown",
   "metadata": {},
   "source": [
    "### Selecting Contents of Rows"
   ]
  },
  {
   "cell_type": "code",
   "execution_count": 39,
   "metadata": {},
   "outputs": [
    {
     "name": "stdout",
     "output_type": "stream",
     "text": [
      "item        pork\n",
      "quantity     3.0\n",
      "price       10.8\n",
      "Name: 2, dtype: object <class 'pandas.core.series.Series'>\n"
     ]
    }
   ],
   "source": [
    "# To get the rows within a dataframe, use the “loc” attribute with the index value of the row to extract\n",
    "print(G.loc[2], type(G.loc[2])) # The object returned is a series object where the names of the columns have become the \n",
    "                                # label of the array index, and the values have become the data of the series."
   ]
  },
  {
   "cell_type": "code",
   "execution_count": 40,
   "metadata": {},
   "outputs": [
    {
     "name": "stdout",
     "output_type": "stream",
     "text": [
      "   item quantity price\n",
      "1  milk      2.0  5.65\n",
      "3  coke     30.0   0.9 <class 'pandas.core.frame.DataFrame'>\n"
     ]
    }
   ],
   "source": [
    "# To choose multiple rows, specify an array of with the sequence of rows to extract:\n",
    "print(G.loc[[1, 3]], type(G.loc[[1, 3]]))"
   ]
  },
  {
   "cell_type": "markdown",
   "metadata": {},
   "source": [
    "### Extracting Portions of a Dataframe"
   ]
  },
  {
   "cell_type": "code",
   "execution_count": 41,
   "metadata": {},
   "outputs": [
    {
     "name": "stdout",
     "output_type": "stream",
     "text": [
      "   item quantity price\n",
      "0  rice      5.0   5.2 <class 'pandas.core.frame.DataFrame'>\n",
      "\n",
      "   item quantity price\n",
      "1  milk      2.0  5.65\n",
      "2  pork      3.0  10.8\n",
      "3  coke     30.0   0.9 <class 'pandas.core.frame.DataFrame'>\n"
     ]
    }
   ],
   "source": [
    "# To extract a portion of the dataframe, use the reference numbers of the indexes\n",
    "print(G[0:1], type(G[0:1]))\n",
    "print()\n",
    "print(G[1:4], type(G[1:4]))"
   ]
  },
  {
   "cell_type": "markdown",
   "metadata": {},
   "source": [
    "### Selecting a Single Value in a Dataframe using Default Numeric Label"
   ]
  },
  {
   "cell_type": "code",
   "execution_count": 42,
   "metadata": {},
   "outputs": [
    {
     "name": "stdout",
     "output_type": "stream",
     "text": [
      "coke <class 'str'>\n"
     ]
    }
   ],
   "source": [
    "# To select the single value in a dataframe, specify the name of the column and the label of the row\n",
    "print(G['item'][3], type(G['item'][3])) # G[column][row]"
   ]
  },
  {
   "cell_type": "markdown",
   "metadata": {},
   "source": [
    "### Extracting Values with the \"index\" Option On"
   ]
  },
  {
   "cell_type": "code",
   "execution_count": 43,
   "metadata": {},
   "outputs": [
    {
     "name": "stdout",
     "output_type": "stream",
     "text": [
      "item        pork\n",
      "quantity     3.0\n",
      "price       10.8\n",
      "Name: P, dtype: object <class 'pandas.core.series.Series'>\n",
      "\n",
      "   item quantity price\n",
      "P  pork      3.0  10.8\n",
      "F  fish      2.5   2.5 <class 'pandas.core.frame.DataFrame'>\n",
      "\n",
      "   item quantity price\n",
      "R  rice      5.0   5.2\n",
      "M  milk      2.0  5.65\n",
      "P  pork      3.0  10.8\n",
      "C  coke     30.0   0.9 <class 'pandas.core.frame.DataFrame'>\n"
     ]
    }
   ],
   "source": [
    "# If the “index” option has been used to assign values to the labels, \n",
    "# use the label as the index value for the row to extract\n",
    "H = pd.DataFrame(np.array([['rice', 5.0, 5.20], ['milk', 2.0, 5.65], ['pork', 3.0, 10.80], \n",
    "                           ['coke', 30.0, 0.90], ['fish', 2.50, 2.50]]), \n",
    "                 index=['R', 'M', 'P', 'C', 'F'], \n",
    "                 columns=['item', 'quantity', 'price'])\n",
    "\n",
    "print(H.loc['P'], type(H.loc['P']))\n",
    "print()\n",
    "print(H.loc[['P', 'F']], type(H.loc[['P', 'F']]))\n",
    "print()\n",
    "print(H['R':'C'], type(H['R':'C']))\n"
   ]
  },
  {
   "cell_type": "markdown",
   "metadata": {},
   "source": [
    "### Selecting an Element in a Dataframe with Named Index Label"
   ]
  },
  {
   "cell_type": "code",
   "execution_count": 44,
   "metadata": {},
   "outputs": [
    {
     "name": "stdout",
     "output_type": "stream",
     "text": [
      "fish <class 'str'>\n"
     ]
    }
   ],
   "source": [
    "# To select the single value in a dataframe with named index label, \n",
    "# specify the name of the column and the label of the row\n",
    "print(H['item']['F'], type(H['item']['F']))    # H[column label][row label]"
   ]
  },
  {
   "cell_type": "markdown",
   "metadata": {},
   "source": [
    "## 3.4 Assigning Values to Elements\n",
    "“index” and “columns” attributes specify the labels in the index and columns array respectively."
   ]
  },
  {
   "cell_type": "markdown",
   "metadata": {},
   "source": [
    "### Naming the Index and Columns Array"
   ]
  },
  {
   "cell_type": "code",
   "execution_count": 45,
   "metadata": {},
   "outputs": [
    {
     "name": "stdout",
     "output_type": "stream",
     "text": [
      "Details  item quantity price\n",
      "Id                          \n",
      "R        rice      5.0   5.2\n",
      "M        milk      2.0  5.65\n",
      "P        pork      3.0  10.8\n",
      "C        coke     30.0   0.9\n",
      "F        fish      2.5   2.5 <class 'pandas.core.frame.DataFrame'>\n"
     ]
    }
   ],
   "source": [
    "# The index and column arrays in dataframe can be separately named. \n",
    "# Let us name the index array as “Id” and the columns array as “Details”.\n",
    "H = pd.DataFrame(np.array([['rice', 5.0, 5.20], ['milk', 2.0, 5.65], ['pork', 3.0, 10.80], \n",
    "                           ['coke', 30.0, 0.90], ['fish', 2.50, 2.50]]), \n",
    "                 index=['R', 'M', 'P', 'C', 'F'], \n",
    "                 columns=['item', 'quantity', 'price'])\n",
    "\n",
    "H.index.name = 'Id'\n",
    "H.columns.name = 'Details'\n",
    "print(H, type(H))"
   ]
  },
  {
   "cell_type": "markdown",
   "metadata": {},
   "source": [
    "### Adding a Column to a Dataframe"
   ]
  },
  {
   "cell_type": "code",
   "execution_count": 46,
   "metadata": {},
   "outputs": [
    {
     "name": "stdout",
     "output_type": "stream",
     "text": [
      "Details  item quantity price  discount\n",
      "Id                                    \n",
      "R        rice      5.0   5.2      0.10\n",
      "M        milk      2.0  5.65      0.20\n",
      "P        pork      3.0  10.8      0.05\n",
      "C        coke     30.0   0.9      0.15\n",
      "F        fish      2.5   2.5      0.10\n"
     ]
    }
   ],
   "source": [
    "# Can add new columns or rows of new values to a dataframe. \n",
    "H['discount'] = [0.1, 0.2, 0.05, 0.15, 0.1]\n",
    "\n",
    "print(H)"
   ]
  },
  {
   "cell_type": "markdown",
   "metadata": {},
   "source": [
    "### Adding New Rows to a Dataframe"
   ]
  },
  {
   "cell_type": "code",
   "execution_count": 47,
   "metadata": {},
   "outputs": [
    {
     "name": "stdout",
     "output_type": "stream",
     "text": [
      "Details  item quantity price  discount\n",
      "R        rice      5.0   5.2      0.10\n",
      "M        milk      2.0  5.65      0.20\n",
      "P        pork      3.0  10.8      0.05\n",
      "C        coke     30.0   0.9      0.15\n",
      "F        fish      2.5   2.5      0.10\n",
      "0        salt     0.55   0.3      0.00 <class 'pandas.core.frame.DataFrame'>\n"
     ]
    }
   ],
   "source": [
    "# To add new rows, you need to first create a new row (either as a dictionary or a series) \n",
    "# before adding them to the dataframe. \n",
    "# Use the concat() function to add a new row to a dataframe.\n",
    "new_row_d = {'item':'salt', 'quantity':0.55, 'price':0.30, 'discount':0} # create a new dict\n",
    "new_df = pd.DataFrame([new_row_d]) # create new dataframe with a dictionary\n",
    "I = pd.concat([H, new_df], ignore_index=False) # concatenate new_df to dataframe H\n",
    "                                               # ignore_index=False ensures index labels are retained\n",
    "I.columns.name = 'Details'\n",
    "print(I, type(I)) # Note that the index labels have changed to the default numeric labels. "
   ]
  },
  {
   "cell_type": "code",
   "execution_count": 48,
   "metadata": {},
   "outputs": [
    {
     "name": "stdout",
     "output_type": "stream",
     "text": [
      "Details  item quantity price  discount\n",
      "Id                                    \n",
      "R        rice      5.0   5.2      0.10\n",
      "M        milk      2.0  5.65      0.20\n",
      "P        pork      3.0  10.8      0.05\n",
      "C        coke     30.0   0.9      0.15\n",
      "F        fish      2.5   2.5      0.10 <class 'pandas.core.frame.DataFrame'> \n",
      "\n",
      "Details  item quantity price  discount\n",
      "R        rice      5.0   5.2      0.10\n",
      "M        milk      2.0  5.65      0.20\n",
      "P        pork      3.0  10.8      0.05\n",
      "C        coke     30.0   0.9      0.15\n",
      "F        fish      2.5   2.5      0.10\n",
      "S        salt     0.55   0.3      0.00 <class 'pandas.core.frame.DataFrame'> \n",
      "\n"
     ]
    }
   ],
   "source": [
    "# To avoid the change in the index label, append the new row as a pandas series instead.\n",
    "new_row_s = pd.Series(data={'item':'salt', 'quantity':0.55, 'price':0.30, 'discount':0},\n",
    "                      name='S')\n",
    "new_df = pd.DataFrame([new_row_s]) # create new dataframe with a Series\n",
    "I = pd.concat([H, new_df], ignore_index=False) # concatenate new_df to dataframe H\n",
    "I.columns.name = 'Details'\n",
    "print(H, type(H), \"\\n\")\n",
    "print(I, type(I), \"\\n\")"
   ]
  },
  {
   "cell_type": "code",
   "execution_count": 49,
   "metadata": {},
   "outputs": [
    {
     "name": "stdout",
     "output_type": "stream",
     "text": [
      "Details  item quantity price  discount\n",
      "Id                                    \n",
      "R        rice      5.0   5.2      0.10\n",
      "M        milk      2.0  5.65      0.20\n",
      "P        pork      3.0  10.8      0.05\n",
      "C        coke     30.0   0.9      0.15\n",
      "F        fish      2.5   2.5      0.10 <class 'pandas.core.frame.DataFrame'> \n",
      "\n",
      "   item  quantity  price  discount\n",
      "S  salt      0.55   0.30       0.0\n",
      "O  oats      2.00   1.28       0.1 <class 'pandas.core.frame.DataFrame'> \n",
      "\n",
      "Details  item quantity price  discount\n",
      "Id                                    \n",
      "R        rice      5.0   5.2      0.10\n",
      "M        milk      2.0  5.65      0.20\n",
      "P        pork      3.0  10.8      0.05\n",
      "C        coke     30.0   0.9      0.15\n",
      "F        fish      2.5   2.5      0.10\n",
      "S        salt     0.55   0.3      0.00\n",
      "O        oats      2.0  1.28      0.10 <class 'pandas.core.frame.DataFrame'> \n",
      "\n"
     ]
    }
   ],
   "source": [
    "# Alternatively, you can create a dataframe containing the new rows and \n",
    "# then concat the new dataframe to the existing one.\n",
    "new_rows_d = {'item':['salt', 'oats'], 'quantity':[0.55, 2.0], \n",
    "              'price':[0.30, 1.28], 'discount':[0, 0.1]}\n",
    "J = pd.DataFrame(new_rows_d, index=['S', 'O'])\n",
    "K = pd.concat([H, J], ignore_index=False) # concatenate dataframe J to dataframe H\n",
    "K.columns.name = 'Details' # to restore the columns name\n",
    "K.index.name = 'Id'        # to restore the index name\n",
    "print(H, type(H), \"\\n\")\n",
    "print(J, type(J), \"\\n\")\n",
    "print(K, type(K), \"\\n\")"
   ]
  },
  {
   "cell_type": "markdown",
   "metadata": {},
   "source": [
    "### del Command: Deleting a Column from a Dataframe"
   ]
  },
  {
   "cell_type": "code",
   "execution_count": 50,
   "metadata": {},
   "outputs": [
    {
     "name": "stdout",
     "output_type": "stream",
     "text": [
      "Details  item quantity price\n",
      "Id                          \n",
      "R        rice      5.0   5.2\n",
      "M        milk      2.0  5.65\n",
      "P        pork      3.0  10.8\n",
      "C        coke     30.0   0.9\n",
      "F        fish      2.5   2.5\n",
      "S        salt     0.55   0.3\n",
      "O        oats      2.0  1.28 <class 'pandas.core.frame.DataFrame'>\n"
     ]
    }
   ],
   "source": [
    "# To delete an entire column and all its contents from a dataframe, use the “del” command.\n",
    "del K['discount']\n",
    "\n",
    "print(K, type(K))"
   ]
  },
  {
   "cell_type": "markdown",
   "metadata": {},
   "source": [
    "### drop() Function: Deleting Rows and Column from a Dataframe"
   ]
  },
  {
   "cell_type": "code",
   "execution_count": 51,
   "metadata": {},
   "outputs": [
    {
     "name": "stdout",
     "output_type": "stream",
     "text": [
      "Details  item quantity price\n",
      "Id                          \n",
      "R        rice      5.0   5.2\n",
      "M        milk      2.0  5.65\n",
      "P        pork      3.0  10.8\n",
      "C        coke     30.0   0.9\n",
      "F        fish      2.5   2.5\n",
      "S        salt     0.55   0.3\n",
      "O        oats      2.0  1.28 \n",
      "\n",
      " Details  item quantity price\n",
      "Id                          \n",
      "R        rice      5.0   5.2\n",
      "M        milk      2.0  5.65\n",
      "P        pork      3.0  10.8\n",
      "C        coke     30.0   0.9\n",
      "F        fish      2.5   2.5 \n",
      "\n",
      "Details  item quantity price\n",
      "Id                          \n",
      "R        rice      5.0   5.2\n",
      "M        milk      2.0  5.65\n",
      "P        pork      3.0  10.8\n",
      "C        coke     30.0   0.9\n",
      "F        fish      2.5   2.5 \n",
      "\n",
      " Details  item quantity price\n",
      "Id                          \n",
      "R        rice      5.0   5.2\n",
      "M        milk      2.0  5.65\n",
      "P        pork      3.0  10.8\n",
      "C        coke     30.0   0.9\n",
      "F        fish      2.5   2.5\n",
      "S        salt     0.55   0.3\n",
      "O        oats      2.0  1.28 \n",
      "\n"
     ]
    }
   ],
   "source": [
    "# To delete an entire row and all its contents from a dataframe, use the drop() function. \n",
    "# Note that you need to assign the result to a new dataframe to confirm the drop.\n",
    "new_K = K.drop(['S', 'O'])\n",
    "print(K, \"\\n\\n\", K.drop(['S', 'O']), \"\\n\") # deletes rows indexed by S and O\n",
    "print(new_K, \"\\n\\n\", K, \"\\n\")"
   ]
  },
  {
   "cell_type": "code",
   "execution_count": 52,
   "metadata": {},
   "outputs": [
    {
     "name": "stdout",
     "output_type": "stream",
     "text": [
      "Details  item quantity\n",
      "Id                    \n",
      "R        rice      5.0\n",
      "M        milk      2.0\n",
      "P        pork      3.0\n",
      "C        coke     30.0\n",
      "F        fish      2.5\n",
      "S        salt     0.55\n",
      "O        oats      2.0 <class 'pandas.core.frame.DataFrame'>\n"
     ]
    }
   ],
   "source": [
    "# The drop() function, by default, acts on the rows of a dataframe. \n",
    "# It can also be used to drop columns but “axis=1” (indicating columns) must be defined.\n",
    "new_K = K.drop(['price'], axis=1) # deleting columns with drop() function\n",
    "\n",
    "print(new_K, type(new_K))"
   ]
  },
  {
   "cell_type": "markdown",
   "metadata": {},
   "source": [
    "## 3.5 Filtering Values"
   ]
  },
  {
   "cell_type": "code",
   "execution_count": 53,
   "metadata": {},
   "outputs": [
    {
     "name": "stdout",
     "output_type": "stream",
     "text": [
      "    c1  c2  c3  c4  c5\n",
      "r1   0   1   2   3   4\n",
      "r2   5   6   7   8   9\n",
      "r3  10  11  12  13  14\n",
      "r4  15  16  17  18  19\n",
      "\n",
      "      c1    c2    c3    c4    c5\n",
      "r1   NaN   NaN   NaN   NaN   NaN\n",
      "r2   NaN   NaN   NaN   NaN   9.0\n",
      "r3  10.0  11.0  12.0  13.0  14.0\n",
      "r4  15.0  16.0  17.0  18.0  19.0\n"
     ]
    }
   ],
   "source": [
    "# Can apply filtering operations on pandas dataframes.\n",
    "L = pd.DataFrame(np.arange(20).reshape((4,5)),\n",
    "                 index=['r1','r2','r3','r4'],\n",
    "                 columns=['c1','c2','c3','c4', 'c5'])\n",
    "print(L)\n",
    "print()\n",
    "\n",
    "# Filter and show only those values that are greater than 8. \n",
    "# Values that do not satisfy the condition will be shown as “NaN”.\n",
    "print(L[L > 8])\n"
   ]
  },
  {
   "cell_type": "markdown",
   "metadata": {},
   "source": [
    "## 3.6 Membership: isin() Function"
   ]
  },
  {
   "cell_type": "code",
   "execution_count": 54,
   "metadata": {},
   "outputs": [
    {
     "name": "stdout",
     "output_type": "stream",
     "text": [
      "    c1  c2  c3  c4  c5\n",
      "r1   0   1   2   3   4\n",
      "r2   5   6   7   8   9\n",
      "r3  10  11  12  13  14\n",
      "r4  15  16  17  18  19\n",
      "\n",
      "       c1     c2     c3     c4     c5\n",
      "r1   True  False  False  False   True\n",
      "r2  False  False   True  False  False\n",
      "r3   True  False  False  False  False\n",
      "r4  False  False  False   True  False\n"
     ]
    }
   ],
   "source": [
    "# To determine if a given value is in a dataframe, use the isin() membership function. \n",
    "# This function returns “True” if a value is present and “False” if it is not. \n",
    "print(L)\n",
    "print()\n",
    "print(L.isin([10, 4, -15, 0, 18, 3.4, 7]))"
   ]
  },
  {
   "cell_type": "code",
   "execution_count": 55,
   "metadata": {},
   "outputs": [
    {
     "name": "stdout",
     "output_type": "stream",
     "text": [
      "      c1  c2   c3    c4   c5\n",
      "r1   0.0 NaN  NaN   NaN  4.0\n",
      "r2   NaN NaN  7.0   NaN  NaN\n",
      "r3  10.0 NaN  NaN   NaN  NaN\n",
      "r4   NaN NaN  NaN  18.0  NaN\n"
     ]
    }
   ],
   "source": [
    "# The Boolean values could be used to determine values that satisfy the conditions. \n",
    "# If you pass the values returned as a condition, \n",
    "# a new dataframe containing only the values that satisfy the condition is produced.\n",
    "print(L[L.isin([10, 4, -15, 0, 18, 3.4, 7])])"
   ]
  },
  {
   "cell_type": "markdown",
   "metadata": {},
   "source": [
    "## 3.7 Dataframe Transposition\n",
    "To transpose a dataframe is to have the columns become rows and the rows become columns in the dataframe."
   ]
  },
  {
   "cell_type": "markdown",
   "metadata": {},
   "source": [
    "### Using T Attribute"
   ]
  },
  {
   "cell_type": "code",
   "execution_count": 56,
   "metadata": {},
   "outputs": [
    {
     "name": "stdout",
     "output_type": "stream",
     "text": [
      "    c1  c2  c3  c4  c5\n",
      "r1   0   1   2   3   4\n",
      "r2   5   6   7   8   9\n",
      "r3  10  11  12  13  14\n",
      "r4  15  16  17  18  19\n",
      "\n",
      "    r1  r2  r3  r4\n",
      "c1   0   5  10  15\n",
      "c2   1   6  11  16\n",
      "c3   2   7  12  17\n",
      "c4   3   8  13  18\n",
      "c5   4   9  14  19\n"
     ]
    }
   ],
   "source": [
    "# Transposition is done via the T attribute.\n",
    "M = pd.DataFrame(np.arange(20).reshape((4,5)),\n",
    "                 index=['r1','r2','r3','r4'],\n",
    "                 columns=['c1','c2','c3','c4', 'c5'])\n",
    "\n",
    "print(M)    # the original dataframe\n",
    "print()\n",
    "print(M.T)  # transpose N"
   ]
  },
  {
   "cell_type": "markdown",
   "metadata": {},
   "source": [
    "## 3.8 Mathematical Operations\n",
    "Consider two dataframes. These two dataframes may not necessarily have the same indexes. The indexes could be in different order or they may not even be present in both the two dataframes. \n",
    "\n",
    "Suppose we want to perform arithmetic operations on them such as to sum the values in the two dataframes where the indexes match. To be able to do that, the indexes must be aligned so that the summation can take place. pandas provides index alignment. When the index labels are present in both the dataframes, their values will be added, if not, the values will be shown in the new result dataframe as “NaN”."
   ]
  },
  {
   "cell_type": "markdown",
   "metadata": {},
   "source": [
    "### Using Operators “+”, “-”, “*”, “/”"
   ]
  },
  {
   "cell_type": "code",
   "execution_count": 57,
   "metadata": {},
   "outputs": [
    {
     "name": "stdout",
     "output_type": "stream",
     "text": [
      "        bmw  mazda  kia\n",
      "gold     20     15   30\n",
      "silver    8     27   88\n",
      "bronze   10     76   45\n",
      "\n",
      "        honda  kia  mazda  bmw\n",
      "blue       13   28      3   68\n",
      "gold       48   17     80   50\n",
      "red        50   30     29   63\n",
      "silver     77   19     90   20\n"
     ]
    }
   ],
   "source": [
    "N1 = pd.DataFrame([[20, 15, 30], [8, 27, 88], [10, 76, 45]],\n",
    "                  index=['gold', 'silver', 'bronze'],\n",
    "                  columns=['bmw', 'mazda', 'kia'])\n",
    "N2 = pd.DataFrame([[13, 28, 3, 68], [48, 17, 80, 50], [50, 30, 29, 63], [77, 19, 90, 20]],\n",
    "                  index=['blue', 'gold', 'red', 'silver'],\n",
    "                  columns=['honda', 'kia', 'mazda', 'bmw'])\n",
    "\n",
    "print(N1)\n",
    "print()\n",
    "print(N2)"
   ]
  },
  {
   "cell_type": "code",
   "execution_count": 58,
   "metadata": {},
   "outputs": [
    {
     "name": "stdout",
     "output_type": "stream",
     "text": [
      "         bmw  honda    kia  mazda\n",
      "blue     NaN    NaN    NaN    NaN\n",
      "bronze   NaN    NaN    NaN    NaN\n",
      "gold    70.0    NaN   47.0   95.0\n",
      "red      NaN    NaN    NaN    NaN\n",
      "silver  28.0    NaN  107.0  117.0\n"
     ]
    }
   ],
   "source": [
    "# When the summation operation is applied on the two dataframes, \n",
    "# “N1” and “N2”, a new dataframe is created such that where there is a match in the indexes of row and column, \n",
    "# the values are summed up, and where there is no match, the value “NaN’ is inserted.\n",
    "print(N1 + N2)"
   ]
  },
  {
   "cell_type": "code",
   "execution_count": 59,
   "metadata": {},
   "outputs": [
    {
     "name": "stdout",
     "output_type": "stream",
     "text": [
      "         bmw  honda   kia  mazda\n",
      "blue     NaN    NaN   NaN    NaN\n",
      "bronze   NaN    NaN   NaN    NaN\n",
      "gold   -30.0    NaN  13.0  -65.0\n",
      "red      NaN    NaN   NaN    NaN\n",
      "silver -12.0    NaN  69.0  -63.0\n"
     ]
    }
   ],
   "source": [
    "print(N1 - N2)"
   ]
  },
  {
   "cell_type": "code",
   "execution_count": 60,
   "metadata": {},
   "outputs": [
    {
     "name": "stdout",
     "output_type": "stream",
     "text": [
      "           bmw  honda     kia   mazda\n",
      "blue       NaN    NaN     NaN     NaN\n",
      "bronze     NaN    NaN     NaN     NaN\n",
      "gold    1000.0    NaN   510.0  1200.0\n",
      "red        NaN    NaN     NaN     NaN\n",
      "silver   160.0    NaN  1672.0  2430.0\n"
     ]
    }
   ],
   "source": [
    "print(N1 * N2)"
   ]
  },
  {
   "cell_type": "code",
   "execution_count": 61,
   "metadata": {},
   "outputs": [
    {
     "name": "stdout",
     "output_type": "stream",
     "text": [
      "        bmw  honda       kia   mazda\n",
      "blue    NaN    NaN       NaN     NaN\n",
      "bronze  NaN    NaN       NaN     NaN\n",
      "gold    0.4    NaN  1.764706  0.1875\n",
      "red     NaN    NaN       NaN     NaN\n",
      "silver  0.4    NaN  4.631579  0.3000\n"
     ]
    }
   ],
   "source": [
    "print(N1 / N2)"
   ]
  },
  {
   "cell_type": "markdown",
   "metadata": {},
   "source": [
    "### Using Flexible Arithmetic Methods add(), sub(), mul() and div()\n",
    "The above mathematical operations can also be called using pandas flexible arithmetic methods: add(), sub(), mul() and div(). These methods operate in the same manner as the mathematical operators but they are called differently. "
   ]
  },
  {
   "cell_type": "code",
   "execution_count": 62,
   "metadata": {},
   "outputs": [
    {
     "name": "stdout",
     "output_type": "stream",
     "text": [
      "         bmw  honda    kia  mazda\n",
      "blue     NaN    NaN    NaN    NaN\n",
      "bronze   NaN    NaN    NaN    NaN\n",
      "gold    70.0    NaN   47.0   95.0\n",
      "red      NaN    NaN    NaN    NaN\n",
      "silver  28.0    NaN  107.0  117.0\n"
     ]
    }
   ],
   "source": [
    "# N1 + N2 is written in the following format\n",
    "print(N1.add(N2))"
   ]
  },
  {
   "cell_type": "code",
   "execution_count": 63,
   "metadata": {},
   "outputs": [
    {
     "name": "stdout",
     "output_type": "stream",
     "text": [
      "         bmw  honda   kia  mazda\n",
      "blue     NaN    NaN   NaN    NaN\n",
      "bronze   NaN    NaN   NaN    NaN\n",
      "gold   -30.0    NaN  13.0  -65.0\n",
      "red      NaN    NaN   NaN    NaN\n",
      "silver -12.0    NaN  69.0  -63.0\n"
     ]
    }
   ],
   "source": [
    "# N1 - N2 is written in the following format\n",
    "print(N1.sub(N2))"
   ]
  },
  {
   "cell_type": "code",
   "execution_count": 64,
   "metadata": {},
   "outputs": [
    {
     "name": "stdout",
     "output_type": "stream",
     "text": [
      "           bmw  honda     kia   mazda\n",
      "blue       NaN    NaN     NaN     NaN\n",
      "bronze     NaN    NaN     NaN     NaN\n",
      "gold    1000.0    NaN   510.0  1200.0\n",
      "red        NaN    NaN     NaN     NaN\n",
      "silver   160.0    NaN  1672.0  2430.0\n"
     ]
    }
   ],
   "source": [
    "# N1 * N2 is written in the following format\n",
    "print(N1.mul(N2))"
   ]
  },
  {
   "cell_type": "code",
   "execution_count": 65,
   "metadata": {},
   "outputs": [
    {
     "name": "stdout",
     "output_type": "stream",
     "text": [
      "        bmw  honda       kia   mazda\n",
      "blue    NaN    NaN       NaN     NaN\n",
      "bronze  NaN    NaN       NaN     NaN\n",
      "gold    0.4    NaN  1.764706  0.1875\n",
      "red     NaN    NaN       NaN     NaN\n",
      "silver  0.4    NaN  4.631579  0.3000\n"
     ]
    }
   ],
   "source": [
    "# N1 / N2 is written in the following format\n",
    "print(N1.div(N2))"
   ]
  },
  {
   "cell_type": "markdown",
   "metadata": {},
   "source": [
    "## 3.9 Operations between Dataframe and Series\n",
    "We can apply the same mathematical operations between a dataframe and a series. "
   ]
  },
  {
   "cell_type": "code",
   "execution_count": 66,
   "metadata": {},
   "outputs": [
    {
     "name": "stdout",
     "output_type": "stream",
     "text": [
      "        bmw  mazda  kia\n",
      "gold     20     15   30\n",
      "silver    8     27   88\n",
      "bronze   10     76   45\n",
      "\n",
      "bmw      2\n",
      "kia      4\n",
      "mazda    6\n",
      "volvo    8\n",
      "dtype: int64\n"
     ]
    }
   ],
   "source": [
    "print(N1)\n",
    "print()\n",
    "O = pd.Series([2, 4, 6, 8], index=['bmw', 'kia', 'mazda', 'volvo'])\n",
    "print(O)"
   ]
  },
  {
   "cell_type": "code",
   "execution_count": 67,
   "metadata": {},
   "outputs": [
    {
     "name": "stdout",
     "output_type": "stream",
     "text": [
      "        bmw  kia  mazda  volvo\n",
      "gold     22   34     21    NaN\n",
      "silver   10   92     33    NaN\n",
      "bronze   12   49     82    NaN\n"
     ]
    }
   ],
   "source": [
    "# When the “+” operator is applied between the dataframe and series, \n",
    "# a new object is produced such that the values in the corresponding columns will be summed up.\n",
    "print(N1 + O) # Note that when the index is not present in any of the two data structures, \n",
    "              # the result will be a new column filled with “NaN” values."
   ]
  },
  {
   "cell_type": "markdown",
   "metadata": {},
   "source": [
    "## 3.10 Universal Functions\n",
    "Universal functions, known as ``ufunc``, are applicable to dataframes too. Some examples of ufunc are sqrt(), log(), sin(), cos(), exp(), etc. <br>\n",
    "These functions operate by element in the data structure. \n"
   ]
  },
  {
   "cell_type": "code",
   "execution_count": 68,
   "metadata": {},
   "outputs": [
    {
     "name": "stdout",
     "output_type": "stream",
     "text": [
      "    c1  c2  c3  c4  c5\n",
      "r1   5   6   7   8   9\n",
      "r2  10  11  12  13  14\n",
      "r3  15  16  17  18  19\n",
      "r4  20  21  22  23  24\n"
     ]
    }
   ],
   "source": [
    "P = pd.DataFrame(np.arange(5, 25).reshape((4,5)),\n",
    "                 index=['r1','r2','r3','r4'],\n",
    "                 columns=['c1','c2','c3','c4', 'c5'])\n",
    "print(P)"
   ]
  },
  {
   "cell_type": "code",
   "execution_count": 69,
   "metadata": {},
   "outputs": [
    {
     "name": "stdout",
     "output_type": "stream",
     "text": [
      "          c1        c2        c3        c4        c5\n",
      "r1  2.236068  2.449490  2.645751  2.828427  3.000000\n",
      "r2  3.162278  3.316625  3.464102  3.605551  3.741657\n",
      "r3  3.872983  4.000000  4.123106  4.242641  4.358899\n",
      "r4  4.472136  4.582576  4.690416  4.795832  4.898979\n"
     ]
    }
   ],
   "source": [
    "# sqrt()\n",
    "print(np.sqrt(P))"
   ]
  },
  {
   "cell_type": "code",
   "execution_count": 70,
   "metadata": {},
   "outputs": [
    {
     "name": "stdout",
     "output_type": "stream",
     "text": [
      "          c1        c2        c3        c4        c5\n",
      "r1  1.609438  1.791759  1.945910  2.079442  2.197225\n",
      "r2  2.302585  2.397895  2.484907  2.564949  2.639057\n",
      "r3  2.708050  2.772589  2.833213  2.890372  2.944439\n",
      "r4  2.995732  3.044522  3.091042  3.135494  3.178054\n"
     ]
    }
   ],
   "source": [
    "# log()\n",
    "print(np.log(P))"
   ]
  },
  {
   "cell_type": "code",
   "execution_count": 71,
   "metadata": {},
   "outputs": [
    {
     "name": "stdout",
     "output_type": "stream",
     "text": [
      "          c1        c2        c3        c4        c5\n",
      "r1 -0.958924 -0.279415  0.656987  0.989358  0.412118\n",
      "r2 -0.544021 -0.999990 -0.536573  0.420167  0.990607\n",
      "r3  0.650288 -0.287903 -0.961397 -0.750987  0.149877\n",
      "r4  0.912945  0.836656 -0.008851 -0.846220 -0.905578\n"
     ]
    }
   ],
   "source": [
    "# sin()\n",
    "print(np.sin(P))"
   ]
  },
  {
   "cell_type": "code",
   "execution_count": 72,
   "metadata": {},
   "outputs": [
    {
     "name": "stdout",
     "output_type": "stream",
     "text": [
      "          c1        c2        c3        c4        c5\n",
      "r1  0.283662  0.960170  0.753902 -0.145500 -0.911130\n",
      "r2 -0.839072  0.004426  0.843854  0.907447  0.136737\n",
      "r3 -0.759688 -0.957659 -0.275163  0.660317  0.988705\n",
      "r4  0.408082 -0.547729 -0.999961 -0.532833  0.424179\n"
     ]
    }
   ],
   "source": [
    "# cos()\n",
    "print(np.cos(P))"
   ]
  },
  {
   "cell_type": "code",
   "execution_count": 73,
   "metadata": {},
   "outputs": [
    {
     "name": "stdout",
     "output_type": "stream",
     "text": [
      "              c1            c2            c3            c4            c5\n",
      "r1  1.484132e+02  4.034288e+02  1.096633e+03  2.980958e+03  8.103084e+03\n",
      "r2  2.202647e+04  5.987414e+04  1.627548e+05  4.424134e+05  1.202604e+06\n",
      "r3  3.269017e+06  8.886111e+06  2.415495e+07  6.565997e+07  1.784823e+08\n",
      "r4  4.851652e+08  1.318816e+09  3.584913e+09  9.744803e+09  2.648912e+10\n"
     ]
    }
   ],
   "source": [
    "# exp()\n",
    "print(np.exp(P))"
   ]
  },
  {
   "cell_type": "markdown",
   "metadata": {},
   "source": [
    "## 3.11 User-Defined Functions\n",
    "User-defined functions can also be applied to dataframes but they operate on a one dimensional array producing a single result."
   ]
  },
  {
   "cell_type": "markdown",
   "metadata": {},
   "source": [
    "### User-defined Functions Returning a Scalar"
   ]
  },
  {
   "cell_type": "code",
   "execution_count": 74,
   "metadata": {},
   "outputs": [
    {
     "name": "stdout",
     "output_type": "stream",
     "text": [
      "    c1  c2  c3  c4  c5\n",
      "r1   5   6   7   8   9\n",
      "r2  10  11  12  13  14\n",
      "r3  15  16  17  18  19\n",
      "r4  20  21  22  23  24\n",
      "\n",
      "c1    7.5\n",
      "c2    7.5\n",
      "c3    7.5\n",
      "c4    7.5\n",
      "c5    7.5\n",
      "dtype: float64\n"
     ]
    }
   ],
   "source": [
    "# Define a new function func() that takes in an argument “value” and returns the difference \n",
    "# between the maximum and mean value of the array. \n",
    "# To apply this function to the dataframe “P”, we use the apply() function on the dataframe.\n",
    "def func(value):\n",
    "    return value.max() - value.mean()\n",
    "\n",
    "print(P)\n",
    "print()\n",
    "print(P.apply(func)) # for c1, the maximum value 20 and the mean value is 12.5"
   ]
  },
  {
   "cell_type": "code",
   "execution_count": 75,
   "metadata": {},
   "outputs": [
    {
     "name": "stdout",
     "output_type": "stream",
     "text": [
      "r1    2.0\n",
      "r2    2.0\n",
      "r3    2.0\n",
      "r4    2.0\n",
      "dtype: float64\n"
     ]
    }
   ],
   "source": [
    "# To get the result for rows, set the axis option to 1.\n",
    "print(P.apply(func, axis=1)) # for r1, the maximum value 9 and the mean value is 7"
   ]
  },
  {
   "cell_type": "markdown",
   "metadata": {},
   "source": [
    "### User-defined Functions Returning a Series\n",
    "The user-defined function does not have to return a scalar, it can return a series too."
   ]
  },
  {
   "cell_type": "code",
   "execution_count": 76,
   "metadata": {},
   "outputs": [
    {
     "name": "stdout",
     "output_type": "stream",
     "text": [
      "        c1    c2    c3    c4    c5\n",
      "max   20.0  21.0  22.0  23.0  24.0\n",
      "mean  12.5  13.5  14.5  15.5  16.5\n"
     ]
    }
   ],
   "source": [
    "def func(value):\n",
    "    return pd.Series([value.max(), value.mean()], index=['max', 'mean'])\n",
    "\n",
    "print(P.apply(func))"
   ]
  },
  {
   "cell_type": "code",
   "execution_count": 77,
   "metadata": {},
   "outputs": [
    {
     "name": "stdout",
     "output_type": "stream",
     "text": [
      "     max  mean\n",
      "r1   9.0   7.0\n",
      "r2  14.0  12.0\n",
      "r3  19.0  17.0\n",
      "r4  24.0  22.0\n"
     ]
    }
   ],
   "source": [
    "# To get the result for rows, set the axis option to 1.\n",
    "print(P.apply(func, axis=1))"
   ]
  },
  {
   "cell_type": "markdown",
   "metadata": {},
   "source": [
    "## 3.12 Statistical Functions\n",
    "Statistical functions such as min(), max(), sum(), mean(), std(), cumsum() can also be applied on dataframes. "
   ]
  },
  {
   "cell_type": "code",
   "execution_count": 78,
   "metadata": {},
   "outputs": [
    {
     "name": "stdout",
     "output_type": "stream",
     "text": [
      "        bmw  mazda  kia\n",
      "gold     20     15   30\n",
      "silver    8     27   88\n",
      "blue     10     76   45\n"
     ]
    }
   ],
   "source": [
    "Q = pd.DataFrame([[20, 15, 30], [8, 27, 88], [10, 76, 45]],\n",
    "                 index=['gold', 'silver', 'blue'],\n",
    "                 columns=['bmw', 'mazda', 'kia'])\n",
    "\n",
    "print(Q)"
   ]
  },
  {
   "cell_type": "code",
   "execution_count": 79,
   "metadata": {},
   "outputs": [
    {
     "name": "stdout",
     "output_type": "stream",
     "text": [
      "bmw       8\n",
      "mazda    15\n",
      "kia      30\n",
      "dtype: int64\n"
     ]
    }
   ],
   "source": [
    "# min()\n",
    "print(Q.min())"
   ]
  },
  {
   "cell_type": "code",
   "execution_count": 80,
   "metadata": {},
   "outputs": [
    {
     "name": "stdout",
     "output_type": "stream",
     "text": [
      "gold      15\n",
      "silver     8\n",
      "blue      10\n",
      "dtype: int64\n"
     ]
    }
   ],
   "source": [
    "# min()\n",
    "print(Q.min(axis=1))"
   ]
  },
  {
   "cell_type": "code",
   "execution_count": 81,
   "metadata": {},
   "outputs": [
    {
     "name": "stdout",
     "output_type": "stream",
     "text": [
      "bmw      20\n",
      "mazda    76\n",
      "kia      88\n",
      "dtype: int64\n"
     ]
    }
   ],
   "source": [
    "# max()\n",
    "print(Q.max())"
   ]
  },
  {
   "cell_type": "code",
   "execution_count": 82,
   "metadata": {},
   "outputs": [
    {
     "name": "stdout",
     "output_type": "stream",
     "text": [
      "gold      30\n",
      "silver    88\n",
      "blue      76\n",
      "dtype: int64\n"
     ]
    }
   ],
   "source": [
    "# max()\n",
    "print(Q.max(axis=1))"
   ]
  },
  {
   "cell_type": "code",
   "execution_count": 83,
   "metadata": {},
   "outputs": [
    {
     "name": "stdout",
     "output_type": "stream",
     "text": [
      "bmw       38\n",
      "mazda    118\n",
      "kia      163\n",
      "dtype: int64\n"
     ]
    }
   ],
   "source": [
    "# sum()\n",
    "print(Q.sum())"
   ]
  },
  {
   "cell_type": "code",
   "execution_count": 84,
   "metadata": {},
   "outputs": [
    {
     "name": "stdout",
     "output_type": "stream",
     "text": [
      "gold       65\n",
      "silver    123\n",
      "blue      131\n",
      "dtype: int64\n"
     ]
    }
   ],
   "source": [
    "# sum()\n",
    "print(Q.sum(axis=1))"
   ]
  },
  {
   "cell_type": "code",
   "execution_count": 85,
   "metadata": {},
   "outputs": [
    {
     "name": "stdout",
     "output_type": "stream",
     "text": [
      "bmw      12.666667\n",
      "mazda    39.333333\n",
      "kia      54.333333\n",
      "dtype: float64\n"
     ]
    }
   ],
   "source": [
    "# mean()\n",
    "print(Q.mean())"
   ]
  },
  {
   "cell_type": "code",
   "execution_count": 86,
   "metadata": {},
   "outputs": [
    {
     "name": "stdout",
     "output_type": "stream",
     "text": [
      "gold      21.666667\n",
      "silver    41.000000\n",
      "blue      43.666667\n",
      "dtype: float64\n"
     ]
    }
   ],
   "source": [
    "# mean()\n",
    "print(Q.mean(axis=1))"
   ]
  },
  {
   "cell_type": "code",
   "execution_count": 87,
   "metadata": {},
   "outputs": [
    {
     "name": "stdout",
     "output_type": "stream",
     "text": [
      "bmw       6.429101\n",
      "mazda    32.316147\n",
      "kia      30.105371\n",
      "dtype: float64\n"
     ]
    }
   ],
   "source": [
    "# std() standard deviation\n",
    "print(Q.std())"
   ]
  },
  {
   "cell_type": "code",
   "execution_count": 88,
   "metadata": {},
   "outputs": [
    {
     "name": "stdout",
     "output_type": "stream",
     "text": [
      "gold       7.637626\n",
      "silver    41.797129\n",
      "blue      33.020196\n",
      "dtype: float64\n"
     ]
    }
   ],
   "source": [
    "# std() standard deviation\n",
    "print(Q.std(axis=1))"
   ]
  },
  {
   "cell_type": "code",
   "execution_count": 89,
   "metadata": {},
   "outputs": [
    {
     "name": "stdout",
     "output_type": "stream",
     "text": [
      "        bmw  mazda  kia\n",
      "gold     20     15   30\n",
      "silver   28     42  118\n",
      "blue     38    118  163\n"
     ]
    }
   ],
   "source": [
    "# cumsum() cumulative sum\n",
    "print(Q.cumsum())"
   ]
  },
  {
   "cell_type": "code",
   "execution_count": 90,
   "metadata": {},
   "outputs": [
    {
     "name": "stdout",
     "output_type": "stream",
     "text": [
      "        bmw  mazda  kia\n",
      "gold     20     35   65\n",
      "silver    8     35  123\n",
      "blue     10     86  131\n"
     ]
    }
   ],
   "source": [
    "# cumsum() cumulative sum\n",
    "print(Q.cumsum(axis=1))"
   ]
  },
  {
   "cell_type": "code",
   "execution_count": 91,
   "metadata": {},
   "outputs": [
    {
     "name": "stdout",
     "output_type": "stream",
     "text": [
      "             bmw      mazda        kia\n",
      "count   3.000000   3.000000   3.000000\n",
      "mean   12.666667  39.333333  54.333333\n",
      "std     6.429101  32.316147  30.105371\n",
      "min     8.000000  15.000000  30.000000\n",
      "25%     9.000000  21.000000  37.500000\n",
      "50%    10.000000  27.000000  45.000000\n",
      "75%    15.000000  51.500000  66.500000\n",
      "max    20.000000  76.000000  88.000000\n"
     ]
    }
   ],
   "source": [
    "# Besides these functions, pandas also provides a statistical summary function called describe(). \n",
    "# The function produces statistical calculations on the dataframe numerical data such as percentile, \n",
    "# mean, standard deviation, etc.\n",
    "print(Q.describe())"
   ]
  },
  {
   "cell_type": "markdown",
   "metadata": {},
   "source": [
    "## 3.13 Sorting a Dataframe"
   ]
  },
  {
   "cell_type": "markdown",
   "metadata": {},
   "source": [
    "### Sorting by Index"
   ]
  },
  {
   "cell_type": "code",
   "execution_count": 92,
   "metadata": {},
   "outputs": [
    {
     "name": "stdout",
     "output_type": "stream",
     "text": [
      "        bmw  mazda  kia\n",
      "gold     20     15   30\n",
      "silver   88     27   88\n",
      "blue     10     76   76\n",
      "red      20     12   30\n"
     ]
    }
   ],
   "source": [
    "# Sorting of the dataframe indexes is provided in pandas by the sort_index() \n",
    "# function which returns a new dataframe object with the index labels ordered in a certain sequence. \n",
    "Q = pd.DataFrame([[20, 15, 30], [88, 27, 88], [10, 76, 76], [20, 12, 30]],\n",
    "                 index=['gold', 'silver', 'blue', 'red'],\n",
    "                 columns=['bmw', 'mazda', 'kia'])\n",
    "\n",
    "print(Q)"
   ]
  },
  {
   "cell_type": "code",
   "execution_count": 93,
   "metadata": {},
   "outputs": [
    {
     "name": "stdout",
     "output_type": "stream",
     "text": [
      "        bmw  mazda  kia\n",
      "blue     10     76   76\n",
      "gold     20     15   30\n",
      "red      20     12   30\n",
      "silver   88     27   88\n"
     ]
    }
   ],
   "source": [
    "# Call sort_index() function on “Q” to sort. \n",
    "# Note that the rows have been sorted in alphabetical order.\n",
    "print(Q.sort_index())"
   ]
  },
  {
   "cell_type": "code",
   "execution_count": 94,
   "metadata": {},
   "outputs": [
    {
     "name": "stdout",
     "output_type": "stream",
     "text": [
      "        bmw  kia  mazda\n",
      "gold     20   30     15\n",
      "silver   88   88     27\n",
      "blue     10   76     76\n",
      "red      20   30     12\n"
     ]
    }
   ],
   "source": [
    "# To sort index by columns, set the axis option to 1.\n",
    "print(Q.sort_index(axis=1))"
   ]
  },
  {
   "cell_type": "markdown",
   "metadata": {},
   "source": [
    "### Sorting by Values\n",
    "To sort the values in the dataframe, use sort_values() function but with a “by” option to indicate which column to sort. \n",
    "You may use more than one columns for this purpose. "
   ]
  },
  {
   "cell_type": "code",
   "execution_count": 95,
   "metadata": {},
   "outputs": [
    {
     "name": "stdout",
     "output_type": "stream",
     "text": [
      "        bmw  mazda  kia\n",
      "gold     20     15   30\n",
      "silver   88     27   88\n",
      "blue     10     76   76\n",
      "red      20     12   30\n",
      "\n",
      "        bmw  mazda  kia\n",
      "blue     10     76   76\n",
      "red      20     12   30\n",
      "gold     20     15   30\n",
      "silver   88     27   88\n"
     ]
    }
   ],
   "source": [
    "Q = pd.DataFrame([[20, 15, 30], [88, 27, 88], [10, 76, 76], [20, 12, 30]],\n",
    "                 index=['gold', 'silver', 'blue', 'red'],\n",
    "                 columns=['bmw', 'mazda', 'kia'])\n",
    "\n",
    "print(Q)\n",
    "print()\n",
    "print(Q.sort_values(by=['bmw', 'mazda'])) \n",
    "\n",
    "# The result is the order of the values in “bmw” column has been sorted in ascending alphabetical order “10, 20, 20, 88”. \n",
    "# The second level sort is based on the “mazda” column with value “12” above value “15” \n",
    "# since both rows have the same value of “20” for “bmw”."
   ]
  },
  {
   "cell_type": "code",
   "execution_count": 96,
   "metadata": {},
   "outputs": [
    {
     "name": "stdout",
     "output_type": "stream",
     "text": [
      "        bmw  mazda  kia\n",
      "gold     20     15   30\n",
      "silver   88     27   88\n",
      "blue     10     76   76\n",
      "red      20     12   30\n"
     ]
    }
   ],
   "source": [
    "# Setting the axis option to 1 will sort based on columns.\n",
    "print(Q.sort_values(by=['blue', 'silver'], axis=1))\n",
    "\n",
    "# Sorting is first carried out based on the “blue” values “10, 76, 76”. \n",
    "# The next level sort is based on “silver” and since “27” is less than “88”, \n",
    "# there is no change in the “mazda” and “kia” columns."
   ]
  },
  {
   "cell_type": "markdown",
   "metadata": {},
   "source": [
    "### Sorting Order: Ascending or Descending\n",
    "The sort can be “ascending” or “descending” in sequence. The default is “ascending”. To change the direction of sort to “descending” order, add “ascending” option to “False”."
   ]
  },
  {
   "cell_type": "code",
   "execution_count": 97,
   "metadata": {},
   "outputs": [
    {
     "name": "stdout",
     "output_type": "stream",
     "text": [
      "        bmw  mazda  kia\n",
      "gold     20     15   30\n",
      "silver   88     27   88\n",
      "blue     10     76   76\n",
      "red      20     12   30\n",
      "\n",
      "        bmw  mazda  kia\n",
      "silver   88     27   88\n",
      "gold     20     15   30\n",
      "red      20     12   30\n",
      "blue     10     76   76\n"
     ]
    }
   ],
   "source": [
    "Q = pd.DataFrame([[20, 15, 30], [88, 27, 88], [10, 76, 76], [20, 12, 30]],\n",
    "                 index=['gold', 'silver', 'blue', 'red'],\n",
    "                 columns=['bmw', 'mazda', 'kia'])\n",
    "\n",
    "print(Q)\n",
    "print()\n",
    "print(Q.sort_values(by=['bmw', 'mazda'], axis=0, ascending=False))"
   ]
  },
  {
   "cell_type": "code",
   "execution_count": 98,
   "metadata": {},
   "outputs": [
    {
     "name": "stdout",
     "output_type": "stream",
     "text": [
      "        kia  mazda  bmw\n",
      "gold     30     15   20\n",
      "silver   88     27   88\n",
      "blue     76     76   10\n",
      "red      30     12   20\n"
     ]
    }
   ],
   "source": [
    "print(Q.sort_values(by=['blue', 'silver'], axis=1, ascending=False))"
   ]
  },
  {
   "cell_type": "markdown",
   "metadata": {},
   "source": [
    "## 3.14 Managing NaN in Dataframes\n",
    "“NaN” or Not a Number data are prevalent in data structures. They must be managed, otherwise, they may affect the results of the data analysis. <br>\n",
    "The pandas library provides numerous functions to deal with “NaN’. For example, when calculating the descriptive statistics of a data set, “NaN” values are implicitly removed."
   ]
  },
  {
   "cell_type": "markdown",
   "metadata": {},
   "source": [
    "### Assigning NaN Values"
   ]
  },
  {
   "cell_type": "code",
   "execution_count": 99,
   "metadata": {},
   "outputs": [
    {
     "name": "stdout",
     "output_type": "stream",
     "text": [
      "         bmw  mazda   kia\n",
      "gold    20.0   15.0  30.0\n",
      "silver  88.0   27.0  88.0\n",
      "blue    10.0   76.0  76.0\n",
      "red     20.0   12.0  30.0\n",
      "grey     NaN    NaN   NaN <class 'pandas.core.frame.DataFrame'>\n"
     ]
    }
   ],
   "source": [
    "# “NaN” values can be explicitly assigned to a variable. To do that, assign the Numpy NaN attribute \n",
    "# (i.e. np.nan or np.NaN) to it.\n",
    "# Note that “np.NaN” and “np.nan” are the same and acceptable in pandas.\n",
    "R = pd.DataFrame([[20, 15, 30], [88, 27, 88], [10, 76, 76], [20, 12, 30], \n",
    "                  [np.NaN, np.NaN, np.nan]],\n",
    "                 index=['gold', 'silver', 'blue', 'red', 'grey'],\n",
    "                 columns=['bmw', 'mazda', 'kia'])\n",
    "\n",
    "print(R, type(R))"
   ]
  },
  {
   "cell_type": "code",
   "execution_count": 100,
   "metadata": {},
   "outputs": [
    {
     "name": "stdout",
     "output_type": "stream",
     "text": [
      "nan\n"
     ]
    }
   ],
   "source": [
    "# When we peek into the element “bmw, grey”, the Numpy attribute “nan” is returned\n",
    "print(R['bmw']['grey'])"
   ]
  },
  {
   "cell_type": "code",
   "execution_count": 101,
   "metadata": {},
   "outputs": [
    {
     "name": "stdout",
     "output_type": "stream",
     "text": [
      "         bmw  mazda   kia\n",
      "gold    20.0   15.0  30.0\n",
      "silver   NaN   27.0  88.0\n",
      "blue    10.0   76.0  76.0\n",
      "red     20.0   12.0  30.0\n",
      "grey     NaN    NaN   NaN\n"
     ]
    }
   ],
   "source": [
    "# Another way to assign “NaN” to an element in dataframe is to assign the element with “None”\n",
    "R['bmw']['silver'] = None\n",
    "print(R)"
   ]
  },
  {
   "cell_type": "markdown",
   "metadata": {},
   "source": [
    "### Eliminating NaN Values\n",
    "The pandas library provides ``dropna()`` function to remove or eliminate “NaN” values in dataframes."
   ]
  },
  {
   "cell_type": "code",
   "execution_count": 102,
   "metadata": {},
   "outputs": [
    {
     "name": "stdout",
     "output_type": "stream",
     "text": [
      "       bmw  mazda   kia\n",
      "gold  20.0   15.0  30.0\n",
      "blue  10.0   76.0  76.0\n",
      "red   20.0   12.0  30.0\n"
     ]
    }
   ],
   "source": [
    "# All rows with “NaN” attributes are removed with the dropna() function. \n",
    "# “silver” (even with just one “NaN”) and “grey” rows are eliminated.\n",
    "print(R.dropna())"
   ]
  },
  {
   "cell_type": "code",
   "execution_count": 103,
   "metadata": {},
   "outputs": [
    {
     "name": "stdout",
     "output_type": "stream",
     "text": [
      "         bmw  mazda   kia\n",
      "gold    20.0   15.0  30.0\n",
      "silver   NaN   27.0  88.0\n",
      "blue    10.0   76.0  76.0\n",
      "red     20.0   12.0  30.0\n",
      "grey     NaN    NaN   NaN\n",
      "\n",
      "         bmw  mazda   kia\n",
      "gold    20.0   15.0  30.0\n",
      "silver   NaN   27.0  88.0\n",
      "blue    10.0   76.0  76.0\n",
      "red     20.0   12.0  30.0\n"
     ]
    }
   ],
   "source": [
    "# Can include a “how” option in dropna() function to eliminate only those rows with all “NaN” values.\n",
    "R = pd.DataFrame([[20, 15, 30], [88, 27, 88], [10, 76, 76], [20, 12, 30], \n",
    "                  [np.NaN, np.NaN, np.nan]],\n",
    "                 index=['gold', 'silver', 'blue', 'red', 'grey'],\n",
    "                 columns=['bmw', 'mazda', 'kia'])\n",
    "\n",
    "R['bmw']['silver'] = None\n",
    "print(R)\n",
    "print()\n",
    "print(R.dropna(how='all'))"
   ]
  },
  {
   "cell_type": "markdown",
   "metadata": {},
   "source": [
    "### Filling NaN with Other Values\n",
    "Attempts to remove “NaN” values from dataframes run the risk of eliminating data that could be relevant to the data analysis. Instead of using ``dropna()`` function to remove “NaN”, use ``fillna()`` function to replace “NaN’ with numbers. The ``fillna()`` function takes in one argument, the value to replace “NaN”."
   ]
  },
  {
   "cell_type": "code",
   "execution_count": 104,
   "metadata": {},
   "outputs": [
    {
     "name": "stdout",
     "output_type": "stream",
     "text": [
      "         bmw  mazda   kia\n",
      "gold    20.0   15.0  30.0\n",
      "silver   NaN   27.0  88.0\n",
      "blue    10.0   76.0  76.0\n",
      "red     20.0   12.0  30.0\n",
      "grey     NaN    NaN   NaN\n",
      "\n",
      "         bmw  mazda   kia\n",
      "gold    20.0   15.0  30.0\n",
      "silver   0.0   27.0  88.0\n",
      "blue    10.0   76.0  76.0\n",
      "red     20.0   12.0  30.0\n",
      "grey     0.0    0.0   0.0\n"
     ]
    }
   ],
   "source": [
    "# Replace NaN with 0\n",
    "print(R)\n",
    "print()\n",
    "print(R.fillna(0)) "
   ]
  },
  {
   "cell_type": "code",
   "execution_count": 105,
   "metadata": {},
   "outputs": [
    {
     "name": "stdout",
     "output_type": "stream",
     "text": [
      "         bmw  mazda   kia\n",
      "gold    20.0   15.0  30.0\n",
      "silver   NaN   27.0  88.0\n",
      "blue    10.0   76.0  76.0\n",
      "red     20.0   12.0  30.0\n",
      "grey     NaN    NaN   NaN\n",
      "\n",
      "         bmw  mazda   kia\n",
      "gold    20.0   15.0  30.0\n",
      "silver  34.0   27.0  88.0\n",
      "blue    10.0   76.0  76.0\n",
      "red     20.0   12.0  30.0\n",
      "grey    34.0   55.0  20.0\n"
     ]
    }
   ],
   "source": [
    "# To replace all NaN elements in “bmw” column with value “34”, “mazda” column with “55” and \n",
    "# “kia” column with “20”, we assign a dictionary to the function.\n",
    "print(R)\n",
    "print()\n",
    "print(R.fillna({'bmw':34, 'mazda':55, 'kia':20}))"
   ]
  },
  {
   "attachments": {
    "image-2.png": {
     "image/png": "[encoded data removed]"
    },
    "image.png": {
     "image/png": "[encoded data removed]"
    }
   },
   "cell_type": "markdown",
   "metadata": {},
   "source": [
    "# 4. Readers and Writers\n",
    "The pandas library has a set of Input and Output (I/O) API (Application Programming Interface) for reading and writing data to files. These APIs are grouped into readers and writers.\n",
    "\n",
    "<b> Readers</b>\n",
    "![image.png](attachment:image.png)\n",
    "<br>\n",
    "\n",
    "<b> Writers</b>\n",
    "![image-2.png](attachment:image-2.png)"
   ]
  },
  {
   "cell_type": "markdown",
   "metadata": {},
   "source": [
    "## 4.1 Reading and Writing CSV or Text Files\n",
    "The most common type of file is a text file. A text file can be structured in a tabular manner with values in a row separated by commas, this results in a CSV (comma-separated values) file format. Basically, a CSV file is a text file whose data can be easily processed by any programming language. Besides commas, values can be separated by spaces or tabs. CSV and text files typically have “.csv” or “.txt” extensions respectively.\n",
    "\n",
    "The pandas library provides a set of functions specific to these types of file. They include: ``read_csv()``, ``read_table()``, and ``to_csv()``."
   ]
  },
  {
   "cell_type": "markdown",
   "metadata": {},
   "source": [
    "### Reading CSV or Text Files\n",
    "CSV and text files can be read using the ``read_csv()`` and ``read_table()``function in pandas. "
   ]
  },
  {
   "cell_type": "code",
   "execution_count": 106,
   "metadata": {},
   "outputs": [
    {
     "name": "stdout",
     "output_type": "stream",
     "text": [
      "     bmw   10   20   30\n",
      "0  mazda   15   25   35\n",
      "1    kia   20   18   29 <class 'pandas.core.frame.DataFrame'>\n"
     ]
    }
   ],
   "source": [
    "# Read csv file from current directory\n",
    "A = pd.read_csv('./data/cars.csv')  # default delimiter is commas\n",
    "\n",
    "print(A, type(A))                   # the first row is taken as the header i.e. \"bmw, 10, 20, 30\" is header."
   ]
  },
  {
   "cell_type": "code",
   "execution_count": 107,
   "metadata": {},
   "outputs": [
    {
     "name": "stdout",
     "output_type": "stream",
     "text": [
      "     bmw   10   20   30\n",
      "0  mazda   15   25   35\n",
      "1    kia   20   18   29 <class 'pandas.core.frame.DataFrame'>\n"
     ]
    }
   ],
   "source": [
    "# An alternative function to read in this data file is read_table() \n",
    "# since “cars.csv” is also a text file that has a table format. \n",
    "# You need to specify the delimiter as the default delimiter is not a comma.\n",
    "B = pd.read_table('./data/cars.csv', sep=',')     # specify delimiter to be commas\n",
    "\n",
    "print(B, type(B))"
   ]
  },
  {
   "cell_type": "code",
   "execution_count": 108,
   "metadata": {},
   "outputs": [
    {
     "name": "stdout",
     "output_type": "stream",
     "text": [
      "       0   1   2   3\n",
      "0    bmw  10  20  30\n",
      "1  mazda  15  25  35\n",
      "2    kia  20  18  29 <class 'pandas.core.frame.DataFrame'>\n"
     ]
    }
   ],
   "source": [
    "# pandas takes the first row of the dataset to be the headers that identify the column data. \n",
    "# By specifying the “header” option to “None”, pandas will treat the first row as part of the dataset.\n",
    "C = pd.read_csv('./data/cars.csv', header=None)   # default names are set for headers\n",
    "\n",
    "print(C, type(C))"
   ]
  },
  {
   "cell_type": "code",
   "execution_count": 109,
   "metadata": {},
   "outputs": [
    {
     "name": "stdout",
     "output_type": "stream",
     "text": [
      "   brand  gold  silver  blue\n",
      "0    bmw    10      20    30\n",
      "1  mazda    15      25    35\n",
      "2    kia    20      18    29\n"
     ]
    }
   ],
   "source": [
    "# Can specify names for the columns directly using the “names” option\n",
    "D = pd.read_csv('./data/cars.csv', names=['brand', 'gold', 'silver', 'blue'])\n",
    "\n",
    "print(D)"
   ]
  },
  {
   "cell_type": "code",
   "execution_count": 110,
   "metadata": {},
   "outputs": [
    {
     "name": "stdout",
     "output_type": "stream",
     "text": [
      "                 bmw  mazda  kia\n",
      "color  finish                   \n",
      "gold   metallic   10     20   30\n",
      "       matt       11     21   31\n",
      "silver metallic   15     25   35\n",
      "       matt       16     26   36\n",
      "blue   metallic   20     18   29\n",
      "       matt       21     19   30\n"
     ]
    }
   ],
   "source": [
    "# Can assign columns as indexes of the hierarchy using the “index_col” option. \n",
    "E = pd.read_csv('./data/cars2.csv', index_col=['color', 'finish']) # “color” and “finish” as columns for indexes\n",
    "\n",
    "print(E)"
   ]
  },
  {
   "cell_type": "markdown",
   "metadata": {},
   "source": [
    "### Writing CSV Files\n",
    "To write a data structure such as a dataframe into a file, use the ``to_csv()`` function in the pandas library. This function accepts arguments such as the name of the file to generate for the data, and Boolean switches whether to write the indexes and columns into the file."
   ]
  },
  {
   "cell_type": "code",
   "execution_count": 111,
   "metadata": {},
   "outputs": [
    {
     "name": "stdout",
     "output_type": "stream",
     "text": [
      "   item quantity price\n",
      "R  rice      nan   5.2\n",
      "M  milk      2.0   nan\n",
      "P  pork      3.0  10.8\n",
      "C  coke     30.0   0.9\n",
      "F  fish      2.5   2.5\n"
     ]
    }
   ],
   "source": [
    "F = pd.DataFrame(np.array([['rice', np.nan, 5.20], ['milk', 2.0, np.NaN], ['pork', 3.0, 10.80], \n",
    "                           ['coke', 30.0, 0.90], ['fish', 2.50, 2.50]]), \n",
    "                 index=['R', 'M', 'P', 'C', 'F'], \n",
    "                 columns=['item', 'quantity', 'price'])\n",
    "\n",
    "print(F)"
   ]
  },
  {
   "cell_type": "code",
   "execution_count": 112,
   "metadata": {},
   "outputs": [],
   "source": [
    "# Write the dataframe minusing the indexes into the file “items.csv”.\n",
    "F.to_csv('./data/items.csv', index=False) # write headers or column labels (default) but not indexes"
   ]
  },
  {
   "cell_type": "markdown",
   "metadata": {},
   "source": [
    "The CSV file contains the following lines. Note that “NaN” values are represented as “nan” in the CSV file.\n",
    "\n",
    "item,quantity,price<br>\n",
    "rice,nan,5.2<br>\n",
    "milk,2.0,nan<br>\n",
    "pork,3.0,10.8<br>\n",
    "coke,30.0,0.9<br>\n",
    "fish,2.5,2.5<br>"
   ]
  },
  {
   "cell_type": "code",
   "execution_count": 113,
   "metadata": {},
   "outputs": [
    {
     "name": "stdout",
     "output_type": "stream",
     "text": [
      "   item  quantity  price\n",
      "0  rice       NaN    5.2\n",
      "1  milk       2.0    NaN\n",
      "2  pork       3.0   10.8\n",
      "3  coke      30.0    0.9\n",
      "4  fish       2.5    2.5\n"
     ]
    }
   ],
   "source": [
    "# Read in the newly created CSV file as dataframe “G”.\n",
    "G = pd.read_csv('./data/items.csv')  # read in csv file, indexes have been removed and replaced by defaults indexes 0 to 4.\n",
    "\n",
    "print(G)"
   ]
  },
  {
   "cell_type": "markdown",
   "metadata": {},
   "source": [
    "<center>\n",
    "  <a href=\"PP-09-Numpy.ipynb\" target=\"_self\">The Numpy Library</a> | <a href=\"./\">Content Page</a>\n",
    "</center>"
   ]
  }
 ],
 "metadata": {
  "anaconda-cloud": {},
  "kernelspec": {
   "display_name": "Python 3 (ipykernel)",
   "language": "python",
   "name": "python3"
  },
  "language_info": {
   "codemirror_mode": {
    "name": "ipython",
    "version": 3
   },
   "file_extension": ".py",
   "mimetype": "text/x-python",
   "name": "python",
   "nbconvert_exporter": "python",
   "pygments_lexer": "ipython3",
   "version": "3.11.5"
  }
 },
 "nbformat": 4,
 "nbformat_minor": 1
}
