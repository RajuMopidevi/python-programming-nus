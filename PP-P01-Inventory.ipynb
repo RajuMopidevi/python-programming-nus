{
 "cells": [
  {
   "cell_type": "markdown",
   "id": "59b1fd8d",
   "metadata": {},
   "source": [
    "# <center>PROJECT: INVENTORY</center>\n",
    "<center><b>Copyright &copy 2023 by DR DANNY POO</b><br> e:dannypoo@nus.edu.sg<br> w:drdannypoo.com</center><br>"
   ]
  },
  {
   "cell_type": "markdown",
   "id": "6027d4b9",
   "metadata": {},
   "source": [
    "This is an inventory system that keeps records of inventory items which include monitor, keyboard, cpu, and mouse pad. \n",
    "\n",
    "Items are stored in a dictionary with ``itemId`` as the key and a list of ``ITEM``, ``PRICE``, and ``QUANTITY`` as value. Currently, there are only four items with ``itemId``: 'A01', 'A02', 'A03', and 'A04'.\n",
    "\n",
    "Some functions have been completed:\n",
    "1. loadInventory()\n",
    "2. menu()\n",
    "3. main\n",
    "\n",
    "Where you see comment like \"write code here\", you are required to fill in code.\n",
    "\n",
    "You are required to complete the following inventory functions:\n",
    "1. add()\n",
    "2. sub()\n",
    "3. create()\n",
    "4. delete()\n",
    "\n",
    "and business functions:\n",
    "1. buy()\n",
    "2. sell()\n",
    "3. acquire()\n",
    "4. retire()\n",
    "5. displayInventory()\n",
    "\n",
    "What the functions are required to do are detailed at the functions."
   ]
  },
  {
   "cell_type": "code",
   "execution_count": null,
   "id": "b8d031b0",
   "metadata": {},
   "outputs": [],
   "source": [
    "# load data\n",
    "def loadInventory():\n",
    "    global inventory\n",
    "    inventory = {'A01':{'ITEM':'monitor', 'PRICE':200, 'QUANTITY':10},\n",
    "                 'A02':{'ITEM':'keyboard', 'PRICE':50, 'QUANTITY':20},\n",
    "                 'A03':{'ITEM':'cpu', 'PRICE':250, 'QUANTITY':30}, \n",
    "                 'A04':{'ITEM':'mouse pad', 'PRICE':10, 'QUANTITY':40}}\n",
    "    global itemIds\n",
    "    itemIds = inventory.keys()"
   ]
  },
  {
   "cell_type": "code",
   "execution_count": null,
   "id": "c8805c1e",
   "metadata": {},
   "outputs": [],
   "source": [
    "# increase quantity by the number added\n",
    "def add(itemId, quantity):\n",
    "    # write code here\n",
    "\n",
    "    "
   ]
  },
  {
   "cell_type": "code",
   "execution_count": null,
   "id": "ba7be2a2",
   "metadata": {},
   "outputs": [],
   "source": [
    "# decrease quantity by the number subtracted\n",
    "def sub(itemId, quantity):\n",
    "    # write code here\n",
    "\n",
    "    "
   ]
  },
  {
   "cell_type": "code",
   "execution_count": null,
   "id": "bd5c5f7d",
   "metadata": {},
   "outputs": [],
   "source": [
    "# create a new item in inventory \n",
    "def create(itemId, item, price, quantity):\n",
    "    # write code here\n",
    "\n",
    "    "
   ]
  },
  {
   "cell_type": "code",
   "execution_count": null,
   "id": "eb123e8c",
   "metadata": {},
   "outputs": [],
   "source": [
    "# delete an item from inventory\n",
    "def delete(itemId):\n",
    "    # write code here\n",
    "\n",
    "    "
   ]
  },
  {
   "cell_type": "code",
   "execution_count": null,
   "id": "7242c641",
   "metadata": {},
   "outputs": [],
   "source": [
    "# business function: add to the quantity of item\n",
    "def buy():\n",
    "    # buy this number of item A01\n",
    "    itemId   = 'A01' \n",
    "    quantity = 10\n",
    "    \n",
    "    # write code here\n",
    "\n",
    "    "
   ]
  },
  {
   "cell_type": "code",
   "execution_count": null,
   "id": "95a6ecd7",
   "metadata": {},
   "outputs": [],
   "source": [
    "# business function: substract from quantity of item; item must first exists and item quantity cannot be negative\n",
    "# print \"Error: Item does not exist in inventory\" if item does not exist in inventory\n",
    "# print \"Error: Quantity sold is greater than inventory quantity\" if resulting quantity is negative\n",
    "def sell():\n",
    "    # sell this number of item A02\n",
    "    itemId   = 'A02'\n",
    "    quantity = 15\n",
    "    \n",
    "    # write code here\n",
    "\n",
    "    "
   ]
  },
  {
   "cell_type": "code",
   "execution_count": null,
   "id": "77b6cff2",
   "metadata": {},
   "outputs": [],
   "source": [
    "# business function: add a new item into inventory; same itemid must not have existed\n",
    "# print \"Error: Item is already in inventory\" if itemId already exists\n",
    "def acquire():\n",
    "    # acquire this item A05\n",
    "    itemId   = 'A05'\n",
    "    item     = 'thumb drive'\n",
    "    price    = 18\n",
    "    quantity = 30    \n",
    "    \n",
    "    # write code here    \n",
    "\n",
    "    "
   ]
  },
  {
   "cell_type": "code",
   "execution_count": null,
   "id": "bb90d4d6",
   "metadata": {},
   "outputs": [],
   "source": [
    "# business function: retire an item from inventory; itemid must exist\n",
    "# print \"Error: Item is not in inventory\" if item is not in inventory\n",
    "def retire():\n",
    "    # retire this item A04\n",
    "    itemId   = 'A04'  \n",
    "    \n",
    "    # write code here\n",
    "\n",
    "    "
   ]
  },
  {
   "cell_type": "code",
   "execution_count": null,
   "id": "ac370eac",
   "metadata": {},
   "outputs": [],
   "source": [
    "# business function: display all items in inventory\n",
    "def displayInventory():\n",
    "    # write code here\n",
    "\n",
    "    "
   ]
  },
  {
   "cell_type": "code",
   "execution_count": null,
   "id": "0b01c9b4",
   "metadata": {},
   "outputs": [],
   "source": [
    "# display menu and get choice\n",
    "def menu():\n",
    "    print(\"\\nMENU\")\n",
    "    print(\"A. Buy items\")\n",
    "    print(\"B. Sell items\")\n",
    "    print(\"C. Acquire a new item\")\n",
    "    print(\"D. Retire an item\")\n",
    "    print(\"E. Display inventory\")\n",
    "    print(\"Q. Quit application\")\n",
    "    choice = input(\"SELECT CHOICE: \")\n",
    "    print(\"\\n\")\n",
    "    return choice"
   ]
  },
  {
   "cell_type": "code",
   "execution_count": null,
   "id": "af6f2258",
   "metadata": {},
   "outputs": [],
   "source": [
    "# main\n",
    "# load inventory\n",
    "loadInventory()\n",
    "\n",
    "# despatch user's choice\n",
    "selected = \"X\"\n",
    "while selected != 'Q' and selected !='q':\n",
    "    if   selected == 'A' or selected =='a':\n",
    "        buy()\n",
    "    elif selected == 'B' or selected =='b':\n",
    "        sell()\n",
    "    elif selected == 'C' or selected =='c':\n",
    "        acquire()\n",
    "    elif selected == 'D' or selected =='d':\n",
    "        retire()\n",
    "    elif selected == 'E' or selected =='e':\n",
    "        displayInventory()\n",
    "    else: pass\n",
    "\n",
    "    selected = menu()"
   ]
  }
 ],
 "metadata": {
  "kernelspec": {
   "display_name": "Python 3 (ipykernel)",
   "language": "python",
   "name": "python3"
  },
  "language_info": {
   "codemirror_mode": {
    "name": "ipython",
    "version": 3
   },
   "file_extension": ".py",
   "mimetype": "text/x-python",
   "name": "python",
   "nbconvert_exporter": "python",
   "pygments_lexer": "ipython3",
   "version": "3.11.5"
  }
 },
 "nbformat": 4,
 "nbformat_minor": 5
}
